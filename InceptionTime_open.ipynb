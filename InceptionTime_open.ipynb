{
 "cells": [
  {
   "cell_type": "code",
   "execution_count": 867,
   "metadata": {},
   "outputs": [],
   "source": [
    "#|export\n",
    "from tsai.imports import *\n",
    "from tsai.models.layers import *\n",
    "from torchinfo import summary"
   ]
  },
  {
   "cell_type": "code",
   "execution_count": 868,
   "metadata": {},
   "outputs": [],
   "source": [
    "import torch\n",
    "import torch.nn as nn\n",
    "from torch.utils.data import Dataset\n",
    "from torch.utils.data import DataLoader\n",
    "import torchvision\n",
    "import torchvision.transforms as transforms\n",
    "import numpy as np\n",
    "import pandas as pd\n",
    "from sklearn.preprocessing import StandardScaler\n",
    "from sklearn.preprocessing import MinMaxScaler\n",
    "from scipy import signal\n",
    "from tqdm.notebook import tqdm"
   ]
  },
  {
   "cell_type": "code",
   "execution_count": 869,
   "metadata": {},
   "outputs": [
    {
     "name": "stdout",
     "output_type": "stream",
     "text": [
      "cuda\n"
     ]
    }
   ],
   "source": [
    "device = torch.device('cuda' if torch.cuda.is_available() else 'cpu')\n",
    "print(device)"
   ]
  },
  {
   "cell_type": "code",
   "execution_count": 870,
   "metadata": {},
   "outputs": [],
   "source": [
    "# hyper parameter\n",
    "num_classes = 30\n",
    "close_num = 14 # 14, 19, 24, 29\n",
    "batch_size = 64\n",
    "learning_rate = 0.001\n",
    "num_epochs = 20\n",
    "down_ratio = 8\n",
    "sequence_len = 2000 * 5 // down_ratio # default 2000Hz\n",
    "overlap = int(sequence_len * 0.3)\n",
    "threshold = 0.8\n",
    "thresholds = [0.3, 0.35, 0.40, 0.45, 0.50, 0.55, 0.60, 0.65, 0.70, 0.75, 0.80]\n",
    "close_nums = [14, 19, 24, 29]"
   ]
  },
  {
   "cell_type": "code",
   "execution_count": 871,
   "metadata": {},
   "outputs": [],
   "source": [
    "radar_frame_list = []\n",
    "scaler = MinMaxScaler((-1, 1)) # or StandardScaler\n",
    "\n",
    "for i in range(1, num_classes + 1):\n",
    "    # wave_2d = [] # input need to be 2d?\n",
    "    file_path = \"./data/radar_%02d.csv\" % i # or ./data/radar_%02d\n",
    "    radar_frame = pd.read_csv(file_path)\n",
    "    wave = radar_frame.to_numpy().flatten()\n",
    "    wave = signal.decimate(wave, down_ratio) # down sampling\n",
    "    \n",
    "    end = len(wave)\n",
    "    n = 0\n",
    "    n_stop = sequence_len\n",
    "    wave_segments = []\n",
    "\n",
    "    while n_stop < end:\n",
    "        n_start = 0 + ((sequence_len - 1) - (overlap - 1)) * n\n",
    "        n_stop = n_start + sequence_len\n",
    "        tmp = []\n",
    "        seg = wave[n_start:n_stop].copy()\n",
    "        wave_segments.append([seg])\n",
    "        n += 1\n",
    "    \n",
    "    radar_frame_list.append(wave_segments)\n",
    "\n",
    "data_df = pd.DataFrame(radar_frame_list)"
   ]
  },
  {
   "cell_type": "code",
   "execution_count": 872,
   "metadata": {},
   "outputs": [],
   "source": [
    "labels = []\n",
    "for i in range(len(radar_frame_list)):\n",
    "    for j in range(len(radar_frame_list[i])):\n",
    "        if i <= close_num:\n",
    "            labels.append(i)\n",
    "        else:\n",
    "            labels.append(close_num + 1)\n",
    "\n",
    "labels_series = pd.Series(labels)"
   ]
  },
  {
   "cell_type": "code",
   "execution_count": 873,
   "metadata": {},
   "outputs": [
    {
     "name": "stdout",
     "output_type": "stream",
     "text": [
      "5441 900\n",
      "5262 838\n",
      "5086 725\n",
      "4911 1219\n",
      "4732 507\n",
      "4497 1107\n",
      "4321 1244\n",
      "4147 838\n",
      "3953 438\n",
      "3764 1232\n",
      "3589 788\n",
      "3406 1150\n",
      "3234 619\n",
      "3052 1188\n",
      "2880 388\n",
      "2705 1113\n",
      "2348 1157\n",
      "2141 1113\n",
      "1956 1232\n",
      "1771 532\n",
      "1588 475\n",
      "1402 644\n",
      "1225 1232\n",
      "1044 482\n",
      "869 1150\n",
      "695 1144\n",
      "523 713\n",
      "351 713\n",
      "173 525\n"
     ]
    },
    {
     "data": {
      "text/plain": [
       "((5413,), tensor([ 0,  0,  0,  ..., 15, 15, 15]), torch.Size([5413]))"
      ]
     },
     "execution_count": 873,
     "metadata": {},
     "output_type": "execute_result"
    }
   ],
   "source": [
    "tmp = data_df.to_numpy().flatten().copy()\n",
    "data_series = pd.Series(tmp).dropna() # remove None (keys are as they are)\n",
    "tmp = data_series.to_numpy().flatten()\n",
    "\n",
    "tmp_labels = labels_series.to_numpy().flatten()\n",
    "# len(tmp) = 5442 (30人分のデータ)\n",
    "# len(tmp[0]) = 1 (in_channelが1のため)\n",
    "# len(tmp[0][0]) = 1250 (sequence_len)\n",
    "\n",
    "for i in reversed(range(len(tmp))):\n",
    "  if len(tmp[i][0]) != sequence_len:\n",
    "    print(i, len(tmp[i][0]))\n",
    "    tmp = np.delete(tmp, i)\n",
    "    tmp_labels = np.delete(tmp_labels, i)\n",
    "\n",
    "data_series = pd.Series(tmp)\n",
    "labels_series = pd.Series(tmp_labels)\n",
    "labels_tensor = torch.tensor(labels_series)\n",
    "data_series.shape, labels_tensor, labels_tensor.shape"
   ]
  },
  {
   "cell_type": "code",
   "execution_count": 901,
   "metadata": {},
   "outputs": [],
   "source": [
    "class InceptionModule(Module):\n",
    "    def __init__(self, ni, nf, ks=40, bottleneck=True):\n",
    "        ks = [ks // (2**i) for i in range(3)]\n",
    "        ks = [k if k % 2 != 0 else k - 1 for k in ks]  # ensure odd ks\n",
    "        bottleneck = bottleneck if ni > 1 else False\n",
    "        self.bottleneck = Conv1d(ni, nf, 1, bias=False) if bottleneck else noop\n",
    "        self.convs = nn.ModuleList([Conv1d(nf if bottleneck else ni, nf, k, bias=False) for k in ks])\n",
    "        self.maxconvpool = nn.Sequential(*[nn.MaxPool1d(3, stride=1, padding=1), Conv1d(ni, nf, 1, bias=False)])\n",
    "        self.concat = Concat()\n",
    "        self.bn = BN1d(nf * 4)\n",
    "        self.act = nn.ReLU()\n",
    "\n",
    "    def forward(self, x):\n",
    "        input_tensor = x\n",
    "        x = self.bottleneck(input_tensor)\n",
    "        x = self.concat([l(x) for l in self.convs] + [self.maxconvpool(input_tensor)])\n",
    "        return self.act(self.bn(x))\n",
    "\n",
    "\n",
    "@delegates(InceptionModule.__init__)\n",
    "class InceptionBlock(Module):\n",
    "    def __init__(self, ni, nf=32, residual=True, depth=6, **kwargs):\n",
    "        self.residual, self.depth = residual, depth\n",
    "        self.inception, self.shortcut = nn.ModuleList(), nn.ModuleList()\n",
    "        for d in range(depth):\n",
    "            self.inception.append(InceptionModule(ni if d == 0 else nf * 4, nf, **kwargs))\n",
    "            if self.residual and d % 3 == 2: \n",
    "                n_in, n_out = ni if d == 2 else nf * 4, nf * 4\n",
    "                self.shortcut.append(BN1d(n_in) if n_in == n_out else ConvBlock(n_in, n_out, 1, act=None))\n",
    "        self.add = Add()\n",
    "        self.act = nn.ReLU()\n",
    "        \n",
    "    def forward(self, x):\n",
    "        res = x\n",
    "        for d, l in enumerate(range(self.depth)):\n",
    "            x = self.inception[d](x)\n",
    "            if self.residual and d % 3 == 2: res = x = self.act(self.add(x, self.shortcut[d//3](res)))\n",
    "        return x\n",
    "\n",
    "    \n",
    "@delegates(InceptionModule.__init__)\n",
    "class InceptionTime(Module):\n",
    "    def __init__(self, c_in, c_out, seq_len=None, nf=32, nb_filters=None, **kwargs):\n",
    "        nf = ifnone(nf, nb_filters) # for compatibility\n",
    "        self.inceptionblock = InceptionBlock(c_in, nf, **kwargs) # c_in is input channel num of conv1d\n",
    "        self.gap = GAP1d(1)\n",
    "        self.fc = nn.Linear(nf * 4, c_out) # c_out is 1d output size \n",
    "\n",
    "    def forward(self, x):\n",
    "        x = self.inceptionblock(x)\n",
    "        x = self.gap(x)\n",
    "        x = self.fc(x)\n",
    "        return x"
   ]
  },
  {
   "cell_type": "code",
   "execution_count": 875,
   "metadata": {},
   "outputs": [
    {
     "data": {
      "text/plain": [
       "======================================================================\n",
       "Layer (type:depth-idx)                        Param #\n",
       "======================================================================\n",
       "InceptionTime                                 --\n",
       "├─InceptionBlock: 1-1                         --\n",
       "│    └─ModuleList: 2-1                        --\n",
       "│    │    └─InceptionModule: 3-1              2,432\n",
       "│    │    └─InceptionModule: 3-2              77,056\n",
       "│    │    └─InceptionModule: 3-3              77,056\n",
       "│    │    └─InceptionModule: 3-4              77,056\n",
       "│    │    └─InceptionModule: 3-5              77,056\n",
       "│    │    └─InceptionModule: 3-6              77,056\n",
       "│    └─ModuleList: 2-2                        --\n",
       "│    │    └─ConvBlock: 3-7                    384\n",
       "│    │    └─BatchNorm1d: 3-8                  256\n",
       "│    └─Add: 2-3                               --\n",
       "│    └─ReLU: 2-4                              --\n",
       "├─GAP1d: 1-2                                  --\n",
       "│    └─AdaptiveAvgPool1d: 2-5                 --\n",
       "│    └─Flatten: 2-6                           --\n",
       "├─Linear: 1-3                                 2,064\n",
       "======================================================================\n",
       "Total params: 390,416\n",
       "Trainable params: 390,416\n",
       "Non-trainable params: 0\n",
       "======================================================================"
      ]
     },
     "execution_count": 875,
     "metadata": {},
     "output_type": "execute_result"
    }
   ],
   "source": [
    "\n",
    "summary(model)"
   ]
  },
  {
   "cell_type": "code",
   "execution_count": 876,
   "metadata": {},
   "outputs": [],
   "source": [
    "from tsai.models.utils import count_parameters"
   ]
  },
  {
   "cell_type": "code",
   "execution_count": 877,
   "metadata": {},
   "outputs": [],
   "source": [
    "class MyDataset(Dataset):\n",
    "    def __init__(self, dataset, labels, root_dir, transform=None) -> None:\n",
    "        # super().__init__()\n",
    "        self.radar_heartbeat = dataset\n",
    "        self.labels = labels\n",
    "        self.root_dir = root_dir\n",
    "        self.transform = transform\n",
    "\n",
    "    \n",
    "    def __getitem__(self, idx):\n",
    "        if torch.is_tensor(idx):\n",
    "          idx = idx.tolist()\n",
    "        \n",
    "        onehot_label = torch.eye(num_classes)[self.labels[idx] - 1] # one hot encodingは不要らしい　精度悪い場合試す必要あり\n",
    "        # one_hot = torch.nn.functional.one_hot(self.labels, num_classes=num_classes)\n",
    "        return torch.tensor(self.radar_heartbeat[idx]), self.labels[idx] # labels is already tensor (converted in preparation phase)\n",
    "        # return torch.tensor(self.radar_heartbeat[idx]), onehot_label\n",
    "\n",
    "    def __len__(self):\n",
    "        return len(self.radar_heartbeat)\n",
    "\n",
    "\n",
    "dataset = MyDataset(data_series, labels_tensor, \"./data/\", transform=transforms.ToTensor())"
   ]
  },
  {
   "cell_type": "code",
   "execution_count": 878,
   "metadata": {},
   "outputs": [
    {
     "data": {
      "text/plain": [
       "(tensor(0), tensor(15), tensor(15), tensor(15))"
      ]
     },
     "execution_count": 878,
     "metadata": {},
     "output_type": "execute_result"
    }
   ],
   "source": [
    "dataset[0][1], dataset[4473][1], dataset[4474][1], dataset[len(dataset)-1][1]"
   ]
  },
  {
   "cell_type": "code",
   "execution_count": 879,
   "metadata": {},
   "outputs": [
    {
     "data": {
      "text/plain": [
       "(tensor(15), tensor(15))"
      ]
     },
     "execution_count": 879,
     "metadata": {},
     "output_type": "execute_result"
    }
   ],
   "source": [
    "dataset[3570][1], dataset[3571][1]"
   ]
  },
  {
   "cell_type": "code",
   "execution_count": 880,
   "metadata": {},
   "outputs": [
    {
     "data": {
      "text/plain": [
       "(tensor(14), tensor(15))"
      ]
     },
     "execution_count": 880,
     "metadata": {},
     "output_type": "execute_result"
    }
   ],
   "source": [
    "dataset[2691][1], dataset[2692][1]"
   ]
  },
  {
   "cell_type": "markdown",
   "metadata": {},
   "source": [
    "Additional processing for Open Set\n",
    "\n",
    "e.g.\n",
    "train 0~24\n",
    "\n",
    "test 0~30\n",
    "\n",
    "concat"
   ]
  },
  {
   "cell_type": "code",
   "execution_count": null,
   "metadata": {},
   "outputs": [],
   "source": [
    "# indices1 = np.arange(4473)\n",
    "# dataset1 = torch.utils.data.Subset(dataset, indices1) # 0-24\n",
    "# indices2 = np.arange(4474, len(dataset))\n",
    "# dataset2 = torch.utils.data.Subset(dataset, indices2) # 25-30\n",
    "# Unknown_label = close_num + 1"
   ]
  },
  {
   "cell_type": "code",
   "execution_count": null,
   "metadata": {},
   "outputs": [],
   "source": [
    "# indices1 = np.arange(3570)\n",
    "# dataset1 = torch.utils.data.Subset(dataset, indices1) # 0-19\n",
    "# indices2 = np.arange(3571, len(dataset))\n",
    "# dataset2 = torch.utils.data.Subset(dataset, indices2) # 20-30\n",
    "# Unknown_label = close_num + 1"
   ]
  },
  {
   "cell_type": "code",
   "execution_count": 881,
   "metadata": {},
   "outputs": [],
   "source": [
    "indices1 = np.arange(2691)\n",
    "dataset1 = torch.utils.data.Subset(dataset, indices1) # 0-14\n",
    "indices2 = np.arange(2692, len(dataset))\n",
    "dataset2 = torch.utils.data.Subset(dataset, indices2) # 15-29\n",
    "Unknown_label = close_num + 1"
   ]
  },
  {
   "cell_type": "code",
   "execution_count": 882,
   "metadata": {},
   "outputs": [],
   "source": [
    "train_size1 = int(0.80 * len(dataset1))\n",
    "test_size1 = len(dataset1) - train_size1\n",
    "\n",
    "train_size2 = int(0.80 * len(dataset2))\n",
    "test_size2 = len(dataset2) - train_size2\n",
    "\n",
    "open_train_set, test_set1 = torch.utils.data.random_split(dataset1, [train_size1, test_size1])\n",
    "train_set2, test_set2 = torch.utils.data.random_split(dataset2, [train_size2, test_size2])\n",
    "\n",
    "indices = np.arange(len(test_set2))\n",
    "test_set2 = torch.utils.data.Subset(test_set2, indices[:])"
   ]
  },
  {
   "cell_type": "markdown",
   "metadata": {},
   "source": [
    "train : test = 8 : 2 → 3 : 1で分ける"
   ]
  },
  {
   "cell_type": "code",
   "execution_count": 883,
   "metadata": {},
   "outputs": [
    {
     "data": {
      "text/plain": [
       "(2152, 1084)"
      ]
     },
     "execution_count": 883,
     "metadata": {},
     "output_type": "execute_result"
    }
   ],
   "source": [
    "open_test_set = torch.utils.data.ConcatDataset([test_set1, test_set2])\n",
    "len(open_train_set), len(open_test_set)"
   ]
  },
  {
   "cell_type": "code",
   "execution_count": 884,
   "metadata": {},
   "outputs": [
    {
     "name": "stdout",
     "output_type": "stream",
     "text": [
      "full: 5413 -> train: 4330, test: 1083\n"
     ]
    }
   ],
   "source": [
    "train_size = int(0.80 * len(data_series.values))\n",
    "test_size = len(data_series.values) - train_size\n",
    "train_set, test_set = torch.utils.data.random_split(dataset, [train_size, test_size]) # check whether each data and label set is synchronized \n",
    "print(f\"full: {len(dataset)} -> train: {len(train_set)}, test: {len(test_set)}\")\n",
    "\n",
    "train_loader = DataLoader(dataset=open_train_set, batch_size=batch_size, shuffle=True)\n",
    "test_loader = DataLoader(dataset=open_test_set, batch_size=batch_size, shuffle=True) # テストでシャッフルしても同じ"
   ]
  },
  {
   "cell_type": "code",
   "execution_count": 899,
   "metadata": {},
   "outputs": [],
   "source": [
    "model = InceptionTime(1, close_num + 1) # 0-?+Unknownを出力\n",
    "model = model.to(device)\n",
    "criterion = nn.CrossEntropyLoss()\n",
    "optimizer = torch.optim.Adam(model.parameters(), lr=learning_rate)"
   ]
  },
  {
   "cell_type": "code",
   "execution_count": 900,
   "metadata": {},
   "outputs": [
    {
     "data": {
      "text/plain": [
       "======================================================================\n",
       "Layer (type:depth-idx)                        Param #\n",
       "======================================================================\n",
       "InceptionTime                                 --\n",
       "├─InceptionBlock: 1-1                         --\n",
       "│    └─ModuleList: 2-1                        --\n",
       "│    │    └─InceptionModule: 3-1              2,432\n",
       "│    │    └─InceptionModule: 3-2              77,056\n",
       "│    │    └─InceptionModule: 3-3              77,056\n",
       "│    │    └─InceptionModule: 3-4              77,056\n",
       "│    │    └─InceptionModule: 3-5              77,056\n",
       "│    └─ModuleList: 2-2                        --\n",
       "│    │    └─ConvBlock: 3-6                    384\n",
       "│    └─Add: 2-3                               --\n",
       "│    └─ReLU: 2-4                              --\n",
       "├─GAP1d: 1-2                                  --\n",
       "│    └─AdaptiveAvgPool1d: 2-5                 --\n",
       "│    └─Flatten: 2-6                           --\n",
       "├─Linear: 1-3                                 1,935\n",
       "======================================================================\n",
       "Total params: 312,975\n",
       "Trainable params: 312,975\n",
       "Non-trainable params: 0\n",
       "======================================================================"
      ]
     },
     "execution_count": 900,
     "metadata": {},
     "output_type": "execute_result"
    }
   ],
   "source": [
    "summary(model)"
   ]
  },
  {
   "cell_type": "code",
   "execution_count": 886,
   "metadata": {},
   "outputs": [
    {
     "name": "stderr",
     "output_type": "stream",
     "text": [
      "/tmp/ipykernel_2316/238323891.py:4: UserWarning: To copy construct from a tensor, it is recommended to use sourceTensor.clone().detach() or sourceTensor.clone().detach().requires_grad_(True), rather than torch.tensor(sourceTensor).\n",
      "  signals = torch.tensor(signals)\n"
     ]
    },
    {
     "name": "stdout",
     "output_type": "stream",
     "text": [
      "Epoch [1/`20], Step [12/34], Loss: 2.3162\n",
      "Epoch [1/`20], Step [24/34], Loss: 1.8957\n",
      "Epoch [2/`20], Step [12/34], Loss: 1.7961\n",
      "Epoch [2/`20], Step [24/34], Loss: 1.3678\n",
      "Epoch [3/`20], Step [12/34], Loss: 1.0068\n",
      "Epoch [3/`20], Step [24/34], Loss: 0.8341\n",
      "Epoch [4/`20], Step [12/34], Loss: 0.7358\n",
      "Epoch [4/`20], Step [24/34], Loss: 0.5303\n",
      "Epoch [5/`20], Step [12/34], Loss: 0.3512\n",
      "Epoch [5/`20], Step [24/34], Loss: 0.3697\n",
      "Epoch [6/`20], Step [12/34], Loss: 0.1974\n",
      "Epoch [6/`20], Step [24/34], Loss: 0.1585\n",
      "Epoch [7/`20], Step [12/34], Loss: 0.1799\n",
      "Epoch [7/`20], Step [24/34], Loss: 0.1287\n",
      "Epoch [8/`20], Step [12/34], Loss: 0.1307\n",
      "Epoch [8/`20], Step [24/34], Loss: 0.1386\n",
      "Epoch [9/`20], Step [12/34], Loss: 0.1119\n",
      "Epoch [9/`20], Step [24/34], Loss: 0.0635\n",
      "Epoch [10/`20], Step [12/34], Loss: 0.0535\n",
      "Epoch [10/`20], Step [24/34], Loss: 0.0496\n",
      "Epoch [11/`20], Step [12/34], Loss: 0.0500\n",
      "Epoch [11/`20], Step [24/34], Loss: 0.0393\n",
      "Epoch [12/`20], Step [12/34], Loss: 0.0400\n",
      "Epoch [12/`20], Step [24/34], Loss: 0.0240\n",
      "Epoch [13/`20], Step [12/34], Loss: 0.0214\n",
      "Epoch [13/`20], Step [24/34], Loss: 0.0358\n",
      "Epoch [14/`20], Step [12/34], Loss: 0.0155\n",
      "Epoch [14/`20], Step [24/34], Loss: 0.0346\n",
      "Epoch [15/`20], Step [12/34], Loss: 0.0269\n",
      "Epoch [15/`20], Step [24/34], Loss: 0.0293\n",
      "Epoch [16/`20], Step [12/34], Loss: 0.0124\n",
      "Epoch [16/`20], Step [24/34], Loss: 0.0178\n",
      "Epoch [17/`20], Step [12/34], Loss: 0.0259\n",
      "Epoch [17/`20], Step [24/34], Loss: 0.2239\n",
      "Epoch [18/`20], Step [12/34], Loss: 0.0638\n",
      "Epoch [18/`20], Step [24/34], Loss: 0.0288\n",
      "Epoch [19/`20], Step [12/34], Loss: 0.0156\n",
      "Epoch [19/`20], Step [24/34], Loss: 0.0420\n",
      "Epoch [20/`20], Step [12/34], Loss: 0.0114\n",
      "Epoch [20/`20], Step [24/34], Loss: 0.0097\n"
     ]
    }
   ],
   "source": [
    "n_total_steps = len(train_loader)\n",
    "for epoch in range(num_epochs):\n",
    "  for i, (signals, labels) in enumerate(train_loader):\n",
    "    signals = torch.tensor(signals)\n",
    "    signals = signals.float()\n",
    "    signals = signals.to(device)\n",
    "    labels = labels.to(device)\n",
    "\n",
    "    # print(signals.size())\n",
    "    outputs = model(signals)\n",
    "    # print(outputs)\n",
    "    loss = triple_joint_loss(outputs, labels) # will check the shapes of outputs and labels\n",
    "\n",
    "    optimizer.zero_grad()\n",
    "    optimizer_centloss.zero_grad()\n",
    "    loss.backward()\n",
    "    optimizer.step()\n",
    "    if (i + 1) % 12 == 0:\n",
    "      print(f'Epoch [{epoch+1}/`{num_epochs}], Step [{i+1}/{n_total_steps}], Loss: {loss.item():.4f}')"
   ]
  },
  {
   "cell_type": "markdown",
   "metadata": {},
   "source": [
    "labelは0-24までだから，学習はいじらなくて大丈夫\n",
    "\n",
    "testはOpen setの場合，0~24とUnknown label(25)になるから，labelは作り直し\n",
    "\n",
    "25も出力するようなネットワークにしなきゃだめ"
   ]
  },
  {
   "cell_type": "code",
   "execution_count": 887,
   "metadata": {},
   "outputs": [
    {
     "data": {
      "text/plain": [
       "TensorBase([[ -6.4336,  -1.5183,   0.5130,  -5.1082,  -6.9941,  -2.6780,\n",
       "              -1.1776,   1.5522,  -1.7948,   6.2123,  -1.9395,  -0.5401,\n",
       "              -4.5497,  -3.5351,  -2.2860],\n",
       "            [ -1.4913,  -2.9859,  -4.5138,   4.8139,  -2.4439,  -4.9057,\n",
       "              -0.2201,  -3.3011,  -4.4565,  -2.6611,  -0.9393,  -0.3866,\n",
       "              -3.8745,  -1.1412,  -2.3279],\n",
       "            [ -1.6229,  -4.0550,  -4.5326,   6.2755,  -1.6975,  -5.4679,\n",
       "              -1.3888,  -3.6175,  -4.2338,  -4.0442,  -1.2633,  -0.6983,\n",
       "              -3.7948,  -0.2557,  -3.6152],\n",
       "            [ -6.0697,  -0.8581,  -3.9222,  -2.5167,   3.3610,  -1.3428,\n",
       "              -4.6518,  -2.5915,  -2.0392,  -8.7913,  -3.8522,  -3.1186,\n",
       "               1.0881,  -1.1429,  -3.6894],\n",
       "            [ -3.9762,  -2.4198,  -2.5072,  -6.0143,  -2.5594,  -0.6637,\n",
       "              -2.2769,  -2.9643,   6.0652,  -1.8854,  -4.5870,  -7.6438,\n",
       "              -3.2845,  -2.0848,  -0.8696],\n",
       "            [ -6.0401,  -3.6244,   0.1774,  -7.1655,  -4.2060,   0.0988,\n",
       "              -2.8004,  -2.1159,   4.6815,  -0.5915,  -4.1806,  -6.3486,\n",
       "              -3.0130,  -3.0975,  -1.2564],\n",
       "            [ -9.7182,  -2.2095,   8.8448,  -7.8995,  -7.2257,   0.1141,\n",
       "              -5.4887,   0.7823,  -0.9934,   0.8340,  -4.3668,  -0.1519,\n",
       "              -1.3828,  -1.4070,  -1.5787],\n",
       "            [  6.7620,  -1.7867,  -7.9082,   2.0057,  -1.2860,  -2.7151,\n",
       "               0.3073,  -7.6859,  -1.3239,  -4.0372,  -0.8082,  -4.1138,\n",
       "              -5.1287,  -5.5071,  -4.4192],\n",
       "            [ -3.6182,  -2.7707,  -5.5642,  -4.8974,  -0.7358,  -0.9037,\n",
       "              -0.9481,  -5.0124,   5.0815,  -5.0369,  -3.8145,  -7.1948,\n",
       "              -1.9338,  -3.5447,  -2.4283],\n",
       "            [ -4.7245,  -3.3838,  -4.9101,  -3.5058,   6.7158,  -2.3090,\n",
       "              -4.2342,  -4.1762,  -1.8290,  -9.8114,  -2.8796,  -4.7504,\n",
       "              -0.4262,  -2.1155,  -5.7399],\n",
       "            [ -1.0351,  -2.5689,  -5.0540,   5.8360,  -2.4497,  -5.2263,\n",
       "              -0.9621,  -3.5735,  -4.1533,  -2.6082,  -1.6440,  -0.7985,\n",
       "              -4.2513,  -1.0975,  -2.7258],\n",
       "            [ -8.2549,   6.9626,  -1.2290,  -6.3286,  -3.7365,  -0.4007,\n",
       "              -5.4909,   0.2915,  -2.8775,  -1.8592,  -5.2175,  -0.1825,\n",
       "              -1.2184,  -3.0810,  -0.8910],\n",
       "            [ -3.8086,  -3.4290,  -3.7166,  -3.3243,  -4.6252,  -3.8840,\n",
       "               5.9810,  -4.6749,  -3.9443,  -0.0138,  -1.7564,  -1.6099,\n",
       "              -4.2761,  -2.7919,  -0.1924],\n",
       "            [ -3.8445,  -2.1847,  -4.1524,  -5.0349,  -1.0964,   5.0666,\n",
       "              -2.5680,  -2.9013,  -1.5332,  -5.2110,  -3.3658,  -4.5328,\n",
       "              -1.3576,  -6.8199,  -1.8607],\n",
       "            [-10.3183,  -1.6239,  -3.9589,  -6.5862,  -0.9103,  -2.0196,\n",
       "              -4.3829,  -0.7972,  -2.5301,  -9.1102,  -1.5521,  -0.9127,\n",
       "              11.1286,  -1.8851,  -5.5010],\n",
       "            [-10.2162,  -1.5495,  -0.6478,  -7.4503,  -5.4009,  -1.3985,\n",
       "              -7.5200,   9.0305,  -3.1617,  -0.2333,  -1.8702,  -0.3505,\n",
       "              -0.3756,  -1.1415,  -3.1639],\n",
       "            [ -5.8122,  -4.5166,  -1.1093,  -3.2448,  -3.6289,  -3.5871,\n",
       "              -2.6753,   1.4836,  -3.1686,  -1.3826,   5.0200,  -1.6429,\n",
       "              -0.7771,  -2.0878,  -4.7772],\n",
       "            [  3.9460,  -2.2220,  -6.0367,  -0.7114,   0.0492,  -1.4858,\n",
       "              -0.9911,  -4.8855,  -0.3482,  -3.6782,  -0.7932,  -5.8541,\n",
       "              -4.3925,  -4.0739,  -2.3323],\n",
       "            [ -7.9880,   6.6272,  -0.9040,  -5.3355,  -3.7969,  -1.1622,\n",
       "              -5.9374,   0.7987,  -2.6752,  -1.7080,  -4.7726,   0.1076,\n",
       "              -1.3258,  -1.7434,  -1.5941],\n",
       "            [ -2.1328,  -2.8929,  -6.5224,  -2.2405,  -3.7151,  -4.5897,\n",
       "               7.4319,  -6.0995,  -3.7169,  -1.1108,  -1.9295,  -2.7378,\n",
       "              -5.2245,  -2.7743,   0.0690],\n",
       "            [ -8.4086,  -0.7167,  -0.4854,  -3.5321,  -3.2386,  -4.8872,\n",
       "              -3.8814,  -0.7267,  -6.7632,  -5.3122,  -3.4538,   8.7805,\n",
       "               0.0318,  -3.7768,  -5.7770],\n",
       "            [ -0.5695,  -3.2030,  -4.8916,   6.1671,  -0.9908,  -5.6623,\n",
       "              -1.7075,  -4.5325,  -3.3097,  -4.6417,  -1.2424,  -1.4105,\n",
       "              -3.8682,  -0.2170,  -3.6419],\n",
       "            [ -4.0925,  -3.7176,  -4.1540,  -2.8538,  -2.6372,  -4.0524,\n",
       "              -1.1609,  -1.0924,  -2.4209,  -2.9560,   7.0497,  -3.2112,\n",
       "              -1.2091,  -3.2489,  -4.3866],\n",
       "            [ -6.4639,  -0.5955,   0.9367,  -6.4185,  -3.6039,  -0.4304,\n",
       "              -3.3621,  -1.2517,   4.0220,  -0.8952,  -4.5964,  -4.6138,\n",
       "              -1.0392,  -0.4548,   0.2620],\n",
       "            [  4.0657,  -1.0912,  -6.3346,   1.2907,  -0.7129,  -2.9652,\n",
       "              -0.7633,  -6.3487,  -1.9594,  -3.7959,  -2.6420,  -3.1096,\n",
       "              -4.3505,  -3.5361,  -3.9448],\n",
       "            [ -6.6565,   0.1685,  -2.0802,  -6.8040,  -2.6347,   4.0844,\n",
       "              -3.4740,  -0.9618,  -1.9263,  -2.8964,  -4.5903,  -2.3449,\n",
       "              -0.1107,  -5.9407,  -2.1175],\n",
       "            [ -3.7319,  -2.4666,  -5.7740,  -4.3744,   4.9873,   0.2884,\n",
       "              -2.6529,  -4.2592,  -1.4080,  -6.9331,  -3.2187,  -4.5602,\n",
       "              -2.3487,  -5.2678,  -4.6885],\n",
       "            [ -7.0802,  -0.0735,  -0.8109,  -5.8065,  -2.9169,  -0.8260,\n",
       "              -2.4053,  -1.5848,  -2.1637,  -5.2228,  -4.5304,  -3.6380,\n",
       "               0.1089,   0.7228,   4.7586],\n",
       "            [ -4.4910,  -1.3210,  -1.5585,  -6.0337,  -3.0643,  -0.8713,\n",
       "              -2.6619,  -2.9828,   4.4462,  -2.4787,  -4.5869,  -7.0243,\n",
       "              -2.9127,  -1.5629,   0.6232],\n",
       "            [ -5.6422,  -3.7093,  -3.0182,  -3.3563,  -3.7992,  -4.0937,\n",
       "              -2.1175,   0.2876,  -2.7527,  -1.9568,   7.0308,  -2.7304,\n",
       "              -0.5643,  -2.5539,  -4.8381],\n",
       "            [ -8.9294,  10.0845,  -2.0620,  -6.5277,  -4.1146,  -0.9664,\n",
       "              -6.5416,  -0.1873,  -3.3172,  -2.1975,  -6.3932,  -0.7006,\n",
       "              -1.8576,  -2.3401,   0.4652],\n",
       "            [  7.5610,  -0.4364,  -9.1313,  -0.3051,  -0.6201,  -1.1266,\n",
       "              -0.3353,  -7.9797,   0.0226,  -4.6987,  -2.0737,  -6.2456,\n",
       "              -4.9367,  -6.5621,  -3.7920],\n",
       "            [ -2.2817,  -2.7898,  -5.2135,  -0.8400,  -2.9339,  -5.0199,\n",
       "               5.3019,  -5.3602,  -3.3308,  -1.1970,  -0.1735,  -2.9761,\n",
       "              -4.8043,  -1.8928,  -0.8079],\n",
       "            [ -3.5696,  -2.0249,  -2.9348,  -5.6711,  -2.4220,  -1.4738,\n",
       "              -1.5947,  -3.9205,   5.7906,  -2.1555,  -3.9043,  -6.5064,\n",
       "              -2.9176,  -2.5877,  -1.3840],\n",
       "            [ -0.8792,  -2.2499,  -5.0795,   6.5668,  -1.2747,  -6.5117,\n",
       "              -1.3650,  -4.7992,  -3.5606,  -3.9943,  -2.2339,  -1.0176,\n",
       "              -4.5190,   0.8069,  -4.2588],\n",
       "            [ -3.0787,  -1.0660,  -6.0495,  -2.2004,   3.7072,   0.9734,\n",
       "              -4.2043,  -3.8944,  -1.3397,  -7.5695,  -3.4272,  -4.5178,\n",
       "              -0.4105,  -5.5529,  -5.4425],\n",
       "            [ -6.5148,  -1.6924,   1.0088,  -4.9763,  -7.2856,  -2.5895,\n",
       "              -0.3448,   0.5199,  -1.8138,   6.2745,  -2.5059,  -1.0394,\n",
       "              -4.5192,  -2.7440,  -2.1527],\n",
       "            [ -0.4313,  -2.6965,  -8.5745,  -3.1844,  -0.5429,  -1.3708,\n",
       "               4.3263,  -8.4991,  -1.7352,  -4.5298,  -3.2184,  -3.2264,\n",
       "              -3.5963,  -7.3823,  -3.3692],\n",
       "            [ -4.2754,  -2.9774,  -6.4990,  -6.3437,  -0.3987,   6.6178,\n",
       "              -0.7832,  -4.5900,  -2.3772,  -7.0782,  -4.6698,  -5.5150,\n",
       "              -1.2580,  -8.7843,  -0.6044],\n",
       "            [ -3.3925,  -3.5761,  -3.5680,  -1.8437,  -2.8767,  -4.3076,\n",
       "              -0.8033,  -1.6380,  -2.6599,  -2.6789,   5.8908,  -2.3508,\n",
       "              -1.5610,  -2.5161,  -4.7550]], device='cuda:0',\n",
       "           grad_fn=<AliasBackward0>)"
      ]
     },
     "execution_count": 887,
     "metadata": {},
     "output_type": "execute_result"
    }
   ],
   "source": [
    "outputs"
   ]
  },
  {
   "cell_type": "code",
   "execution_count": null,
   "metadata": {},
   "outputs": [
    {
     "name": "stderr",
     "output_type": "stream",
     "text": [
      "/tmp/ipykernel_2316/1821349815.py:10: UserWarning: To copy construct from a tensor, it is recommended to use sourceTensor.clone().detach() or sourceTensor.clone().detach().requires_grad_(True), rather than torch.tensor(sourceTensor).\n",
      "  signals = torch.tensor(signals)\n",
      "/mnt/c/Users/grpro/workspace/grad_thesis/InceptionTime/env/lib/python3.9/site-packages/torch/overrides.py:1498: UserWarning: Implicit dimension choice for softmax has been deprecated. Change the call to include dim=X as an argument.\n",
      "  result = torch_func_method(public_api, types, args, kwargs)\n"
     ]
    },
    {
     "name": "stdout",
     "output_type": "stream",
     "text": [
      "TensorBase([0.9706, 0.7207, 0.2602, 0.3923, 0.9998, 0.9972, 0.9931, 0.8302,\n",
      "            0.4656, 0.9994, 0.9319, 0.4122, 0.8542, 0.9958, 0.9987, 0.9944,\n",
      "            0.9783, 0.9995, 0.5325, 0.5270, 0.9395, 0.9992, 0.9964, 0.6471,\n",
      "            0.9039, 0.2772, 0.5925, 0.6326, 0.9940, 0.9998, 0.9991, 0.3964,\n",
      "            0.3835, 0.7283, 0.9924, 0.6921, 0.5074, 0.2540, 0.6622, 0.9844,\n",
      "            0.8316, 0.3681, 0.9942, 0.9906, 0.9995, 0.9991, 0.8779, 0.6838,\n",
      "            0.8849, 0.9994, 0.9211, 0.6789, 0.9985, 0.9967, 0.9980, 0.4673,\n",
      "            0.9993, 0.6568, 0.3438, 0.9995, 0.7031, 0.2812, 0.9407, 0.9908],\n",
      "           device='cuda:0') TensorBase([ 1, 15, 15, 15, 13,  3,  9,  8, 15,  3,  0, 15, 12,  2,  0, 11,  5,\n",
      "             0, 15, 15,  8, 12,  2, 15,  8, 15, 15, 15,  9,  4,  5, 15, 15, 15,\n",
      "             3, 15, 15, 15, 15,  5,  7, 15,  5, 14, 13,  1, 14, 15, 11,  2,  8,\n",
      "            15,  7,  9,  7, 15,  0, 15, 15,  6, 15, 15, 10,  9],\n",
      "           device='cuda:0') tensor([ 1, 15, 15, 15, 13,  3,  9, 15, 15,  3, 15, 15, 15,  2,  0, 11,  5,  0,\n",
      "        15, 15, 15, 12,  2, 15, 15, 15, 15, 15,  9,  4,  5, 15, 15, 15,  3, 15,\n",
      "        15, 15, 15,  5, 15, 15,  5, 14, 13,  1, 14, 15, 11,  2, 15, 15,  7,  9,\n",
      "         7, 15,  0, 15, 15,  6, 15, 15, 15,  9], device='cuda:0')\n",
      "56 / 64 = Acc: 87.5 %\n",
      "TensorBase([0.9992, 0.8963, 0.4336, 0.9908, 0.6174, 0.4604, 0.4518, 0.4131,\n",
      "            0.9968, 0.9973, 0.2971, 0.8532, 0.9957, 0.5915, 0.9461, 0.5886,\n",
      "            0.5524, 0.8937, 0.9975, 0.9947, 0.9945, 0.2881, 0.9965, 0.6749,\n",
      "            0.4751, 0.9997, 0.9956, 0.4584, 0.9518, 0.7794, 0.4261, 0.2908,\n",
      "            0.7661, 0.6047, 0.9362, 0.9976, 0.2182, 0.8597, 0.5830, 0.2998,\n",
      "            0.5053, 0.9262, 0.9840, 0.9998, 0.9868, 0.9839, 0.9917, 0.9970,\n",
      "            0.9980, 0.9991, 0.9999, 0.5386, 0.9987, 0.9991, 0.9985, 0.4496,\n",
      "            0.9978, 0.2769, 0.9983, 0.7418, 0.9931, 0.4769, 0.9939, 0.7890],\n",
      "           device='cuda:0') TensorBase([13,  6, 15,  0, 15, 15, 15, 15, 12,  1, 15,  5,  9, 15,  2, 15, 15,\n",
      "             5, 12,  9,  4, 15, 12, 15, 15,  6,  4, 15,  4, 15, 15, 15, 15, 15,\n",
      "             0,  9, 15,  0, 15, 15, 15,  6,  9,  6, 12, 12,  1,  2, 11,  7,  0,\n",
      "            15,  4,  7,  0, 15,  8, 15, 12, 15, 10, 15,  5, 15],\n",
      "           device='cuda:0') tensor([13, 15, 15,  0, 15, 15, 15, 15, 12,  1, 15, 15,  9, 15,  2, 15, 15, 15,\n",
      "        12,  9,  4, 15, 12, 15, 15,  6,  4, 15,  4, 15, 15, 15, 15, 15, 15,  9,\n",
      "        15, 15, 15, 15, 15,  6,  9,  6, 12, 12,  1,  2, 11,  7,  0, 15,  4,  7,\n",
      "         0, 15,  8, 15, 12, 15, 10, 15,  5, 15], device='cuda:0')\n",
      "115 / 128 = Acc: 89.84375 %\n",
      "TensorBase([0.3934, 0.9986, 0.9962, 0.9087, 0.9649, 0.9997, 0.6971, 0.9993,\n",
      "            0.8920, 0.9864, 0.9972, 0.9978, 0.6592, 0.4037, 0.2484, 0.9964,\n",
      "            0.4639, 0.8199, 0.9846, 0.9259, 0.6618, 0.9993, 0.9932, 0.4390,\n",
      "            0.3369, 0.8136, 0.9306, 0.1888, 0.9457, 0.8918, 0.8803, 0.9977,\n",
      "            0.9959, 0.9874, 0.8971, 0.5791, 0.5789, 0.9988, 0.9981, 0.9934,\n",
      "            0.9935, 0.9961, 0.9993, 0.9965, 0.9167, 0.4219, 0.5691, 0.6357,\n",
      "            0.8464, 0.9792, 0.9998, 0.2948, 0.5142, 0.8523, 0.7044, 0.9198,\n",
      "            0.5952, 0.9706, 0.4477, 0.8167, 0.9917, 0.2021, 0.9943, 0.5000],\n",
      "           device='cuda:0') TensorBase([15, 12, 12, 10,  2,  1, 15,  5,  1, 13,  3,  4, 15, 15, 15,  8, 15,\n",
      "             8,  2, 10, 15,  7,  9, 15, 15,  1,  2, 15, 10,  3,  7, 10,  5,  9,\n",
      "             6, 15, 15,  8, 13,  8,  5, 14, 13, 10,  8, 15, 15, 15,  7,  8,  0,\n",
      "            15, 15,  7, 15,  2, 15,  5, 15,  6,  3, 15,  8, 15],\n",
      "           device='cuda:0') tensor([15, 12, 12, 15,  2,  1, 15,  5, 15, 13,  3,  4, 15, 15, 15,  8, 10, 15,\n",
      "         2, 15, 15,  7,  9, 15, 15, 15,  2, 15, 10,  3, 15, 10,  5,  9, 15, 15,\n",
      "        15,  8, 13,  8,  5, 14, 13, 10, 15, 15, 15, 15, 15,  8,  0, 15, 15, 15,\n",
      "        15,  2, 15,  5, 15, 15,  3, 15,  8, 15], device='cuda:0')\n",
      "167 / 192 = Acc: 86.97916666666667 %\n",
      "TensorBase([0.9977, 0.9324, 0.9949, 0.9946, 0.9976, 0.9910, 0.2997, 0.6520,\n",
      "            0.2410, 0.9967, 0.9655, 0.5461, 0.9783, 0.7997, 0.9962, 0.6622,\n",
      "            0.9960, 0.6932, 0.9927, 0.9947, 0.2768, 0.9969, 0.4335, 0.9994,\n",
      "            0.8564, 0.5731, 0.9993, 0.8686, 0.6190, 0.9993, 0.9946, 0.6900,\n",
      "            1.0000, 0.8127, 0.8002, 0.4860, 0.9271, 0.8323, 0.9770, 0.9970,\n",
      "            0.9957, 0.9776, 0.2471, 0.6299, 0.4501, 0.9992, 0.9177, 0.9996,\n",
      "            0.9994, 0.2781, 0.2597, 0.9995, 0.4081, 0.4595, 0.9998, 0.9997,\n",
      "            0.2957, 0.9963, 0.9622, 0.5500, 0.5156, 0.6853, 0.9989, 0.6035],\n",
      "           device='cuda:0') TensorBase([ 8,  2,  1,  1, 10,  4, 15, 15, 15,  4,  9, 15,  5, 15, 10, 15, 12,\n",
      "            15,  6,  5, 15,  9, 15, 11,  1, 15,  1,  8, 15, 10,  9, 15,  0,  6,\n",
      "             7, 15,  0,  5,  5, 14, 12, 10, 15, 15, 15,  6,  5,  3, 11, 15, 15,\n",
      "            13, 15, 15,  0,  7, 15, 11,  6, 15, 15, 15,  2, 15],\n",
      "           device='cuda:0') tensor([ 8,  2,  1,  1, 10,  4, 15, 15, 15,  4,  9, 15,  5, 15, 10, 15, 12, 15,\n",
      "         6, 15, 15,  9, 15, 11, 15, 15,  1, 15, 15, 10,  9, 15,  0, 15, 15, 15,\n",
      "        15, 15, 15, 14, 12, 10, 15, 15, 15,  6, 15,  3, 11, 15, 15, 13, 15, 15,\n",
      "         0,  7, 15, 11,  6, 15, 15, 15,  2, 15], device='cuda:0')\n",
      "222 / 256 = Acc: 86.71875 %\n",
      "TensorBase([0.7507, 0.9997, 0.8257, 0.9912, 0.9996, 0.9963, 0.9758, 0.4021,\n",
      "            0.7003, 0.5718, 0.5142, 0.9989, 0.3507, 0.2629, 0.7920, 0.9635,\n",
      "            0.9968, 0.3392, 0.9764, 0.9997, 0.5073, 0.2038, 0.9917, 0.9991,\n",
      "            0.4868, 0.7988, 0.4007, 0.9893, 0.8811, 0.9934, 0.4189, 0.4998,\n",
      "            0.8842, 0.6884, 0.2116, 0.6697, 0.9998, 0.6416, 0.8508, 0.8395,\n",
      "            0.9131, 0.9991, 0.9799, 0.5440, 0.8855, 0.9948, 0.5038, 0.8094,\n",
      "            0.5791, 0.9967, 0.9957, 0.9967, 0.5497, 0.5123, 0.9978, 0.4547,\n",
      "            0.8104, 0.5017, 0.4887, 0.9990, 0.6639, 0.9995, 0.9964, 0.9997],\n",
      "           device='cuda:0') TensorBase([15,  4, 13,  3, 12, 14, 11, 15, 15, 15, 15,  3, 15, 15, 15,  1,  7,\n",
      "            15, 10,  8, 15, 15, 14,  5, 15, 15, 15,  8,  5,  1, 15, 15,  1, 15,\n",
      "            15, 15, 10, 15,  8, 14,  2,  7,  6, 15,  7, 11, 15,  1, 15,  1,  7,\n",
      "             0, 15, 15,  9, 15,  0, 15, 15,  0, 15, 11,  4,  0],\n",
      "           device='cuda:0') tensor([15,  4, 15,  3, 12, 14, 11, 15, 15, 15, 15,  3, 15, 15, 15,  1,  7, 15,\n",
      "        15,  8, 15, 15, 14,  5, 15, 15,  4,  8, 15,  1, 15,  0,  1, 15, 15, 15,\n",
      "        10, 15, 15, 14, 15,  7,  6, 15, 15, 11, 15, 15, 15,  1,  7,  0, 15, 15,\n",
      "         9, 15, 15, 15, 15,  0, 15, 11,  4,  0], device='cuda:0')\n",
      "276 / 320 = Acc: 86.25 %\n",
      "TensorBase([0.4692, 0.4719, 0.9966, 0.9686, 0.9933, 0.9989, 0.4436, 0.9782,\n",
      "            0.9997, 0.9996, 0.3090, 0.9988, 0.9998, 0.6221, 0.5957, 0.5856,\n",
      "            0.2051, 0.5099, 0.8073, 0.9530, 0.4060, 0.9970, 0.5527, 0.9989,\n",
      "            0.3514, 0.9961, 0.9987, 0.9956, 0.9814, 0.9890, 0.9960, 0.5062,\n",
      "            0.9920, 0.2731, 0.7794, 0.9958, 0.9929, 0.9772, 0.3778, 0.4917,\n",
      "            0.9386, 0.6225, 0.9981, 0.5559, 0.9915, 0.5202, 0.7314, 0.3010,\n",
      "            0.9977, 0.2983, 0.6992, 0.6788, 0.4227, 0.5963, 0.6265, 0.4664,\n",
      "            0.5099, 0.3168, 0.9841, 0.4875, 0.5145, 0.9814, 0.9423, 0.4788],\n",
      "           device='cuda:0') TensorBase([15, 15,  5,  3, 14,  3, 15,  4,  8, 12, 15,  7,  1, 15, 15, 15, 15,\n",
      "            15,  8, 11, 15,  3, 15,  6, 15,  4,  7, 11, 14, 11,  9, 15,  6, 15,\n",
      "            15,  4,  8, 11, 15, 15, 11, 15, 14, 15,  6, 15, 15, 15, 12, 15, 15,\n",
      "            15, 15, 15, 15, 15, 15, 15, 11, 15, 15, 11,  5, 15],\n",
      "           device='cuda:0') tensor([15, 15,  5,  3, 14,  3, 15,  4,  8, 12, 15,  7,  1, 15, 15, 15, 15, 15,\n",
      "        15, 11, 15,  3, 15,  6, 15,  4,  7, 11, 14, 11,  9, 15,  6, 15, 15,  4,\n",
      "         8, 11, 15, 15, 11, 15, 14, 15,  6, 15, 15, 15, 12, 15, 15, 15, 15, 15,\n",
      "        15, 15, 15, 15, 11, 15, 15, 11, 15, 15], device='cuda:0')\n",
      "338 / 384 = Acc: 88.02083333333333 %\n",
      "TensorBase([0.8340, 0.9996, 0.6361, 0.9922, 0.9923, 0.6340, 0.5652, 0.7934,\n",
      "            0.9993, 0.9985, 0.9850, 0.7652, 0.2179, 0.9653, 0.9998, 0.9648,\n",
      "            0.2898, 0.9974, 0.9983, 0.8732, 0.3022, 0.9723, 0.9996, 0.9997,\n",
      "            0.9796, 0.7046, 0.9998, 0.9996, 0.3300, 0.9992, 0.9902, 0.5215,\n",
      "            0.7797, 0.9927, 0.4353, 0.9999, 0.7527, 0.4217, 0.9966, 0.9961,\n",
      "            0.7662, 0.9946, 0.7002, 0.9803, 0.6994, 0.9965, 0.9951, 0.9981,\n",
      "            0.9987, 0.7320, 0.9956, 0.9996, 0.4507, 0.9808, 0.3506, 0.5646,\n",
      "            0.3205, 0.9113, 0.9999, 0.6887, 0.8351, 0.4856, 0.4441, 0.9995],\n",
      "           device='cuda:0') TensorBase([ 0, 10, 15,  9,  5, 15, 15, 15,  8,  7,  0, 15, 15,  9, 13, 10, 15,\n",
      "            10, 13, 10, 15,  5, 12,  8,  2, 15,  1,  4, 15,  2, 10, 15, 15, 10,\n",
      "            15,  3, 15, 15,  9, 14, 15,  6, 15, 12, 15, 12, 14,  6,  9, 15,  1,\n",
      "             5, 15, 12, 15, 15, 15,  7,  0, 15,  2, 15, 15, 13],\n",
      "           device='cuda:0') tensor([15, 10, 15,  9,  5, 15, 15, 15,  8,  7,  0, 15, 15,  9, 13, 15, 15, 10,\n",
      "        13, 15, 15,  5, 12,  8,  2, 15,  1,  4, 15,  2, 10, 15, 15, 10, 15,  3,\n",
      "        15, 15,  9, 14, 15,  6, 15, 12, 15, 12, 14,  6,  9, 15,  1,  5, 15, 12,\n",
      "        15, 15, 15, 15,  0, 15,  2, 15, 15, 13], device='cuda:0')\n",
      "398 / 448 = Acc: 88.83928571428571 %\n",
      "TensorBase([0.3663, 0.2038, 0.4895, 0.4518, 0.9936, 0.9997, 0.9995, 0.9712,\n",
      "            0.4022, 0.9999, 0.9992, 0.9356, 0.9868, 0.9997, 0.9954, 0.9995,\n",
      "            0.9825, 0.3771, 0.4668, 0.9994, 0.9988, 0.8300, 0.8192, 0.8857,\n",
      "            0.5636, 0.9978, 0.9994, 0.9702, 0.2171, 0.9997, 0.4040, 0.8495,\n",
      "            0.4671, 0.6173, 0.9864, 0.4398, 0.9244, 0.9985, 0.2427, 0.4982,\n",
      "            0.6339, 0.5256, 0.7712, 0.9960, 0.4816, 0.9880, 0.9897, 0.9949,\n",
      "            0.9994, 0.9902, 0.9988, 0.9475, 0.9982, 0.4590, 0.9969, 0.9878,\n",
      "            0.5696, 0.8839, 0.9987, 0.3643, 0.4582, 0.9934, 0.8624, 0.4753],\n",
      "           device='cuda:0') TensorBase([15, 15, 15, 15,  7,  6,  8,  5, 15,  0,  1, 13,  0,  6, 13,  7, 11,\n",
      "            15, 15, 10,  0,  4,  0,  7, 15, 12,  3, 14, 15, 13, 15, 13, 15, 15,\n",
      "            12, 15,  0, 11, 15, 15, 15, 15, 15, 11, 15,  1,  7,  1,  6,  5, 12,\n",
      "            10,  5, 15, 10, 11, 15,  5,  5, 15, 15,  8,  2, 15],\n",
      "           device='cuda:0') tensor([15, 15, 15, 15,  7,  6,  8,  5, 15,  0,  1, 15,  0,  6, 13,  7, 11, 15,\n",
      "        15, 10,  0, 15, 15, 15, 15, 12,  3, 14, 15, 13, 15, 15, 15, 15, 12, 15,\n",
      "        15, 11, 15, 15, 15, 15, 15, 11, 15,  1,  7,  1,  6,  5, 12, 15,  5, 15,\n",
      "        10, 11, 15, 15,  5, 15, 15,  8, 15,  1], device='cuda:0')\n",
      "452 / 512 = Acc: 88.28125 %\n",
      "TensorBase([0.4550, 0.9933, 0.9979, 0.6375, 0.3839, 0.3271, 0.3515, 0.2402,\n",
      "            0.9979, 0.9953, 0.9959, 0.9966, 0.3423, 0.5510, 0.9859, 0.9491,\n",
      "            0.8433, 0.7804, 0.4765, 0.6579, 0.9973, 0.9852, 0.9977, 0.3931,\n",
      "            0.8523, 0.6430, 0.9915, 0.3342, 0.4864, 0.8138, 0.9533, 0.9759,\n",
      "            0.3446, 0.8936, 0.5537, 0.9358, 0.9900, 0.9984, 0.9687, 0.9997,\n",
      "            0.9998, 0.9889, 0.9988, 0.4659, 0.9981, 0.9883, 0.3465, 0.9998,\n",
      "            0.9987, 0.4051, 0.7164, 0.9970, 0.4153, 0.9925, 0.6499, 0.9650,\n",
      "            0.4417, 0.9968, 0.8532, 0.9970, 0.6532, 0.9943, 0.5062, 0.8098],\n",
      "           device='cuda:0') TensorBase([15,  9, 11, 15, 15, 15, 15, 15, 12,  9,  6,  8, 15, 15, 12, 12,  6,\n",
      "            15, 15, 15,  4, 11,  7, 15, 10, 15, 12, 15, 15,  1, 10, 12, 15,  1,\n",
      "            15,  6, 12, 14, 10, 13,  4,  0,  7, 15,  6,  6, 15, 10, 14, 15, 15,\n",
      "             4, 15,  8, 15,  5, 15,  9,  2,  7, 15,  4, 15,  2],\n",
      "           device='cuda:0') tensor([15,  9, 11, 15, 15, 15, 15, 15, 12,  9,  6,  8, 15, 15, 12, 12,  6, 15,\n",
      "        15, 15,  4, 11,  7, 15, 15, 15, 12, 15, 15, 15, 15, 12, 15, 15, 15, 15,\n",
      "        12, 14, 15, 13,  4, 15,  7, 15,  6,  6, 15, 10, 14, 15, 15,  4, 15,  8,\n",
      "        15, 15, 15,  9, 15,  7,  8,  4, 15, 15], device='cuda:0')\n",
      "505 / 576 = Acc: 87.67361111111111 %\n",
      "TensorBase([0.3130, 0.9995, 0.8842, 0.9987, 0.9627, 0.5780, 0.4563, 0.9762,\n",
      "            0.4025, 0.6944, 0.9986, 0.5975, 0.8284, 0.9971, 0.4880, 0.9959,\n",
      "            0.9945, 0.9959, 0.8374, 0.9999, 0.6613, 0.9936, 0.6765, 0.4692,\n",
      "            0.9971, 0.8687, 0.9997, 0.9316, 0.9998, 0.8004, 0.9916, 0.5548,\n",
      "            0.2862, 0.5176, 0.9988, 0.7634, 0.9993, 0.9765, 0.8570, 0.9294,\n",
      "            0.9870, 0.4862, 0.9967, 0.4914, 0.5257, 0.2769, 0.9979, 0.9998,\n",
      "            0.9985, 0.9995, 0.8500, 0.9898, 0.9994, 0.5437, 0.3522, 0.9851,\n",
      "            0.9992, 0.9998, 0.9994, 0.9990, 0.6686, 0.9899, 0.6592, 0.5485],\n",
      "           device='cuda:0') TensorBase([15, 13,  8, 10,  3, 15, 15, 10, 15, 15,  7, 15, 13,  3, 15,  0,  9,\n",
      "             7,  2,  2, 15, 12, 15, 15,  9,  5, 14,  0,  6, 10, 12, 15, 15, 15,\n",
      "            12, 15,  3,  3,  2,  5,  3, 15, 12, 15, 15, 15, 12,  1, 14,  0,  0,\n",
      "             5,  7, 15, 15,  3,  1, 11, 11,  8, 15, 10, 15, 15],\n",
      "           device='cuda:0') tensor([15, 13, 15, 10,  3, 15, 15, 10, 15, 15,  7, 15, 15,  3, 15,  0,  9,  7,\n",
      "        15,  2, 15, 12, 15, 15,  9, 15, 14, 15,  6, 15, 12, 15, 15, 15, 12, 15,\n",
      "         3,  3, 15,  5,  3, 15, 12, 15, 15, 15, 12,  1, 14,  0, 15,  5,  7, 15,\n",
      "        15,  3,  1, 11, 11,  8, 15, 10, 15, 15], device='cuda:0')\n",
      "561 / 640 = Acc: 87.65625 %\n",
      "TensorBase([0.9326, 0.9484, 0.9998, 0.9983, 0.9994, 0.8490, 0.9551, 0.9994,\n",
      "            0.9493, 0.8872, 0.7093, 0.9989, 0.9690, 0.5343, 0.9700, 0.6652,\n",
      "            0.9988, 0.3892, 0.4488, 0.9969, 0.5245, 0.5959, 0.9992, 0.9987,\n",
      "            0.9988, 0.5541, 0.9255, 0.4112, 0.9972, 0.9925, 0.9996, 0.9956,\n",
      "            0.9856, 0.9977, 0.3028, 0.9548, 0.9902, 0.9929, 0.7767, 0.9997,\n",
      "            0.5363, 0.9994, 0.3439, 0.6503, 0.9996, 0.9878, 0.5967, 0.9975,\n",
      "            0.4752, 0.3514, 0.5582, 0.9969, 0.9763, 0.9939, 0.9140, 0.8156,\n",
      "            0.4159, 0.9976, 0.9994, 0.8496, 0.7340, 0.6628, 0.9820, 0.7363],\n",
      "           device='cuda:0') TensorBase([ 8,  5,  3,  9,  4,  8,  3,  2,  5,  2, 15,  1, 10, 15,  3, 15,  7,\n",
      "            15, 15,  2, 15, 15, 13, 10, 14, 15, 10, 15,  3, 12,  0, 12, 14, 11,\n",
      "            15,  2,  4, 10, 15, 12, 15,  1, 15, 15, 13, 12, 15,  7, 15, 15, 15,\n",
      "             8,  0, 12,  2,  8, 15, 14, 10,  0, 15, 15,  0, 15],\n",
      "           device='cuda:0') tensor([15, 15,  3,  9,  4, 15,  3,  2,  5, 15, 15,  1, 15, 15,  3, 15,  7, 15,\n",
      "        15,  2, 15, 15, 13, 10, 14, 15, 15, 15,  3, 12,  0, 12, 14, 11, 15,  2,\n",
      "         4, 10,  6, 12, 15,  1, 15,  7, 13, 12, 15,  7, 15, 15, 15,  8, 15, 12,\n",
      "        15, 15, 15, 14, 10, 15, 15, 15, 15, 15], device='cuda:0')\n",
      "612 / 704 = Acc: 86.93181818181819 %\n",
      "TensorBase([0.4503, 0.4616, 0.9976, 0.9840, 0.9937, 0.6400, 0.9997, 0.6050,\n",
      "            0.9997, 0.1946, 0.6916, 0.4061, 0.9539, 0.3780, 0.2388, 0.9984,\n",
      "            0.6471, 0.9991, 0.6563, 0.3218, 0.2753, 0.9986, 0.8264, 0.9990,\n",
      "            0.9974, 0.9337, 0.8107, 0.9921, 0.3447, 0.7479, 0.5231, 0.7848,\n",
      "            0.3592, 0.8455, 0.9974, 0.7295, 0.9989, 0.9990, 0.5767, 0.9966,\n",
      "            0.9342, 0.9985, 0.9387, 0.9994, 0.9827, 0.9991, 0.9099, 0.4842,\n",
      "            0.9984, 0.9945, 0.4209, 0.7011, 0.8873, 0.9987, 0.4831, 0.9964,\n",
      "            0.7995, 0.9014, 0.9978, 0.9906, 0.8366, 0.5695, 0.9852, 0.9982],\n",
      "           device='cuda:0') TensorBase([15, 15, 11, 12, 10, 15, 13, 15,  4, 15, 15, 15, 11, 15, 15,  8, 15,\n",
      "            13, 15, 15, 15,  9,  6, 12,  8,  7,  1,  2, 15, 15, 15, 15, 15, 10,\n",
      "            13, 15,  4,  1, 15,  8,  8,  1,  6,  1,  5,  0,  5, 15, 13,  6, 15,\n",
      "            15,  5, 10, 15,  7, 15,  5,  3,  9,  2, 15,  5, 14],\n",
      "           device='cuda:0') tensor([15, 15, 11, 12, 10, 15, 13, 15,  4, 15, 15, 15, 11, 15, 15,  8, 15, 13,\n",
      "        15, 15, 15,  9, 15, 12,  8, 15, 15,  2, 15, 15, 15, 15, 15, 15, 13, 15,\n",
      "         4,  1, 15,  8, 15,  1,  6,  1,  5,  0, 15, 15, 13,  6, 15, 15, 15, 10,\n",
      "        15,  7, 15,  5,  3,  9, 15, 15,  5, 14], device='cuda:0')\n",
      "668 / 768 = Acc: 86.97916666666667 %\n",
      "TensorBase([0.5294, 0.9972, 0.8717, 0.9970, 0.5931, 0.9279, 0.9946, 0.9971,\n",
      "            0.9479, 0.9990, 0.9992, 0.9995, 0.7196, 0.9997, 0.9480, 0.9985,\n",
      "            0.9906, 0.9994, 0.7048, 0.9988, 0.9974, 0.9855, 0.6750, 0.2698,\n",
      "            0.9962, 0.9492, 0.9826, 0.8951, 0.9691, 0.9996, 0.9929, 0.9996,\n",
      "            0.9943, 0.4877, 0.4485, 0.6544, 0.7966, 0.7823, 0.9995, 0.9970,\n",
      "            0.6839, 0.9902, 0.5517, 0.9999, 0.9887, 0.6763, 0.6082, 0.9995,\n",
      "            0.5903, 0.4755, 0.9915, 0.9999, 0.9961, 0.9987, 0.9346, 0.9985,\n",
      "            0.5481, 0.5520, 0.9956, 0.9956, 0.9971, 0.9974, 0.5318, 0.9206],\n",
      "           device='cuda:0') TensorBase([15,  6,  2,  6, 15,  8,  0,  3,  0, 13, 11, 14, 15,  1, 10, 12, 11,\n",
      "             3, 15,  9, 13,  9, 15, 15,  3,  8,  8,  1, 10, 10,  9,  0,  5, 15,\n",
      "            15, 15, 15, 15,  6, 11, 15,  8, 15, 12,  8, 15, 15, 11, 15, 15,  5,\n",
      "             4,  5, 10,  8,  8, 15, 15,  0, 10,  2,  2, 15,  8],\n",
      "           device='cuda:0') tensor([15,  6, 15,  6, 15,  8,  0,  3, 15, 13, 11, 14, 15,  1, 15, 12, 11,  3,\n",
      "         1,  9, 13,  9, 15, 15,  3,  8,  8, 15, 15, 10,  9,  0,  5, 15, 15, 15,\n",
      "        15, 15,  6, 11, 15,  8, 15, 12,  8, 15, 15, 11, 15, 15,  5,  4,  5, 10,\n",
      "         8,  8, 15, 13,  0, 10,  2,  2, 15,  8], device='cuda:0')\n",
      "725 / 832 = Acc: 87.13942307692308 %\n",
      "TensorBase([0.4345, 0.8390, 0.3219, 0.9892, 0.3356, 0.9805, 0.9935, 0.5400,\n",
      "            0.9983, 0.9994, 0.5397, 0.9833, 0.9992, 0.3884, 0.4152, 0.9936,\n",
      "            0.7911, 0.9300, 0.5096, 0.9084, 0.9970, 0.4736, 0.5755, 0.4134,\n",
      "            0.9927, 0.9975, 0.9964, 0.4589, 0.3007, 0.3174, 0.5248, 0.9996,\n",
      "            0.8736, 0.4699, 0.5455, 0.9155, 0.9932, 0.8835, 0.9883, 0.9837,\n",
      "            0.7885, 0.9884, 0.9983, 0.9895, 0.6170, 0.4507, 0.9973, 0.9996,\n",
      "            0.2918, 0.9999, 0.9944, 0.9295, 0.5682, 0.9544, 0.9975, 0.5629,\n",
      "            0.9937, 0.7024, 0.9861, 0.9912, 0.9974, 0.7513, 0.5003, 0.9942],\n",
      "           device='cuda:0') TensorBase([15,  5, 15,  6, 15,  5,  3, 15,  7,  3, 15,  5,  7, 15, 15, 11, 15,\n",
      "             0, 15,  5,  1, 15, 15, 15,  7, 12,  9, 15, 15, 15, 15,  5,  8, 15,\n",
      "            15, 10, 11,  9, 14,  5, 15,  7,  1,  3, 15, 15,  4, 13, 15, 10, 14,\n",
      "             6, 15,  4,  3, 15,  9, 15,  4,  9,  9, 15, 15, 11],\n",
      "           device='cuda:0') tensor([15, 15, 15,  6, 15,  5,  3, 15,  7,  3, 15,  5,  7, 15, 15, 11, 15, 15,\n",
      "        15, 15,  1, 15, 15, 15,  7, 12,  9, 15, 15, 15, 15,  5, 15, 15, 15, 15,\n",
      "        11,  9, 14,  5, 15,  7,  1,  3,  6, 15,  4, 13, 15, 10, 14,  6, 15,  4,\n",
      "         3, 15,  9, 15,  4,  9,  9, 15, 15, 11], device='cuda:0')\n",
      "783 / 896 = Acc: 87.38839285714286 %\n",
      "TensorBase([0.9985, 0.4162, 0.8037, 0.9907, 0.3190, 0.7602, 0.9806, 0.8743,\n",
      "            0.3746, 0.9335, 0.9641, 0.4511, 0.3733, 0.2766, 0.5503, 0.3790,\n",
      "            0.5421, 0.8353, 0.2137, 0.4286, 0.5547, 0.9999, 0.9999, 0.7851,\n",
      "            0.9624, 0.8697, 0.6075, 0.7251, 0.9953, 0.9949, 0.4919, 0.8206,\n",
      "            0.9989, 0.3861, 0.9957, 0.9872, 0.9973, 0.9971, 0.3368, 0.3537,\n",
      "            0.9974, 0.9995, 0.2660, 0.9974, 0.4184, 0.9924, 0.8153, 0.9999,\n",
      "            0.4124, 0.9836, 0.5155, 0.6025, 0.9735, 0.7563, 0.9992, 0.9966,\n",
      "            0.9120, 0.9825, 0.9998, 0.5426, 0.9932, 0.9901, 0.9982, 0.7939],\n",
      "           device='cuda:0') TensorBase([ 5, 15,  0, 12, 15, 15,  2,  7, 15,  2,  0, 15, 15, 15, 15, 15, 15,\n",
      "             0, 15, 15, 15,  6, 10, 15, 14,  0, 15, 15, 11, 14, 15, 10,  2, 15,\n",
      "            12,  6, 12,  4, 15, 15,  8, 14, 15,  1, 15, 12,  7, 13, 15,  5, 15,\n",
      "            15,  6, 15, 10, 12,  5, 14,  0, 15,  1, 14, 13, 15],\n",
      "           device='cuda:0') tensor([ 5, 15, 15, 12, 15, 15,  2, 15, 15,  2, 15, 15, 15, 15, 15, 15, 15, 15,\n",
      "        15, 15, 15,  6, 10, 15, 14, 15, 15, 15, 11, 14, 15, 10,  2, 15, 12,  6,\n",
      "        12,  4, 15, 15,  8, 14, 15,  1,  5, 12, 15, 13, 15,  5, 15, 15,  6, 15,\n",
      "        10, 12,  5, 14,  0, 15,  1, 14, 13, 15], device='cuda:0')\n",
      "840 / 960 = Acc: 87.5 %\n",
      "TensorBase([0.9986, 0.9970, 0.9988, 0.9647, 0.4049, 0.3447, 0.9993, 0.9995,\n",
      "            0.6977, 0.3717, 0.9808, 0.7799, 0.4120, 0.7161, 0.9974, 0.4355,\n",
      "            0.9609, 0.6148, 0.4457, 0.4002, 0.9954, 0.7632, 0.5600, 0.9343,\n",
      "            0.9986, 0.9884, 0.9864, 0.9954, 0.5417, 0.9270, 0.9977, 0.9940,\n",
      "            0.3856, 0.9996, 0.9922, 0.8901, 0.5450, 0.9673, 0.9999, 0.7091,\n",
      "            0.9018, 0.4831, 0.9789, 0.9262, 0.5353, 0.9990, 0.9990, 0.9966,\n",
      "            0.2848, 0.5732, 0.5641, 0.9994, 0.6458, 0.5481, 0.2949, 0.3351,\n",
      "            0.3215, 0.9998, 0.5534, 0.9859, 0.5198, 0.2707, 0.4989, 0.9971],\n",
      "           device='cuda:0') TensorBase([10,  9,  9, 11, 15, 15,  7,  4, 15, 15,  0, 15, 15, 15, 10, 15,  8,\n",
      "            15, 15, 15, 12, 15, 15,  4,  7,  0,  8, 14, 15, 10, 10,  2, 15,  0,\n",
      "             4,  1, 15,  8,  6, 15,  1, 15,  9,  0, 15,  7, 11, 14, 15, 15, 15,\n",
      "            12, 15, 15, 15, 15, 15,  0, 15,  4, 15, 15, 15, 12],\n",
      "           device='cuda:0') tensor([10,  9,  9, 11, 15, 15,  7,  4, 15, 15, 15, 15, 15, 15, 10, 15, 15, 15,\n",
      "        15, 15, 12,  0, 15,  4,  7,  0,  8, 14, 15, 15, 10,  2, 15,  0,  4, 15,\n",
      "        15,  8,  6, 15, 15, 15,  9, 15, 15,  7, 11, 14, 15, 15, 15, 12, 15, 15,\n",
      "        15, 15, 15,  0, 15,  4,  3, 15, 15, 12], device='cuda:0')\n",
      "896 / 1024 = Acc: 87.5 %\n",
      "TensorBase([0.9939, 0.9999, 0.9809, 0.9990, 0.2536, 0.7013, 0.3887, 0.5751,\n",
      "            0.9885, 0.2669, 0.9564, 0.4270, 0.5136, 0.9426, 0.9970, 0.8143,\n",
      "            0.9981, 0.9942, 0.4163, 0.9968, 0.4487, 0.9928, 0.9974, 0.9747,\n",
      "            0.9978, 0.9983, 0.3884, 0.9995, 0.9991, 0.9782, 0.3639, 0.9991,\n",
      "            0.9561, 0.9927, 0.9965, 0.5481, 0.9990, 0.8185, 0.4127, 0.9985,\n",
      "            0.9988, 0.2774, 0.6786, 0.9958, 0.6292, 0.8922, 0.9988, 0.9612,\n",
      "            0.9922, 0.9984, 0.9997, 0.9605, 0.9895, 0.9980, 0.1773, 0.8608,\n",
      "            0.2620, 0.3729, 0.7033, 0.9308], device='cuda:0') TensorBase([14,  0, 12,  8, 15, 15, 15, 15,  2, 15,  2, 15, 15,  1,  3,  7, 11,\n",
      "            14, 15,  3, 15, 11, 10, 12,  3,  4, 15, 13,  5,  9, 15, 12,  8,  9,\n",
      "             7, 15,  7,  7, 15,  8,  8, 15, 15,  2, 15,  1,  3,  0,  2,  5,  0,\n",
      "            10, 14,  9, 15, 12, 15, 15, 15, 13], device='cuda:0') tensor([14,  0, 12,  8, 15, 15, 15, 15,  2, 15,  2, 15, 15, 15,  3, 15, 11, 14,\n",
      "        15,  3, 15, 11, 10, 12,  3,  4, 15, 13,  5,  9, 15, 12,  8,  9,  7, 15,\n",
      "         7, 15, 15,  8,  8, 15, 15,  2, 15,  1,  3, 15,  2,  5,  0, 15, 14,  9,\n",
      "        15, 15, 15, 15, 15, 13], device='cuda:0')\n",
      "950 / 1084 = Acc: 87.63837638376384 %\n"
     ]
    }
   ],
   "source": [
    "# For Confusion Matrix\n",
    "predicted_lists = np.zeros(0, dtype=np.int64)\n",
    "one_hot_labels_list = np.zeros(0, dtype=np.int64)\n",
    "\n",
    "with torch.no_grad():\n",
    "  n_correct = 0\n",
    "  n_samples = 0\n",
    "  softmax = nn.Softmax()\n",
    "  for i, (signals, one_hot_labels) in enumerate(test_loader):\n",
    "    signals = torch.tensor(signals)\n",
    "    signals = signals.float()\n",
    "    signals = signals.to(device)\n",
    "    one_hot_labels = one_hot_labels.to(device)\n",
    "    # print(len(one_hot_labels))\n",
    "    outputs = model(signals)\n",
    "    for j, out in enumerate(outputs):\n",
    "      outputs[j] = softmax(out)\n",
    "\n",
    "    _, predicted = torch.max(outputs.data, 1) # predicted per batch size\n",
    "    \n",
    "    \n",
    "    for idx in range(len(_)):\n",
    "      if _[idx] < threshold:\n",
    "        predicted[idx] = Unknown_label # 15, 20, 25\n",
    "    print(_, predicted, one_hot_labels)\n",
    "\n",
    "    n_samples += one_hot_labels.size(0) # add batch_size\n",
    "    n_correct += (predicted == one_hot_labels).sum().item()\n",
    "    \n",
    "    predicted_cp = predicted.to('cpu').detach().numpy().copy()\n",
    "    one_hot_labels_cp = one_hot_labels.to('cpu').detach().numpy().copy()\n",
    "    predicted_lists = np.concatenate([predicted_lists, predicted_cp])\n",
    "    one_hot_labels_list = np.concatenate([one_hot_labels_list, one_hot_labels_cp])\n",
    "    \n",
    "    acc = 100.0 * n_correct / n_samples\n",
    "    print(f'{n_correct} / {n_samples} = Acc: {acc} %')"
   ]
  },
  {
   "cell_type": "code",
   "execution_count": null,
   "metadata": {},
   "outputs": [
    {
     "data": {
      "text/plain": [
       "(array([ 0, 15,  0, 15, 15, 13,  2,  3,  7,  2,  8, 15, 15,  3, 15,  7,  8,\n",
       "        10, 15, 10, 11,  6,  7, 15,  6, 15, 15,  6, 15, 14,  3,  7,  5, 15,\n",
       "        15,  4, 14,  5, 15,  5, 12,  7,  7, 15, 15, 15,  0, 10,  0, 15,  3,\n",
       "        15, 15, 15, 15, 10,  2, 15,  1,  6, 11,  9,  9,  2,  0,  1, 15, 13,\n",
       "         0, 14, 13, 15,  0, 10,  7, 15, 15, 15, 15, 15,  0,  9,  5, 15, 15,\n",
       "         9, 15,  1, 15, 15,  2,  0, 15, 14,  0,  6,  7,  6, 10, 15,  5, 13,\n",
       "        10, 15,  5, 14,  3,  7, 15, 15,  5, 10,  8, 15, 15,  9, 15,  7,  5,\n",
       "        15, 15, 15, 10, 15, 11, 15, 15,  7,  9, 10, 15,  5,  7,  8, 15, 10,\n",
       "        10, 12, 13,  2,  3,  4, 15,  9, 12,  3, 10, 15, 10, 15, 15, 15, 12,\n",
       "         7, 15,  9, 12,  0,  5, 15, 10,  0, 15, 15, 14, 15,  0, 15,  3, 11,\n",
       "         0, 12,  0,  7,  9,  6, 15, 15, 15, 15, 11,  8, 15,  7, 14,  4, 10,\n",
       "         0, 15, 15,  0,  2, 15,  4, 15,  2, 15,  8,  8, 14, 15, 15,  7,  0,\n",
       "         2, 15,  5,  0, 15, 15, 11,  4,  8,  2, 12, 15,  6, 15, 15, 15,  2,\n",
       "         2, 15, 15, 15, 15,  1, 12, 15,  2, 15,  5, 15, 15, 15,  7,  6, 15,\n",
       "         4, 15,  4, 14, 15,  9, 10,  0, 10, 15, 15, 14, 15, 10, 15,  0,  1,\n",
       "         8,  0, 15, 12,  2, 11, 15, 15, 15, 15, 15,  3,  8, 15,  0, 15, 10,\n",
       "        15,  4, 12,  0,  3, 15, 15, 15,  3, 10, 15,  6, 15,  9,  3, 13,  8,\n",
       "        10, 10,  7,  6, 12, 15, 13, 15,  6, 15,  0, 10,  0, 13, 15,  7, 15,\n",
       "        15, 10, 15, 15, 15, 15, 15,  4, 15, 15,  4,  2,  0, 14, 15,  2, 10,\n",
       "         0, 15, 15, 12, 12, 15, 15, 15, 14, 15, 15, 15,  0,  5,  9, 14,  8,\n",
       "         7, 14, 14,  0, 11,  9, 12,  2, 15,  0, 15, 15, 10, 15, 12,  1, 15,\n",
       "        10,  0, 10, 15,  3, 15, 15, 10,  4, 15, 15,  6, 10,  4,  8,  1, 14,\n",
       "         1,  2,  4,  0,  5,  7, 15,  5, 13, 12]),\n",
       " array([ 0, 15,  0, 15, 15, 13,  2,  3,  7,  2,  8, 15, 15,  3, 15,  7,  8,\n",
       "        10, 15, 15, 11,  6,  7, 15,  6, 15, 15,  6, 15, 14,  3, 15,  5, 15,\n",
       "        15,  4, 14,  5, 15,  5, 12,  7, 15, 15, 15, 15, 15, 15, 15, 15,  3,\n",
       "        15, 15, 15, 15, 10,  2, 15,  1,  6, 11,  9,  9,  2, 15,  1, 15, 13,\n",
       "         0, 14, 13, 15, 15, 10, 15, 15, 15, 15, 15, 15,  0,  9,  5, 15, 15,\n",
       "         9, 15,  1, 15, 15,  2, 15, 15, 14, 15,  6,  7,  6, 10, 15,  5, 13,\n",
       "        10, 15, 15, 14,  3,  7, 15, 15,  5, 10,  8, 15, 15,  9, 15, 15,  5,\n",
       "        15, 15, 15, 15, 15, 11, 15, 15, 15,  9, 15, 15,  5,  7,  8, 15, 15,\n",
       "        10, 12, 13,  2,  3,  4, 15,  9, 12,  3, 10, 15, 15, 15, 15, 15, 12,\n",
       "         7, 15,  9, 12,  0,  5, 15, 10,  0, 15, 15, 15, 15,  0, 15,  3, 11,\n",
       "        15, 12,  0, 15,  9,  6, 15, 15, 15, 15, 11,  8, 15,  7, 14,  4, 15,\n",
       "        15, 15, 15, 15,  2, 15,  4, 15,  2, 15,  8,  8, 15, 15, 15,  7, 15,\n",
       "         2, 15,  5, 15, 15, 15, 11,  4,  8,  2, 12,  8,  6, 15, 15, 15,  2,\n",
       "         2, 15, 15, 15,  6,  1, 12, 15,  2, 15,  5, 15, 15, 15, 15,  6, 15,\n",
       "         4, 15,  4, 14, 15,  9, 10, 15, 10, 15, 15, 14, 15, 10, 15, 15,  1,\n",
       "         8, 15, 15, 12,  2, 11, 15, 15, 15, 15, 15,  3,  8, 15,  0, 15, 15,\n",
       "        15,  4, 12, 15,  3, 15, 15, 15,  3, 15, 15,  6, 15,  9,  3, 13,  8,\n",
       "        15, 10,  7, 15, 12, 15, 13, 15,  6, 15,  0, 15,  0, 13, 15,  7, 15,\n",
       "        15, 10, 15, 15, 15, 15, 15,  4, 15, 15,  4,  2,  0, 14, 15,  2, 15,\n",
       "        15, 15, 15, 12, 12, 15, 15, 15, 14, 15, 15, 15, 15,  5,  9, 14,  8,\n",
       "         7, 14, 14, 15, 11,  9, 12,  2, 14, 15, 15, 15, 10,  1, 12,  1, 15,\n",
       "        10,  4, 15, 15,  3, 15, 15, 15,  4, 15, 15,  6, 15,  4,  8,  1, 14,\n",
       "         1,  2,  4,  0,  5,  7, 15,  5, 13, 15]))"
      ]
     },
     "execution_count": 810,
     "metadata": {},
     "output_type": "execute_result"
    }
   ],
   "source": [
    "predicted_lists[700:], one_hot_labels_list[700:]"
   ]
  },
  {
   "cell_type": "code",
   "execution_count": null,
   "metadata": {},
   "outputs": [
    {
     "data": {
      "text/plain": [
       "TensorBase([0.4735, 0.5521, 0.9939, 0.9995, 0.4465, 0.5849, 0.3063, 0.9936,\n",
       "            0.4086, 0.4685, 0.2634, 0.9229, 0.9756, 0.9759, 0.9889, 0.9440,\n",
       "            0.9997, 0.9971, 0.9241, 0.8479, 0.9997, 0.9968, 0.9969, 0.9994,\n",
       "            0.7546, 0.9973, 0.6989, 0.4326, 0.9997, 0.4539, 0.9963, 0.9918,\n",
       "            0.3567, 0.9675, 0.9721, 0.8877, 0.5068, 0.9994, 0.5776, 0.4749,\n",
       "            0.9891, 0.9995, 0.2415, 0.6620, 0.9816, 0.9778, 0.9998, 0.9782,\n",
       "            0.9936, 0.9829, 0.9974, 0.9991, 0.9991, 0.8231, 0.9773, 0.9994,\n",
       "            0.2232, 0.9427, 0.9936, 0.8217], device='cuda:0')"
      ]
     },
     "execution_count": 811,
     "metadata": {},
     "output_type": "execute_result"
    }
   ],
   "source": [
    "_"
   ]
  },
  {
   "cell_type": "code",
   "execution_count": null,
   "metadata": {},
   "outputs": [
    {
     "data": {
      "text/plain": [
       "tensor([ 5, 13,  1,  1, 12,  0,  1,  4,  9, 11, 10, 12,  4,  9, 13,  8,  9,  5,\n",
       "        11, 10, 12,  1, 14,  0, 14,  4, 14, 14,  4,  4, 14,  2, 11,  4, 11,  7,\n",
       "         4, 12, 10, 11], device='cuda:0')"
      ]
     },
     "execution_count": 812,
     "metadata": {},
     "output_type": "execute_result"
    }
   ],
   "source": [
    "labels"
   ]
  },
  {
   "cell_type": "code",
   "execution_count": 908,
   "metadata": {},
   "outputs": [
    {
     "data": {
      "text/plain": [
       "array([[ 30,   0,   0,   0,   0,   0,   0,   0,   0,   0,   0,   0,   0,\n",
       "          0,   0,   2],\n",
       "       [  0,  31,   0,   0,   0,   0,   0,   0,   0,   0,   0,   0,   0,\n",
       "          0,   0,   2],\n",
       "       [  0,   0,  29,   0,   0,   0,   0,   0,   0,   0,   0,   0,   0,\n",
       "          0,   0,   0],\n",
       "       [  0,   0,   0,  36,   0,   0,   0,   0,   0,   0,   0,   0,   0,\n",
       "          0,   0,   1],\n",
       "       [  0,   0,   0,   0,  32,   0,   0,   0,   0,   0,   0,   0,   0,\n",
       "          0,   0,   1],\n",
       "       [  0,   0,   0,   0,   0,  37,   0,   0,   0,   0,   0,   0,   0,\n",
       "          0,   0,   1],\n",
       "       [  0,   0,   0,   0,   0,   0,  32,   0,   0,   0,   0,   0,   0,\n",
       "          0,   0,   2],\n",
       "       [  0,   0,   0,   0,   0,   0,   0,  33,   0,   0,   0,   0,   0,\n",
       "          0,   0,   1],\n",
       "       [  0,   0,   0,   0,   0,   0,   0,   0,  37,   0,   0,   0,   0,\n",
       "          0,   0,   1],\n",
       "       [  0,   0,   0,   0,   0,   0,   0,   0,   0,  41,   0,   0,   0,\n",
       "          0,   0,   0],\n",
       "       [  0,   0,   0,   0,   0,   0,   0,   0,   0,   0,  35,   0,   0,\n",
       "          0,   0,   1],\n",
       "       [  0,   0,   0,   0,   0,   0,   0,   0,   0,   0,   0,  39,   0,\n",
       "          0,   0,   0],\n",
       "       [  0,   0,   0,   0,   0,   0,   0,   0,   0,   0,   0,   0,  53,\n",
       "          0,   0,   0],\n",
       "       [  0,   0,   0,   0,   0,   0,   0,   0,   0,   0,   0,   0,   0,\n",
       "         27,   0,   1],\n",
       "       [  0,   0,   0,   0,   0,   0,   0,   0,   0,   0,   0,   0,   0,\n",
       "          0,  34,   0],\n",
       "       [ 23,  11,  10,   0,   1,  16,   6,  13,  16,   0,  19,   0,   2,\n",
       "          4,   0, 424]])"
      ]
     },
     "execution_count": 908,
     "metadata": {},
     "output_type": "execute_result"
    },
    {
     "data": {
      "image/png": "[encoded data removed]",
      "text/plain": [
       "<Figure size 640x480 with 2 Axes>"
      ]
     },
     "metadata": {},
     "output_type": "display_data"
    }
   ],
   "source": [
    "from sklearn.metrics import confusion_matrix\n",
    "import seaborn as sns\n",
    "import matplotlib.pyplot as plt\n",
    "\n",
    "cm = confusion_matrix(one_hot_labels_list, predicted_lists)\n",
    "sns.heatmap(cm, square=True, cbar=True, annot=True, cmap='Blues')\n",
    "plt.xlabel(\"Predicted Label\", fontsize=13)\n",
    "plt.ylabel(\"Ground Truth\", fontsize=13)\n",
    "fig_name = \"sklearn_confusion_matrix_{}_{}.png\".format(Unknown_label, threshold)\n",
    "plt.savefig(\"./figure/\" + fig_name)\n",
    "cm"
   ]
  },
  {
   "cell_type": "code",
   "execution_count": null,
   "metadata": {},
   "outputs": [],
   "source": [
    "x = np.linspace(0.30, 0.80, 11)\n",
    "y1 = [86.33, 88.00, 89.94, 91.32, 92.70, 93.26, 93.81, 94.45, 94.92, 94.55, 93.63]\n",
    "y2 = [71.01, 73.68, 76.55, 78.85, 82.83, 84.03, 85.78, 87.07, 87.72, 88.64, 88.27]\n",
    "y3 = [55.44, 59.79, 64.76, 70.85, 75.37, 78.41, 80.72, 82.84, 86.25, 87.73, 89.30]\n",
    "y0 = [99.08, 99.08, 99.08, 99.08, 99.08, 99.08, 99.08, 99.08, 99.08, 99.08, 99.08]\n",
    "plt.ylim(55, 100)\n",
    "plt.xlabel(\"Threshold\")\n",
    "plt.ylabel(\"Accuracy [%]\")\n",
    "plt.plot(x, y0, label=\"Openness=0, (threshold=0)\")\n",
    "plt.plot(x, y1, marker=\"o\", label=\"Openness=0.087\")\n",
    "plt.plot(x, y2, marker=\"*\", label=\"Openness=0.184\")\n",
    "plt.plot(x, y3, marker=\"x\", label=\"Openness=0.293\")\n",
    "plt.legend()"
   ]
  },
  {
   "cell_type": "code",
   "execution_count": 909,
   "metadata": {},
   "outputs": [
    {
     "ename": "ValueError",
     "evalue": "x and y must have same first dimension, but have shapes (11,) and (0,)",
     "output_type": "error",
     "traceback": [
      "\u001b[0;31m---------------------------------------------------------------------------\u001b[0m",
      "\u001b[0;31mValueError\u001b[0m                                Traceback (most recent call last)",
      "Cell \u001b[0;32mIn [909], line 10\u001b[0m\n\u001b[1;32m      8\u001b[0m plt\u001b[39m.\u001b[39mylabel(\u001b[39m\"\u001b[39m\u001b[39mAccuracy [\u001b[39m\u001b[39m%\u001b[39m\u001b[39m]\u001b[39m\u001b[39m\"\u001b[39m)\n\u001b[1;32m      9\u001b[0m \u001b[39m# plt.plot(x, y0, label=\"Openness=0, (threshold=0)\")\u001b[39;00m\n\u001b[0;32m---> 10\u001b[0m plt\u001b[39m.\u001b[39;49mplot(x, y1, marker\u001b[39m=\u001b[39;49m\u001b[39m\"\u001b[39;49m\u001b[39mo\u001b[39;49m\u001b[39m\"\u001b[39;49m, label\u001b[39m=\u001b[39;49m\u001b[39m\"\u001b[39;49m\u001b[39mOpenness=0.087\u001b[39;49m\u001b[39m\"\u001b[39;49m)\n\u001b[1;32m     11\u001b[0m plt\u001b[39m.\u001b[39mplot(x, y2, marker\u001b[39m=\u001b[39m\u001b[39m\"\u001b[39m\u001b[39m*\u001b[39m\u001b[39m\"\u001b[39m, label\u001b[39m=\u001b[39m\u001b[39m\"\u001b[39m\u001b[39mOpenness=0.184\u001b[39m\u001b[39m\"\u001b[39m)\n\u001b[1;32m     12\u001b[0m plt\u001b[39m.\u001b[39mplot(x, y3, marker\u001b[39m=\u001b[39m\u001b[39m\"\u001b[39m\u001b[39mx\u001b[39m\u001b[39m\"\u001b[39m, label\u001b[39m=\u001b[39m\u001b[39m\"\u001b[39m\u001b[39mOpenness=0.293\u001b[39m\u001b[39m\"\u001b[39m)\n",
      "File \u001b[0;32m/mnt/c/Users/grpro/workspace/grad_thesis/InceptionTime/env/lib/python3.9/site-packages/matplotlib/pyplot.py:2728\u001b[0m, in \u001b[0;36mplot\u001b[0;34m(scalex, scaley, data, *args, **kwargs)\u001b[0m\n\u001b[1;32m   2726\u001b[0m \u001b[39m@_copy_docstring_and_deprecators\u001b[39m(Axes\u001b[39m.\u001b[39mplot)\n\u001b[1;32m   2727\u001b[0m \u001b[39mdef\u001b[39;00m \u001b[39mplot\u001b[39m(\u001b[39m*\u001b[39margs, scalex\u001b[39m=\u001b[39m\u001b[39mTrue\u001b[39;00m, scaley\u001b[39m=\u001b[39m\u001b[39mTrue\u001b[39;00m, data\u001b[39m=\u001b[39m\u001b[39mNone\u001b[39;00m, \u001b[39m*\u001b[39m\u001b[39m*\u001b[39mkwargs):\n\u001b[0;32m-> 2728\u001b[0m     \u001b[39mreturn\u001b[39;00m gca()\u001b[39m.\u001b[39;49mplot(\n\u001b[1;32m   2729\u001b[0m         \u001b[39m*\u001b[39;49margs, scalex\u001b[39m=\u001b[39;49mscalex, scaley\u001b[39m=\u001b[39;49mscaley,\n\u001b[1;32m   2730\u001b[0m         \u001b[39m*\u001b[39;49m\u001b[39m*\u001b[39;49m({\u001b[39m\"\u001b[39;49m\u001b[39mdata\u001b[39;49m\u001b[39m\"\u001b[39;49m: data} \u001b[39mif\u001b[39;49;00m data \u001b[39mis\u001b[39;49;00m \u001b[39mnot\u001b[39;49;00m \u001b[39mNone\u001b[39;49;00m \u001b[39melse\u001b[39;49;00m {}), \u001b[39m*\u001b[39;49m\u001b[39m*\u001b[39;49mkwargs)\n",
      "File \u001b[0;32m/mnt/c/Users/grpro/workspace/grad_thesis/InceptionTime/env/lib/python3.9/site-packages/matplotlib/axes/_axes.py:1662\u001b[0m, in \u001b[0;36mAxes.plot\u001b[0;34m(self, scalex, scaley, data, *args, **kwargs)\u001b[0m\n\u001b[1;32m   1419\u001b[0m \u001b[39m\"\"\"\u001b[39;00m\n\u001b[1;32m   1420\u001b[0m \u001b[39mPlot y versus x as lines and/or markers.\u001b[39;00m\n\u001b[1;32m   1421\u001b[0m \n\u001b[0;32m   (...)\u001b[0m\n\u001b[1;32m   1659\u001b[0m \u001b[39m(``'green'``) or hex strings (``'#008000'``).\u001b[39;00m\n\u001b[1;32m   1660\u001b[0m \u001b[39m\"\"\"\u001b[39;00m\n\u001b[1;32m   1661\u001b[0m kwargs \u001b[39m=\u001b[39m cbook\u001b[39m.\u001b[39mnormalize_kwargs(kwargs, mlines\u001b[39m.\u001b[39mLine2D)\n\u001b[0;32m-> 1662\u001b[0m lines \u001b[39m=\u001b[39m [\u001b[39m*\u001b[39m\u001b[39mself\u001b[39m\u001b[39m.\u001b[39m_get_lines(\u001b[39m*\u001b[39margs, data\u001b[39m=\u001b[39mdata, \u001b[39m*\u001b[39m\u001b[39m*\u001b[39mkwargs)]\n\u001b[1;32m   1663\u001b[0m \u001b[39mfor\u001b[39;00m line \u001b[39min\u001b[39;00m lines:\n\u001b[1;32m   1664\u001b[0m     \u001b[39mself\u001b[39m\u001b[39m.\u001b[39madd_line(line)\n",
      "File \u001b[0;32m/mnt/c/Users/grpro/workspace/grad_thesis/InceptionTime/env/lib/python3.9/site-packages/matplotlib/axes/_base.py:311\u001b[0m, in \u001b[0;36m_process_plot_var_args.__call__\u001b[0;34m(self, data, *args, **kwargs)\u001b[0m\n\u001b[1;32m    309\u001b[0m     this \u001b[39m+\u001b[39m\u001b[39m=\u001b[39m args[\u001b[39m0\u001b[39m],\n\u001b[1;32m    310\u001b[0m     args \u001b[39m=\u001b[39m args[\u001b[39m1\u001b[39m:]\n\u001b[0;32m--> 311\u001b[0m \u001b[39myield from\u001b[39;00m \u001b[39mself\u001b[39;49m\u001b[39m.\u001b[39;49m_plot_args(\n\u001b[1;32m    312\u001b[0m     this, kwargs, ambiguous_fmt_datakey\u001b[39m=\u001b[39;49mambiguous_fmt_datakey)\n",
      "File \u001b[0;32m/mnt/c/Users/grpro/workspace/grad_thesis/InceptionTime/env/lib/python3.9/site-packages/matplotlib/axes/_base.py:504\u001b[0m, in \u001b[0;36m_process_plot_var_args._plot_args\u001b[0;34m(self, tup, kwargs, return_kwargs, ambiguous_fmt_datakey)\u001b[0m\n\u001b[1;32m    501\u001b[0m     \u001b[39mself\u001b[39m\u001b[39m.\u001b[39maxes\u001b[39m.\u001b[39myaxis\u001b[39m.\u001b[39mupdate_units(y)\n\u001b[1;32m    503\u001b[0m \u001b[39mif\u001b[39;00m x\u001b[39m.\u001b[39mshape[\u001b[39m0\u001b[39m] \u001b[39m!=\u001b[39m y\u001b[39m.\u001b[39mshape[\u001b[39m0\u001b[39m]:\n\u001b[0;32m--> 504\u001b[0m     \u001b[39mraise\u001b[39;00m \u001b[39mValueError\u001b[39;00m(\u001b[39mf\u001b[39m\u001b[39m\"\u001b[39m\u001b[39mx and y must have same first dimension, but \u001b[39m\u001b[39m\"\u001b[39m\n\u001b[1;32m    505\u001b[0m                      \u001b[39mf\u001b[39m\u001b[39m\"\u001b[39m\u001b[39mhave shapes \u001b[39m\u001b[39m{\u001b[39;00mx\u001b[39m.\u001b[39mshape\u001b[39m}\u001b[39;00m\u001b[39m and \u001b[39m\u001b[39m{\u001b[39;00my\u001b[39m.\u001b[39mshape\u001b[39m}\u001b[39;00m\u001b[39m\"\u001b[39m)\n\u001b[1;32m    506\u001b[0m \u001b[39mif\u001b[39;00m x\u001b[39m.\u001b[39mndim \u001b[39m>\u001b[39m \u001b[39m2\u001b[39m \u001b[39mor\u001b[39;00m y\u001b[39m.\u001b[39mndim \u001b[39m>\u001b[39m \u001b[39m2\u001b[39m:\n\u001b[1;32m    507\u001b[0m     \u001b[39mraise\u001b[39;00m \u001b[39mValueError\u001b[39;00m(\u001b[39mf\u001b[39m\u001b[39m\"\u001b[39m\u001b[39mx and y can be no greater than 2D, but have \u001b[39m\u001b[39m\"\u001b[39m\n\u001b[1;32m    508\u001b[0m                      \u001b[39mf\u001b[39m\u001b[39m\"\u001b[39m\u001b[39mshapes \u001b[39m\u001b[39m{\u001b[39;00mx\u001b[39m.\u001b[39mshape\u001b[39m}\u001b[39;00m\u001b[39m and \u001b[39m\u001b[39m{\u001b[39;00my\u001b[39m.\u001b[39mshape\u001b[39m}\u001b[39;00m\u001b[39m\"\u001b[39m)\n",
      "\u001b[0;31mValueError\u001b[0m: x and y must have same first dimension, but have shapes (11,) and (0,)"
     ]
    },
    {
     "data": {
      "image/png": "[encoded data removed]",
      "text/plain": [
       "<Figure size 640x480 with 1 Axes>"
      ]
     },
     "metadata": {},
     "output_type": "display_data"
    }
   ],
   "source": [
    "x = np.linspace(0.30, 0.80, 11)\n",
    "y1 = []\n",
    "y2 = [71.01, 73.68, 76.55, 78.85, 82.83, 84.03, 85.78, 87.07, 87.72, 88.64, 88.27]\n",
    "y3 = [55.44, 59.79, 64.76, 70.85, 75.37, 78.41, 80.72, 82.84, 86.25, 87.73, 89.30]\n",
    "y0 = [99.08, 99.08, 99.08, 99.08, 99.08, 99.08, 99.08, 99.08, 99.08, 99.08, 99.08]\n",
    "plt.ylim(55, 100)\n",
    "plt.xlabel(\"Threshold\")\n",
    "plt.ylabel(\"Accuracy [%]\")\n",
    "plt.plot(x, y0, label=\"Openness=0, (threshold=0)\")\n",
    "plt.plot(x, y1, marker=\"o\", label=\"Openness=0.087\")\n",
    "plt.plot(x, y2, marker=\"*\", label=\"Openness=0.184\")\n",
    "plt.plot(x, y3, marker=\"x\", label=\"Openness=0.293\")\n",
    "plt.legend()"
   ]
  },
  {
   "cell_type": "code",
   "execution_count": 910,
   "metadata": {},
   "outputs": [
    {
     "data": {
      "text/plain": [
       "<matplotlib.legend.Legend at 0x7f91700efb80>"
      ]
     },
     "execution_count": 910,
     "metadata": {},
     "output_type": "execute_result"
    },
    {
     "data": {
      "image/png": "[encoded data removed]",
      "text/plain": [
       "<Figure size 640x480 with 1 Axes>"
      ]
     },
     "metadata": {},
     "output_type": "display_data"
    }
   ],
   "source": [
    "a = np.array([55.35055350553505, 61.99261992619926, 64.11439114391143, 70.75645756457564, 74.6309963099631, 73.5239852398524, 77.58302583025831, 84.5940959409594, 81.91881918819188, 90.59040590405904, 88.46863468634686])\n",
    "b = np.array([55.71955719557196, 57.564575645756456, 61.62361623616236, 70.9409594095941, 71.58671586715867, 76.56826568265683, 75.27675276752767, 76.19926199261992, 81.2730627306273, 84.96309963099631, 88.00738007380073])\n",
    "c = np.array([51.93726937269373, 54.7970479704797, 58.025830258302584, 62.08487084870849, 66.32841328413284, 71.03321033210332, 74.72324723247233, 78.50553505535055, 81.91881918819188, 84.77859778597787, 87.82287822878229])\n",
    "d = np.array([52.859778597785976, 56.91881918819188, 61.254612546125465, 66.14391143911439, 70.84870848708488, 75.46125461254613, 78.87453874538745, 82.10332103321034, 85.05535055350553, 87.63837638376384, 90.59040590405904])\n",
    "e = np.array([52.5830258302583, 56.18081180811808, 60.42435424354244, 64.11439114391143, 67.98892988929889, 72.32472324723247, 75.09225092250922, 78.78228782287823, 82.380073800738, 85.23985239852398, 88.09963099630997])\n",
    "ave14 = np.mean([a, b, c, d, e], axis=0)\n",
    "\n",
    "a1 = np.array([68.88273314866113, 73.40720221606648, 77.65466297322253, 78.67036011080333, 78.76269621421976, 84.57987072945522, 83.28716528162512, 87.44228993536473, 85.96491228070175, 88.9196675900277, 88.73499538319483])\n",
    "b1 = np.array([69.3444136657433, 71.46814404432133, 76.08494921514313, 78.02400738688827, 78.30101569713759, 76.5466297322253, 83.10249307479225, 83.28716528162512, 87.07294552169898, 87.6269621421976, 90.2123730378578])\n",
    "c1 = np.array([69.43674976915975, 71.83748845798708, 74.33056325023084, 76.36195752539243, 78.20867959372114, 81.4404432132964, 83.10249307479225, 85.68790397045245, 86.79593721144968, 89.10433979686057, 91.68975069252078])\n",
    "d1 = np.array([68.69806094182826, 70.3601108033241, 72.11449676823638, 74.42289935364728, 75.53093259464451, 76.73130193905817, 78.02400738688827, 78.76269621421976, 80.33240997229917, 81.80978762696215, 84.11819021237304])\n",
    "e1 = np.array([69.71375807940905, 72.29916897506925, 74.9769159741459, 77.93167128347184, 79.87072945521699, 81.4404432132964, 82.82548476454294, 84.57987072945522, 86.0572483841182, 87.44228993536473, 88.73499538319483])\n",
    "\n",
    "ave19 = np.mean([a1, b1, c1, d1, e1], axis=0)\n",
    "\n",
    "a2 = np.array([88.36565096952909, 91.87442289935365, 91.59741458910435, 93.62880886426593, 92.89012003693445, 93.90581717451524, 96.67590027700831, 95.10618651892891, 98.33795013850416, 95.38319482917821, 97.78393351800554])\n",
    "b2 = np.array([87.90397045244691, 88.82733148661127, 91.59741458910435, 88.6426592797784, 91.2280701754386, 94.73684210526316, 94.73684210526316, 93.72114496768236, 95.93721144967682, 95.66020313942752, 97.04524469067405])\n",
    "c2 = np.array([85.87257617728532, 87.53462603878117, 89.47368421052632, 91.59741458910435, 92.05909510618652, 93.25946445060019, 93.8134810710988, 95.01385041551247, 95.8448753462604, 96.67590027700831, 97.96860572483841])\n",
    "d2 = np.array([86.88827331486611, 88.18097876269621, 89.38134810710989, 90.39704524469067, 91.5050784856879, 92.89012003693445, 94.45983379501385, 95.29085872576178, 96.02954755309327, 96.86057248384118, 97.4145891043398])\n",
    "e2 = np.array([86.0572483841182, 87.16528162511543, 88.6426592797784, 91.13573407202216, 92.98245614035088, 94.73684210526316, 96.21421975992614, 97.4145891043398, 97.87626962142198, 98.15327793167128, 98.52262234533703])\n",
    "\n",
    "ave24 = np.mean([a2, b2, c2, d2, e2], axis=0)\n",
    "\n",
    "x = np.linspace(0.30, 0.80, 11)\n",
    "y1 = ave14\n",
    "y2 = ave19\n",
    "y3 = ave24\n",
    "y0 = [99.08, 99.08, 99.08, 99.08, 99.08, 99.08, 99.08, 99.08, 99.08, 99.08, 99.08]\n",
    "plt.ylim(55, 100)\n",
    "plt.xlabel(\"Threshold\")\n",
    "plt.ylabel(\"Accuracy [%]\")\n",
    "# plt.plot(x, y0, label=\"Openness=0, (threshold=0)\")\n",
    "plt.plot(x, y3, marker=\"o\", label=\"Openness=0.087\")\n",
    "plt.plot(x, y2, marker=\"*\", label=\"Openness=0.184\")\n",
    "plt.plot(x, y1, marker=\"x\", label=\"Openness=0.293\")\n",
    "plt.legend()"
   ]
  },
  {
   "cell_type": "markdown",
   "metadata": {},
   "source": [
    "最後のfc層の重みとバイアスを使用する\n",
    "損失関数"
   ]
  },
  {
   "cell_type": "code",
   "execution_count": null,
   "metadata": {},
   "outputs": [
    {
     "data": {
      "text/plain": [
       "(Parameter containing:\n",
       " tensor([[-0.1783,  0.1674, -0.2028,  ..., -0.0787, -0.1903,  0.0245],\n",
       "         [-0.0963,  0.1180, -0.0801,  ..., -0.0368, -0.0392, -0.1324],\n",
       "         [ 0.1636, -0.1728, -0.0747,  ...,  0.0316,  0.1743,  0.1035],\n",
       "         ...,\n",
       "         [ 0.1539, -0.1124, -0.0024,  ..., -0.1057, -0.1211, -0.0475],\n",
       "         [-0.0208, -0.1165,  0.1677,  ..., -0.1203,  0.0778, -0.0227],\n",
       "         [-0.1342, -0.0169,  0.0269,  ..., -0.0835, -0.0002, -0.0207]],\n",
       "        device='cuda:0', requires_grad=True),\n",
       " Parameter containing:\n",
       " tensor([-0.0556, -0.0589, -0.0619,  0.0398,  0.0062, -0.0378, -0.0926, -0.0255,\n",
       "         -0.0056,  0.0405, -0.0612,  0.0501, -0.0584, -0.0163,  0.0496, -0.0720],\n",
       "        device='cuda:0', requires_grad=True))"
      ]
     },
     "execution_count": 815,
     "metadata": {},
     "output_type": "execute_result"
    }
   ],
   "source": [
    "model.fc.weight, model.fc.bias"
   ]
  },
  {
   "cell_type": "code",
   "execution_count": 890,
   "metadata": {},
   "outputs": [
    {
     "data": {
      "text/plain": [
       "(TensorBase([-6.4336, -1.5183,  0.5130, -5.1082, -6.9941, -2.6780, -1.1776,\n",
       "              1.5522, -1.7948,  6.2123, -1.9395, -0.5401, -4.5497, -3.5351,\n",
       "             -2.2860], device='cuda:0', grad_fn=<AliasBackward0>),\n",
       " tensor([ 9,  3,  3,  4,  8,  8,  2,  0,  8,  4,  3,  1,  6,  5, 12,  7, 10,  0,\n",
       "          1,  6, 11,  3, 10,  8,  0,  5,  4, 14,  8, 10,  1,  0,  6,  8,  3,  4,\n",
       "          9,  6,  5, 10], device='cuda:0'))"
      ]
     },
     "execution_count": 890,
     "metadata": {},
     "output_type": "execute_result"
    }
   ],
   "source": [
    "outputs[0], labels"
   ]
  },
  {
   "cell_type": "code",
   "execution_count": 891,
   "metadata": {},
   "outputs": [],
   "source": [
    "from math import log\n",
    "\n",
    "\n",
    "def softmax_loss(batch_size, softmax_output, labels):\n",
    "    loss = 0\n",
    "    for idx in range(batch_size):\n",
    "        loss += 1.0 - log(softmax_output[labels[idx]])\n",
    "    return loss / batch_size"
   ]
  },
  {
   "cell_type": "code",
   "execution_count": 1,
   "metadata": {},
   "outputs": [
    {
     "ename": "ModuleNotFoundError",
     "evalue": "No module named 'torch'",
     "output_type": "error",
     "traceback": [
      "\u001b[0;31m---------------------------------------------------------------------------\u001b[0m",
      "\u001b[0;31mModuleNotFoundError\u001b[0m                       Traceback (most recent call last)",
      "\u001b[0;32m<ipython-input-1-42c1414809b8>\u001b[0m in \u001b[0;36m<module>\u001b[0;34m\u001b[0m\n\u001b[0;32m----> 1\u001b[0;31m \u001b[0;32mfrom\u001b[0m \u001b[0mcenter_loss\u001b[0m \u001b[0;32mimport\u001b[0m \u001b[0mCenterLoss\u001b[0m\u001b[0;34m\u001b[0m\u001b[0;34m\u001b[0m\u001b[0m\n\u001b[0m\u001b[1;32m      2\u001b[0m \u001b[0mcenter_loss\u001b[0m \u001b[0;34m=\u001b[0m \u001b[0mCenterLoss\u001b[0m\u001b[0;34m(\u001b[0m\u001b[0mnum_classes\u001b[0m\u001b[0;34m=\u001b[0m\u001b[0mclose_num\u001b[0m \u001b[0;34m+\u001b[0m \u001b[0;36m1\u001b[0m\u001b[0;34m,\u001b[0m \u001b[0mfeat_dim\u001b[0m\u001b[0;34m=\u001b[0m\u001b[0;36m2\u001b[0m\u001b[0;34m,\u001b[0m \u001b[0muse_gpu\u001b[0m\u001b[0;34m=\u001b[0m\u001b[0;32mTrue\u001b[0m\u001b[0;34m)\u001b[0m\u001b[0;34m\u001b[0m\u001b[0;34m\u001b[0m\u001b[0m\n\u001b[1;32m      3\u001b[0m \u001b[0moptimizer_centloss\u001b[0m \u001b[0;34m=\u001b[0m \u001b[0mtorch\u001b[0m\u001b[0;34m.\u001b[0m\u001b[0moptim\u001b[0m\u001b[0;34m.\u001b[0m\u001b[0mSGD\u001b[0m\u001b[0;34m(\u001b[0m\u001b[0mcenter_loss\u001b[0m\u001b[0;34m.\u001b[0m\u001b[0mparameters\u001b[0m\u001b[0;34m(\u001b[0m\u001b[0;34m)\u001b[0m\u001b[0;34m,\u001b[0m \u001b[0mlr\u001b[0m\u001b[0;34m=\u001b[0m\u001b[0;36m0.5\u001b[0m\u001b[0;34m)\u001b[0m\u001b[0;34m\u001b[0m\u001b[0;34m\u001b[0m\u001b[0m\n",
      "\u001b[0;32m~/workspace/uni_class/lab/InceptionTime/center_loss.py\u001b[0m in \u001b[0;36m<module>\u001b[0;34m\u001b[0m\n\u001b[0;32m----> 1\u001b[0;31m \u001b[0;32mimport\u001b[0m \u001b[0mtorch\u001b[0m\u001b[0;34m\u001b[0m\u001b[0;34m\u001b[0m\u001b[0m\n\u001b[0m\u001b[1;32m      2\u001b[0m \u001b[0;32mimport\u001b[0m \u001b[0mtorch\u001b[0m\u001b[0;34m.\u001b[0m\u001b[0mnn\u001b[0m \u001b[0;32mas\u001b[0m \u001b[0mnn\u001b[0m\u001b[0;34m\u001b[0m\u001b[0;34m\u001b[0m\u001b[0m\n\u001b[1;32m      3\u001b[0m \u001b[0;34m\u001b[0m\u001b[0m\n\u001b[1;32m      4\u001b[0m \u001b[0;32mclass\u001b[0m \u001b[0mCenterLoss\u001b[0m\u001b[0;34m(\u001b[0m\u001b[0mnn\u001b[0m\u001b[0;34m.\u001b[0m\u001b[0mModule\u001b[0m\u001b[0;34m)\u001b[0m\u001b[0;34m:\u001b[0m\u001b[0;34m\u001b[0m\u001b[0;34m\u001b[0m\u001b[0m\n\u001b[1;32m      5\u001b[0m     \"\"\"Center loss.\n",
      "\u001b[0;31mModuleNotFoundError\u001b[0m: No module named 'torch'"
     ]
    }
   ],
   "source": [
    "from center_loss import CenterLoss\n",
    "center_loss = CenterLoss(num_classes=close_num + 1, feat_dim=2, use_gpu=True)\n",
    "optimizer_centloss = torch.optim.SGD(center_loss.parameters(), lr=0.5)"
   ]
  },
  {
   "cell_type": "code",
   "execution_count": null,
   "metadata": {},
   "outputs": [],
   "source": [
    "from torch.autograd import Variable\n",
    "class LMCL_loss(nn.Module):\n",
    "    \"\"\"\n",
    "        Refer to paper:\n",
    "        Hao Wang, Yitong Wang, Zheng Zhou, Xing Ji, Dihong Gong, Jingchao Zhou,Zhifeng Li, and Wei Liu\n",
    "        CosFace: Large Margin Cosine Loss for Deep Face Recognition. CVPR2018\n",
    "        re-implement by yirong mao\n",
    "        2018 07/02\n",
    "        \"\"\"\n",
    "\n",
    "    def __init__(self, num_classes, feat_dim, s=7.00, m=0.2):\n",
    "        super(LMCL_loss, self).__init__()\n",
    "        self.feat_dim = feat_dim\n",
    "        self.num_classes = num_classes\n",
    "        self.s = s\n",
    "        self.m = m\n",
    "        self.centers = nn.Parameter(torch.randn(num_classes, feat_dim))\n",
    "\n",
    "    def forward(self, feat, label):\n",
    "        batch_size = feat.shape[0]\n",
    "        norms = torch.norm(feat, p=2, dim=-1, keepdim=True)\n",
    "        nfeat = torch.div(feat, norms)\n",
    "\n",
    "        norms_c = torch.norm(self.centers, p=2, dim=-1, keepdim=True)\n",
    "        ncenters = torch.div(self.centers, norms_c)\n",
    "        logits = torch.matmul(nfeat, torch.transpose(ncenters, 0, 1))\n",
    "\n",
    "        y_onehot = torch.FloatTensor(batch_size, self.num_classes)\n",
    "        y_onehot.zero_()\n",
    "        y_onehot = Variable(y_onehot).cuda()\n",
    "        y_onehot.scatter_(1, torch.unsqueeze(label, dim=-1), self.m)\n",
    "        margin_logits = self.s * (logits - y_onehot)\n",
    "\n",
    "        return logits, margin_logits"
   ]
  },
  {
   "cell_type": "code",
   "execution_count": null,
   "metadata": {},
   "outputs": [],
   "source": [
    "class AngularPenaltySMLoss(nn.Module):\n",
    "\n",
    "    def __init__(self, in_features, out_features, loss_type='cosface', eps=1e-7, s=None, m=None):\n",
    "        '''\n",
    "        Angular Penalty Softmax Loss\n",
    "        Three 'loss_types' available: ['arcface', 'sphereface', 'cosface']\n",
    "        These losses are described in the following papers: \n",
    "        \n",
    "        ArcFace: https://arxiv.org/abs/1801.07698\n",
    "        SphereFace: https://arxiv.org/abs/1704.08063\n",
    "        CosFace/Ad Margin: https://arxiv.org/abs/1801.05599\n",
    "        '''\n",
    "        super(AngularPenaltySMLoss, self).__init__()\n",
    "        loss_type = loss_type.lower()\n",
    "        assert loss_type in  ['arcface', 'sphereface', 'cosface']\n",
    "        if loss_type == 'arcface':\n",
    "            self.s = 64.0 if not s else s\n",
    "            self.m = 0.5 if not m else m\n",
    "        if loss_type == 'sphereface':\n",
    "            self.s = 64.0 if not s else s\n",
    "            self.m = 1.35 if not m else m\n",
    "        if loss_type == 'cosface':\n",
    "            self.s = 30.0 if not s else s\n",
    "            self.m = 0.4 if not m else m\n",
    "        self.loss_type = loss_type\n",
    "        self.in_features = in_features\n",
    "        self.out_features = out_features\n",
    "        self.fc = nn.Linear(in_features, out_features, bias=False)\n",
    "        self.eps = eps\n",
    "\n",
    "    def forward(self, x, labels):\n",
    "        '''\n",
    "        input shape (N, in_features)\n",
    "        '''\n",
    "        assert len(x) == len(labels)\n",
    "        assert torch.min(labels) >= 0\n",
    "        assert torch.max(labels) < self.out_features\n",
    "        \n",
    "        for W in self.fc.parameters():\n",
    "            W = F.normalize(W, p=2, dim=1)\n",
    "\n",
    "        x = F.normalize(x, p=2, dim=1)\n",
    "\n",
    "        wf = self.fc(x)\n",
    "        if self.loss_type == 'cosface':\n",
    "            numerator = self.s * (torch.diagonal(wf.transpose(0, 1)[labels]) - self.m)\n",
    "        if self.loss_type == 'arcface':\n",
    "            numerator = self.s * torch.cos(torch.acos(torch.clamp(torch.diagonal(wf.transpose(0, 1)[labels]), -1.+self.eps, 1-self.eps)) + self.m)\n",
    "        if self.loss_type == 'sphereface':\n",
    "            numerator = self.s * torch.cos(self.m * torch.acos(torch.clamp(torch.diagonal(wf.transpose(0, 1)[labels]), -1.+self.eps, 1-self.eps)))\n",
    "\n",
    "        excl = torch.cat([torch.cat((wf[i, :y], wf[i, y+1:])).unsqueeze(0) for i, y in enumerate(labels)], dim=0)\n",
    "        denominator = torch.exp(numerator) + torch.sum(torch.exp(self.s * excl), dim=1)\n",
    "        L = numerator - torch.log(denominator)\n",
    "        return -torch.mean(L)"
   ]
  },
  {
   "cell_type": "code",
   "execution_count": null,
   "metadata": {},
   "outputs": [],
   "source": [
    "def triple_joint_loss():\n",
    "    return softmax_loss() + center_loss() + cosine_loss()"
   ]
  }
 ],
 "metadata": {
  "kernelspec": {
   "display_name": "Python 3.7.2 64-bit",
   "language": "python",
   "name": "python3"
  },
  "language_info": {
   "codemirror_mode": {
    "name": "ipython",
    "version": 3
   },
   "file_extension": ".py",
   "mimetype": "text/x-python",
   "name": "python",
   "nbconvert_exporter": "python",
   "pygments_lexer": "ipython3",
   "version": "3.7.2"
  },
  "orig_nbformat": 4,
  "vscode": {
   "interpreter": {
    "hash": "e534e48711db4d1e1c48977d0d14ff85b1f16d41bcc4fdfd88268a329b3c9d66"
   }
  }
 },
 "nbformat": 4,
 "nbformat_minor": 2
}
