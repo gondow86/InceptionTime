{
 "cells": [
  {
   "cell_type": "code",
   "execution_count": 1,
   "metadata": {},
   "outputs": [
    {
     "name": "stdout",
     "output_type": "stream",
     "text": [
      "cuda\n"
     ]
    }
   ],
   "source": [
    "from tsai.imports import *\n",
    "from tsai.models.layers import *\n",
    "from torchinfo import summary\n",
    "import torch\n",
    "import torch.nn as nn\n",
    "from torch.utils.data import Dataset\n",
    "from torch.utils.data import DataLoader\n",
    "import torchvision\n",
    "import torchvision.transforms as transforms\n",
    "import numpy as np\n",
    "import pandas as pd\n",
    "from sklearn.preprocessing import StandardScaler\n",
    "from sklearn.preprocessing import MinMaxScaler\n",
    "from sklearn.manifold import TSNE\n",
    "from scipy import signal\n",
    "\n",
    "device = torch.device('cuda' if torch.cuda.is_available() else 'cpu')\n",
    "print(device)"
   ]
  },
  {
   "cell_type": "code",
   "execution_count": 3,
   "metadata": {},
   "outputs": [],
   "source": [
    "num_class = 12"
   ]
  },
  {
   "cell_type": "code",
   "execution_count": 12,
   "metadata": {},
   "outputs": [
    {
     "name": "stdout",
     "output_type": "stream",
     "text": [
      "(1976999, 1)\n",
      "(1976999, 1)\n",
      "(1499999, 1)\n",
      "(1499999, 1)\n",
      "(899999, 1)\n",
      "(899999, 1)\n",
      "(900999, 1)\n",
      "(900999, 1)\n",
      "(898999, 1)\n",
      "(898999, 1)\n",
      "(903999, 1)\n",
      "(903999, 1)\n",
      "(899999, 1)\n",
      "(899999, 1)\n",
      "(899999, 1)\n",
      "(899999, 1)\n",
      "(899999, 1)\n",
      "(899999, 1)\n",
      "(899999, 1)\n",
      "(899999, 1)\n",
      "(944999, 1)\n",
      "(944999, 1)\n",
      "(1218999, 1)\n",
      "(1218999, 1)\n"
     ]
    }
   ],
   "source": [
    "for i in range(1, num_class + 1):\n",
    "    file_path_fil = \"../Keio_Hospital/BPF/filterd%02d.csv\" % i\n",
    "    file_path_unfil = \"../Keio_Hospital/BPF/unfilterd%02d.csv\" % i\n",
    "    data = pd.read_csv(file_path_fil)\n",
    "    df = pd.DataFrame(data)\n",
    "    print(df.shape)\n",
    "\n",
    "    data2 = pd.read_csv(file_path_unfil)\n",
    "    df2 = pd.DataFrame(data2)\n",
    "    print(df2.shape)"
   ]
  },
  {
   "cell_type": "code",
   "execution_count": 8,
   "metadata": {},
   "outputs": [
    {
     "data": {
      "text/plain": [
       "(1218999, 1)"
      ]
     },
     "execution_count": 8,
     "metadata": {},
     "output_type": "execute_result"
    }
   ],
   "source": []
  }
 ],
 "metadata": {
  "kernelspec": {
   "display_name": "env",
   "language": "python",
   "name": "python3"
  },
  "language_info": {
   "codemirror_mode": {
    "name": "ipython",
    "version": 3
   },
   "file_extension": ".py",
   "mimetype": "text/x-python",
   "name": "python",
   "nbconvert_exporter": "python",
   "pygments_lexer": "ipython3",
   "version": "3.9.5 (default, Nov 23 2021, 15:27:38) \n[GCC 9.3.0]"
  },
  "orig_nbformat": 4,
  "vscode": {
   "interpreter": {
    "hash": "d3f59b86193daf02ac44c2d7d891a49d755eb44400e9ea36eaea4c9328767f1c"
   }
  }
 },
 "nbformat": 4,
 "nbformat_minor": 2
}
