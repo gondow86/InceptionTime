{
 "cells": [
  {
   "cell_type": "code",
   "execution_count": 2,
   "metadata": {},
   "outputs": [
    {
     "name": "stdout",
     "output_type": "stream",
     "text": [
      "cuda\n"
     ]
    }
   ],
   "source": [
    "from tsai.imports import *\n",
    "from tsai.models.layers import *\n",
    "from torchinfo import summary\n",
    "import torch\n",
    "import torch.nn as nn\n",
    "from torch.utils.data import Dataset\n",
    "from torch.utils.data import DataLoader\n",
    "import torchvision\n",
    "import torchvision.transforms as transforms\n",
    "import numpy as np\n",
    "import pandas as pd\n",
    "from sklearn.preprocessing import StandardScaler\n",
    "from sklearn.preprocessing import MinMaxScaler\n",
    "from sklearn.manifold import TSNE\n",
    "from scipy import signal\n",
    "from PyEMD import EMD\n",
    "from PyEMD import EEMD\n",
    "\n",
    "device = torch.device('cuda' if torch.cuda.is_available() else 'cpu')\n",
    "print(device)"
   ]
  },
  {
   "cell_type": "code",
   "execution_count": 1,
   "metadata": {},
   "outputs": [],
   "source": [
    "num_class = 12\n",
    "close_num = 12\n",
    "batch_size = 64\n",
    "learning_rate = 0.001\n",
    "num_epochs = 300\n",
    "sequence_len = 1000 * 5 # sampling_rate * second\n",
    "overlap = int(sequence_len * 0.3)\n",
    "alpha = 0.1"
   ]
  },
  {
   "cell_type": "code",
   "execution_count": 3,
   "metadata": {},
   "outputs": [],
   "source": [
    "data_list = []\n",
    "scaler = MinMaxScaler((0, 1))\n",
    "\n",
    "for i in range(1, num_class + 1):\n",
    "    file_path_fil = \"./data/BPF/filterd%02d.csv\" % i\n",
    "    file_path_unfil = \"./data/BPF/unfilterd%02d.csv\" % i\n",
    "    data_fil = pd.read_csv(file_path_unfil)\n",
    "    data_np_fil = data_fil.to_numpy().flatten()\n",
    "    data_np_fil = data_np_fil[:899999] # データ数を揃える\n",
    "    if i == 1:\n",
    "        data_np_fil_ID1 = data_np_fil[:899999]\n",
    "    # df_fil = pd.DataFrame(data_fil)\n",
    "    # data_unfil = pd.read_csv(file_path_unfil)\n",
    "    # df_unfil = pd.DataFrame(data_unfil)\n",
    "\n",
    "    end = len(data_np_fil)\n",
    "    n = 0\n",
    "    n_stop = sequence_len\n",
    "    data_segs = []\n",
    "    while n_stop < end:\n",
    "        n_start = 0 + ((sequence_len - 1) - (overlap - 1)) * n\n",
    "        n_stop = n_start + sequence_len\n",
    "        tmp = []\n",
    "        seg = data_np_fil[n_start:n_stop].copy()\n",
    "        data_segs.append([seg])\n",
    "        n += 1\n",
    "\n",
    "    data_list.append(data_segs)"
   ]
  },
  {
   "cell_type": "code",
   "execution_count": null,
   "metadata": {},
   "outputs": [],
   "source": [
    "t = np.linspace(1, 10, 9000)\n",
    "s = data_np_fil"
   ]
  },
  {
   "cell_type": "code",
   "execution_count": 11,
   "metadata": {},
   "outputs": [
    {
     "name": "stderr",
     "output_type": "stream",
     "text": [
      "/mnt/c/Users/grpro/workspace/grad_thesis/InceptionTime/env/lib/python3.9/site-packages/PyEMD/EMD.py:590: RuntimeWarning: divide by zero encountered in divide\n",
      "  a = a / scale\n",
      "/mnt/c/Users/grpro/workspace/grad_thesis/InceptionTime/env/lib/python3.9/site-packages/PyEMD/EMD.py:591: RuntimeWarning: divide by zero encountered in divide\n",
      "  b = b / scale\n",
      "/mnt/c/Users/grpro/workspace/grad_thesis/InceptionTime/env/lib/python3.9/site-packages/PyEMD/EMD.py:592: RuntimeWarning: divide by zero encountered in divide\n",
      "  c = c / scale\n",
      "/mnt/c/Users/grpro/workspace/grad_thesis/InceptionTime/env/lib/python3.9/site-packages/PyEMD/EMD.py:594: RuntimeWarning: invalid value encountered in divide\n",
      "  tVertex = -0.5 * b / a\n",
      "/mnt/c/Users/grpro/workspace/grad_thesis/InceptionTime/env/lib/python3.9/site-packages/PyEMD/EMD.py:590: RuntimeWarning: invalid value encountered in divide\n",
      "  a = a / scale\n",
      "/mnt/c/Users/grpro/workspace/grad_thesis/InceptionTime/env/lib/python3.9/site-packages/PyEMD/EMD.py:591: RuntimeWarning: invalid value encountered in divide\n",
      "  b = b / scale\n",
      "/mnt/c/Users/grpro/workspace/grad_thesis/InceptionTime/env/lib/python3.9/site-packages/PyEMD/EMD.py:592: RuntimeWarning: invalid value encountered in divide\n",
      "  c = c / scale\n"
     ]
    },
    {
     "ename": "ValueError",
     "evalue": "operands could not be broadcast together with shapes (898999,) (898997,) ",
     "output_type": "error",
     "traceback": [
      "\u001b[0;31m---------------------------------------------------------------------------\u001b[0m",
      "\u001b[0;31mValueError\u001b[0m                                Traceback (most recent call last)",
      "Cell \u001b[0;32mIn [11], line 6\u001b[0m\n\u001b[1;32m      4\u001b[0m emd \u001b[39m=\u001b[39m eemd\u001b[39m.\u001b[39mEMD\n\u001b[1;32m      5\u001b[0m emd\u001b[39m.\u001b[39mextrema_detection \u001b[39m=\u001b[39m \u001b[39m\"\u001b[39m\u001b[39mparabol\u001b[39m\u001b[39m\"\u001b[39m\n\u001b[0;32m----> 6\u001b[0m eIMFs \u001b[39m=\u001b[39m eemd\u001b[39m.\u001b[39;49meemd(s, t)\n\u001b[1;32m      7\u001b[0m nIMFs \u001b[39m=\u001b[39m eIMFs\u001b[39m.\u001b[39mshape[\u001b[39m0\u001b[39m]\n\u001b[1;32m      9\u001b[0m plt\u001b[39m.\u001b[39mfigure(figsize\u001b[39m=\u001b[39m(\u001b[39m6.4\u001b[39m, \u001b[39m10\u001b[39m))\n",
      "File \u001b[0;32m/mnt/c/Users/grpro/workspace/grad_thesis/InceptionTime/env/lib/python3.9/site-packages/PyEMD/EEMD.py:190\u001b[0m, in \u001b[0;36mEEMD.eemd\u001b[0;34m(self, S, T, max_imf)\u001b[0m\n\u001b[1;32m    187\u001b[0m     all_IMFs \u001b[39m=\u001b[39m \u001b[39mmap\u001b[39m(\u001b[39mself\u001b[39m\u001b[39m.\u001b[39m_trial_update, \u001b[39mrange\u001b[39m(\u001b[39mself\u001b[39m\u001b[39m.\u001b[39mtrials))\n\u001b[1;32m    189\u001b[0m \u001b[39mself\u001b[39m\u001b[39m.\u001b[39m_all_imfs \u001b[39m=\u001b[39m defaultdict(\u001b[39mlist\u001b[39m)\n\u001b[0;32m--> 190\u001b[0m \u001b[39mfor\u001b[39;00m (imfs, trend) \u001b[39min\u001b[39;00m all_IMFs:\n\u001b[1;32m    191\u001b[0m \n\u001b[1;32m    192\u001b[0m     \u001b[39m# A bit of explanation here.\u001b[39;00m\n\u001b[1;32m    193\u001b[0m     \u001b[39m# If the `trend` is not None, that means it was intentionally separated in the decomp process.\u001b[39;00m\n\u001b[1;32m    194\u001b[0m     \u001b[39m# This might due to `separate_trends` flag which means that trends are summed up separately\u001b[39;00m\n\u001b[1;32m    195\u001b[0m     \u001b[39m# and treated as the last component. Since `proto_eimfs` is a dict, that `-1` is treated literally\u001b[39;00m\n\u001b[1;32m    196\u001b[0m     \u001b[39m# and **not** as the *last position*. We can then use that `-1` to always add it as the last pos\u001b[39;00m\n\u001b[1;32m    197\u001b[0m     \u001b[39m# in the actual eIMF, which indicates the trend.\u001b[39;00m\n\u001b[1;32m    198\u001b[0m     \u001b[39mif\u001b[39;00m trend \u001b[39mis\u001b[39;00m \u001b[39mnot\u001b[39;00m \u001b[39mNone\u001b[39;00m:\n\u001b[1;32m    199\u001b[0m         \u001b[39mself\u001b[39m\u001b[39m.\u001b[39m_all_imfs[\u001b[39m-\u001b[39m\u001b[39m1\u001b[39m]\u001b[39m.\u001b[39mappend(trend)\n",
      "File \u001b[0;32m/mnt/c/Users/grpro/workspace/grad_thesis/InceptionTime/env/lib/python3.9/site-packages/PyEMD/EEMD.py:223\u001b[0m, in \u001b[0;36mEEMD._trial_update\u001b[0;34m(self, trial)\u001b[0m\n\u001b[1;32m    218\u001b[0m \u001b[39m\"\"\"A single trial evaluation, i.e. EMD(signal + noise).\u001b[39;00m\n\u001b[1;32m    219\u001b[0m \n\u001b[1;32m    220\u001b[0m \u001b[39m*Note*: Although `trial` argument isn't used it's needed for the (multiprocessing) map method.\u001b[39;00m\n\u001b[1;32m    221\u001b[0m \u001b[39m\"\"\"\u001b[39;00m\n\u001b[1;32m    222\u001b[0m noise \u001b[39m=\u001b[39m \u001b[39mself\u001b[39m\u001b[39m.\u001b[39mgenerate_noise(\u001b[39mself\u001b[39m\u001b[39m.\u001b[39m_scale, \u001b[39mself\u001b[39m\u001b[39m.\u001b[39m_N)\n\u001b[0;32m--> 223\u001b[0m imfs \u001b[39m=\u001b[39m \u001b[39mself\u001b[39;49m\u001b[39m.\u001b[39;49memd(\u001b[39mself\u001b[39;49m\u001b[39m.\u001b[39;49m_S \u001b[39m+\u001b[39;49m noise, \u001b[39mself\u001b[39;49m\u001b[39m.\u001b[39;49m_T, \u001b[39mself\u001b[39;49m\u001b[39m.\u001b[39;49mmax_imf)\n\u001b[1;32m    224\u001b[0m trend \u001b[39m=\u001b[39m \u001b[39mNone\u001b[39;00m\n\u001b[1;32m    225\u001b[0m \u001b[39mif\u001b[39;00m \u001b[39mself\u001b[39m\u001b[39m.\u001b[39mseparate_trends:\n",
      "File \u001b[0;32m/mnt/c/Users/grpro/workspace/grad_thesis/InceptionTime/env/lib/python3.9/site-packages/PyEMD/EEMD.py:236\u001b[0m, in \u001b[0;36mEEMD.emd\u001b[0;34m(self, S, T, max_imf)\u001b[0m\n\u001b[1;32m    230\u001b[0m \u001b[39mdef\u001b[39;00m \u001b[39memd\u001b[39m(\u001b[39mself\u001b[39m, S: np\u001b[39m.\u001b[39mndarray, T: np\u001b[39m.\u001b[39mndarray, max_imf: \u001b[39mint\u001b[39m \u001b[39m=\u001b[39m \u001b[39m-\u001b[39m\u001b[39m1\u001b[39m) \u001b[39m-\u001b[39m\u001b[39m>\u001b[39m np\u001b[39m.\u001b[39mndarray:\n\u001b[1;32m    231\u001b[0m     \u001b[39m\"\"\"Vanilla EMD method.\u001b[39;00m\n\u001b[1;32m    232\u001b[0m \n\u001b[1;32m    233\u001b[0m \u001b[39m    Provides emd evaluation from provided EMD class.\u001b[39;00m\n\u001b[1;32m    234\u001b[0m \u001b[39m    For reference please see :class:`PyEMD.EMD`.\u001b[39;00m\n\u001b[1;32m    235\u001b[0m \u001b[39m    \"\"\"\u001b[39;00m\n\u001b[0;32m--> 236\u001b[0m     \u001b[39mreturn\u001b[39;00m \u001b[39mself\u001b[39;49m\u001b[39m.\u001b[39;49mEMD\u001b[39m.\u001b[39;49memd(S, T, max_imf)\n",
      "File \u001b[0;32m/mnt/c/Users/grpro/workspace/grad_thesis/InceptionTime/env/lib/python3.9/site-packages/PyEMD/EMD.py:854\u001b[0m, in \u001b[0;36mEMD.emd\u001b[0;34m(self, S, T, max_imf)\u001b[0m\n\u001b[1;32m    851\u001b[0m \u001b[39mif\u001b[39;00m extNo \u001b[39m>\u001b[39m \u001b[39m2\u001b[39m:\n\u001b[1;32m    853\u001b[0m     max_env, min_env, eMax, eMin \u001b[39m=\u001b[39m \u001b[39mself\u001b[39m\u001b[39m.\u001b[39mextract_max_min_spline(T, imf)\n\u001b[0;32m--> 854\u001b[0m     mean[:] \u001b[39m=\u001b[39m \u001b[39m0.5\u001b[39m \u001b[39m*\u001b[39m (max_env \u001b[39m+\u001b[39;49m min_env)\n\u001b[1;32m    856\u001b[0m     imf_old \u001b[39m=\u001b[39m imf\u001b[39m.\u001b[39mcopy()\n\u001b[1;32m    857\u001b[0m     imf[:] \u001b[39m=\u001b[39m imf \u001b[39m-\u001b[39m mean\n",
      "\u001b[0;31mValueError\u001b[0m: operands could not be broadcast together with shapes (898999,) (898997,) "
     ]
    }
   ],
   "source": [
    "t = np.linspace(1, 900, 900000-1001)\n",
    "s = data_np_fil_ID1[1000:]\n",
    "eemd = EEMD()\n",
    "emd = eemd.EMD\n",
    "emd.extrema_detection = \"parabol\"\n",
    "eIMFs = eemd.eemd(s, t)\n",
    "nIMFs = eIMFs.shape[0]\n",
    "\n",
    "plt.figure(figsize=(6.4, 10))\n",
    "plt.subplot(nIMFs + 1, 1, 1)\n",
    "plt.plot(t, s, 'r')\n",
    "\n",
    "for n in range(nIMFs):\n",
    "    plt.subplot(nIMFs+1, 1, n+2)\n",
    "    plt.plot(t, eIMFs[n], 'g')\n",
    "    plt.ylabel(\"eIMFs %i\" %(n+1))\n",
    "    plt.locator_params(axis='y', nbins=5)\n",
    "plt.xlabel(\"Time [s]\")\n",
    "# plt.savefig('eemd_example', dpi=120)\n",
    "plt.show()"
   ]
  },
  {
   "cell_type": "code",
   "execution_count": 9,
   "metadata": {},
   "outputs": [
    {
     "ename": "ValueError",
     "evalue": "Time series have different sizes: len(S) -> 899999 != 9000 <- len(T)",
     "output_type": "error",
     "traceback": [
      "\u001b[0;31m---------------------------------------------------------------------------\u001b[0m",
      "\u001b[0;31mValueError\u001b[0m                                Traceback (most recent call last)",
      "Cell \u001b[0;32mIn [9], line 6\u001b[0m\n\u001b[1;32m      4\u001b[0m emd \u001b[39m=\u001b[39m eemd\u001b[39m.\u001b[39mEMD\n\u001b[1;32m      5\u001b[0m emd\u001b[39m.\u001b[39mextrema_detection \u001b[39m=\u001b[39m \u001b[39m\"\u001b[39m\u001b[39mparabol\u001b[39m\u001b[39m\"\u001b[39m\n\u001b[0;32m----> 6\u001b[0m eIMFs \u001b[39m=\u001b[39m eemd\u001b[39m.\u001b[39;49meemd(s, t)\n\u001b[1;32m      7\u001b[0m nIMFs \u001b[39m=\u001b[39m eIMFs\u001b[39m.\u001b[39mshape[\u001b[39m0\u001b[39m]\n\u001b[1;32m      9\u001b[0m plt\u001b[39m.\u001b[39mfigure(figsize\u001b[39m=\u001b[39m(\u001b[39m6.4\u001b[39m, \u001b[39m10\u001b[39m))\n",
      "File \u001b[0;32m/mnt/c/Users/grpro/workspace/grad_thesis/InceptionTime/env/lib/python3.9/site-packages/PyEMD/EEMD.py:190\u001b[0m, in \u001b[0;36mEEMD.eemd\u001b[0;34m(self, S, T, max_imf)\u001b[0m\n\u001b[1;32m    187\u001b[0m     all_IMFs \u001b[39m=\u001b[39m \u001b[39mmap\u001b[39m(\u001b[39mself\u001b[39m\u001b[39m.\u001b[39m_trial_update, \u001b[39mrange\u001b[39m(\u001b[39mself\u001b[39m\u001b[39m.\u001b[39mtrials))\n\u001b[1;32m    189\u001b[0m \u001b[39mself\u001b[39m\u001b[39m.\u001b[39m_all_imfs \u001b[39m=\u001b[39m defaultdict(\u001b[39mlist\u001b[39m)\n\u001b[0;32m--> 190\u001b[0m \u001b[39mfor\u001b[39;00m (imfs, trend) \u001b[39min\u001b[39;00m all_IMFs:\n\u001b[1;32m    191\u001b[0m \n\u001b[1;32m    192\u001b[0m     \u001b[39m# A bit of explanation here.\u001b[39;00m\n\u001b[1;32m    193\u001b[0m     \u001b[39m# If the `trend` is not None, that means it was intentionally separated in the decomp process.\u001b[39;00m\n\u001b[1;32m    194\u001b[0m     \u001b[39m# This might due to `separate_trends` flag which means that trends are summed up separately\u001b[39;00m\n\u001b[1;32m    195\u001b[0m     \u001b[39m# and treated as the last component. Since `proto_eimfs` is a dict, that `-1` is treated literally\u001b[39;00m\n\u001b[1;32m    196\u001b[0m     \u001b[39m# and **not** as the *last position*. We can then use that `-1` to always add it as the last pos\u001b[39;00m\n\u001b[1;32m    197\u001b[0m     \u001b[39m# in the actual eIMF, which indicates the trend.\u001b[39;00m\n\u001b[1;32m    198\u001b[0m     \u001b[39mif\u001b[39;00m trend \u001b[39mis\u001b[39;00m \u001b[39mnot\u001b[39;00m \u001b[39mNone\u001b[39;00m:\n\u001b[1;32m    199\u001b[0m         \u001b[39mself\u001b[39m\u001b[39m.\u001b[39m_all_imfs[\u001b[39m-\u001b[39m\u001b[39m1\u001b[39m]\u001b[39m.\u001b[39mappend(trend)\n",
      "File \u001b[0;32m/mnt/c/Users/grpro/workspace/grad_thesis/InceptionTime/env/lib/python3.9/site-packages/PyEMD/EEMD.py:223\u001b[0m, in \u001b[0;36mEEMD._trial_update\u001b[0;34m(self, trial)\u001b[0m\n\u001b[1;32m    218\u001b[0m \u001b[39m\"\"\"A single trial evaluation, i.e. EMD(signal + noise).\u001b[39;00m\n\u001b[1;32m    219\u001b[0m \n\u001b[1;32m    220\u001b[0m \u001b[39m*Note*: Although `trial` argument isn't used it's needed for the (multiprocessing) map method.\u001b[39;00m\n\u001b[1;32m    221\u001b[0m \u001b[39m\"\"\"\u001b[39;00m\n\u001b[1;32m    222\u001b[0m noise \u001b[39m=\u001b[39m \u001b[39mself\u001b[39m\u001b[39m.\u001b[39mgenerate_noise(\u001b[39mself\u001b[39m\u001b[39m.\u001b[39m_scale, \u001b[39mself\u001b[39m\u001b[39m.\u001b[39m_N)\n\u001b[0;32m--> 223\u001b[0m imfs \u001b[39m=\u001b[39m \u001b[39mself\u001b[39;49m\u001b[39m.\u001b[39;49memd(\u001b[39mself\u001b[39;49m\u001b[39m.\u001b[39;49m_S \u001b[39m+\u001b[39;49m noise, \u001b[39mself\u001b[39;49m\u001b[39m.\u001b[39;49m_T, \u001b[39mself\u001b[39;49m\u001b[39m.\u001b[39;49mmax_imf)\n\u001b[1;32m    224\u001b[0m trend \u001b[39m=\u001b[39m \u001b[39mNone\u001b[39;00m\n\u001b[1;32m    225\u001b[0m \u001b[39mif\u001b[39;00m \u001b[39mself\u001b[39m\u001b[39m.\u001b[39mseparate_trends:\n",
      "File \u001b[0;32m/mnt/c/Users/grpro/workspace/grad_thesis/InceptionTime/env/lib/python3.9/site-packages/PyEMD/EEMD.py:236\u001b[0m, in \u001b[0;36mEEMD.emd\u001b[0;34m(self, S, T, max_imf)\u001b[0m\n\u001b[1;32m    230\u001b[0m \u001b[39mdef\u001b[39;00m \u001b[39memd\u001b[39m(\u001b[39mself\u001b[39m, S: np\u001b[39m.\u001b[39mndarray, T: np\u001b[39m.\u001b[39mndarray, max_imf: \u001b[39mint\u001b[39m \u001b[39m=\u001b[39m \u001b[39m-\u001b[39m\u001b[39m1\u001b[39m) \u001b[39m-\u001b[39m\u001b[39m>\u001b[39m np\u001b[39m.\u001b[39mndarray:\n\u001b[1;32m    231\u001b[0m     \u001b[39m\"\"\"Vanilla EMD method.\u001b[39;00m\n\u001b[1;32m    232\u001b[0m \n\u001b[1;32m    233\u001b[0m \u001b[39m    Provides emd evaluation from provided EMD class.\u001b[39;00m\n\u001b[1;32m    234\u001b[0m \u001b[39m    For reference please see :class:`PyEMD.EMD`.\u001b[39;00m\n\u001b[1;32m    235\u001b[0m \u001b[39m    \"\"\"\u001b[39;00m\n\u001b[0;32m--> 236\u001b[0m     \u001b[39mreturn\u001b[39;00m \u001b[39mself\u001b[39;49m\u001b[39m.\u001b[39;49mEMD\u001b[39m.\u001b[39;49memd(S, T, max_imf)\n",
      "File \u001b[0;32m/mnt/c/Users/grpro/workspace/grad_thesis/InceptionTime/env/lib/python3.9/site-packages/PyEMD/EMD.py:803\u001b[0m, in \u001b[0;36mEMD.emd\u001b[0;34m(self, S, T, max_imf)\u001b[0m\n\u001b[1;32m    781\u001b[0m \u001b[39m\"\"\"\u001b[39;00m\n\u001b[1;32m    782\u001b[0m \u001b[39mPerforms Empirical Mode Decomposition on signal S.\u001b[39;00m\n\u001b[1;32m    783\u001b[0m \u001b[39mThe decomposition is limited to *max_imf* imfs.\u001b[39;00m\n\u001b[0;32m   (...)\u001b[0m\n\u001b[1;32m    800\u001b[0m \u001b[39m    Set of IMFs produced from input signal.\u001b[39;00m\n\u001b[1;32m    801\u001b[0m \u001b[39m\"\"\"\u001b[39;00m\n\u001b[1;32m    802\u001b[0m \u001b[39mif\u001b[39;00m T \u001b[39mis\u001b[39;00m \u001b[39mnot\u001b[39;00m \u001b[39mNone\u001b[39;00m \u001b[39mand\u001b[39;00m \u001b[39mlen\u001b[39m(S) \u001b[39m!=\u001b[39m \u001b[39mlen\u001b[39m(T):\n\u001b[0;32m--> 803\u001b[0m     \u001b[39mraise\u001b[39;00m \u001b[39mValueError\u001b[39;00m(\u001b[39m\"\u001b[39m\u001b[39mTime series have different sizes: len(S) -> \u001b[39m\u001b[39m{}\u001b[39;00m\u001b[39m != \u001b[39m\u001b[39m{}\u001b[39;00m\u001b[39m <- len(T)\u001b[39m\u001b[39m\"\u001b[39m\u001b[39m.\u001b[39mformat(\u001b[39mlen\u001b[39m(S), \u001b[39mlen\u001b[39m(T)))\n\u001b[1;32m    805\u001b[0m \u001b[39mif\u001b[39;00m T \u001b[39mis\u001b[39;00m \u001b[39mNone\u001b[39;00m \u001b[39mor\u001b[39;00m \u001b[39mself\u001b[39m\u001b[39m.\u001b[39mextrema_detection \u001b[39m==\u001b[39m \u001b[39m\"\u001b[39m\u001b[39msimple\u001b[39m\u001b[39m\"\u001b[39m:\n\u001b[1;32m    806\u001b[0m     T \u001b[39m=\u001b[39m get_timeline(\u001b[39mlen\u001b[39m(S), S\u001b[39m.\u001b[39mdtype)\n",
      "\u001b[0;31mValueError\u001b[0m: Time series have different sizes: len(S) -> 899999 != 9000 <- len(T)"
     ]
    }
   ],
   "source": [
    "t = np.linspace(1, 10, 9000)\n",
    "s = data_np_fil_ID1\n",
    "eemd = EEMD()\n",
    "emd = eemd.EMD\n",
    "emd.extrema_detection = \"parabol\"\n",
    "eIMFs = eemd.eemd(s, t)\n",
    "nIMFs = eIMFs.shape[0]\n",
    "\n",
    "plt.figure(figsize=(6.4, 10))\n",
    "plt.subplot(nIMFs + 1, 1, 1)\n",
    "plt.plot(t, s, 'r')\n",
    "\n",
    "for n in range(nIMFs):\n",
    "    plt.subplot(nIMFs+1, 1, n+2)\n",
    "    plt.plot(t, eIMFs[n], 'g')\n",
    "    plt.ylabel(\"eIMFs %i\" %(n+1))\n",
    "    plt.locator_params(axis='y', nbins=5)\n",
    "plt.xlabel(\"Time [s]\")\n",
    "plt.savefig('eemd_all', dpi=120)\n",
    "plt.show()"
   ]
  }
 ],
 "metadata": {
  "kernelspec": {
   "display_name": "env",
   "language": "python",
   "name": "python3"
  },
  "language_info": {
   "codemirror_mode": {
    "name": "ipython",
    "version": 3
   },
   "file_extension": ".py",
   "mimetype": "text/x-python",
   "name": "python",
   "nbconvert_exporter": "python",
   "pygments_lexer": "ipython3",
   "version": "3.9.5"
  },
  "orig_nbformat": 4,
  "vscode": {
   "interpreter": {
    "hash": "d3f59b86193daf02ac44c2d7d891a49d755eb44400e9ea36eaea4c9328767f1c"
   }
  }
 },
 "nbformat": 4,
 "nbformat_minor": 2
}
