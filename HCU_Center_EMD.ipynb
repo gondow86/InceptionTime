{
 "cells": [
  {
   "cell_type": "code",
   "execution_count": 2,
   "metadata": {},
   "outputs": [
    {
     "name": "stdout",
     "output_type": "stream",
     "text": [
      "cuda\n"
     ]
    }
   ],
   "source": [
    "from tsai.imports import *\n",
    "from tsai.models.layers import *\n",
    "from torchinfo import summary\n",
    "import torch\n",
    "import torch.nn as nn\n",
    "from torch.utils.data import Dataset\n",
    "from torch.utils.data import DataLoader\n",
    "import torchvision\n",
    "import torchvision.transforms as transforms\n",
    "import numpy as np\n",
    "import pandas as pd\n",
    "from sklearn.preprocessing import StandardScaler\n",
    "from sklearn.preprocessing import MinMaxScaler\n",
    "from sklearn.manifold import TSNE\n",
    "from scipy import signal\n",
    "from PyEMD import EMD\n",
    "from PyEMD import EEMD\n",
    "\n",
    "device = torch.device('cuda' if torch.cuda.is_available() else 'cpu')\n",
    "print(device)"
   ]
  },
  {
   "cell_type": "code",
   "execution_count": 1,
   "metadata": {},
   "outputs": [],
   "source": [
    "num_class = 12\n",
    "close_num = 12\n",
    "batch_size = 64\n",
    "learning_rate = 0.001\n",
    "num_epochs = 300\n",
    "sequence_len = 1000 * 5 # sampling_rate * second\n",
    "overlap = int(sequence_len * 0.3)\n",
    "alpha = 0.1"
   ]
  },
  {
   "cell_type": "code",
   "execution_count": 3,
   "metadata": {},
   "outputs": [],
   "source": [
    "data_list = []\n",
    "scaler = MinMaxScaler((0, 1))\n",
    "\n",
    "for i in range(1, num_class + 1):\n",
    "    file_path_fil = \"./data/BPF/filterd%02d.csv\" % i\n",
    "    file_path_unfil = \"./data/BPF/unfilterd%02d.csv\" % i\n",
    "    data_fil = pd.read_csv(file_path_unfil)\n",
    "    data_np_fil = data_fil.to_numpy().flatten()\n",
    "    data_np_fil = data_np_fil[:899999] # データ数を揃える\n",
    "    if i == 1:\n",
    "        data_np_fil_ID1 = data_np_fil[:899999]\n",
    "    # df_fil = pd.DataFrame(data_fil)\n",
    "    # data_unfil = pd.read_csv(file_path_unfil)\n",
    "    # df_unfil = pd.DataFrame(data_unfil)\n",
    "\n",
    "    end = len(data_np_fil)\n",
    "    n = 0\n",
    "    n_stop = sequence_len\n",
    "    data_segs = []\n",
    "    while n_stop < end:\n",
    "        n_start = 0 + ((sequence_len - 1) - (overlap - 1)) * n\n",
    "        n_stop = n_start + sequence_len\n",
    "        tmp = []\n",
    "        seg = data_np_fil[n_start:n_stop].copy()\n",
    "        data_segs.append([seg])\n",
    "        n += 1\n",
    "\n",
    "    data_list.append(data_segs)"
   ]
  },
  {
   "cell_type": "code",
   "execution_count": null,
   "metadata": {},
   "outputs": [],
   "source": [
    "t = np.linspace(1, 10, 9000)\n",
    "s = data_np_fil"
   ]
  },
  {
   "cell_type": "code",
   "execution_count": null,
   "metadata": {},
   "outputs": [],
   "source": [
    "t = np.linspace(1, 900, 900000-1001)\n",
    "s = data_np_fil_ID1[1000:]\n",
    "eemd = EEMD()\n",
    "emd = eemd.EMD\n",
    "emd.extrema_detection = \"parabol\"\n",
    "eIMFs = eemd.eemd(s, t)\n",
    "nIMFs = eIMFs.shape[0]\n",
    "\n",
    "plt.figure(figsize=(6.4, 10))\n",
    "plt.subplot(nIMFs + 1, 1, 1)\n",
    "plt.plot(t, s, 'r')\n",
    "\n",
    "for n in range(nIMFs):\n",
    "    plt.subplot(nIMFs+1, 1, n+2)\n",
    "    plt.plot(t, eIMFs[n], 'g')\n",
    "    plt.ylabel(\"eIMFs %i\" %(n+1))\n",
    "    plt.locator_params(axis='y', nbins=5)\n",
    "plt.xlabel(\"Time [s]\")\n",
    "# plt.savefig('eemd_example', dpi=120)\n",
    "plt.show()"
   ]
  },
  {
   "cell_type": "code",
   "execution_count": null,
   "metadata": {},
   "outputs": [],
   "source": [
    "t = np.linspace(1, 10, 9000)\n",
    "s = data_np_fil_ID1\n",
    "eemd = EEMD()\n",
    "emd = eemd.EMD\n",
    "emd.extrema_detection = \"parabol\"\n",
    "eIMFs = eemd.eemd(s, t)\n",
    "nIMFs = eIMFs.shape[0]\n",
    "\n",
    "plt.figure(figsize=(6.4, 10))\n",
    "plt.subplot(nIMFs + 1, 1, 1)\n",
    "plt.plot(t, s, 'r')\n",
    "\n",
    "for n in range(nIMFs):\n",
    "    plt.subplot(nIMFs+1, 1, n+2)\n",
    "    plt.plot(t, eIMFs[n], 'g')\n",
    "    plt.ylabel(\"eIMFs %i\" %(n+1))\n",
    "    plt.locator_params(axis='y', nbins=5)\n",
    "plt.xlabel(\"Time [s]\")\n",
    "plt.savefig('eemd_all', dpi=120)\n",
    "plt.show()"
   ]
  }
 ],
 "metadata": {
  "kernelspec": {
   "display_name": "env",
   "language": "python",
   "name": "python3"
  },
  "language_info": {
   "codemirror_mode": {
    "name": "ipython",
    "version": 3
   },
   "file_extension": ".py",
   "mimetype": "text/x-python",
   "name": "python",
   "nbconvert_exporter": "python",
   "pygments_lexer": "ipython3",
   "version": "3.9.5"
  },
  "orig_nbformat": 4,
  "vscode": {
   "interpreter": {
    "hash": "d3f59b86193daf02ac44c2d7d891a49d755eb44400e9ea36eaea4c9328767f1c"
   }
  }
 },
 "nbformat": 4,
 "nbformat_minor": 2
}
