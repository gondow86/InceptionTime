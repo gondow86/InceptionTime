{
 "cells": [
  {
   "cell_type": "code",
   "execution_count": 3,
   "metadata": {},
   "outputs": [],
   "source": [
    "#|default_exp models.InceptionTime"
   ]
  },
  {
   "cell_type": "markdown",
   "metadata": {},
   "source": [
    "# InceptionTime"
   ]
  },
  {
   "cell_type": "markdown",
   "metadata": {},
   "source": [
    ">An ensemble of deep Convolutional Neural Network (CNN) models, inspired by the Inception-v4 architecture\n",
    "\n",
    "This is an unofficial PyTorch implementation created by Ignacio Oguiza (timeseriesAI@gmail.com) based on:\n",
    "\n",
    "Fawaz, H. I., Lucas, B., Forestier, G., Pelletier, C., Schmidt, D. F., Weber, J. & Petitjean, F. (2019). \n",
    "<span style=\"color:dodgerblue\">**InceptionTime: Finding AlexNet for Time Series Classification**</span>. arXiv preprint arXiv:1909.04939. \n",
    "\n",
    "Official InceptionTime tensorflow implementation: https://github.com/hfawaz/InceptionTime"
   ]
  },
  {
   "cell_type": "code",
   "execution_count": 4,
   "metadata": {},
   "outputs": [
    {
     "name": "stderr",
     "output_type": "stream",
     "text": [
      "/mnt/c/Users/grpro/workspace/grad_thesis/InceptionTime/env/lib/python3.9/site-packages/tqdm/auto.py:22: TqdmWarning: IProgress not found. Please update jupyter and ipywidgets. See https://ipywidgets.readthedocs.io/en/stable/user_install.html\n",
      "  from .autonotebook import tqdm as notebook_tqdm\n"
     ]
    }
   ],
   "source": [
    "#|export\n",
    "from tsai.imports import *\n",
    "from tsai.models.layers import *\n",
    "from torchinfo import summary\n",
    "\n"
   ]
  },
  {
   "cell_type": "code",
   "execution_count": 5,
   "metadata": {},
   "outputs": [],
   "source": [
    "import torch\n",
    "import torch.nn as nn\n",
    "from torch.utils.data import Dataset\n",
    "from torch.utils.data import DataLoader\n",
    "import torchvision\n",
    "import torchvision.transforms as transforms\n",
    "import numpy as np\n",
    "import pandas as pd\n",
    "from sklearn.preprocessing import StandardScaler\n",
    "from sklearn.preprocessing import MinMaxScaler\n",
    "from scipy import signal"
   ]
  },
  {
   "cell_type": "code",
   "execution_count": 6,
   "metadata": {},
   "outputs": [
    {
     "name": "stdout",
     "output_type": "stream",
     "text": [
      "cuda\n"
     ]
    }
   ],
   "source": [
    "device = torch.device('cuda' if torch.cuda.is_available() else 'cpu')\n",
    "print(device)"
   ]
  },
  {
   "cell_type": "code",
   "execution_count": 7,
   "metadata": {},
   "outputs": [
    {
     "data": {
      "text/plain": [
       "'11.6'"
      ]
     },
     "execution_count": 7,
     "metadata": {},
     "output_type": "execute_result"
    }
   ],
   "source": [
    "torch.version.cuda"
   ]
  },
  {
   "cell_type": "code",
   "execution_count": 8,
   "metadata": {},
   "outputs": [
    {
     "data": {
      "text/plain": [
       "['sm_37', 'sm_50', 'sm_60', 'sm_70', 'sm_75', 'sm_80', 'sm_86']"
      ]
     },
     "execution_count": 8,
     "metadata": {},
     "output_type": "execute_result"
    }
   ],
   "source": [
    "torch.cuda.get_arch_list()"
   ]
  },
  {
   "cell_type": "code",
   "execution_count": 9,
   "metadata": {},
   "outputs": [],
   "source": [
    "# hyper parameter\n",
    "num_classes = 30\n",
    "batch_size = 64\n",
    "learning_rate = 0.001\n",
    "num_epochs = 10\n",
    "down_ratio = 8\n",
    "sequence_len = 2000 * 5 // down_ratio # default 2000Hz\n",
    "overlap = int(sequence_len * 0.3)"
   ]
  },
  {
   "cell_type": "markdown",
   "metadata": {},
   "source": [
    "data preparation"
   ]
  },
  {
   "cell_type": "code",
   "execution_count": 10,
   "metadata": {},
   "outputs": [],
   "source": [
    "radar_frame_list = []\n",
    "scaler = MinMaxScaler((-1, 1)) # or StandardScaler\n",
    "\n",
    "for i in range(1, num_classes + 1):\n",
    "    # wave_2d = [] # input need to be 2d?\n",
    "    file_path = \"./data/radar_%02d.csv\" % i # or ./data/radar_%02d\n",
    "    radar_frame = pd.read_csv(file_path)\n",
    "    wave = radar_frame.to_numpy().flatten()\n",
    "    wave = signal.decimate(wave, down_ratio) # down sampling\n",
    "    \n",
    "    end = len(wave)\n",
    "    n = 0\n",
    "    n_stop = sequence_len\n",
    "    wave_segments = []\n",
    "\n",
    "    while n_stop < end:\n",
    "        n_start = 0 + ((sequence_len - 1) - (overlap - 1)) * n\n",
    "        n_stop = n_start + sequence_len\n",
    "        tmp = []\n",
    "        seg = wave[n_start:n_stop].copy()\n",
    "        wave_segments.append([seg])\n",
    "        n += 1\n",
    "    \n",
    "    radar_frame_list.append(wave_segments)\n",
    "\n",
    "data_df = pd.DataFrame(radar_frame_list)"
   ]
  },
  {
   "cell_type": "markdown",
   "metadata": {},
   "source": [
    "prepare labels"
   ]
  },
  {
   "cell_type": "code",
   "execution_count": 11,
   "metadata": {},
   "outputs": [],
   "source": [
    "labels = []\n",
    "for i in range(len(radar_frame_list)):\n",
    "    for j in range(len(radar_frame_list[i])):\n",
    "        labels.append(i)\n",
    "\n",
    "labels_series = pd.Series(labels)"
   ]
  },
  {
   "cell_type": "markdown",
   "metadata": {},
   "source": [
    "Remove None & len < sequence_len(=1250) against data and labels"
   ]
  },
  {
   "cell_type": "code",
   "execution_count": 12,
   "metadata": {},
   "outputs": [
    {
     "name": "stdout",
     "output_type": "stream",
     "text": [
      "5441 900\n",
      "5262 838\n",
      "5086 725\n",
      "4911 1219\n",
      "4732 507\n",
      "4497 1107\n",
      "4321 1244\n",
      "4147 838\n",
      "3953 438\n",
      "3764 1232\n",
      "3589 788\n",
      "3406 1150\n",
      "3234 619\n",
      "3052 1188\n",
      "2880 388\n",
      "2705 1113\n",
      "2348 1157\n",
      "2141 1113\n",
      "1956 1232\n",
      "1771 532\n",
      "1588 475\n",
      "1402 644\n",
      "1225 1232\n",
      "1044 482\n",
      "869 1150\n",
      "695 1144\n",
      "523 713\n",
      "351 713\n",
      "173 525\n"
     ]
    },
    {
     "data": {
      "text/plain": [
       "((5413,), tensor([ 0,  0,  0,  ..., 29, 29, 29]), torch.Size([5413]))"
      ]
     },
     "execution_count": 12,
     "metadata": {},
     "output_type": "execute_result"
    }
   ],
   "source": [
    "tmp = data_df.to_numpy().flatten().copy()\n",
    "data_series = pd.Series(tmp).dropna() # remove None (keys are as they are)\n",
    "tmp = data_series.to_numpy().flatten()\n",
    "\n",
    "tmp_labels = labels_series.to_numpy().flatten()\n",
    "# len(tmp) = 5442 (30人分のデータ)\n",
    "# len(tmp[0]) = 1 (in_channelが1のため)\n",
    "# len(tmp[0][0]) = 1250 (sequence_len)\n",
    "\n",
    "for i in reversed(range(len(tmp))):\n",
    "  if len(tmp[i][0]) != sequence_len:\n",
    "    print(i, len(tmp[i][0]))\n",
    "    tmp = np.delete(tmp, i)\n",
    "    tmp_labels = np.delete(tmp_labels, i)\n",
    "\n",
    "data_series = pd.Series(tmp)\n",
    "labels_series = pd.Series(tmp_labels)\n",
    "labels_tensor = torch.tensor(labels_series)\n",
    "data_series.shape, labels_tensor, labels_tensor.shape"
   ]
  },
  {
   "cell_type": "code",
   "execution_count": 13,
   "metadata": {},
   "outputs": [],
   "source": [
    "#|export\n",
    "# This is an unofficial PyTorch implementation by Ignacio Oguiza - timeseriesAI@gmail.com based on:\n",
    "\n",
    "# Fawaz, H. I., Lucas, B., Forestier, G., Pelletier, C., Schmidt, D. F., Weber, J., ... & Petitjean, F. (2019). \n",
    "# InceptionTime: Finding AlexNet for Time Series Classification. arXiv preprint arXiv:1909.04939.\n",
    "# Official InceptionTime tensorflow implementation: https://github.com/hfawaz/InceptionTime\n",
    "\n",
    "class InceptionModule(Module):\n",
    "    def __init__(self, ni, nf, ks=40, bottleneck=True):\n",
    "        ks = [ks // (2**i) for i in range(3)]\n",
    "        ks = [k if k % 2 != 0 else k - 1 for k in ks]  # ensure odd ks\n",
    "        bottleneck = bottleneck if ni > 1 else False\n",
    "        self.bottleneck = Conv1d(ni, nf, 1, bias=False) if bottleneck else noop\n",
    "        self.convs = nn.ModuleList([Conv1d(nf if bottleneck else ni, nf, k, bias=False) for k in ks])\n",
    "        self.maxconvpool = nn.Sequential(*[nn.MaxPool1d(3, stride=1, padding=1), Conv1d(ni, nf, 1, bias=False)])\n",
    "        self.concat = Concat()\n",
    "        self.bn = BN1d(nf * 4)\n",
    "        self.act = nn.ReLU()\n",
    "\n",
    "    def forward(self, x):\n",
    "        input_tensor = x\n",
    "        x = self.bottleneck(input_tensor)\n",
    "        x = self.concat([l(x) for l in self.convs] + [self.maxconvpool(input_tensor)])\n",
    "        return self.act(self.bn(x))\n",
    "\n",
    "\n",
    "@delegates(InceptionModule.__init__)\n",
    "class InceptionBlock(Module):\n",
    "    def __init__(self, ni, nf=32, residual=True, depth=6, **kwargs):\n",
    "        self.residual, self.depth = residual, depth\n",
    "        self.inception, self.shortcut = nn.ModuleList(), nn.ModuleList()\n",
    "        for d in range(depth):\n",
    "            self.inception.append(InceptionModule(ni if d == 0 else nf * 4, nf, **kwargs))\n",
    "            if self.residual and d % 3 == 2: \n",
    "                n_in, n_out = ni if d == 2 else nf * 4, nf * 4\n",
    "                self.shortcut.append(BN1d(n_in) if n_in == n_out else ConvBlock(n_in, n_out, 1, act=None))\n",
    "        self.add = Add()\n",
    "        self.act = nn.ReLU()\n",
    "        \n",
    "    def forward(self, x):\n",
    "        res = x\n",
    "        for d, l in enumerate(range(self.depth)):\n",
    "            x = self.inception[d](x)\n",
    "            if self.residual and d % 3 == 2: res = x = self.act(self.add(x, self.shortcut[d//3](res)))\n",
    "        return x\n",
    "\n",
    "    \n",
    "@delegates(InceptionModule.__init__)\n",
    "class InceptionTime(Module):\n",
    "    def __init__(self, c_in, c_out, seq_len=None, nf=32, nb_filters=None, **kwargs):\n",
    "        nf = ifnone(nf, nb_filters) # for compatibility\n",
    "        self.inceptionblock = InceptionBlock(c_in, nf, **kwargs) # c_in is input channel num of conv1d\n",
    "        self.gap = GAP1d(1)\n",
    "        self.fc = nn.Linear(nf * 4, c_out) # c_out is 1d output size \n",
    "\n",
    "    def forward(self, x):\n",
    "        x = self.inceptionblock(x)\n",
    "        x = self.gap(x)\n",
    "        x = self.fc(x)\n",
    "        return x"
   ]
  },
  {
   "cell_type": "code",
   "execution_count": 14,
   "metadata": {},
   "outputs": [],
   "source": [
    "from tsai.models.utils import count_parameters"
   ]
  },
  {
   "cell_type": "code",
   "execution_count": 15,
   "metadata": {},
   "outputs": [],
   "source": [
    "bs = 16\n",
    "vars = 1\n",
    "seq_len = 12\n",
    "c_out = 2\n",
    "xb = torch.rand(bs, vars, seq_len)\n",
    "test_eq(InceptionTime(vars,c_out)(xb).shape, [bs, c_out])\n",
    "test_eq(InceptionTime(vars,c_out, bottleneck=False)(xb).shape, [bs, c_out])\n",
    "test_eq(InceptionTime(vars,c_out, residual=False)(xb).shape, [bs, c_out])\n",
    "test_eq(count_parameters(InceptionTime(3, 2)), 455490)"
   ]
  },
  {
   "cell_type": "code",
   "execution_count": 16,
   "metadata": {},
   "outputs": [
    {
     "data": {
      "text/plain": [
       "======================================================================\n",
       "Layer (type:depth-idx)                        Param #\n",
       "======================================================================\n",
       "InceptionTime                                 --\n",
       "├─InceptionBlock: 1-1                         --\n",
       "│    └─ModuleList: 2-1                        --\n",
       "│    │    └─InceptionModule: 3-1              2,432\n",
       "│    │    └─InceptionModule: 3-2              77,056\n",
       "│    │    └─InceptionModule: 3-3              77,056\n",
       "│    │    └─InceptionModule: 3-4              77,056\n",
       "│    │    └─InceptionModule: 3-5              77,056\n",
       "│    │    └─InceptionModule: 3-6              77,056\n",
       "│    └─ModuleList: 2-2                        --\n",
       "│    │    └─ConvBlock: 3-7                    384\n",
       "│    │    └─BatchNorm1d: 3-8                  256\n",
       "│    └─Add: 2-3                               --\n",
       "│    └─ReLU: 2-4                              --\n",
       "├─GAP1d: 1-2                                  --\n",
       "│    └─AdaptiveAvgPool1d: 2-5                 --\n",
       "│    └─Flatten: 2-6                           --\n",
       "├─Linear: 1-3                                 3,870\n",
       "======================================================================\n",
       "Total params: 392,222\n",
       "Trainable params: 392,222\n",
       "Non-trainable params: 0\n",
       "======================================================================"
      ]
     },
     "execution_count": 16,
     "metadata": {},
     "output_type": "execute_result"
    }
   ],
   "source": [
    "model = InceptionTime(1, 30)\n",
    "summary(model)"
   ]
  },
  {
   "cell_type": "code",
   "execution_count": 17,
   "metadata": {},
   "outputs": [],
   "source": [
    "class MyDataset(Dataset):\n",
    "    def __init__(self, dataset, labels, root_dir, transform=None) -> None:\n",
    "        # super().__init__()\n",
    "        self.radar_heartbeat = dataset\n",
    "        self.labels = labels\n",
    "        self.root_dir = root_dir\n",
    "        self.transform = transform\n",
    "\n",
    "    \n",
    "    def __getitem__(self, idx):\n",
    "        if torch.is_tensor(idx):\n",
    "          idx = idx.tolist()\n",
    "        \n",
    "        onehot_label = torch.eye(num_classes)[self.labels[idx] - 1] # one hot encodingは不要らしい　精度悪い場合試す必要あり\n",
    "        # one_hot = torch.nn.functional.one_hot(self.labels, num_classes=num_classes)\n",
    "        return torch.tensor(self.radar_heartbeat[idx]), self.labels[idx] # labels is already tensor (converted in preparation phase)\n",
    "        # return torch.tensor(self.radar_heartbeat[idx]), onehot_label\n",
    "\n",
    "    def __len__(self):\n",
    "        return len(self.radar_heartbeat)\n",
    "\n",
    "\n",
    "dataset = MyDataset(data_series, labels_tensor, \"./data/\", transform=transforms.ToTensor())"
   ]
  },
  {
   "cell_type": "code",
   "execution_count": 18,
   "metadata": {},
   "outputs": [
    {
     "name": "stderr",
     "output_type": "stream",
     "text": [
      "/tmp/ipykernel_748/3033810394.py:16: UserWarning: Creating a tensor from a list of numpy.ndarrays is extremely slow. Please consider converting the list to a single numpy.ndarray with numpy.array() before converting to a tensor. (Triggered internally at  ../torch/csrc/utils/tensor_new.cpp:201.)\n",
      "  return torch.tensor(self.radar_heartbeat[idx]), self.labels[idx] # labels is already tensor (converted in preparation phase)\n"
     ]
    },
    {
     "data": {
      "text/plain": [
       "(tensor([[-1.0218e-04, -9.2261e-05, -8.1324e-05,  ..., -1.0458e-04,\n",
       "          -1.0550e-04, -1.0560e-04]], dtype=torch.float64),\n",
       " tensor(0))"
      ]
     },
     "execution_count": 18,
     "metadata": {},
     "output_type": "execute_result"
    }
   ],
   "source": [
    "dataset[0]"
   ]
  },
  {
   "cell_type": "code",
   "execution_count": 19,
   "metadata": {},
   "outputs": [
    {
     "data": {
      "text/plain": [
       "1250"
      ]
     },
     "execution_count": 19,
     "metadata": {},
     "output_type": "execute_result"
    }
   ],
   "source": [
    "len(dataset[0][0][0])"
   ]
  },
  {
   "cell_type": "code",
   "execution_count": 20,
   "metadata": {},
   "outputs": [
    {
     "name": "stdout",
     "output_type": "stream",
     "text": [
      "full: 5413 -> train: 4330, test: 1083\n"
     ]
    }
   ],
   "source": [
    "train_size = int(0.8 * len(data_series.values))\n",
    "test_size = len(data_series.values) - train_size\n",
    "train_set, test_set = torch.utils.data.random_split(dataset, [train_size, test_size]) # check whether each data and label set is synchronized \n",
    "print(f\"full: {len(dataset)} -> train: {len(train_set)}, test: {len(test_set)}\")\n",
    "\n",
    "train_loader = DataLoader(dataset=train_set, batch_size=batch_size, shuffle=True)\n",
    "test_loader = DataLoader(dataset=test_set, batch_size=batch_size, shuffle=False)"
   ]
  },
  {
   "cell_type": "code",
   "execution_count": 21,
   "metadata": {},
   "outputs": [],
   "source": [
    "model = InceptionTime(1, num_classes)\n",
    "# model = model.to(device)\n",
    "criterion = nn.CrossEntropyLoss()\n",
    "optimizer = torch.optim.Adam(model.parameters(), lr=learning_rate)"
   ]
  },
  {
   "cell_type": "code",
   "execution_count": 22,
   "metadata": {},
   "outputs": [
    {
     "name": "stderr",
     "output_type": "stream",
     "text": [
      "/tmp/ipykernel_748/3285515412.py:4: UserWarning: To copy construct from a tensor, it is recommended to use sourceTensor.clone().detach() or sourceTensor.clone().detach().requires_grad_(True), rather than torch.tensor(sourceTensor).\n",
      "  signals = torch.tensor(signals)\n"
     ]
    },
    {
     "name": "stdout",
     "output_type": "stream",
     "text": [
      "Epoch [1/`10], Step [12/68], Loss: 3.0278\n",
      "Epoch [1/`10], Step [24/68], Loss: 2.9737\n",
      "Epoch [1/`10], Step [36/68], Loss: 2.6401\n",
      "Epoch [1/`10], Step [48/68], Loss: 2.6509\n",
      "Epoch [1/`10], Step [60/68], Loss: 2.4009\n",
      "Epoch [2/`10], Step [12/68], Loss: 2.1043\n",
      "Epoch [2/`10], Step [24/68], Loss: 2.0686\n",
      "Epoch [2/`10], Step [36/68], Loss: 1.9590\n",
      "Epoch [2/`10], Step [48/68], Loss: 1.7422\n",
      "Epoch [2/`10], Step [60/68], Loss: 1.5151\n",
      "Epoch [3/`10], Step [12/68], Loss: 1.2232\n",
      "Epoch [3/`10], Step [24/68], Loss: 1.0974\n",
      "Epoch [3/`10], Step [36/68], Loss: 1.0964\n",
      "Epoch [3/`10], Step [48/68], Loss: 0.9563\n",
      "Epoch [3/`10], Step [60/68], Loss: 0.8552\n",
      "Epoch [4/`10], Step [12/68], Loss: 0.5818\n",
      "Epoch [4/`10], Step [24/68], Loss: 0.6023\n",
      "Epoch [4/`10], Step [36/68], Loss: 0.4469\n",
      "Epoch [4/`10], Step [48/68], Loss: 0.5921\n",
      "Epoch [4/`10], Step [60/68], Loss: 0.5434\n",
      "Epoch [5/`10], Step [12/68], Loss: 0.2868\n",
      "Epoch [5/`10], Step [24/68], Loss: 0.2336\n",
      "Epoch [5/`10], Step [36/68], Loss: 0.2092\n",
      "Epoch [5/`10], Step [48/68], Loss: 0.2535\n",
      "Epoch [5/`10], Step [60/68], Loss: 0.3048\n",
      "Epoch [6/`10], Step [12/68], Loss: 0.2346\n",
      "Epoch [6/`10], Step [24/68], Loss: 0.2308\n",
      "Epoch [6/`10], Step [36/68], Loss: 0.1431\n",
      "Epoch [6/`10], Step [48/68], Loss: 0.2978\n",
      "Epoch [6/`10], Step [60/68], Loss: 0.1427\n",
      "Epoch [7/`10], Step [12/68], Loss: 0.1364\n",
      "Epoch [7/`10], Step [24/68], Loss: 0.1651\n",
      "Epoch [7/`10], Step [36/68], Loss: 0.1710\n",
      "Epoch [7/`10], Step [48/68], Loss: 0.2017\n",
      "Epoch [7/`10], Step [60/68], Loss: 0.1088\n",
      "Epoch [8/`10], Step [12/68], Loss: 0.1455\n",
      "Epoch [8/`10], Step [24/68], Loss: 0.0603\n",
      "Epoch [8/`10], Step [36/68], Loss: 0.0983\n",
      "Epoch [8/`10], Step [48/68], Loss: 0.0699\n",
      "Epoch [8/`10], Step [60/68], Loss: 0.1244\n",
      "Epoch [9/`10], Step [12/68], Loss: 0.0641\n",
      "Epoch [9/`10], Step [24/68], Loss: 0.1297\n",
      "Epoch [9/`10], Step [36/68], Loss: 0.1568\n",
      "Epoch [9/`10], Step [48/68], Loss: 0.1097\n",
      "Epoch [9/`10], Step [60/68], Loss: 0.0723\n",
      "Epoch [10/`10], Step [12/68], Loss: 0.0966\n",
      "Epoch [10/`10], Step [24/68], Loss: 0.0515\n",
      "Epoch [10/`10], Step [36/68], Loss: 0.0891\n",
      "Epoch [10/`10], Step [48/68], Loss: 0.0836\n",
      "Epoch [10/`10], Step [60/68], Loss: 0.0600\n"
     ]
    }
   ],
   "source": [
    "n_total_steps = len(train_loader)\n",
    "for epoch in range(num_epochs):\n",
    "  for i, (signals, labels) in enumerate(train_loader):\n",
    "    signals = torch.tensor(signals)\n",
    "    signals = signals.float()\n",
    "    # signals = signals.to(device)\n",
    "    # labels = labels.to(device)\n",
    "\n",
    "    # print(signals.size())\n",
    "    outputs = model(signals)\n",
    "    # print(outputs)\n",
    "    loss = criterion(outputs, labels) # will check the shapes of outputs and labels\n",
    "\n",
    "    optimizer.zero_grad()\n",
    "    loss.backward()\n",
    "    optimizer.step()\n",
    "    if (i + 1) % 12 == 0:\n",
    "      print(f'Epoch [{epoch+1}/`{num_epochs}], Step [{i+1}/{n_total_steps}], Loss: {loss.item():.4f}')"
   ]
  },
  {
   "cell_type": "code",
   "execution_count": 23,
   "metadata": {},
   "outputs": [
    {
     "name": "stderr",
     "output_type": "stream",
     "text": [
      "/tmp/ipykernel_748/916041703.py:10: UserWarning: To copy construct from a tensor, it is recommended to use sourceTensor.clone().detach() or sourceTensor.clone().detach().requires_grad_(True), rather than torch.tensor(sourceTensor).\n",
      "  signals = torch.tensor(signals)\n",
      "/mnt/c/Users/grpro/workspace/grad_thesis/InceptionTime/env/lib/python3.9/site-packages/torch/overrides.py:1498: UserWarning: Implicit dimension choice for softmax has been deprecated. Change the call to include dim=X as an argument.\n",
      "  result = torch_func_method(public_api, types, args, kwargs)\n"
     ]
    },
    {
     "name": "stdout",
     "output_type": "stream",
     "text": [
      "64 / 64 = Acc: 100.0 %\n",
      "128 / 128 = Acc: 100.0 %\n",
      "191 / 192 = Acc: 99.47916666666667 %\n",
      "255 / 256 = Acc: 99.609375 %\n",
      "319 / 320 = Acc: 99.6875 %\n",
      "382 / 384 = Acc: 99.47916666666667 %\n",
      "445 / 448 = Acc: 99.33035714285714 %\n",
      "508 / 512 = Acc: 99.21875 %\n",
      "572 / 576 = Acc: 99.30555555555556 %\n",
      "636 / 640 = Acc: 99.375 %\n",
      "699 / 704 = Acc: 99.28977272727273 %\n",
      "763 / 768 = Acc: 99.34895833333333 %\n",
      "827 / 832 = Acc: 99.39903846153847 %\n",
      "890 / 896 = Acc: 99.33035714285714 %\n",
      "954 / 960 = Acc: 99.375 %\n",
      "1017 / 1024 = Acc: 99.31640625 %\n",
      "1076 / 1083 = Acc: 99.35364727608496 %\n"
     ]
    }
   ],
   "source": [
    "# For Confusion Matrix\n",
    "predicted_lists = np.zeros(0, dtype=np.int64)\n",
    "one_hot_labels_list = np.zeros(0, dtype=np.int64)\n",
    "\n",
    "with torch.no_grad():\n",
    "  n_correct = 0\n",
    "  n_samples = 0\n",
    "  softmax = nn.Softmax()\n",
    "  for i, (signals, one_hot_labels) in enumerate(test_loader):\n",
    "    signals = torch.tensor(signals)\n",
    "    signals = signals.float()\n",
    "    # signals = signals.to(device)\n",
    "    # one_hot_labels = one_hot_labels.to(device)\n",
    "    # print(len(one_hot_labels))\n",
    "    outputs = model(signals)\n",
    "    for j, out in enumerate(outputs):\n",
    "      outputs[j] = softmax(out)\n",
    "\n",
    "    _, predicted = torch.max(outputs.data, 1) # predicted per batch size\n",
    "\n",
    "    n_samples += one_hot_labels.size(0) # add batch_size\n",
    "    n_correct += (predicted == one_hot_labels).sum().item()\n",
    "    \n",
    "    predicted_cp = predicted.to('cpu').detach().numpy().copy()\n",
    "    one_hot_labels_cp = one_hot_labels.to('cpu').detach().numpy().copy()\n",
    "    predicted_lists = np.concatenate([predicted_lists, predicted_cp])\n",
    "    one_hot_labels_list = np.concatenate([one_hot_labels_list, one_hot_labels_cp])\n",
    "    \n",
    "    acc = 100.0 * n_correct / n_samples\n",
    "    print(f'{n_correct} / {n_samples} = Acc: {acc} %')"
   ]
  },
  {
   "cell_type": "code",
   "execution_count": 24,
   "metadata": {},
   "outputs": [
    {
     "data": {
      "image/png": "[encoded data removed]",
      "text/plain": [
       "<Figure size 640x480 with 2 Axes>"
      ]
     },
     "metadata": {},
     "output_type": "display_data"
    }
   ],
   "source": [
    "from sklearn.metrics import confusion_matrix\n",
    "import seaborn as sns\n",
    "import matplotlib.pyplot as plt\n",
    "\n",
    "cm = confusion_matrix(one_hot_labels_list, predicted_lists)\n",
    "sns.heatmap(cm, square=True, cbar=True, annot=True, cmap='Blues')\n",
    "plt.xlabel(\"Predicted Label\", fontsize=13)\n",
    "plt.ylabel(\"Ground Truth\", fontsize=13)\n",
    "plt.savefig('sklearn_confusion_matrix.png')"
   ]
  },
  {
   "cell_type": "code",
   "execution_count": 25,
   "metadata": {},
   "outputs": [
    {
     "data": {
      "text/plain": [
       "(array([29, 14,  8, ..., 18,  5,  2]),\n",
       " array([29, 12,  7,  9, 21, 16,  5, 17,  5, 24, 20,  4,  1, 22,  9, 15, 14,\n",
       "        12,  6,  8, 22,  2,  9,  2, 18, 16,  5,  2, 23, 25,  1,  0, 29,  3,\n",
       "        14, 19, 22, 28,  2,  9,  0, 12, 27, 27, 11, 17, 19,  0,  1,  1, 29,\n",
       "        20, 16, 20, 15, 19, 18,  5,  2]))"
      ]
     },
     "execution_count": 25,
     "metadata": {},
     "output_type": "execute_result"
    }
   ],
   "source": [
    "# np.concatenate(predicted_lists, predicted_cp)\n",
    "predicted_lists, predicted_cp"
   ]
  },
  {
   "cell_type": "code",
   "execution_count": 26,
   "metadata": {},
   "outputs": [
    {
     "data": {
      "text/plain": [
       "[29,\n",
       " 12,\n",
       " 7,\n",
       " 9,\n",
       " 21,\n",
       " 16,\n",
       " 5,\n",
       " 17,\n",
       " 5,\n",
       " 24,\n",
       " 20,\n",
       " 4,\n",
       " 1,\n",
       " 22,\n",
       " 9,\n",
       " 15,\n",
       " 14,\n",
       " 12,\n",
       " 6,\n",
       " 8,\n",
       " 22,\n",
       " 2,\n",
       " 9,\n",
       " 2,\n",
       " 18,\n",
       " 16,\n",
       " 5,\n",
       " 2,\n",
       " 23,\n",
       " 25,\n",
       " 1,\n",
       " 0,\n",
       " 29,\n",
       " 3,\n",
       " 14,\n",
       " 19,\n",
       " 22,\n",
       " 28,\n",
       " 2,\n",
       " 9,\n",
       " 0,\n",
       " 12,\n",
       " 27,\n",
       " 27,\n",
       " 11,\n",
       " 17,\n",
       " 19,\n",
       " 0,\n",
       " 1,\n",
       " 1,\n",
       " 29,\n",
       " 20,\n",
       " 16,\n",
       " 20,\n",
       " 15,\n",
       " 19,\n",
       " 18,\n",
       " 5,\n",
       " 2]"
      ]
     },
     "execution_count": 26,
     "metadata": {},
     "output_type": "execute_result"
    }
   ],
   "source": [
    "predicted_cp, one_hot_labels_cp\n",
    "a = []\n",
    "a + predicted_cp.tolist() # 足し算でリストの結合できる（中身のみ後ろに追加できる）\n"
   ]
  },
  {
   "cell_type": "code",
   "execution_count": 27,
   "metadata": {},
   "outputs": [
    {
     "data": {
      "text/plain": [
       "(TensorBase([29, 12,  7,  9, 21, 16,  5, 17,  5, 24, 20,  4,  1, 22,  9, 15, 14,\n",
       "             12,  6,  8, 22,  2,  9,  2, 18, 16,  5,  2, 23, 25,  1,  0, 29,  3,\n",
       "             14, 19, 22, 28,  2,  9,  0, 12, 27, 27, 11, 17, 19,  0,  1,  1, 29,\n",
       "             20, 16, 20, 15, 19, 18,  5,  2]),\n",
       " torch.Size([59]),\n",
       " tensor([29, 12,  7,  9, 21, 16,  5, 17,  5, 24, 20,  4,  1, 22,  9, 15, 14, 12,\n",
       "          6,  8, 22,  2,  9,  2, 18, 16,  5,  2, 23, 25,  1,  0, 29,  3, 14, 19,\n",
       "         22, 28,  2,  9,  0, 12, 27, 27, 11, 17, 19,  0,  1,  1, 29, 20, 16, 20,\n",
       "         15, 19, 18,  5,  2]),\n",
       " torch.Size([59]))"
      ]
     },
     "execution_count": 27,
     "metadata": {},
     "output_type": "execute_result"
    }
   ],
   "source": [
    "predicted, predicted.shape, one_hot_labels, one_hot_labels.shape"
   ]
  },
  {
   "cell_type": "code",
   "execution_count": 28,
   "metadata": {},
   "outputs": [
    {
     "data": {
      "text/plain": [
       "torch.Size([1, 1250])"
      ]
     },
     "execution_count": 28,
     "metadata": {},
     "output_type": "execute_result"
    }
   ],
   "source": [
    "data, label = next(iter(dataset))\n",
    "data.size()"
   ]
  },
  {
   "cell_type": "code",
   "execution_count": 29,
   "metadata": {},
   "outputs": [
    {
     "data": {
      "text/plain": [
       "torch.Size([59, 1, 1250])"
      ]
     },
     "execution_count": 29,
     "metadata": {},
     "output_type": "execute_result"
    }
   ],
   "source": [
    "signals.shape"
   ]
  },
  {
   "cell_type": "code",
   "execution_count": 30,
   "metadata": {},
   "outputs": [
    {
     "data": {
      "text/plain": [
       "(TensorBase([[3.5411e-07, 5.7667e-04, 2.2809e-04,  ..., 7.2073e-05,\n",
       "              3.6173e-05, 9.8739e-01],\n",
       "             [4.5063e-05, 2.8571e-03, 2.8689e-05,  ..., 3.6860e-05,\n",
       "              1.9275e-05, 4.0820e-03],\n",
       "             [3.2798e-08, 9.4389e-05, 8.2593e-04,  ..., 5.4117e-03,\n",
       "              1.1313e-04, 1.9164e-05],\n",
       "             ...,\n",
       "             [1.4057e-07, 2.9375e-05, 2.4010e-06,  ..., 2.1683e-05,\n",
       "              8.1785e-04, 9.1404e-04],\n",
       "             [4.3889e-05, 2.0513e-04, 6.3460e-07,  ..., 2.1091e-06,\n",
       "              1.9601e-07, 1.6772e-04],\n",
       "             [1.7748e-07, 9.9975e-07, 9.9614e-01,  ..., 5.2329e-04,\n",
       "              4.4666e-05, 1.2107e-04]]),\n",
       " tensor([ 4, 29,  5,  5,  5, 26,  5, 28, 21, 22, 25, 25, 16,  9,  9,  1,  2, 16,\n",
       "          0, 29,  9, 26, 17,  5,  1,  7, 14,  8, 23, 12, 17, 17, 19,  5, 29, 25,\n",
       "         25, 29,  3,  5,  6, 29]),\n",
       " TensorBase(0.0569, grad_fn=<AliasBackward0>))"
      ]
     },
     "execution_count": 30,
     "metadata": {},
     "output_type": "execute_result"
    }
   ],
   "source": [
    "outputs, labels, loss"
   ]
  },
  {
   "cell_type": "code",
   "execution_count": 31,
   "metadata": {},
   "outputs": [
    {
     "data": {
      "text/plain": [
       "(tensor(0), tensor(29))"
      ]
     },
     "execution_count": 31,
     "metadata": {},
     "output_type": "execute_result"
    }
   ],
   "source": [
    "min(labels), max(labels)"
   ]
  }
 ],
 "metadata": {
  "kernelspec": {
   "display_name": "Python 3.8.10 ('env': venv)",
   "language": "python",
   "name": "python3"
  },
  "language_info": {
   "codemirror_mode": {
    "name": "ipython",
    "version": 3
   },
   "file_extension": ".py",
   "mimetype": "text/x-python",
   "name": "python",
   "nbconvert_exporter": "python",
   "pygments_lexer": "ipython3",
   "version": "3.8.10"
  },
  "vscode": {
   "interpreter": {
    "hash": "4f0cee1d93a3f453c87d2fc7ea34167ba7e841aa689af4edcc0624fd2f7da055"
   }
  }
 },
 "nbformat": 4,
 "nbformat_minor": 4
}
