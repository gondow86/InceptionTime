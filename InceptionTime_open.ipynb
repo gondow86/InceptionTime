{
 "cells": [
  {
   "cell_type": "code",
   "execution_count": 3,
   "metadata": {},
   "outputs": [],
   "source": [
    "#|export\n",
    "from tsai.imports import *\n",
    "from tsai.models.layers import *\n",
    "from torchinfo import summary"
   ]
  },
  {
   "cell_type": "code",
   "execution_count": 4,
   "metadata": {},
   "outputs": [],
   "source": [
    "import torch\n",
    "import torch.nn as nn\n",
    "from torch.utils.data import Dataset\n",
    "from torch.utils.data import DataLoader\n",
    "import torchvision\n",
    "import torchvision.transforms as transforms\n",
    "import numpy as np\n",
    "import pandas as pd\n",
    "from sklearn.preprocessing import StandardScaler\n",
    "from sklearn.preprocessing import MinMaxScaler\n",
    "from scipy import signal\n",
    "# from tqdm.notebook import tqdm"
   ]
  },
  {
   "cell_type": "code",
   "execution_count": 5,
   "metadata": {},
   "outputs": [
    {
     "name": "stdout",
     "output_type": "stream",
     "text": [
      "cuda\n"
     ]
    }
   ],
   "source": [
    "device = torch.device('cuda' if torch.cuda.is_available() else 'cpu')\n",
    "print(device)"
   ]
  },
  {
   "cell_type": "code",
   "execution_count": 6,
   "metadata": {},
   "outputs": [],
   "source": [
    "# hyper parameter\n",
    "num_classes = 30\n",
    "close_num = 14 # 14, 19, 24, 29\n",
    "batch_size = 64\n",
    "learning_rate = 0.0001\n",
    "num_epochs = 20\n",
    "down_ratio = 8\n",
    "sequence_len = 2000 * 5 // down_ratio # default 2000Hz\n",
    "overlap = int(sequence_len * 0.3)\n",
    "threshold = 0.8\n",
    "thresholds = [0.3, 0.35, 0.40, 0.45, 0.50, 0.55, 0.60, 0.65, 0.70, 0.75, 0.80]\n",
    "close_nums = [14, 19, 24, 29]\n",
    "alpha = 0.1"
   ]
  },
  {
   "cell_type": "code",
   "execution_count": 7,
   "metadata": {},
   "outputs": [],
   "source": [
    "radar_frame_list = []\n",
    "scaler = MinMaxScaler((-1, 1)) # or StandardScaler\n",
    "\n",
    "for i in range(1, num_classes + 1):\n",
    "    # wave_2d = [] # input need to be 2d?\n",
    "    file_path = \"./data/radar_%02d.csv\" % i # or ./data/radar_%02d\n",
    "    radar_frame = pd.read_csv(file_path)\n",
    "    wave = radar_frame.to_numpy().flatten()\n",
    "    wave = signal.decimate(wave, down_ratio) # down sampling\n",
    "    \n",
    "    end = len(wave)\n",
    "    n = 0\n",
    "    n_stop = sequence_len\n",
    "    wave_segments = []\n",
    "\n",
    "    while n_stop < end:\n",
    "        n_start = 0 + ((sequence_len - 1) - (overlap - 1)) * n\n",
    "        n_stop = n_start + sequence_len\n",
    "        tmp = []\n",
    "        seg = wave[n_start:n_stop].copy()\n",
    "        wave_segments.append([seg])\n",
    "        n += 1\n",
    "    \n",
    "    radar_frame_list.append(wave_segments)\n",
    "\n",
    "data_df = pd.DataFrame(radar_frame_list)"
   ]
  },
  {
   "cell_type": "code",
   "execution_count": 8,
   "metadata": {},
   "outputs": [],
   "source": [
    "labels = []\n",
    "for i in range(len(radar_frame_list)):\n",
    "    for j in range(len(radar_frame_list[i])):\n",
    "        if i <= close_num:\n",
    "            labels.append(i)\n",
    "        else:\n",
    "            labels.append(close_num + 1)\n",
    "\n",
    "labels_series = pd.Series(labels)"
   ]
  },
  {
   "cell_type": "code",
   "execution_count": 9,
   "metadata": {},
   "outputs": [
    {
     "name": "stdout",
     "output_type": "stream",
     "text": [
      "5441 900\n",
      "5262 838\n",
      "5086 725\n",
      "4911 1219\n",
      "4732 507\n",
      "4497 1107\n",
      "4321 1244\n",
      "4147 838\n",
      "3953 438\n",
      "3764 1232\n",
      "3589 788\n",
      "3406 1150\n",
      "3234 619\n",
      "3052 1188\n",
      "2880 388\n",
      "2705 1113\n",
      "2348 1157\n",
      "2141 1113\n",
      "1956 1232\n",
      "1771 532\n",
      "1588 475\n",
      "1402 644\n",
      "1225 1232\n",
      "1044 482\n",
      "869 1150\n",
      "695 1144\n",
      "523 713\n",
      "351 713\n",
      "173 525\n"
     ]
    },
    {
     "data": {
      "text/plain": [
       "((5413,), tensor([ 0,  0,  0,  ..., 15, 15, 15]), torch.Size([5413]))"
      ]
     },
     "execution_count": 9,
     "metadata": {},
     "output_type": "execute_result"
    }
   ],
   "source": [
    "tmp = data_df.to_numpy().flatten().copy()\n",
    "data_series = pd.Series(tmp).dropna() # remove None (keys are as they are)\n",
    "tmp = data_series.to_numpy().flatten()\n",
    "\n",
    "tmp_labels = labels_series.to_numpy().flatten()\n",
    "# len(tmp) = 5442 (30人分のデータ)\n",
    "# len(tmp[0]) = 1 (in_channelが1のため)\n",
    "# len(tmp[0][0]) = 1250 (sequence_len)\n",
    "\n",
    "for i in reversed(range(len(tmp))):\n",
    "  if len(tmp[i][0]) != sequence_len:\n",
    "    print(i, len(tmp[i][0]))\n",
    "    tmp = np.delete(tmp, i)\n",
    "    tmp_labels = np.delete(tmp_labels, i)\n",
    "\n",
    "data_series = pd.Series(tmp)\n",
    "labels_series = pd.Series(tmp_labels)\n",
    "labels_tensor = torch.tensor(labels_series)\n",
    "data_series.shape, labels_tensor, labels_tensor.shape"
   ]
  },
  {
   "cell_type": "code",
   "execution_count": 10,
   "metadata": {},
   "outputs": [],
   "source": [
    "class InceptionModule(Module):\n",
    "    def __init__(self, ni, nf, ks=40, bottleneck=True):\n",
    "        ks = [ks // (2**i) for i in range(3)]\n",
    "        ks = [k if k % 2 != 0 else k - 1 for k in ks]  # ensure odd ks\n",
    "        bottleneck = bottleneck if ni > 1 else False\n",
    "        self.bottleneck = Conv1d(ni, nf, 1, bias=False) if bottleneck else noop\n",
    "        self.convs = nn.ModuleList([Conv1d(nf if bottleneck else ni, nf, k, bias=False) for k in ks])\n",
    "        self.maxconvpool = nn.Sequential(*[nn.MaxPool1d(3, stride=1, padding=1), Conv1d(ni, nf, 1, bias=False)])\n",
    "        self.concat = Concat()\n",
    "        self.bn = BN1d(nf * 4)\n",
    "        self.act = nn.ReLU()\n",
    "\n",
    "    def forward(self, x):\n",
    "        input_tensor = x\n",
    "        x = self.bottleneck(input_tensor)\n",
    "        x = self.concat([l(x) for l in self.convs] + [self.maxconvpool(input_tensor)])\n",
    "        return self.act(self.bn(x))\n",
    "\n",
    "\n",
    "@delegates(InceptionModule.__init__)\n",
    "class InceptionBlock(Module):\n",
    "    def __init__(self, ni, nf=32, residual=True, depth=6, **kwargs):\n",
    "        self.residual, self.depth = residual, depth\n",
    "        self.inception, self.shortcut = nn.ModuleList(), nn.ModuleList()\n",
    "        for d in range(depth):\n",
    "            self.inception.append(InceptionModule(ni if d == 0 else nf * 4, nf, **kwargs))\n",
    "            if self.residual and d % 3 == 2: \n",
    "                n_in, n_out = ni if d == 2 else nf * 4, nf * 4\n",
    "                self.shortcut.append(BN1d(n_in) if n_in == n_out else ConvBlock(n_in, n_out, 1, act=None))\n",
    "        self.add = Add()\n",
    "        self.act = nn.ReLU()\n",
    "        \n",
    "    def forward(self, x):\n",
    "        res = x\n",
    "        for d, l in enumerate(range(self.depth)):\n",
    "            x = self.inception[d](x)\n",
    "            if self.residual and d % 3 == 2: res = x = self.act(self.add(x, self.shortcut[d//3](res)))\n",
    "        return x\n",
    "\n",
    "    \n",
    "@delegates(InceptionModule.__init__)\n",
    "class InceptionTime(Module):\n",
    "    def __init__(self, c_in, c_out, seq_len=None, nf=32, nb_filters=None, **kwargs):\n",
    "        nf = ifnone(nf, nb_filters) # for compatibility\n",
    "        self.inceptionblock = InceptionBlock(c_in, nf, **kwargs) # c_in is input channel num of conv1d\n",
    "        self.gap = GAP1d(1)\n",
    "        self.fc = nn.Linear(nf * 4, c_out) # c_out is 1d output size \n",
    "\n",
    "    def forward(self, x):\n",
    "        x = self.inceptionblock(x)\n",
    "        x = self.gap(x)\n",
    "        x = self.fc(x)\n",
    "        return x"
   ]
  },
  {
   "cell_type": "code",
   "execution_count": null,
   "metadata": {},
   "outputs": [],
   "source": [
    "\n",
    "summary(model)"
   ]
  },
  {
   "cell_type": "code",
   "execution_count": 11,
   "metadata": {},
   "outputs": [],
   "source": [
    "from tsai.models.utils import count_parameters"
   ]
  },
  {
   "cell_type": "code",
   "execution_count": 12,
   "metadata": {},
   "outputs": [],
   "source": [
    "class MyDataset(Dataset):\n",
    "    def __init__(self, dataset, labels, root_dir, transform=None) -> None:\n",
    "        # super().__init__()\n",
    "        self.radar_heartbeat = dataset\n",
    "        self.labels = labels\n",
    "        self.root_dir = root_dir\n",
    "        self.transform = transform\n",
    "\n",
    "    \n",
    "    def __getitem__(self, idx):\n",
    "        if torch.is_tensor(idx):\n",
    "          idx = idx.tolist()\n",
    "        \n",
    "        onehot_label = torch.eye(num_classes)[self.labels[idx] - 1] # one hot encodingは不要らしい　精度悪い場合試す必要あり\n",
    "        # one_hot = torch.nn.functional.one_hot(self.labels, num_classes=num_classes)\n",
    "        return torch.tensor(self.radar_heartbeat[idx]), self.labels[idx] # labels is already tensor (converted in preparation phase)\n",
    "        # return torch.tensor(self.radar_heartbeat[idx]), onehot_label\n",
    "\n",
    "    def __len__(self):\n",
    "        return len(self.radar_heartbeat)\n",
    "\n",
    "\n",
    "dataset = MyDataset(data_series, labels_tensor, \"./data/\", transform=transforms.ToTensor())"
   ]
  },
  {
   "cell_type": "code",
   "execution_count": 13,
   "metadata": {},
   "outputs": [
    {
     "name": "stderr",
     "output_type": "stream",
     "text": [
      "/tmp/ipykernel_22252/3033810394.py:16: UserWarning: Creating a tensor from a list of numpy.ndarrays is extremely slow. Please consider converting the list to a single numpy.ndarray with numpy.array() before converting to a tensor. (Triggered internally at  ../torch/csrc/utils/tensor_new.cpp:201.)\n",
      "  return torch.tensor(self.radar_heartbeat[idx]), self.labels[idx] # labels is already tensor (converted in preparation phase)\n"
     ]
    },
    {
     "data": {
      "text/plain": [
       "(tensor(0), tensor(15), tensor(15), tensor(15))"
      ]
     },
     "execution_count": 13,
     "metadata": {},
     "output_type": "execute_result"
    }
   ],
   "source": [
    "dataset[0][1], dataset[4473][1], dataset[4474][1], dataset[len(dataset)-1][1]"
   ]
  },
  {
   "cell_type": "code",
   "execution_count": 14,
   "metadata": {},
   "outputs": [
    {
     "data": {
      "text/plain": [
       "(tensor(15), tensor(15))"
      ]
     },
     "execution_count": 14,
     "metadata": {},
     "output_type": "execute_result"
    }
   ],
   "source": [
    "dataset[3570][1], dataset[3571][1]"
   ]
  },
  {
   "cell_type": "code",
   "execution_count": 15,
   "metadata": {},
   "outputs": [
    {
     "data": {
      "text/plain": [
       "(tensor(14), tensor(15))"
      ]
     },
     "execution_count": 15,
     "metadata": {},
     "output_type": "execute_result"
    }
   ],
   "source": [
    "dataset[2691][1], dataset[2692][1]"
   ]
  },
  {
   "cell_type": "markdown",
   "metadata": {},
   "source": [
    "Additional processing for Open Set\n",
    "\n",
    "e.g.\n",
    "train 0~24\n",
    "\n",
    "test 0~30\n",
    "\n",
    "concat"
   ]
  },
  {
   "cell_type": "code",
   "execution_count": null,
   "metadata": {},
   "outputs": [],
   "source": [
    "# indices1 = np.arange(4473)\n",
    "# dataset1 = torch.utils.data.Subset(dataset, indices1) # 0-24\n",
    "# indices2 = np.arange(4474, len(dataset))\n",
    "# dataset2 = torch.utils.data.Subset(dataset, indices2) # 25-30\n",
    "# Unknown_label = close_num + 1"
   ]
  },
  {
   "cell_type": "code",
   "execution_count": null,
   "metadata": {},
   "outputs": [],
   "source": [
    "# indices1 = np.arange(3570)\n",
    "# dataset1 = torch.utils.data.Subset(dataset, indices1) # 0-19\n",
    "# indices2 = np.arange(3571, len(dataset))\n",
    "# dataset2 = torch.utils.data.Subset(dataset, indices2) # 20-30\n",
    "# Unknown_label = close_num + 1"
   ]
  },
  {
   "cell_type": "code",
   "execution_count": 16,
   "metadata": {},
   "outputs": [],
   "source": [
    "indices1 = np.arange(2691)\n",
    "dataset1 = torch.utils.data.Subset(dataset, indices1) # 0-14\n",
    "indices2 = np.arange(2692, len(dataset))\n",
    "dataset2 = torch.utils.data.Subset(dataset, indices2) # 15-29\n",
    "Unknown_label = close_num + 1"
   ]
  },
  {
   "cell_type": "code",
   "execution_count": 17,
   "metadata": {},
   "outputs": [],
   "source": [
    "train_size1 = int(0.80 * len(dataset1))\n",
    "test_size1 = len(dataset1) - train_size1\n",
    "\n",
    "train_size2 = int(0.80 * len(dataset2))\n",
    "test_size2 = len(dataset2) - train_size2\n",
    "\n",
    "open_train_set, test_set1 = torch.utils.data.random_split(dataset1, [train_size1, test_size1])\n",
    "train_set2, test_set2 = torch.utils.data.random_split(dataset2, [train_size2, test_size2])\n",
    "\n",
    "indices = np.arange(len(test_set2))\n",
    "test_set2 = torch.utils.data.Subset(test_set2, indices[:])"
   ]
  },
  {
   "cell_type": "markdown",
   "metadata": {},
   "source": [
    "train : test = 8 : 2 → 3 : 1で分ける"
   ]
  },
  {
   "cell_type": "code",
   "execution_count": 18,
   "metadata": {},
   "outputs": [
    {
     "data": {
      "text/plain": [
       "(2152, 1084)"
      ]
     },
     "execution_count": 18,
     "metadata": {},
     "output_type": "execute_result"
    }
   ],
   "source": [
    "open_test_set = torch.utils.data.ConcatDataset([test_set1, test_set2])\n",
    "len(open_train_set), len(open_test_set)"
   ]
  },
  {
   "cell_type": "code",
   "execution_count": 19,
   "metadata": {},
   "outputs": [],
   "source": [
    "train_size = int(0.80 * len(data_series.values))\n",
    "test_size = len(data_series.values) - train_size\n",
    "train_set, test_set = torch.utils.data.random_split(dataset, [train_size, test_size]) # check whether each data and label set is synchronized \n",
    "# print(f\"full: {len(dataset)} -> train: {len(train_set)}, test: {len(test_set)}\")\n",
    "\n",
    "train_loader = DataLoader(dataset=open_train_set, batch_size=batch_size, shuffle=True)\n",
    "test_loader = DataLoader(dataset=open_test_set, batch_size=batch_size, shuffle=True) # テストでシャッフルしても同じ"
   ]
  },
  {
   "cell_type": "markdown",
   "metadata": {},
   "source": [
    "## Triple Joint Loss"
   ]
  },
  {
   "cell_type": "code",
   "execution_count": 32,
   "metadata": {},
   "outputs": [],
   "source": [
    "from torch import log\n",
    "softmax = nn.Softmax()\n",
    "\n",
    "def softmax_loss(outputs, labels):\n",
    "    loss = 0\n",
    "    batch_size = len(labels)\n",
    "    softmax_out = softmax(outputs)\n",
    "    for idx in range(batch_size):\n",
    "        loss += 1.0 - log(softmax_out[labels[idx]])\n",
    "    return loss / batch_size\n",
    "\n",
    "\n",
    "from center_loss import CenterLoss\n",
    "center_loss = CenterLoss(num_classes=close_num + 1, feat_dim=1, use_gpu=True)\n",
    "optimizer_centloss = torch.optim.SGD(center_loss.parameters(), lr=0.05)\n",
    "\n",
    "\n",
    "class AngularPenaltySMLoss(nn.Module):\n",
    "\n",
    "    def __init__(self, in_features, out_features, loss_type='cosface', eps=1e-7, s=None, m=None):\n",
    "        '''\n",
    "        Angular Penalty Softmax Loss\n",
    "        Three 'loss_types' available: ['arcface', 'sphereface', 'cosface']\n",
    "        These losses are described in the following papers: \n",
    "        \n",
    "        ArcFace: https://arxiv.org/abs/1801.07698\n",
    "        SphereFace: https://arxiv.org/abs/1704.08063\n",
    "        CosFace/Ad Margin: https://arxiv.org/abs/1801.05599\n",
    "        '''\n",
    "        super(AngularPenaltySMLoss, self).__init__()\n",
    "        loss_type = loss_type.lower()\n",
    "        assert loss_type in  ['arcface', 'sphereface', 'cosface']\n",
    "        if loss_type == 'arcface':\n",
    "            self.s = 64.0 if not s else s\n",
    "            self.m = 0.5 if not m else m\n",
    "        if loss_type == 'sphereface':\n",
    "            self.s = 64.0 if not s else s\n",
    "            self.m = 1.35 if not m else m\n",
    "        if loss_type == 'cosface':\n",
    "            self.s = 30.0 if not s else s\n",
    "            self.m = 0.45 if not m else m\n",
    "        self.loss_type = loss_type\n",
    "        self.in_features = in_features\n",
    "        self.out_features = out_features\n",
    "        self.fc = nn.Linear(in_features, out_features, bias=False)\n",
    "        self.eps = eps\n",
    "\n",
    "    def forward(self, x, labels):\n",
    "        '''\n",
    "        input shape (N, in_features)\n",
    "        '''\n",
    "        assert len(x) == len(labels)\n",
    "        assert torch.min(labels) >= 0\n",
    "        assert torch.max(labels) < self.out_features\n",
    "        \n",
    "        for W in self.fc.parameters():\n",
    "            W = F.normalize(W, p=2, dim=1)\n",
    "\n",
    "        x = F.normalize(x, p=2, dim=1)\n",
    "\n",
    "        wf = self.fc(x)\n",
    "        if self.loss_type == 'cosface':\n",
    "            numerator = self.s * (torch.diagonal(wf.transpose(0, 1)[labels]) - self.m)\n",
    "        if self.loss_type == 'arcface':\n",
    "            numerator = self.s * torch.cos(torch.acos(torch.clamp(torch.diagonal(wf.transpose(0, 1)[labels]), -1.+self.eps, 1-self.eps)) + self.m)\n",
    "        if self.loss_type == 'sphereface':\n",
    "            numerator = self.s * torch.cos(self.m * torch.acos(torch.clamp(torch.diagonal(wf.transpose(0, 1)[labels]), -1.+self.eps, 1-self.eps)))\n",
    "\n",
    "        excl = torch.cat([torch.cat((wf[i, :y], wf[i, y+1:])).unsqueeze(0) for i, y in enumerate(labels)], dim=0)\n",
    "        denominator = torch.exp(numerator) + torch.sum(torch.exp(self.s * excl), dim=1)\n",
    "        L = numerator - torch.log(denominator)\n",
    "        return -torch.mean(L)\n",
    "\n",
    "cos_loss = AngularPenaltySMLoss(1, close_num + 1, loss_type=\"cosface\")\n",
    "\n",
    "\n",
    "def triple_joint_loss(output, label, alpha):\n",
    "    # alpha: hyper parameter\n",
    "    output_for_cent = []\n",
    "    for idx, x in enumerate(outputs):\n",
    "        x = x[labels[idx]]\n",
    "        x = torch.tensor(x).to(device)\n",
    "        output_for_cent.append([x])\n",
    "    output_for_cent = torch.tensor(output_for_cent)\n",
    "    output_for_cent = output_for_cent.float()\n",
    "    output_for_cent = output_for_cent.to(device)\n",
    "    return softmax_loss(output, label) + alpha * center_loss(output_for_cent, label) + cos_loss(output, label)"
   ]
  },
  {
   "cell_type": "code",
   "execution_count": 22,
   "metadata": {},
   "outputs": [],
   "source": [
    "model = InceptionTime(1, close_num + 1) # 0-?+Unknownを出力\n",
    "model = model.to(device)\n",
    "# criterion = nn.CrossEntropyLoss()\n",
    "optimizer = torch.optim.Adam(model.parameters(), lr=learning_rate)"
   ]
  },
  {
   "cell_type": "code",
   "execution_count": null,
   "metadata": {},
   "outputs": [],
   "source": [
    "summary(model)"
   ]
  },
  {
   "cell_type": "code",
   "execution_count": 29,
   "metadata": {},
   "outputs": [
    {
     "ename": "AttributeError",
     "evalue": "'InceptionTime' object has no attribute 'is_cuda'",
     "output_type": "error",
     "traceback": [
      "\u001b[0;31m---------------------------------------------------------------------------\u001b[0m",
      "\u001b[0;31mAttributeError\u001b[0m                            Traceback (most recent call last)",
      "Cell \u001b[0;32mIn [29], line 4\u001b[0m\n\u001b[1;32m      2\u001b[0m output_for_cent\u001b[39m.\u001b[39mis_cuda\n\u001b[1;32m      3\u001b[0m labels\u001b[39m.\u001b[39mis_cuda\n\u001b[0;32m----> 4\u001b[0m model\u001b[39m.\u001b[39;49mis_cuda\n",
      "File \u001b[0;32m/mnt/c/Users/grpro/workspace/grad_thesis/InceptionTime/env/lib/python3.9/site-packages/torch/nn/modules/module.py:1207\u001b[0m, in \u001b[0;36mModule.__getattr__\u001b[0;34m(self, name)\u001b[0m\n\u001b[1;32m   1205\u001b[0m     \u001b[39mif\u001b[39;00m name \u001b[39min\u001b[39;00m modules:\n\u001b[1;32m   1206\u001b[0m         \u001b[39mreturn\u001b[39;00m modules[name]\n\u001b[0;32m-> 1207\u001b[0m \u001b[39mraise\u001b[39;00m \u001b[39mAttributeError\u001b[39;00m(\u001b[39m\"\u001b[39m\u001b[39m'\u001b[39m\u001b[39m{}\u001b[39;00m\u001b[39m'\u001b[39m\u001b[39m object has no attribute \u001b[39m\u001b[39m'\u001b[39m\u001b[39m{}\u001b[39;00m\u001b[39m'\u001b[39m\u001b[39m\"\u001b[39m\u001b[39m.\u001b[39mformat(\n\u001b[1;32m   1208\u001b[0m     \u001b[39mtype\u001b[39m(\u001b[39mself\u001b[39m)\u001b[39m.\u001b[39m\u001b[39m__name__\u001b[39m, name))\n",
      "\u001b[0;31mAttributeError\u001b[0m: 'InceptionTime' object has no attribute 'is_cuda'"
     ]
    }
   ],
   "source": [
    "output_for_cent = output_for_cent.to(device)\n",
    "output_for_cent.is_cuda"
   ]
  },
  {
   "cell_type": "code",
   "execution_count": 30,
   "metadata": {},
   "outputs": [
    {
     "name": "stderr",
     "output_type": "stream",
     "text": [
      "/tmp/ipykernel_22252/1573358285.py:5: UserWarning: To copy construct from a tensor, it is recommended to use sourceTensor.clone().detach() or sourceTensor.clone().detach().requires_grad_(True), rather than torch.tensor(sourceTensor).\n",
      "  signals = torch.tensor(signals)\n",
      "/tmp/ipykernel_22252/1573358285.py:17: UserWarning: To copy construct from a tensor, it is recommended to use sourceTensor.clone().detach() or sourceTensor.clone().detach().requires_grad_(True), rather than torch.tensor(sourceTensor).\n",
      "  x = torch.tensor(x).to(device)\n",
      "/mnt/c/Users/grpro/workspace/grad_thesis/InceptionTime/center_loss.py:45: UserWarning: This overload of addmm_ is deprecated:\n",
      "\taddmm_(Number beta, Number alpha, Tensor mat1, Tensor mat2)\n",
      "Consider using one of the following signatures instead:\n",
      "\taddmm_(Tensor mat1, Tensor mat2, *, Number beta, Number alpha) (Triggered internally at  ../torch/csrc/utils/python_arg_parser.cpp:1174.)\n",
      "  distmat.addmm_(1, -2, x, self.centers.t())\n"
     ]
    },
    {
     "name": "stdout",
     "output_type": "stream",
     "text": [
      "Epoch [1/`20], Step [12/34], Loss: 0.8664\n",
      "Epoch [1/`20], Step [24/34], Loss: 0.7056\n",
      "Epoch [2/`20], Step [12/34], Loss: 0.6349\n",
      "Epoch [2/`20], Step [24/34], Loss: 0.3538\n",
      "Epoch [3/`20], Step [12/34], Loss: 0.3928\n",
      "Epoch [3/`20], Step [24/34], Loss: 0.2485\n",
      "Epoch [4/`20], Step [12/34], Loss: 0.2200\n",
      "Epoch [4/`20], Step [24/34], Loss: 0.2082\n",
      "Epoch [5/`20], Step [12/34], Loss: 0.1202\n",
      "Epoch [5/`20], Step [24/34], Loss: 0.1365\n",
      "Epoch [6/`20], Step [12/34], Loss: 0.1034\n",
      "Epoch [6/`20], Step [24/34], Loss: 0.0619\n",
      "Epoch [7/`20], Step [12/34], Loss: 0.0591\n",
      "Epoch [7/`20], Step [24/34], Loss: 0.0536\n",
      "Epoch [8/`20], Step [12/34], Loss: 0.0448\n",
      "Epoch [8/`20], Step [24/34], Loss: 0.0444\n",
      "Epoch [9/`20], Step [12/34], Loss: 0.0336\n",
      "Epoch [9/`20], Step [24/34], Loss: 0.0283\n",
      "Epoch [10/`20], Step [12/34], Loss: 0.0175\n",
      "Epoch [10/`20], Step [24/34], Loss: 0.0192\n",
      "Epoch [11/`20], Step [12/34], Loss: 0.0298\n",
      "Epoch [11/`20], Step [24/34], Loss: 0.0177\n",
      "Epoch [12/`20], Step [12/34], Loss: 0.0136\n",
      "Epoch [12/`20], Step [24/34], Loss: 0.0144\n",
      "Epoch [13/`20], Step [12/34], Loss: 0.0147\n",
      "Epoch [13/`20], Step [24/34], Loss: 0.0118\n",
      "Epoch [14/`20], Step [12/34], Loss: 0.0152\n",
      "Epoch [14/`20], Step [24/34], Loss: 0.0151\n",
      "Epoch [15/`20], Step [12/34], Loss: 0.0084\n",
      "Epoch [15/`20], Step [24/34], Loss: 0.0116\n",
      "Epoch [16/`20], Step [12/34], Loss: 0.0100\n",
      "Epoch [16/`20], Step [24/34], Loss: 0.0074\n",
      "Epoch [17/`20], Step [12/34], Loss: 0.0269\n",
      "Epoch [17/`20], Step [24/34], Loss: 0.0133\n",
      "Epoch [18/`20], Step [12/34], Loss: 0.0159\n",
      "Epoch [18/`20], Step [24/34], Loss: 0.0049\n",
      "Epoch [19/`20], Step [12/34], Loss: 0.0102\n",
      "Epoch [19/`20], Step [24/34], Loss: 0.0246\n",
      "Epoch [20/`20], Step [12/34], Loss: 0.0102\n",
      "Epoch [20/`20], Step [24/34], Loss: 0.0180\n"
     ]
    }
   ],
   "source": [
    "# torch.set_default_tensor_type('torch.cuda.FloatTensor')\n",
    "n_total_steps = len(train_loader)\n",
    "for epoch in range(num_epochs):\n",
    "  for i, (signals, labels) in enumerate(train_loader):\n",
    "    signals = torch.tensor(signals)\n",
    "    signals = signals.float()\n",
    "    signals = signals.to(device)\n",
    "    labels = labels.to(device)\n",
    "\n",
    "    # print(signals.size())\n",
    "    outputs = model(signals)\n",
    "    # print(outputs)\n",
    "    loss = triple_joint_loss(outputs, labels, alpha) # will check the shapes of outputs and labels\n",
    "    \n",
    "\n",
    "    loss = center_loss(output_for_cent, labels)\n",
    "\n",
    "    optimizer.zero_grad()\n",
    "    optimizer_centloss.zero_grad()\n",
    "    loss.backward()\n",
    "    optimizer.step()\n",
    "    optimizer_centloss.step()\n",
    "    if (i + 1) % 12 == 0:\n",
    "      print(f'Epoch [{epoch+1}/`{num_epochs}], Step [{i+1}/{n_total_steps}], Loss: {loss.item():.4f}')"
   ]
  },
  {
   "cell_type": "markdown",
   "metadata": {},
   "source": [
    "labelは0-24までだから，学習はいじらなくて大丈夫\n",
    "\n",
    "testはOpen setの場合，0~24とUnknown label(25)になるから，labelは作り直し\n",
    "\n",
    "25も出力するようなネットワークにしなきゃだめ"
   ]
  },
  {
   "cell_type": "code",
   "execution_count": null,
   "metadata": {},
   "outputs": [],
   "source": [
    "outputs"
   ]
  },
  {
   "cell_type": "code",
   "execution_count": 31,
   "metadata": {},
   "outputs": [
    {
     "name": "stderr",
     "output_type": "stream",
     "text": [
      "/tmp/ipykernel_22252/1821349815.py:10: UserWarning: To copy construct from a tensor, it is recommended to use sourceTensor.clone().detach() or sourceTensor.clone().detach().requires_grad_(True), rather than torch.tensor(sourceTensor).\n",
      "  signals = torch.tensor(signals)\n",
      "/mnt/c/Users/grpro/workspace/grad_thesis/InceptionTime/env/lib/python3.9/site-packages/torch/overrides.py:1498: UserWarning: Implicit dimension choice for softmax has been deprecated. Change the call to include dim=X as an argument.\n",
      "  result = torch_func_method(public_api, types, args, kwargs)\n"
     ]
    },
    {
     "name": "stdout",
     "output_type": "stream",
     "text": [
      "TensorBase([0.1256, 0.1308, 0.1252, 0.1031, 0.1097, 0.1097, 0.1138, 0.1134,\n",
      "            0.1231, 0.1182, 0.1043, 0.1081, 0.1097, 0.1133, 0.1187, 0.1106,\n",
      "            0.1115, 0.1222, 0.1147, 0.1229, 0.1022, 0.1225, 0.1041, 0.1236,\n",
      "            0.1081, 0.1107, 0.1022, 0.1106, 0.1123, 0.1151, 0.1319, 0.1289,\n",
      "            0.1117, 0.1085, 0.1071, 0.1151, 0.1047, 0.1180, 0.1184, 0.1054,\n",
      "            0.1211, 0.1038, 0.1067, 0.1265, 0.1181, 0.1152, 0.1081, 0.1160,\n",
      "            0.1031, 0.1174, 0.1242, 0.1126, 0.1069, 0.1179, 0.1055, 0.1158,\n",
      "            0.1197, 0.1303, 0.1095, 0.1149, 0.1319, 0.1177, 0.1242, 0.1098],\n",
      "           device='cuda:0') TensorBase([15, 15, 15, 15, 15, 15, 15, 15, 15, 15, 15, 15, 15, 15, 15, 15, 15,\n",
      "            15, 15, 15, 15, 15, 15, 15, 15, 15, 15, 15, 15, 15, 15, 15, 15, 15,\n",
      "            15, 15, 15, 15, 15, 15, 15, 15, 15, 15, 15, 15, 15, 15, 15, 15, 15,\n",
      "            15, 15, 15, 15, 15, 15, 15, 15, 15, 15, 15, 15, 15],\n",
      "           device='cuda:0') tensor([15, 15, 15,  6, 15, 15,  9, 12, 15,  0, 15,  9, 15,  7, 15, 11, 14, 15,\n",
      "        15, 15,  9,  3, 11, 15, 15,  1, 15, 15, 10, 14, 15, 15, 15, 15, 15, 14,\n",
      "        10, 15, 15,  7, 15, 15,  9, 15, 13,  2, 15, 15, 15, 15, 15, 15,  7, 15,\n",
      "        15,  2, 15, 15, 13, 15, 12, 15,  5, 15], device='cuda:0')\n",
      "39 / 64 = Acc: 60.9375 %\n",
      "TensorBase([0.0997, 0.1021, 0.1014, 0.0974, 0.0958, 0.1130, 0.1014, 0.1028,\n",
      "            0.1082, 0.1041, 0.0986, 0.0971, 0.0979, 0.1033, 0.1063, 0.1073,\n",
      "            0.1060, 0.1156, 0.1007, 0.1077, 0.1075, 0.1110, 0.1048, 0.1112,\n",
      "            0.1055, 0.1058, 0.0968, 0.1034, 0.0981, 0.1063, 0.1075, 0.1020,\n",
      "            0.1023, 0.1015, 0.1101, 0.1158, 0.1056, 0.1078, 0.1078, 0.3045,\n",
      "            0.1054, 0.1012, 0.1120, 0.1041, 0.1029, 0.0963, 0.1107, 0.0996,\n",
      "            0.1005, 0.0997, 0.0990, 0.1064, 0.1286, 0.1082, 0.1050, 0.1089,\n",
      "            0.1069, 0.1112, 0.1241, 0.1050, 0.1069, 0.1125, 0.0962, 0.1092],\n",
      "           device='cuda:0') TensorBase([15, 15, 15, 15, 15, 15, 15, 15, 15, 15, 15, 15, 15, 15, 15, 15, 15,\n",
      "            15, 15, 15, 15, 15, 15, 15, 15, 15, 15, 15, 15, 15, 15, 15, 15, 15,\n",
      "            15, 15, 15, 15, 15, 15, 15, 15, 15, 15, 15, 15, 15, 15, 15, 15, 15,\n",
      "            15, 15, 15, 15, 15, 15, 15, 15, 15, 15, 15, 15, 15],\n",
      "           device='cuda:0') tensor([14, 11, 15,  9, 11,  5,  6,  9,  7, 15,  6,  2, 15, 15,  8, 15,  7, 15,\n",
      "        15, 15, 15,  4, 11, 15,  4, 15, 15, 15, 15,  1,  5, 10,  9,  6,  3, 15,\n",
      "        12,  2, 15, 15, 15,  9, 15, 15,  7, 15, 15, 15,  9,  4,  7, 14, 10, 12,\n",
      "        15, 12,  3, 15,  4, 15, 15, 15,  6, 15], device='cuda:0')\n",
      "68 / 128 = Acc: 53.125 %\n",
      "TensorBase([0.1144, 0.1010, 0.1044, 0.0984, 0.1098, 0.1192, 0.1347, 0.1263,\n",
      "            0.1155, 0.1085, 0.1125, 0.1190, 0.1134, 0.1044, 0.1123, 0.1119,\n",
      "            0.1353, 0.1101, 0.1288, 0.1204, 0.1086, 0.1259, 0.1068, 0.1252,\n",
      "            0.1079, 0.1061, 0.1223, 0.1193, 0.1152, 0.1086, 0.1070, 0.1099,\n",
      "            0.1094, 0.1006, 0.1178, 0.1322, 0.1090, 0.1198, 0.1247, 0.1140,\n",
      "            0.1178, 0.1243, 0.1073, 0.1256, 0.1027, 0.1151, 0.1073, 0.1228,\n",
      "            0.1103, 0.1117, 0.1118, 0.1123, 0.1238, 0.1173, 0.1286, 0.1081,\n",
      "            0.1217, 0.1071, 0.1141, 0.1128, 0.1041, 0.1198, 0.1056, 0.1078],\n",
      "           device='cuda:0') TensorBase([15, 15, 15, 15, 15, 15, 15, 15, 15, 15, 15, 15, 15, 15, 15, 15, 15,\n",
      "            15, 15, 15, 15, 15, 15, 15, 15, 15, 15, 15, 15, 15, 15, 15, 15, 15,\n",
      "            15, 15, 15, 15, 15, 15, 15, 15, 15, 15, 15, 15, 15, 15, 15, 15, 15,\n",
      "            15, 15, 15, 15, 15, 15, 15, 15, 15, 15, 15, 15, 15],\n",
      "           device='cuda:0') tensor([ 2,  9, 11, 15, 15, 15, 15, 15, 12,  8, 15, 13, 15,  9, 15, 15, 15,  6,\n",
      "        15, 15,  7, 15, 11,  5, 15, 15, 15, 15, 15,  7, 15, 15, 15, 15, 13,  0,\n",
      "        15, 15,  5, 10,  1, 15, 15,  8, 10,  1,  6,  3, 10,  2,  4, 15, 15, 15,\n",
      "         5,  9, 15, 15,  0, 15, 15, 15,  4, 10], device='cuda:0')\n",
      "102 / 192 = Acc: 53.125 %\n",
      "TensorBase([0.1078, 0.1055, 0.1099, 0.1543, 0.1122, 0.1130, 0.1192, 0.1053,\n",
      "            0.1072, 0.1175, 0.1091, 0.1220, 0.1213, 0.1063, 0.1109, 0.1160,\n",
      "            0.1150, 0.1115, 0.0985, 0.1150, 0.1117, 0.1080, 0.1298, 0.1184,\n",
      "            0.1097, 0.1329, 0.1194, 0.1080, 0.1101, 0.1072, 0.1194, 0.1129,\n",
      "            0.1184, 0.1198, 0.1131, 0.1083, 0.1020, 0.1216, 0.1063, 0.1105,\n",
      "            0.1165, 0.1136, 0.1185, 0.1002, 0.1105, 0.1109, 0.1014, 0.1031,\n",
      "            0.1112, 0.1237, 0.1125, 0.1200, 0.1036, 0.1021, 0.1224, 0.1088,\n",
      "            0.1075, 0.1062, 0.1126, 0.1219, 0.1057, 0.1048, 0.1033, 0.1092],\n",
      "           device='cuda:0') TensorBase([15, 15, 15, 15, 15, 15, 15, 15, 15, 15, 15, 15, 15, 15, 15, 15, 15,\n",
      "            15, 15, 15, 15, 15, 15, 15, 15, 15, 15, 15, 15, 15, 15, 15, 15, 15,\n",
      "            15, 15, 15, 15, 15, 15, 15, 15, 15, 15, 15, 15, 15, 15, 15, 15, 15,\n",
      "            15, 15, 15, 15, 15, 15, 15, 15, 15, 15, 15, 15, 15],\n",
      "           device='cuda:0') tensor([15, 15, 15,  4, 13, 15, 15,  9, 15,  2,  4, 15,  8,  7, 13,  0,  8, 15,\n",
      "        15, 15, 15, 13, 15, 13,  7,  6, 12, 15, 15, 11, 15, 13,  5, 15,  1, 15,\n",
      "        11,  7, 15, 14,  3, 12, 15,  9,  2, 15, 15, 15,  1,  8,  1,  0, 15, 11,\n",
      "        15, 15, 15, 15,  6,  3, 15,  6, 15,  2], device='cuda:0')\n",
      "131 / 256 = Acc: 51.171875 %\n",
      "TensorBase([0.1150, 0.1090, 0.1074, 0.0926, 0.1051, 0.1325, 0.1091, 0.1137,\n",
      "            0.1060, 0.1092, 0.0981, 0.1071, 0.1153, 0.1126, 0.1071, 0.0991,\n",
      "            0.1068, 0.1097, 0.1127, 0.0994, 0.1009, 0.1013, 0.0988, 0.1064,\n",
      "            0.1092, 0.0963, 0.1093, 0.1124, 0.1030, 0.1119, 0.1125, 0.1181,\n",
      "            0.1023, 0.1053, 0.1024, 0.1130, 0.1122, 0.0953, 0.1165, 0.1112,\n",
      "            0.1129, 0.1086, 0.1096, 0.1040, 0.1084, 0.1236, 0.0985, 0.1015,\n",
      "            0.1100, 0.0997, 0.1815, 0.1106, 0.1064, 0.1107, 0.1411, 0.1137,\n",
      "            0.1165, 0.1107, 0.1049, 0.1010, 0.1093, 0.1120, 0.1017, 0.1181],\n",
      "           device='cuda:0') TensorBase([15, 15, 15, 15, 15, 15, 15, 15, 15, 15, 15, 15, 15, 15, 15, 15, 15,\n",
      "            15, 15, 15, 15, 15, 15, 15, 15, 15, 15, 15, 15, 15, 15, 15, 15, 15,\n",
      "            15, 15, 15, 15, 15, 15, 15, 15, 15, 15, 15, 15, 15, 15, 15, 15, 15,\n",
      "            15, 15, 15, 15, 15, 15, 15, 15, 15, 15, 15, 15, 15],\n",
      "           device='cuda:0') tensor([15, 10, 15, 15, 15, 15,  8, 15,  2, 15, 15, 14, 15, 15, 15, 15, 11, 15,\n",
      "         6,  2,  6,  2, 15, 15,  2, 15, 10, 15, 11,  1, 15, 15, 15, 10, 15, 14,\n",
      "         0, 15, 15, 14, 15,  3, 15, 15,  7,  0, 15,  6, 11, 10,  6, 15, 15, 14,\n",
      "         3, 13, 15,  1, 15, 11,  6,  9, 15, 15], device='cuda:0')\n",
      "164 / 320 = Acc: 51.25 %\n",
      "TensorBase([0.1136, 0.1104, 0.1018, 0.1662, 0.1031, 0.1079, 0.1151, 0.1144,\n",
      "            0.0967, 0.1119, 0.1222, 0.1022, 0.0945, 0.1071, 0.1156, 0.1129,\n",
      "            0.1079, 0.1059, 0.0996, 0.1042, 0.1094, 0.1095, 0.1051, 0.0981,\n",
      "            0.1200, 0.1078, 0.1078, 0.1043, 0.1295, 0.1163, 0.1233, 0.1065,\n",
      "            0.1139, 0.1121, 0.1083, 0.0938, 0.1147, 0.1111, 0.0950, 0.1046,\n",
      "            0.1142, 0.1197, 0.1302, 0.1732, 0.1171, 0.1121, 0.1080, 0.1156,\n",
      "            0.1056, 0.1095, 0.1126, 0.1093, 0.1090, 0.1053, 0.0973, 0.1123,\n",
      "            0.1046, 0.1037, 0.1182, 0.1205, 0.1159, 0.1027, 0.0940, 0.1063],\n",
      "           device='cuda:0') TensorBase([15, 15, 15, 15, 15, 15, 15, 15, 15, 15, 15, 15, 15, 15, 15, 15, 15,\n",
      "            15, 15, 15, 15, 15, 15, 15, 15, 15, 15, 15, 15, 15, 15, 15, 15, 15,\n",
      "            15, 15, 15, 15, 15, 15, 15, 15, 15, 15, 15, 15, 15, 15, 15, 15, 15,\n",
      "            15, 15, 15, 15, 15, 15, 15, 15, 15, 15, 15, 15, 15],\n",
      "           device='cuda:0') tensor([15, 14, 15, 15, 10, 15,  4, 15, 15, 15,  6, 15, 15,  4,  2,  8,  6,  2,\n",
      "        15,  7,  6,  5, 15, 15, 15,  7,  4, 15, 15, 15, 15,  3,  1, 15,  7, 15,\n",
      "        13,  1, 15, 11,  7,  5,  4,  8,  5,  3, 14, 14, 15, 10, 15, 15,  0, 15,\n",
      "        15, 15, 15, 11, 15, 12, 15, 15, 15,  4], device='cuda:0')\n",
      "195 / 384 = Acc: 50.78125 %\n",
      "TensorBase([0.1026, 0.1155, 0.1154, 0.1073, 0.1136, 0.1095, 0.1118, 0.1123,\n",
      "            0.1077, 0.1035, 0.1441, 0.1143, 0.1114, 0.1219, 0.1030, 0.1054,\n",
      "            0.1154, 0.1057, 0.1088, 0.1129, 0.1039, 0.1049, 0.0977, 0.1182,\n",
      "            0.1147, 0.1018, 0.1203, 0.0998, 0.1004, 0.1255, 0.1108, 0.1068,\n",
      "            0.1162, 0.1200, 0.1006, 0.1054, 0.1056, 0.1169, 0.1085, 0.1275,\n",
      "            0.1124, 0.1046, 0.1241, 0.1181, 0.1048, 0.1164, 0.1029, 0.1395,\n",
      "            0.1064, 0.1113, 0.1031, 0.1143, 0.1207, 0.0953, 0.1067, 0.1266,\n",
      "            0.1164, 0.1175, 0.1076, 0.1048, 0.1116, 0.1083, 0.0993, 0.1086],\n",
      "           device='cuda:0') TensorBase([15, 15, 15, 15, 15, 15, 15, 15, 15, 15, 15, 15, 15, 15, 15, 15, 15,\n",
      "            15, 15, 15, 15, 15, 15, 15, 15, 15, 15, 15, 15, 15, 15, 15, 15, 15,\n",
      "            15, 15, 15, 15, 15, 15, 15, 15, 15, 15, 15, 15, 15, 15, 15, 15, 15,\n",
      "            15, 15, 15, 15, 15, 15, 15, 15, 15, 15, 15, 15, 15],\n",
      "           device='cuda:0') tensor([11, 15, 15,  1, 15, 15, 12,  4, 15, 15,  5,  1,  3,  0, 11, 15,  3, 11,\n",
      "        11,  7,  7, 15, 15, 15, 15, 15,  8, 11, 15, 15, 15, 15, 15, 15, 15, 10,\n",
      "        15, 15, 15, 15, 13,  5,  1, 15,  0, 12, 15,  5, 14,  4, 15,  1,  0,  6,\n",
      "        11, 15, 12, 15, 15,  9, 15, 15,  4,  1], device='cuda:0')\n",
      "226 / 448 = Acc: 50.44642857142857 %\n",
      "TensorBase([0.1043, 0.1280, 0.0973, 0.1136, 0.1150, 0.1087, 0.1192, 0.0991,\n",
      "            0.1093, 0.0985, 0.1097, 0.1269, 0.1180, 0.1181, 0.1265, 0.1154,\n",
      "            0.1052, 0.1195, 0.1095, 0.1022, 0.1192, 0.1178, 0.1163, 0.1185,\n",
      "            0.0972, 0.1149, 0.1123, 0.1128, 0.1104, 0.1103, 0.1134, 0.1152,\n",
      "            0.1064, 0.1089, 0.1141, 0.1075, 0.1091, 0.1072, 0.1296, 0.1204,\n",
      "            0.1111, 0.1037, 0.1001, 0.1181, 0.1079, 0.1309, 0.1190, 0.1031,\n",
      "            0.1192, 0.1173, 0.1164, 0.1105, 0.1237, 0.1135, 0.1036, 0.1051,\n",
      "            0.1069, 0.1134, 0.1083, 0.1147, 0.1149, 0.1096, 0.1086, 0.1354],\n",
      "           device='cuda:0') TensorBase([15, 15, 15, 15, 15, 15, 15, 15, 15, 15, 15, 15, 15, 15, 15, 15, 15,\n",
      "            15, 15, 15, 15, 15, 15, 15, 15, 15, 15, 15, 15, 15, 15, 15, 15, 15,\n",
      "            15, 15, 15, 15, 15, 15, 15, 15, 15, 15, 15, 15, 15, 15, 15, 15, 15,\n",
      "            15, 15, 15, 15, 15, 15, 15, 15, 15, 15, 15, 15, 15],\n",
      "           device='cuda:0') tensor([15, 15, 11,  8, 13, 15, 12,  9, 15, 15,  9,  5, 15, 14, 15,  2, 15, 15,\n",
      "         5, 15, 12,  6, 15, 12, 15, 15, 15, 15, 15, 15,  3,  2, 15, 15,  0,  2,\n",
      "        14, 15, 15, 13,  1, 10, 15, 15, 11, 15, 15, 15, 15,  4, 15, 15,  4, 15,\n",
      "        15,  9,  3, 15, 15,  7, 15, 12,  3, 15], device='cuda:0')\n",
      "261 / 512 = Acc: 50.9765625 %\n",
      "TensorBase([0.1007, 0.1153, 0.1036, 0.1124, 0.1144, 0.1144, 0.1112, 0.1083,\n",
      "            0.1094, 0.1151, 0.1076, 0.1180, 0.1100, 0.1135, 0.1150, 0.1100,\n",
      "            0.1184, 0.1177, 0.1108, 0.1120, 0.1078, 0.1095, 0.1016, 0.1089,\n",
      "            0.1026, 0.1029, 0.1053, 0.1169, 0.1126, 0.1275, 0.1075, 0.1038,\n",
      "            0.1068, 0.1114, 0.1121, 0.1104, 0.1055, 0.1097, 0.1121, 0.1170,\n",
      "            0.1197, 0.1103, 0.1159, 0.1270, 0.1209, 0.1134, 0.1115, 0.1174,\n",
      "            0.1172, 0.1239, 0.1155, 0.1065, 0.1261, 0.1090, 0.1117, 0.1147,\n",
      "            0.1034, 0.1119, 0.1338, 0.1093, 0.1188, 0.1149, 0.1200, 0.1279],\n",
      "           device='cuda:0') TensorBase([15, 15, 15, 15, 15, 15, 15, 15, 15, 15, 15, 15, 15, 15, 15, 15, 15,\n",
      "            15, 15, 15, 15, 15, 15, 15, 15, 15, 15, 15, 15, 15, 15, 15, 15, 15,\n",
      "            15, 15, 15, 15, 15, 15, 15, 15, 15, 15, 15, 15, 15, 15, 15, 15, 15,\n",
      "            15, 15, 15, 15, 15, 15, 15, 15, 15, 15, 15, 15, 15],\n",
      "           device='cuda:0') tensor([15, 14,  6, 15, 15, 15, 12, 15, 15, 15, 10, 15,  7,  0, 15, 15, 13,  1,\n",
      "        15, 15,  9, 14, 10, 13, 14, 15, 15,  1,  0, 15,  1, 15, 15, 15, 15,  2,\n",
      "        15, 15,  0,  3,  1, 10,  1, 15, 15, 15, 15, 15, 15,  4,  6, 15, 15, 15,\n",
      "        15, 10,  7,  5, 15,  4,  5, 15,  3,  3], device='cuda:0')\n",
      "294 / 576 = Acc: 51.041666666666664 %\n",
      "TensorBase([0.1115, 0.1227, 0.1029, 0.1127, 0.1048, 0.1132, 0.1118, 0.1035,\n",
      "            0.1143, 0.1116, 0.1187, 0.1128, 0.1131, 0.1123, 0.1154, 0.1046,\n",
      "            0.1138, 0.0976, 0.1050, 0.1119, 0.1124, 0.1091, 0.1154, 0.1049,\n",
      "            0.1119, 0.1051, 0.1084, 0.1157, 0.1101, 0.1115, 0.1044, 0.1185,\n",
      "            0.1025, 0.1198, 0.1096, 0.1128, 0.1079, 0.1063, 0.1158, 0.1067,\n",
      "            0.1130, 0.1061, 0.1071, 0.0940, 0.1148, 0.1181, 0.1113, 0.1149,\n",
      "            0.1231, 0.1168, 0.1391, 0.1184, 0.1121, 0.1167, 0.1133, 0.1307,\n",
      "            0.1092, 0.1142, 0.1089, 0.1049, 0.1021, 0.1143, 0.1115, 0.1018],\n",
      "           device='cuda:0') TensorBase([15, 15, 15, 15, 15, 15, 15, 15, 15, 15, 15, 15, 15, 15, 15, 15, 15,\n",
      "            15, 15, 15, 15, 15, 15, 15, 15, 15, 15, 15, 15, 15, 15, 15, 15, 15,\n",
      "            15, 15, 15, 15, 15, 15, 15, 15, 15, 15, 15, 15, 15, 15, 15, 15, 15,\n",
      "            15, 15, 15, 15, 15, 15, 15, 15, 15, 15, 15, 15, 15],\n",
      "           device='cuda:0') tensor([15,  6, 15, 15,  4,  7, 15, 15, 12,  0,  8,  2, 15, 13,  7,  2,  2, 15,\n",
      "        11,  7,  2,  9, 15, 10,  3, 15,  8, 12, 15, 11, 14, 15, 10, 15, 15,  0,\n",
      "         9, 15,  7, 15, 14, 15, 15, 15, 12,  0, 15, 14, 15,  8, 15, 13, 15, 15,\n",
      "        15, 15,  0, 15,  7,  5, 15,  3, 15,  6], device='cuda:0')\n",
      "322 / 640 = Acc: 50.3125 %\n",
      "TensorBase([0.1066, 0.1003, 0.1222, 0.1139, 0.0983, 0.1064, 0.0970, 0.1115,\n",
      "            0.1091, 0.1172, 0.1040, 0.1100, 0.1022, 0.1060, 0.1047, 0.1111,\n",
      "            0.1147, 0.1108, 0.1094, 0.1050, 0.1207, 0.0978, 0.1072, 0.1173,\n",
      "            0.1138, 0.1147, 0.1111, 0.1081, 0.1026, 0.1080, 0.1031, 0.1111,\n",
      "            0.1067, 0.1067, 0.0984, 0.1218, 0.1003, 0.1464, 0.1454, 0.1083,\n",
      "            0.0970, 0.1010, 0.0989, 0.1049, 0.1145, 0.1170, 0.1002, 0.1091,\n",
      "            0.1054, 0.1200, 0.1079, 0.1087, 0.1011, 0.1071, 0.1129, 0.1039,\n",
      "            0.1076, 0.0960, 0.1014, 0.1154, 0.0983, 0.1099, 0.0947, 0.1153],\n",
      "           device='cuda:0') TensorBase([15, 15, 15, 15, 15, 15, 15, 15, 15, 15, 15, 15, 15, 15, 15, 15, 15,\n",
      "            15, 15, 15, 15, 15, 15, 15, 15, 15, 15, 15, 15, 15, 15, 15, 15, 15,\n",
      "            15, 15, 15, 15, 15, 15, 15, 15, 15, 15, 15, 15, 15, 15, 15, 15, 15,\n",
      "            15, 15, 15, 15, 15, 15, 15, 15, 15, 15, 15, 15, 15],\n",
      "           device='cuda:0') tensor([15, 15, 15,  1, 15, 15,  9, 15, 13, 15, 14,  5, 15,  7, 15, 15, 15, 15,\n",
      "         7,  6, 15,  6, 15, 15, 15, 15, 15,  1,  3, 15, 15, 15, 15, 13, 10,  4,\n",
      "         6, 15, 15, 15, 15,  6, 15,  0,  3,  5, 15, 15, 15, 15, 15, 14,  3,  2,\n",
      "        15, 15, 15, 15, 15, 15, 15, 13, 11, 15], device='cuda:0')\n",
      "362 / 704 = Acc: 51.42045454545455 %\n",
      "TensorBase([0.1142, 0.1528, 0.1075, 0.1216, 0.1249, 0.1251, 0.1012, 0.1135,\n",
      "            0.1265, 0.1199, 0.1067, 0.1129, 0.0988, 0.1118, 0.1245, 0.1069,\n",
      "            0.1215, 0.1119, 0.1116, 0.1028, 0.1107, 0.1079, 0.1075, 0.1049,\n",
      "            0.1025, 0.1137, 0.1064, 0.1242, 0.1209, 0.1064, 0.0957, 0.1159,\n",
      "            0.1052, 0.1078, 0.1186, 0.1111, 0.1021, 0.1116, 0.1019, 0.1238,\n",
      "            0.1168, 0.1072, 0.1050, 0.1164, 0.1021, 0.1089, 0.0992, 0.1097,\n",
      "            0.1064, 0.1208, 0.1154, 0.1005, 0.1195, 0.1079, 0.1127, 0.1165,\n",
      "            0.1250, 0.1225, 0.1111, 0.1078, 0.1099, 0.1096, 0.1145, 0.1182],\n",
      "           device='cuda:0') TensorBase([15, 15, 15, 15, 15, 15, 15, 15, 15, 15, 15, 15, 15, 15, 15, 15, 15,\n",
      "            15, 15, 15, 15, 15, 15, 15, 15, 15, 15, 15, 15, 15, 15, 15, 15, 15,\n",
      "            15, 15, 15, 15, 15, 15, 15, 15, 15, 15, 15, 15, 15, 15, 15, 15, 15,\n",
      "            15, 15, 15, 15, 15, 15, 15, 15, 15, 15, 15, 15, 15],\n",
      "           device='cuda:0') tensor([ 3,  8, 15,  8, 15, 15, 11, 14,  3, 13, 15, 15, 15,  0, 15, 15, 15,  3,\n",
      "        15, 15,  5, 11, 15, 15, 15, 15,  6,  5, 15, 15, 15, 15,  2,  9,  1,  2,\n",
      "        10, 15,  9,  4, 15, 10,  7,  2, 15, 14, 15, 10, 15, 15,  4, 15, 15, 13,\n",
      "        15, 12, 15, 15, 14, 15, 14, 15,  6, 15], device='cuda:0')\n",
      "395 / 768 = Acc: 51.432291666666664 %\n",
      "TensorBase([0.1116, 0.1042, 0.1126, 0.1086, 0.1104, 0.1036, 0.1110, 0.0987,\n",
      "            0.1066, 0.1105, 0.1015, 0.1088, 0.1111, 0.1062, 0.1126, 0.0936,\n",
      "            0.1067, 0.1084, 0.1040, 0.1075, 0.1047, 0.1084, 0.1067, 0.1113,\n",
      "            0.0969, 0.1022, 0.1100, 0.1034, 0.1202, 0.0964, 0.1119, 0.1086,\n",
      "            0.1076, 0.1110, 0.1784, 0.1090, 0.1155, 0.0974, 0.1078, 0.0985,\n",
      "            0.1145, 0.0992, 0.1015, 0.1091, 0.1018, 0.1030, 0.0964, 0.1164,\n",
      "            0.1145, 0.1055, 0.0933, 0.1088, 0.0935, 0.1054, 0.1118, 0.1000,\n",
      "            0.1036, 0.1112, 0.0954, 0.1042, 0.0968, 0.1156, 0.0958, 0.1070],\n",
      "           device='cuda:0') TensorBase([15, 15, 15, 15, 15, 15, 15, 15, 15, 15, 15, 15, 15, 15, 15, 15, 15,\n",
      "            15, 15, 15, 15, 15, 15, 15, 15, 15, 15, 15, 15, 15, 15, 15, 15, 15,\n",
      "            15, 15, 15, 15, 15, 15, 15, 15, 15, 15, 15, 15, 15, 15, 15, 15, 15,\n",
      "            15, 15, 15, 15, 15, 15, 15, 15, 15, 15, 15, 15, 15],\n",
      "           device='cuda:0') tensor([15, 15, 15, 15, 15, 15,  2, 15, 15, 12,  5,  7, 15, 15, 13, 15,  7, 11,\n",
      "        15,  3,  9, 15, 14,  1, 15,  7,  0, 15,  2, 15, 12, 15, 12, 15,  4,  8,\n",
      "        15,  5, 15, 15, 15, 10,  9, 15, 15, 11,  9, 15,  8, 10, 15, 15, 10, 15,\n",
      "         8, 15, 14, 15,  6,  0,  6, 15,  6, 15], device='cuda:0')\n",
      "427 / 832 = Acc: 51.32211538461539 %\n",
      "TensorBase([0.1243, 0.1118, 0.1166, 0.1119, 0.1119, 0.1220, 0.1113, 0.0981,\n",
      "            0.1181, 0.1205, 0.1156, 0.1089, 0.1141, 0.1010, 0.1111, 0.1165,\n",
      "            0.1121, 0.1079, 0.1407, 0.1157, 0.1136, 0.1142, 0.1058, 0.1264,\n",
      "            0.1022, 0.1092, 0.1272, 0.1224, 0.1239, 0.1074, 0.1035, 0.1066,\n",
      "            0.1071, 0.1178, 0.1059, 0.1031, 0.1057, 0.1064, 0.1068, 0.1043,\n",
      "            0.1019, 0.1094, 0.1113, 0.0917, 0.1003, 0.1093, 0.1144, 0.1101,\n",
      "            0.1156, 0.1223, 0.1094, 0.1106, 0.1110, 0.1289, 0.1090, 0.1153,\n",
      "            0.1191, 0.1050, 0.1056, 0.1058, 0.0972, 0.1215, 0.1265, 0.1013],\n",
      "           device='cuda:0') TensorBase([15, 15, 15, 15, 15, 15, 15, 15, 15, 15, 15, 15, 15, 15, 15, 15, 15,\n",
      "            15, 15, 15, 15, 15, 15, 15, 15, 15, 15, 15, 15, 15, 15, 15, 15, 15,\n",
      "            15, 15, 15, 15, 15, 15, 15, 15, 15, 15, 15, 15, 15, 15, 15, 15, 15,\n",
      "            15, 15, 15, 15, 15, 15, 15, 15, 15, 15, 15, 15, 15],\n",
      "           device='cuda:0') tensor([15,  9, 15,  7, 15, 15, 13, 15, 15, 15, 13,  7,  4, 15,  3, 15, 15, 15,\n",
      "         3,  4, 15,  7, 15,  8, 15,  7,  5, 15, 12,  3, 15,  3,  8, 15, 15,  2,\n",
      "        10, 15,  9, 15, 15,  7,  6, 15, 15,  3, 15,  5, 14, 15, 15, 15, 15, 15,\n",
      "        11,  4, 15,  0,  9,  6, 15, 15, 15, 15], device='cuda:0')\n",
      "461 / 896 = Acc: 51.450892857142854 %\n",
      "TensorBase([0.1124, 0.1070, 0.1037, 0.2067, 0.0936, 0.1049, 0.1099, 0.1135,\n",
      "            0.1107, 0.0968, 0.1242, 0.1112, 0.1049, 0.1127, 0.1128, 0.1070,\n",
      "            0.1016, 0.1104, 0.1025, 0.0994, 0.1053, 0.1186, 0.1098, 0.0957,\n",
      "            0.1071, 0.1092, 0.1100, 0.1124, 0.1059, 0.1125, 0.1102, 0.1452,\n",
      "            0.1110, 0.1076, 0.1145, 0.1120, 0.1155, 0.1087, 0.1088, 0.1089,\n",
      "            0.0979, 0.1129, 0.1177, 0.1019, 0.1084, 0.1228, 0.1070, 0.1090,\n",
      "            0.1130, 0.1065, 0.1214, 0.1019, 0.1139, 0.1069, 0.1160, 0.1120,\n",
      "            0.1058, 0.1061, 0.1015, 0.1051, 0.1101, 0.0975, 0.1116, 0.1064],\n",
      "           device='cuda:0') TensorBase([15, 15, 15, 15, 15, 15, 15, 15, 15, 15, 15, 15, 15, 15, 15, 15, 15,\n",
      "            15, 15, 15, 15, 15, 15, 15, 15, 15, 15, 15, 15, 15, 15, 15, 15, 15,\n",
      "            15, 15, 15, 15, 15, 15, 15, 15, 15, 15, 15, 15, 15, 15, 15, 15, 15,\n",
      "            15, 15, 15, 15, 15, 15, 15, 15, 15, 15, 15, 15, 15],\n",
      "           device='cuda:0') tensor([15,  9,  8, 15, 15,  2, 13, 13, 12, 10, 12,  2,  3, 15, 15, 15, 11, 14,\n",
      "         9, 15,  3, 15,  2,  6,  4, 15,  1,  1, 11,  5, 15,  7, 15,  2,  5,  1,\n",
      "        15,  6, 12, 15, 15,  5,  5,  0,  2, 15,  3,  4,  1, 15,  3, 11,  1,  0,\n",
      "         8, 15, 15, 15, 15,  1, 15, 15, 15,  2], device='cuda:0')\n",
      "484 / 960 = Acc: 50.416666666666664 %\n",
      "TensorBase([0.1096, 0.1137, 0.1110, 0.1045, 0.1228, 0.1215, 0.1148, 0.1130,\n",
      "            0.1108, 0.1135, 0.1081, 0.1184, 0.1068, 0.1079, 0.1135, 0.1261,\n",
      "            0.1146, 0.1089, 0.1115, 0.1140, 0.1079, 0.0992, 0.1167, 0.1197,\n",
      "            0.1095, 0.1070, 0.1026, 0.1135, 0.1157, 0.1443, 0.1075, 0.1287,\n",
      "            0.1038, 0.1128, 0.1096, 0.1158, 0.1150, 0.1047, 0.1175, 0.1010,\n",
      "            0.1112, 0.1150, 0.0949, 0.1056, 0.1195, 0.1185, 0.1017, 0.1162,\n",
      "            0.1057, 0.1315, 0.1326, 0.1024, 0.1133, 0.1033, 0.1057, 0.1079,\n",
      "            0.1102, 0.1145, 0.1013, 0.1068, 0.1170, 0.1119, 0.1112, 0.1115],\n",
      "           device='cuda:0') TensorBase([15, 15, 15, 15, 15, 15, 15, 15, 15, 15, 15, 15, 15, 15, 15, 15, 15,\n",
      "            15, 15, 15, 15, 15, 15, 15, 15, 15, 15, 15, 15, 15, 15, 15, 15, 15,\n",
      "            15, 15, 15, 15, 15, 15, 15, 15, 15, 15, 15, 15, 15, 15, 15, 15, 15,\n",
      "            15, 15, 15, 15, 15, 15, 15, 15, 15, 15, 15, 15, 15],\n",
      "           device='cuda:0') tensor([15,  2,  2, 15, 15, 15, 15,  8, 13, 15, 15, 15, 15,  1,  8,  5, 15, 14,\n",
      "         1, 15, 13,  7,  8, 15, 14, 14, 15,  4, 12,  4, 15, 15, 15, 15, 15, 15,\n",
      "        12,  9, 12, 15, 15, 13, 15, 15,  0, 15, 15,  1,  7, 15, 15, 15, 15,  6,\n",
      "        15, 15, 15, 15, 11, 15, 15, 15, 13,  3], device='cuda:0')\n",
      "520 / 1024 = Acc: 50.78125 %\n",
      "TensorBase([0.1114, 0.1115, 0.1104, 0.1039, 0.1018, 0.1088, 0.1151, 0.1270,\n",
      "            0.1238, 0.1245, 0.1072, 0.1111, 0.1108, 0.1028, 0.1106, 0.1241,\n",
      "            0.1282, 0.1095, 0.1055, 0.0947, 0.1193, 0.1216, 0.1057, 0.1044,\n",
      "            0.0974, 0.1137, 0.1196, 0.1135, 0.1178, 0.1108, 0.1160, 0.1023,\n",
      "            0.1061, 0.1193, 0.1005, 0.1220, 0.1060, 0.1211, 0.1326, 0.1142,\n",
      "            0.1117, 0.1123, 0.1113, 0.1215, 0.1198, 0.1203, 0.1167, 0.1192,\n",
      "            0.1172, 0.1150, 0.1134, 0.1010, 0.1156, 0.0997, 0.1111, 0.1094,\n",
      "            0.1095, 0.1179, 0.1150, 0.1211], device='cuda:0') TensorBase([15, 15, 15, 15, 15, 15, 15, 15, 15, 15, 15, 15, 15, 15, 15, 15, 15,\n",
      "            15, 15, 15, 15, 15, 15, 15, 15, 15, 15, 15, 15, 15, 15, 15, 15, 15,\n",
      "            15, 15, 15, 15, 15, 15, 15, 15, 15, 15, 15, 15, 15, 15, 15, 15, 15,\n",
      "            15, 15, 15, 15, 15, 15, 15, 15, 15], device='cuda:0') tensor([15,  4,  9, 15, 15,  3, 12, 15, 12,  8,  7, 15,  8,  4,  9, 15,  5,  0,\n",
      "        15, 15, 15, 12,  9, 15, 15,  2, 15,  3,  8, 15, 12, 15, 15, 13,  6, 15,\n",
      "         3, 15, 15,  5,  4, 10, 15, 12,  4,  5,  9, 15, 15, 12, 15, 15, 10, 10,\n",
      "        15, 14, 11,  0,  1, 15], device='cuda:0')\n",
      "545 / 1084 = Acc: 50.276752767527675 %\n"
     ]
    }
   ],
   "source": [
    "# For Confusion Matrix\n",
    "predicted_lists = np.zeros(0, dtype=np.int64)\n",
    "one_hot_labels_list = np.zeros(0, dtype=np.int64)\n",
    "\n",
    "with torch.no_grad():\n",
    "  n_correct = 0\n",
    "  n_samples = 0\n",
    "  softmax = nn.Softmax()\n",
    "  for i, (signals, one_hot_labels) in enumerate(test_loader):\n",
    "    signals = torch.tensor(signals)\n",
    "    signals = signals.float()\n",
    "    signals = signals.to(device)\n",
    "    one_hot_labels = one_hot_labels.to(device)\n",
    "    # print(len(one_hot_labels))\n",
    "    outputs = model(signals)\n",
    "    for j, out in enumerate(outputs):\n",
    "      outputs[j] = softmax(out)\n",
    "\n",
    "    _, predicted = torch.max(outputs.data, 1) # predicted per batch size\n",
    "    \n",
    "    \n",
    "    for idx in range(len(_)):\n",
    "      if _[idx] < threshold:\n",
    "        predicted[idx] = Unknown_label # 15, 20, 25\n",
    "    print(_, predicted, one_hot_labels)\n",
    "\n",
    "    n_samples += one_hot_labels.size(0) # add batch_size\n",
    "    n_correct += (predicted == one_hot_labels).sum().item()\n",
    "    \n",
    "    predicted_cp = predicted.to('cpu').detach().numpy().copy()\n",
    "    one_hot_labels_cp = one_hot_labels.to('cpu').detach().numpy().copy()\n",
    "    predicted_lists = np.concatenate([predicted_lists, predicted_cp])\n",
    "    one_hot_labels_list = np.concatenate([one_hot_labels_list, one_hot_labels_cp])\n",
    "    \n",
    "    acc = 100.0 * n_correct / n_samples\n",
    "    print(f'{n_correct} / {n_samples} = Acc: {acc} %')"
   ]
  },
  {
   "cell_type": "code",
   "execution_count": null,
   "metadata": {},
   "outputs": [],
   "source": [
    "predicted_lists[700:], one_hot_labels_list[700:]"
   ]
  },
  {
   "cell_type": "code",
   "execution_count": null,
   "metadata": {},
   "outputs": [],
   "source": [
    "_"
   ]
  },
  {
   "cell_type": "code",
   "execution_count": 1012,
   "metadata": {},
   "outputs": [
    {
     "data": {
      "text/plain": [
       "torch.Size([64, 1])"
      ]
     },
     "execution_count": 1012,
     "metadata": {},
     "output_type": "execute_result"
    }
   ],
   "source": [
    "output_for_cent = []\n",
    "for idx, x in enumerate(outputs):\n",
    "    x = x[labels[idx]]\n",
    "    output_for_cent.append([x])\n",
    "output_for_cent = torch.tensor(output_for_cent)\n",
    "output_for_cent.shape"
   ]
  },
  {
   "cell_type": "code",
   "execution_count": null,
   "metadata": {},
   "outputs": [],
   "source": [
    "from sklearn.metrics import confusion_matrix\n",
    "import seaborn as sns\n",
    "import matplotlib.pyplot as plt\n",
    "\n",
    "cm = confusion_matrix(one_hot_labels_list, predicted_lists)\n",
    "sns.heatmap(cm, square=True, cbar=True, annot=True, cmap='Blues')\n",
    "plt.xlabel(\"Predicted Label\", fontsize=13)\n",
    "plt.ylabel(\"Ground Truth\", fontsize=13)\n",
    "fig_name = \"sklearn_confusion_matrix_{}_{}.png\".format(Unknown_label, threshold)\n",
    "plt.savefig(\"./figure/\" + fig_name)\n",
    "cm"
   ]
  },
  {
   "cell_type": "code",
   "execution_count": null,
   "metadata": {},
   "outputs": [],
   "source": [
    "x = np.linspace(0.30, 0.80, 11)\n",
    "y1 = [86.33, 88.00, 89.94, 91.32, 92.70, 93.26, 93.81, 94.45, 94.92, 94.55, 93.63]\n",
    "y2 = [71.01, 73.68, 76.55, 78.85, 82.83, 84.03, 85.78, 87.07, 87.72, 88.64, 88.27]\n",
    "y3 = [55.44, 59.79, 64.76, 70.85, 75.37, 78.41, 80.72, 82.84, 86.25, 87.73, 89.30]\n",
    "y0 = [99.08, 99.08, 99.08, 99.08, 99.08, 99.08, 99.08, 99.08, 99.08, 99.08, 99.08]\n",
    "plt.ylim(55, 100)\n",
    "plt.xlabel(\"Threshold\")\n",
    "plt.ylabel(\"Accuracy [%]\")\n",
    "plt.plot(x, y0, label=\"Openness=0, (threshold=0)\")\n",
    "plt.plot(x, y1, marker=\"o\", label=\"Openness=0.087\")\n",
    "plt.plot(x, y2, marker=\"*\", label=\"Openness=0.184\")\n",
    "plt.plot(x, y3, marker=\"x\", label=\"Openness=0.293\")\n",
    "plt.legend()"
   ]
  },
  {
   "cell_type": "code",
   "execution_count": null,
   "metadata": {},
   "outputs": [],
   "source": [
    "x = np.linspace(0.30, 0.80, 11)\n",
    "y1 = []\n",
    "y2 = [71.01, 73.68, 76.55, 78.85, 82.83, 84.03, 85.78, 87.07, 87.72, 88.64, 88.27]\n",
    "y3 = [55.44, 59.79, 64.76, 70.85, 75.37, 78.41, 80.72, 82.84, 86.25, 87.73, 89.30]\n",
    "y0 = [99.08, 99.08, 99.08, 99.08, 99.08, 99.08, 99.08, 99.08, 99.08, 99.08, 99.08]\n",
    "plt.ylim(55, 100)\n",
    "plt.xlabel(\"Threshold\")\n",
    "plt.ylabel(\"Accuracy [%]\")\n",
    "plt.plot(x, y0, label=\"Openness=0, (threshold=0)\")\n",
    "plt.plot(x, y1, marker=\"o\", label=\"Openness=0.087\")\n",
    "plt.plot(x, y2, marker=\"*\", label=\"Openness=0.184\")\n",
    "plt.plot(x, y3, marker=\"x\", label=\"Openness=0.293\")\n",
    "plt.legend()"
   ]
  },
  {
   "cell_type": "code",
   "execution_count": 910,
   "metadata": {},
   "outputs": [
    {
     "data": {
      "text/plain": [
       "<matplotlib.legend.Legend at 0x7f91700efb80>"
      ]
     },
     "execution_count": 910,
     "metadata": {},
     "output_type": "execute_result"
    },
    {
     "data": {
      "image/png": "[encoded data removed]",
      "text/plain": [
       "<Figure size 640x480 with 1 Axes>"
      ]
     },
     "metadata": {},
     "output_type": "display_data"
    }
   ],
   "source": [
    "a = np.array([55.35055350553505, 61.99261992619926, 64.11439114391143, 70.75645756457564, 74.6309963099631, 73.5239852398524, 77.58302583025831, 84.5940959409594, 81.91881918819188, 90.59040590405904, 88.46863468634686])\n",
    "b = np.array([55.71955719557196, 57.564575645756456, 61.62361623616236, 70.9409594095941, 71.58671586715867, 76.56826568265683, 75.27675276752767, 76.19926199261992, 81.2730627306273, 84.96309963099631, 88.00738007380073])\n",
    "c = np.array([51.93726937269373, 54.7970479704797, 58.025830258302584, 62.08487084870849, 66.32841328413284, 71.03321033210332, 74.72324723247233, 78.50553505535055, 81.91881918819188, 84.77859778597787, 87.82287822878229])\n",
    "d = np.array([52.859778597785976, 56.91881918819188, 61.254612546125465, 66.14391143911439, 70.84870848708488, 75.46125461254613, 78.87453874538745, 82.10332103321034, 85.05535055350553, 87.63837638376384, 90.59040590405904])\n",
    "e = np.array([52.5830258302583, 56.18081180811808, 60.42435424354244, 64.11439114391143, 67.98892988929889, 72.32472324723247, 75.09225092250922, 78.78228782287823, 82.380073800738, 85.23985239852398, 88.09963099630997])\n",
    "ave14 = np.mean([a, b, c, d, e], axis=0)\n",
    "\n",
    "a1 = np.array([68.88273314866113, 73.40720221606648, 77.65466297322253, 78.67036011080333, 78.76269621421976, 84.57987072945522, 83.28716528162512, 87.44228993536473, 85.96491228070175, 88.9196675900277, 88.73499538319483])\n",
    "b1 = np.array([69.3444136657433, 71.46814404432133, 76.08494921514313, 78.02400738688827, 78.30101569713759, 76.5466297322253, 83.10249307479225, 83.28716528162512, 87.07294552169898, 87.6269621421976, 90.2123730378578])\n",
    "c1 = np.array([69.43674976915975, 71.83748845798708, 74.33056325023084, 76.36195752539243, 78.20867959372114, 81.4404432132964, 83.10249307479225, 85.68790397045245, 86.79593721144968, 89.10433979686057, 91.68975069252078])\n",
    "d1 = np.array([68.69806094182826, 70.3601108033241, 72.11449676823638, 74.42289935364728, 75.53093259464451, 76.73130193905817, 78.02400738688827, 78.76269621421976, 80.33240997229917, 81.80978762696215, 84.11819021237304])\n",
    "e1 = np.array([69.71375807940905, 72.29916897506925, 74.9769159741459, 77.93167128347184, 79.87072945521699, 81.4404432132964, 82.82548476454294, 84.57987072945522, 86.0572483841182, 87.44228993536473, 88.73499538319483])\n",
    "\n",
    "ave19 = np.mean([a1, b1, c1, d1, e1], axis=0)\n",
    "\n",
    "a2 = np.array([88.36565096952909, 91.87442289935365, 91.59741458910435, 93.62880886426593, 92.89012003693445, 93.90581717451524, 96.67590027700831, 95.10618651892891, 98.33795013850416, 95.38319482917821, 97.78393351800554])\n",
    "b2 = np.array([87.90397045244691, 88.82733148661127, 91.59741458910435, 88.6426592797784, 91.2280701754386, 94.73684210526316, 94.73684210526316, 93.72114496768236, 95.93721144967682, 95.66020313942752, 97.04524469067405])\n",
    "c2 = np.array([85.87257617728532, 87.53462603878117, 89.47368421052632, 91.59741458910435, 92.05909510618652, 93.25946445060019, 93.8134810710988, 95.01385041551247, 95.8448753462604, 96.67590027700831, 97.96860572483841])\n",
    "d2 = np.array([86.88827331486611, 88.18097876269621, 89.38134810710989, 90.39704524469067, 91.5050784856879, 92.89012003693445, 94.45983379501385, 95.29085872576178, 96.02954755309327, 96.86057248384118, 97.4145891043398])\n",
    "e2 = np.array([86.0572483841182, 87.16528162511543, 88.6426592797784, 91.13573407202216, 92.98245614035088, 94.73684210526316, 96.21421975992614, 97.4145891043398, 97.87626962142198, 98.15327793167128, 98.52262234533703])\n",
    "\n",
    "ave24 = np.mean([a2, b2, c2, d2, e2], axis=0)\n",
    "\n",
    "x = np.linspace(0.30, 0.80, 11)\n",
    "y1 = ave14\n",
    "y2 = ave19\n",
    "y3 = ave24\n",
    "y0 = [99.08, 99.08, 99.08, 99.08, 99.08, 99.08, 99.08, 99.08, 99.08, 99.08, 99.08]\n",
    "plt.ylim(55, 100)\n",
    "plt.xlabel(\"Threshold\")\n",
    "plt.ylabel(\"Accuracy [%]\")\n",
    "# plt.plot(x, y0, label=\"Openness=0, (threshold=0)\")\n",
    "plt.plot(x, y3, marker=\"o\", label=\"Openness=0.087\")\n",
    "plt.plot(x, y2, marker=\"*\", label=\"Openness=0.184\")\n",
    "plt.plot(x, y1, marker=\"x\", label=\"Openness=0.293\")\n",
    "plt.legend()"
   ]
  },
  {
   "cell_type": "markdown",
   "metadata": {},
   "source": [
    "最後のfc層の重みとバイアスを使用する\n",
    "損失関数"
   ]
  },
  {
   "cell_type": "code",
   "execution_count": null,
   "metadata": {},
   "outputs": [],
   "source": [
    "model.fc.weight, model.fc.bias"
   ]
  },
  {
   "cell_type": "code",
   "execution_count": null,
   "metadata": {},
   "outputs": [],
   "source": [
    "outputs[0], labels"
   ]
  },
  {
   "cell_type": "code",
   "execution_count": 891,
   "metadata": {},
   "outputs": [],
   "source": [
    "from math import log\n",
    "softmax = nn.Softmax()\n",
    "\n",
    "def softmax_loss(outputs, labels):\n",
    "    loss = 0\n",
    "    batch_size = len(labels)\n",
    "    softmax_out = softmax(outputs)\n",
    "    for idx in range(batch_size):\n",
    "        loss += 1.0 - log(softmax_out[labels[idx]])\n",
    "    return loss / batch_size\n",
    "\n",
    "\n",
    "from center_loss import CenterLoss\n",
    "center_loss = CenterLoss(num_classes=close_num + 1, feat_dim=1, use_gpu=True)\n",
    "optimizer_centloss = torch.optim.SGD(center_loss.parameters(), lr=0.5)\n",
    "\n",
    "\n",
    "class AngularPenaltySMLoss(nn.Module):\n",
    "\n",
    "    def __init__(self, in_features, out_features, loss_type='cosface', eps=1e-7, s=None, m=None):\n",
    "        '''\n",
    "        Angular Penalty Softmax Loss\n",
    "        Three 'loss_types' available: ['arcface', 'sphereface', 'cosface']\n",
    "        These losses are described in the following papers: \n",
    "        \n",
    "        ArcFace: https://arxiv.org/abs/1801.07698\n",
    "        SphereFace: https://arxiv.org/abs/1704.08063\n",
    "        CosFace/Ad Margin: https://arxiv.org/abs/1801.05599\n",
    "        '''\n",
    "        super(AngularPenaltySMLoss, self).__init__()\n",
    "        loss_type = loss_type.lower()\n",
    "        assert loss_type in  ['arcface', 'sphereface', 'cosface']\n",
    "        if loss_type == 'arcface':\n",
    "            self.s = 64.0 if not s else s\n",
    "            self.m = 0.5 if not m else m\n",
    "        if loss_type == 'sphereface':\n",
    "            self.s = 64.0 if not s else s\n",
    "            self.m = 1.35 if not m else m\n",
    "        if loss_type == 'cosface':\n",
    "            self.s = 30.0 if not s else s\n",
    "            self.m = 0.4 if not m else m\n",
    "        self.loss_type = loss_type\n",
    "        self.in_features = in_features\n",
    "        self.out_features = out_features\n",
    "        self.fc = nn.Linear(in_features, out_features, bias=False)\n",
    "        self.eps = eps\n",
    "\n",
    "    def forward(self, x, labels):\n",
    "        '''\n",
    "        input shape (N, in_features)\n",
    "        '''\n",
    "        assert len(x) == len(labels)\n",
    "        assert torch.min(labels) >= 0\n",
    "        assert torch.max(labels) < self.out_features\n",
    "        \n",
    "        for W in self.fc.parameters():\n",
    "            W = F.normalize(W, p=2, dim=1)\n",
    "\n",
    "        x = F.normalize(x, p=2, dim=1)\n",
    "\n",
    "        wf = self.fc(x)\n",
    "        if self.loss_type == 'cosface':\n",
    "            numerator = self.s * (torch.diagonal(wf.transpose(0, 1)[labels]) - self.m)\n",
    "        if self.loss_type == 'arcface':\n",
    "            numerator = self.s * torch.cos(torch.acos(torch.clamp(torch.diagonal(wf.transpose(0, 1)[labels]), -1.+self.eps, 1-self.eps)) + self.m)\n",
    "        if self.loss_type == 'sphereface':\n",
    "            numerator = self.s * torch.cos(self.m * torch.acos(torch.clamp(torch.diagonal(wf.transpose(0, 1)[labels]), -1.+self.eps, 1-self.eps)))\n",
    "\n",
    "        excl = torch.cat([torch.cat((wf[i, :y], wf[i, y+1:])).unsqueeze(0) for i, y in enumerate(labels)], dim=0)\n",
    "        denominator = torch.exp(numerator) + torch.sum(torch.exp(self.s * excl), dim=1)\n",
    "        L = numerator - torch.log(denominator)\n",
    "        return -torch.mean(L)\n",
    "\n",
    "cos_loss = AngularPenaltySMLoss(1, close_num + 1, loss_type=\"cosface\")\n",
    "\n",
    "\n",
    "def triple_joint_loss(output, label):\n",
    "    return softmax_loss(output, label) + center_loss(output, label) + cos_loss(output, label)"
   ]
  },
  {
   "cell_type": "code",
   "execution_count": null,
   "metadata": {},
   "outputs": [],
   "source": [
    "from torch.autograd import Variable\n",
    "class LMCL_loss(nn.Module):\n",
    "    \"\"\"\n",
    "        Refer to paper:\n",
    "        Hao Wang, Yitong Wang, Zheng Zhou, Xing Ji, Dihong Gong, Jingchao Zhou,Zhifeng Li, and Wei Liu\n",
    "        CosFace: Large Margin Cosine Loss for Deep Face Recognition. CVPR2018\n",
    "        re-implement by yirong mao\n",
    "        2018 07/02\n",
    "        \"\"\"\n",
    "\n",
    "    def __init__(self, num_classes, feat_dim, s=7.00, m=0.2):\n",
    "        super(LMCL_loss, self).__init__()\n",
    "        self.feat_dim = feat_dim\n",
    "        self.num_classes = num_classes\n",
    "        self.s = s\n",
    "        self.m = m\n",
    "        self.centers = nn.Parameter(torch.randn(num_classes, feat_dim))\n",
    "\n",
    "    def forward(self, feat, label):\n",
    "        batch_size = feat.shape[0]\n",
    "        norms = torch.norm(feat, p=2, dim=-1, keepdim=True)\n",
    "        nfeat = torch.div(feat, norms)\n",
    "\n",
    "        norms_c = torch.norm(self.centers, p=2, dim=-1, keepdim=True)\n",
    "        ncenters = torch.div(self.centers, norms_c)\n",
    "        logits = torch.matmul(nfeat, torch.transpose(ncenters, 0, 1))\n",
    "\n",
    "        y_onehot = torch.FloatTensor(batch_size, self.num_classes)\n",
    "        y_onehot.zero_()\n",
    "        y_onehot = Variable(y_onehot).cuda()\n",
    "        y_onehot.scatter_(1, torch.unsqueeze(label, dim=-1), self.m)\n",
    "        margin_logits = self.s * (logits - y_onehot)\n",
    "\n",
    "        return logits, margin_logits"
   ]
  }
 ],
 "metadata": {
  "kernelspec": {
   "display_name": "Python 3.8.10 ('env': venv)",
   "language": "python",
   "name": "python3"
  },
  "language_info": {
   "codemirror_mode": {
    "name": "ipython",
    "version": 3
   },
   "file_extension": ".py",
   "mimetype": "text/x-python",
   "name": "python",
   "nbconvert_exporter": "python",
   "pygments_lexer": "ipython3",
   "version": "3.8.10"
  },
  "orig_nbformat": 4,
  "vscode": {
   "interpreter": {
    "hash": "4f0cee1d93a3f453c87d2fc7ea34167ba7e841aa689af4edcc0624fd2f7da055"
   }
  }
 },
 "nbformat": 4,
 "nbformat_minor": 2
}
