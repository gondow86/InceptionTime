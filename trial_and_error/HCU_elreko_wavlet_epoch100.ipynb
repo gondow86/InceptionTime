{
 "cells": [
  {
   "cell_type": "code",
   "execution_count": 1,
   "metadata": {},
   "outputs": [
    {
     "name": "stdout",
     "output_type": "stream",
     "text": [
      "cuda\n"
     ]
    }
   ],
   "source": [
    "from tsai.imports import *\n",
    "from tsai.models.layers import *\n",
    "from torchinfo import summary\n",
    "import torch\n",
    "import torch.nn as nn\n",
    "from torch.utils.data import Dataset\n",
    "from torch.utils.data import DataLoader\n",
    "import torchvision\n",
    "import torchvision.transforms as transforms\n",
    "import numpy as np\n",
    "import pandas as pd\n",
    "from sklearn.preprocessing import StandardScaler\n",
    "from sklearn.preprocessing import MinMaxScaler\n",
    "from sklearn.manifold import TSNE\n",
    "from scipy import signal\n",
    "from PyEMD import EMD\n",
    "from PyEMD import EEMD\n",
    "\n",
    "device = torch.device('cuda' if torch.cuda.is_available() else 'cpu')\n",
    "print(device)"
   ]
  },
  {
   "cell_type": "code",
   "execution_count": 4,
   "metadata": {},
   "outputs": [],
   "source": [
    "num_class = 12\n",
    "close_num = 11 # 11か12か注意（close numを使ってるとこと整合性とれてるか）\n",
    "batch_size = 64\n",
    "learning_rate = 0.0001\n",
    "num_epochs = 100\n",
    "sequence_len = 250 * 5 # sampling_rate * second\n",
    "overlap = int(sequence_len * 0.3)\n",
    "alpha = 0.1"
   ]
  },
  {
   "cell_type": "code",
   "execution_count": 5,
   "metadata": {},
   "outputs": [],
   "source": [
    "import pywt\n",
    "def ecg_filter(data): # data: 1d array\n",
    "    coeffs = pywt.wavedec(data,'db8',level=8)\n",
    "    for i in np.arange(0,1,1):\n",
    "        coeffs[i] = np.zeros_like(coeffs[i]) # 一番初めは最小の解像度の余りらしい\n",
    "        # print(\"coeff length: {}\".format(len(coeffs)))\n",
    "        # print(f\"1: {i}\")\n",
    "    for i in np.arange(-1,-2,-1):\n",
    "        coeffs[i] = np.zeros_like(coeffs[i])\n",
    "        # print(f\"2: {i}\")\n",
    "    # print(coeffs)\n",
    "    renc = pywt.waverec(coeffs, 'db8')    \n",
    "    return renc"
   ]
  },
  {
   "cell_type": "code",
   "execution_count": 6,
   "metadata": {},
   "outputs": [],
   "source": [
    "def segmentation(end_idx, sequence_len, overlap, data_list):\n",
    "    \"\"\"\n",
    "    データのセグメンテーションを行う\n",
    "    segmentation(len(data_np_unfil_norm), sequence_len, overlap, data_list)\n",
    "    \"\"\"\n",
    "    seg_list = []\n",
    "\n",
    "    for data in data_list:\n",
    "        n = 0\n",
    "        n_stop = sequence_len\n",
    "        data_segs = []\n",
    "        while n_stop < end_idx:\n",
    "            n_start = 0 + ((sequence_len - 1) - (overlap - 1)) * n\n",
    "            n_stop = n_start + sequence_len\n",
    "            seg = data[n_start:n_stop].copy()\n",
    "            if len(seg) == sequence_len:\n",
    "                data_segs.append([seg])\n",
    "            n += 1\n",
    "        seg_list.append(data_segs)\n",
    "    return seg_list"
   ]
  },
  {
   "attachments": {},
   "cell_type": "markdown",
   "metadata": {},
   "source": [
    "#### sampling rate 250Hz 5sで1250 points"
   ]
  },
  {
   "cell_type": "code",
   "execution_count": 7,
   "metadata": {},
   "outputs": [
    {
     "name": "stderr",
     "output_type": "stream",
     "text": [
      "/mnt/c/Users/grpro/workspace/grad_thesis/InceptionTime/env/lib/python3.9/site-packages/pywt/_multilevel.py:43: UserWarning: Level value of 8 is too high: all coefficients will experience boundary effects.\n",
      "  warnings.warn(\n",
      "/mnt/c/Users/grpro/workspace/grad_thesis/InceptionTime/env/lib/python3.9/site-packages/pywt/_multilevel.py:43: UserWarning: Level value of 8 is too high: all coefficients will experience boundary effects.\n",
      "  warnings.warn(\n",
      "/mnt/c/Users/grpro/workspace/grad_thesis/InceptionTime/env/lib/python3.9/site-packages/pywt/_multilevel.py:43: UserWarning: Level value of 8 is too high: all coefficients will experience boundary effects.\n",
      "  warnings.warn(\n",
      "/mnt/c/Users/grpro/workspace/grad_thesis/InceptionTime/env/lib/python3.9/site-packages/pywt/_multilevel.py:43: UserWarning: Level value of 8 is too high: all coefficients will experience boundary effects.\n",
      "  warnings.warn(\n",
      "/mnt/c/Users/grpro/workspace/grad_thesis/InceptionTime/env/lib/python3.9/site-packages/pywt/_multilevel.py:43: UserWarning: Level value of 8 is too high: all coefficients will experience boundary effects.\n",
      "  warnings.warn(\n",
      "/mnt/c/Users/grpro/workspace/grad_thesis/InceptionTime/env/lib/python3.9/site-packages/pywt/_multilevel.py:43: UserWarning: Level value of 8 is too high: all coefficients will experience boundary effects.\n",
      "  warnings.warn(\n",
      "/mnt/c/Users/grpro/workspace/grad_thesis/InceptionTime/env/lib/python3.9/site-packages/pywt/_multilevel.py:43: UserWarning: Level value of 8 is too high: all coefficients will experience boundary effects.\n",
      "  warnings.warn(\n",
      "/mnt/c/Users/grpro/workspace/grad_thesis/InceptionTime/env/lib/python3.9/site-packages/pywt/_multilevel.py:43: UserWarning: Level value of 8 is too high: all coefficients will experience boundary effects.\n",
      "  warnings.warn(\n",
      "/mnt/c/Users/grpro/workspace/grad_thesis/InceptionTime/env/lib/python3.9/site-packages/pywt/_multilevel.py:43: UserWarning: Level value of 8 is too high: all coefficients will experience boundary effects.\n",
      "  warnings.warn(\n",
      "/mnt/c/Users/grpro/workspace/grad_thesis/InceptionTime/env/lib/python3.9/site-packages/pywt/_multilevel.py:43: UserWarning: Level value of 8 is too high: all coefficients will experience boundary effects.\n",
      "  warnings.warn(\n",
      "/mnt/c/Users/grpro/workspace/grad_thesis/InceptionTime/env/lib/python3.9/site-packages/pywt/_multilevel.py:43: UserWarning: Level value of 8 is too high: all coefficients will experience boundary effects.\n",
      "  warnings.warn(\n",
      "/mnt/c/Users/grpro/workspace/grad_thesis/InceptionTime/env/lib/python3.9/site-packages/pywt/_multilevel.py:43: UserWarning: Level value of 8 is too high: all coefficients will experience boundary effects.\n",
      "  warnings.warn(\n"
     ]
    }
   ],
   "source": [
    "from scipy import signal\n",
    "data_list = []\n",
    "seg_list = []\n",
    "\n",
    "for i in range(1, 12 + 1):\n",
    "    scaler = StandardScaler()\n",
    "    file_path = \"./data/Keio Hospital/distance%02d.csv\" % i\n",
    "    csv = pd.read_csv(file_path)\n",
    "    csv = csv.to_numpy()\n",
    "    csv = scaler.fit_transform(csv)\n",
    "    csv = ecg_filter(csv) # waveletを用いない場合はコメントアウト\n",
    "    scaler = MinMaxScaler()\n",
    "    csv = scaler.fit_transform(csv)\n",
    "\n",
    "    data_list.append(csv[:, 1]) # waveletを用いない場合はコメントアウト\n",
    "    # data_list.append(csv) # waveletを用いる場合はコメントアウト\n",
    "seg_list = segmentation(len(csv), sequence_len, overlap, data_list)"
   ]
  },
  {
   "cell_type": "code",
   "execution_count": 17,
   "metadata": {},
   "outputs": [
    {
     "data": {
      "text/plain": [
       "12"
      ]
     },
     "execution_count": 17,
     "metadata": {},
     "output_type": "execute_result"
    }
   ],
   "source": [
    "len(seg_list)"
   ]
  },
  {
   "cell_type": "code",
   "execution_count": 32,
   "metadata": {},
   "outputs": [
    {
     "data": {
      "text/plain": [
       "2"
      ]
     },
     "execution_count": 32,
     "metadata": {},
     "output_type": "execute_result"
    }
   ],
   "source": [
    "len(seg_list[0][0][0][0])"
   ]
  },
  {
   "cell_type": "code",
   "execution_count": 22,
   "metadata": {},
   "outputs": [
    {
     "name": "stderr",
     "output_type": "stream",
     "text": [
      "/mnt/c/Users/grpro/workspace/grad_thesis/InceptionTime/env/lib/python3.9/site-packages/pywt/_multilevel.py:43: UserWarning: Level value of 8 is too high: all coefficients will experience boundary effects.\n",
      "  warnings.warn(\n",
      "/mnt/c/Users/grpro/workspace/grad_thesis/InceptionTime/env/lib/python3.9/site-packages/pywt/_multilevel.py:43: UserWarning: Level value of 8 is too high: all coefficients will experience boundary effects.\n",
      "  warnings.warn(\n",
      "/mnt/c/Users/grpro/workspace/grad_thesis/InceptionTime/env/lib/python3.9/site-packages/pywt/_multilevel.py:43: UserWarning: Level value of 8 is too high: all coefficients will experience boundary effects.\n",
      "  warnings.warn(\n"
     ]
    },
    {
     "data": {
      "text/plain": [
       "<matplotlib.legend.Legend at 0x7f2290f93f40>"
      ]
     },
     "execution_count": 22,
     "metadata": {},
     "output_type": "execute_result"
    },
    {
     "data": {
      "image/png": "[encoded data removed]",
      "text/plain": [
       "<Figure size 640x480 with 1 Axes>"
      ]
     },
     "metadata": {},
     "output_type": "display_data"
    }
   ],
   "source": [
    "scaler = StandardScaler()\n",
    "id_test = 0\n",
    "id = ecg_filter(scaler.fit_transform(data_list[id_test]))\n",
    "id4 = ecg_filter(scaler.fit_transform(data_list[3]))\n",
    "id6 = ecg_filter(scaler.fit_transform(data_list[5]))\n",
    "scaler = MinMaxScaler()\n",
    "id = scaler.fit_transform(id)\n",
    "id4 = scaler.fit_transform(id4)\n",
    "id6 = scaler.fit_transform(id6)\n",
    "\n",
    "# ids = [id4[:, 1], id6[:, 1]]\n",
    "# print(len(ids))\n",
    "# corr = np.correlate(id4[:, 1], id6[:, 1], \"full\")\n",
    "# print(corr)\n",
    "\n",
    "# plt.plot(corr, label=\"corr\")\n",
    "plt.plot(id[:, 1], label=\"ID 1\")\n",
    "plt.plot(id4[:, 1], label=\"ID 4\")\n",
    "plt.plot(id6[:, 1], label=\"ID 6\")\n",
    "plt.legend()\n"
   ]
  },
  {
   "cell_type": "code",
   "execution_count": 8,
   "metadata": {},
   "outputs": [
    {
     "data": {
      "text/plain": [
       "(3072, 1, 1250)"
      ]
     },
     "execution_count": 8,
     "metadata": {},
     "output_type": "execute_result"
    }
   ],
   "source": [
    "seg_re = np.reshape(seg_list, (3072, 1, 1250))\n",
    "seg_re.shape"
   ]
  },
  {
   "cell_type": "code",
   "execution_count": 9,
   "metadata": {},
   "outputs": [],
   "source": [
    "labels = []\n",
    "for i in range(len(seg_list)):\n",
    "    for j in range(len(seg_list[i])):\n",
    "        if i <= close_num:\n",
    "            labels.append(i)\n",
    "        else:\n",
    "            labels.append(close_num + 1) # for open set"
   ]
  },
  {
   "cell_type": "code",
   "execution_count": 45,
   "metadata": {},
   "outputs": [
    {
     "data": {
      "text/plain": [
       "(11, 11)"
      ]
     },
     "execution_count": 45,
     "metadata": {},
     "output_type": "execute_result"
    }
   ],
   "source": [
    "labels[-1], close_num"
   ]
  },
  {
   "cell_type": "code",
   "execution_count": 46,
   "metadata": {},
   "outputs": [
    {
     "data": {
      "text/plain": [
       "3072"
      ]
     },
     "execution_count": 46,
     "metadata": {},
     "output_type": "execute_result"
    }
   ],
   "source": [
    "len(labels)"
   ]
  },
  {
   "cell_type": "code",
   "execution_count": 47,
   "metadata": {},
   "outputs": [
    {
     "data": {
      "text/plain": [
       "1250"
      ]
     },
     "execution_count": 47,
     "metadata": {},
     "output_type": "execute_result"
    }
   ],
   "source": [
    "len(seg_list[0][0][0])"
   ]
  },
  {
   "cell_type": "code",
   "execution_count": 48,
   "metadata": {},
   "outputs": [
    {
     "data": {
      "text/plain": [
       "(3072, 1, 1250)"
      ]
     },
     "execution_count": 48,
     "metadata": {},
     "output_type": "execute_result"
    }
   ],
   "source": [
    "seg_re.shape"
   ]
  },
  {
   "cell_type": "code",
   "execution_count": 10,
   "metadata": {},
   "outputs": [
    {
     "name": "stderr",
     "output_type": "stream",
     "text": [
      "/tmp/ipykernel_28570/2204223158.py:7: UserWarning: Creating a tensor from a list of numpy.ndarrays is extremely slow. Please consider converting the list to a single numpy.ndarray with numpy.array() before converting to a tensor. (Triggered internally at  ../torch/csrc/utils/tensor_new.cpp:201.)\n",
      "  data_tensor_list = torch.tensor(data_set)\n"
     ]
    },
    {
     "data": {
      "text/plain": [
       "(torch.Size([3072, 1, 1250]), torch.Size([3072]))"
      ]
     },
     "execution_count": 10,
     "metadata": {},
     "output_type": "execute_result"
    }
   ],
   "source": [
    "data_set = []\n",
    "# for i in range(len(seg_list)): # waveletありのとき\n",
    "    # data_set.extend(seg_list[i])　\n",
    "for i in range(len(seg_re)): # waveletなしのとき\n",
    "    data_set.append(seg_re[i])\n",
    "\n",
    "data_tensor_list = torch.tensor(data_set)\n",
    "labels_tensor = torch.tensor(labels)\n",
    "data_tensor_list.shape, labels_tensor.shape"
   ]
  },
  {
   "cell_type": "code",
   "execution_count": 11,
   "metadata": {},
   "outputs": [],
   "source": [
    "class InceptionModule(Module):\n",
    "    def __init__(self, ni, nf, ks=40, bottleneck=True):\n",
    "        ks = [ks // (2**i) for i in range(3)]\n",
    "        ks = [k if k % 2 != 0 else k - 1 for k in ks]  # ensure odd ks\n",
    "        bottleneck = bottleneck if ni > 1 else False\n",
    "        self.bottleneck = Conv1d(ni, nf, 1, bias=False) if bottleneck else noop\n",
    "        self.convs = nn.ModuleList([Conv1d(nf if bottleneck else ni, nf, k, bias=False) for k in ks])\n",
    "        self.maxconvpool = nn.Sequential(*[nn.MaxPool1d(3, stride=1, padding=1), Conv1d(ni, nf, 1, bias=False)])\n",
    "        self.concat = Concat()\n",
    "        self.bn = BN1d(nf * 4)\n",
    "        self.act = nn.ReLU()\n",
    "\n",
    "    def forward(self, x):\n",
    "        input_tensor = x\n",
    "        x = self.bottleneck(input_tensor)\n",
    "        x = self.concat([l(x) for l in self.convs] + [self.maxconvpool(input_tensor)])\n",
    "        return self.act(self.bn(x))\n",
    "\n",
    "\n",
    "@delegates(InceptionModule.__init__)\n",
    "class InceptionBlock(Module):\n",
    "    def __init__(self, ni, nf=32, residual=True, depth=6, **kwargs):\n",
    "        self.residual, self.depth = residual, depth\n",
    "        self.inception, self.shortcut = nn.ModuleList(), nn.ModuleList()\n",
    "        for d in range(depth):\n",
    "            self.inception.append(InceptionModule(ni if d == 0 else nf * 4, nf, **kwargs))\n",
    "            if self.residual and d % 3 == 2: \n",
    "                n_in, n_out = ni if d == 2 else nf * 4, nf * 4\n",
    "                self.shortcut.append(BN1d(n_in) if n_in == n_out else ConvBlock(n_in, n_out, 1, act=None))\n",
    "        self.add = Add()\n",
    "        self.act = nn.ReLU()\n",
    "        \n",
    "    def forward(self, x):\n",
    "        res = x\n",
    "        for d, l in enumerate(range(self.depth)):\n",
    "            x = self.inception[d](x)\n",
    "            if self.residual and d % 3 == 2: res = x = self.act(self.add(x, self.shortcut[d//3](res)))\n",
    "        return x\n",
    "\n",
    "    \n",
    "@delegates(InceptionModule.__init__)\n",
    "class InceptionTime(Module):\n",
    "    def __init__(self, c_in, c_out, seq_len=None, nf=32, nb_filters=None, **kwargs):\n",
    "        nf = ifnone(nf, nb_filters) # for compatibility\n",
    "        self.inceptionblock = InceptionBlock(c_in, nf, **kwargs) # c_in is input channel num of conv1d\n",
    "        self.gap = GAP1d(1)\n",
    "        self.fc = nn.Linear(nf * 4, c_out) # c_out is 1d output size \n",
    "        self.fc_tsne = nn.Linear(nf * 4, 2)\n",
    "        self.two_vecs_train = [] # list is faster in appending\n",
    "        self.two_vecs_test = []\n",
    "\n",
    "    def forward(self, x):\n",
    "        x = self.inceptionblock(x)\n",
    "        x = self.gap(x)\n",
    "        # two_dimensional_vec = self.fc_tsne(x)\n",
    "        # if self.training:\n",
    "        #     self.two_vecs_train.append(two_dimensional_vec.tolist()) # あとでネストしたものをまとめてtensorかndarrayに変換するため\n",
    "        # else:\n",
    "        #     self.two_vecs_test.append(two_dimensional_vec.tolist())\n",
    "        x = self.fc(x)\n",
    "        return x"
   ]
  },
  {
   "cell_type": "code",
   "execution_count": 12,
   "metadata": {},
   "outputs": [],
   "source": [
    "class HCU_Dataset(Dataset):\n",
    "    def __init__(self, dataset, labels) -> None:\n",
    "        # super().__init__()\n",
    "        self.radar_heartbeat = dataset\n",
    "        self.labels = labels\n",
    "\n",
    "    def __getitem__(self, idx):\n",
    "        if torch.is_tensor(idx):\n",
    "          idx = idx.tolist()        \n",
    "        return self.radar_heartbeat[idx], self.labels[idx]\n",
    "\n",
    "    def __len__(self):\n",
    "        return len(self.radar_heartbeat)\n",
    "\n",
    "\n",
    "dataset = HCU_Dataset(data_tensor_list, labels_tensor)"
   ]
  },
  {
   "attachments": {},
   "cell_type": "markdown",
   "metadata": {},
   "source": [
    "### For Close Set"
   ]
  },
  {
   "cell_type": "code",
   "execution_count": 30,
   "metadata": {},
   "outputs": [
    {
     "name": "stdout",
     "output_type": "stream",
     "text": [
      "Train Set: 2457, Test Set: 615\n"
     ]
    }
   ],
   "source": [
    "close_train_size = int(0.80 * len(dataset))\n",
    "close_test_size = len(dataset) - close_train_size\n",
    "close_train_set, close_test_set = torch.utils.data.random_split(dataset, [close_train_size, close_test_size])\n",
    "print(f\"Train Set: {len(close_train_set)}, Test Set: {len(close_test_set)}\")\n",
    "train_loader = DataLoader(dataset=close_train_set, batch_size=batch_size, shuffle=True)\n",
    "test_loader = DataLoader(dataset=close_test_set, batch_size=batch_size, shuffle=False)"
   ]
  },
  {
   "attachments": {},
   "cell_type": "markdown",
   "metadata": {},
   "source": [
    "### For Open Set"
   ]
  },
  {
   "cell_type": "code",
   "execution_count": 121,
   "metadata": {},
   "outputs": [
    {
     "data": {
      "text/plain": [
       "(tensor(5), tensor(6))"
      ]
     },
     "execution_count": 121,
     "metadata": {},
     "output_type": "execute_result"
    }
   ],
   "source": [
    "dataset[1535][1], dataset[1536][1]"
   ]
  },
  {
   "attachments": {},
   "cell_type": "markdown",
   "metadata": {},
   "source": [
    "インデックスを2つに分ける．それぞれのサブセットで訓練とテストに分ける．\n",
    "訓練は1つ目のサブセットのうちの8割のみを使用．\n",
    "テストは両方のサブセットから2割ずつ取ってきて全て使用．"
   ]
  },
  {
   "cell_type": "code",
   "execution_count": 45,
   "metadata": {},
   "outputs": [
    {
     "data": {
      "text/plain": [
       "(1228, 615)"
      ]
     },
     "execution_count": 45,
     "metadata": {},
     "output_type": "execute_result"
    }
   ],
   "source": [
    "indices1 = np.arange(1535)\n",
    "dataset1 = torch.utils.data.Subset(dataset, indices1) # 0-5\n",
    "indices2 = np.arange(1536, len(dataset))\n",
    "dataset2 = torch.utils.data.Subset(dataset, indices2) # 6-11\n",
    "Unknown_label = close_num + 1\n",
    "\n",
    "train_size1 = int(0.80 * len(dataset1))\n",
    "test_size1 = len(dataset1) - train_size1\n",
    "train_size2 = int(0.80 * len(dataset2))\n",
    "test_size2 = len(dataset2) - train_size2\n",
    "open_train_set, test_set1 = torch.utils.data.random_split(dataset1, [train_size1, test_size1])\n",
    "train_set2, test_set2 = torch.utils.data.random_split(dataset2, [train_size2, test_size2])\n",
    "indices = np.arange(len(test_set2))\n",
    "test_set2 = torch.utils.data.Subset(test_set2, indices[:])\n",
    "\n",
    "open_test_set = torch.utils.data.ConcatDataset([test_set1, test_set2])\n",
    "\n",
    "train_loader = DataLoader(dataset=open_train_set, batch_size=batch_size, shuffle=True)\n",
    "test_loader = DataLoader(dataset=open_test_set, batch_size=batch_size, shuffle=False)\n",
    "len(open_train_set), len(open_test_set)"
   ]
  },
  {
   "cell_type": "code",
   "execution_count": 13,
   "metadata": {},
   "outputs": [],
   "source": [
    "from torch import log\n",
    "softmax = nn.Softmax()\n",
    "\n",
    "def softmax_loss(outputs, labels):\n",
    "    loss = 0\n",
    "    batch_size = len(labels)\n",
    "    logsoftmax_out = log(softmax(outputs))\n",
    "    for idx in range(batch_size):\n",
    "        loss += 1.0 - logsoftmax_out[idx][labels[idx]]\n",
    "    \n",
    "    return loss / batch_size\n",
    "\n",
    "\n",
    "from center_loss import CenterLoss\n",
    "center_loss = CenterLoss(num_classes=close_num + 1, feat_dim=close_num + 1, use_gpu=True) # 入出力が同じだと一見変な感じがするが，交差エントロピーと違ってcenterlossを使うと最初から決めていれば，モデルの出力サイズを必ずしもクラス数に一致させる必要がないからfeat_dimを任意に設定できる．\n",
    "optimizer_centloss = torch.optim.SGD(center_loss.parameters(), lr=0.05)\n",
    "\n",
    "\n",
    "class AngularPenaltySMLoss(nn.Module):\n",
    "\n",
    "    def __init__(self, in_features, out_features, loss_type='cosface', eps=1e-7, s=None, m=None):\n",
    "        '''\n",
    "        Angular Penalty Softmax Loss\n",
    "        Three 'loss_types' available: ['arcface', 'sphereface', 'cosface']\n",
    "        These losses are described in the following papers: \n",
    "        \n",
    "        ArcFace: https://arxiv.org/abs/1801.07698\n",
    "        SphereFace: https://arxiv.org/abs/1704.08063\n",
    "        CosFace/Ad Margin: https://arxiv.org/abs/1801.05599\n",
    "        '''\n",
    "        super(AngularPenaltySMLoss, self).__init__()\n",
    "        loss_type = loss_type.lower()\n",
    "        assert loss_type in  ['arcface', 'sphereface', 'cosface']\n",
    "        if loss_type == 'arcface':\n",
    "            self.s = 64.0 if not s else s\n",
    "            self.m = 0.5 if not m else m\n",
    "        if loss_type == 'sphereface':\n",
    "            self.s = 64.0 if not s else s\n",
    "            self.m = 1.35 if not m else m\n",
    "        if loss_type == 'cosface':\n",
    "            self.s = 32.0 if not s else s\n",
    "            self.m = 0.2 if not m else m\n",
    "        self.loss_type = loss_type\n",
    "        self.in_features = in_features\n",
    "        self.out_features = out_features\n",
    "        self.fc = nn.Linear(in_features, out_features, bias=False)\n",
    "        self.fc.to(device)\n",
    "        self.eps = eps\n",
    "\n",
    "    def forward(self, x, labels):\n",
    "        '''\n",
    "        input shape (N, in_features)\n",
    "        '''\n",
    "        assert len(x) == len(labels)\n",
    "        assert torch.min(labels) >= 0\n",
    "        assert torch.max(labels) < self.out_features\n",
    "        \n",
    "        for W in self.fc.parameters():\n",
    "            W = F.normalize(W, p=2, dim=1)\n",
    "\n",
    "        x = F.normalize(x, p=2, dim=1)\n",
    "        # logを引き算に変えて計算\n",
    "        wf = self.fc(x)\n",
    "        if self.loss_type == 'cosface':\n",
    "            numerator = self.s * (torch.diagonal(wf.transpose(0, 1)[labels]) - self.m)\n",
    "        if self.loss_type == 'arcface':\n",
    "            numerator = self.s * torch.cos(torch.acos(torch.clamp(torch.diagonal(wf.transpose(0, 1)[labels]), -1.+self.eps, 1-self.eps)) + self.m)\n",
    "        if self.loss_type == 'sphereface':\n",
    "            numerator = self.s * torch.cos(self.m * torch.acos(torch.clamp(torch.diagonal(wf.transpose(0, 1)[labels]), -1.+self.eps, 1-self.eps)))\n",
    "\n",
    "        excl = torch.cat([torch.cat((wf[i, :y], wf[i, y+1:])).unsqueeze(0) for i, y in enumerate(labels)], dim=0)\n",
    "        denominator = torch.exp(numerator) + torch.sum(torch.exp(self.s * excl), dim=1)\n",
    "        L = numerator - torch.log(denominator)\n",
    "        return -torch.mean(L)\n",
    "\n",
    "cos_loss = AngularPenaltySMLoss(close_num + 1, close_num + 1, loss_type=\"cosface\") # center_lossと同じ理由でin_featuresはクラス数でよい．\n",
    "\n",
    "\n",
    "def triple_joint_loss(output, label, alpha):\n",
    "    # alpha: hyper parameter\n",
    "    output_only_truth = []\n",
    "    for idx, x in enumerate(output):\n",
    "        x = x[labels[idx]]\n",
    "        x = torch.tensor(x).to(device)\n",
    "        output_only_truth.append([x])\n",
    "    output_only_truth = torch.tensor(output_only_truth)\n",
    "    output_only_truth = output_only_truth.float()\n",
    "    output_only_truth = output_only_truth.to(device)\n",
    "    # print(output.is_cuda, output_only_truth.is_cuda, label.is_cuda)\n",
    "\n",
    "    return softmax_loss(output, label) + alpha * center_loss(output, label)\n",
    "    # return softmax_loss(output, label) + alpha * center_loss(output, label) + cos_loss(output, label)\n",
    "    # return cos_loss(output_only_truth, label)"
   ]
  },
  {
   "cell_type": "code",
   "execution_count": 14,
   "metadata": {},
   "outputs": [],
   "source": [
    "from fastprogress.fastprogress import master_bar, progress_bar\n",
    "mb = master_bar(range(num_epochs))"
   ]
  },
  {
   "cell_type": "code",
   "execution_count": 34,
   "metadata": {},
   "outputs": [
    {
     "data": {
      "text/plain": [
       "(tensor([[0.6354, 0.6358, 0.6358,  ..., 0.6331, 0.6326, 0.6323]],\n",
       "        dtype=torch.float64),\n",
       " tensor(11))"
      ]
     },
     "execution_count": 34,
     "metadata": {},
     "output_type": "execute_result"
    }
   ],
   "source": [
    "dataset[-1]"
   ]
  },
  {
   "cell_type": "code",
   "execution_count": 117,
   "metadata": {},
   "outputs": [
    {
     "data": {
      "text/html": [
       "\n",
       "<style>\n",
       "    /* Turns off some styling */\n",
       "    progress {\n",
       "        /* gets rid of default border in Firefox and Opera. */\n",
       "        border: none;\n",
       "        /* Needs to be in here for Safari polyfill so background images work as expected. */\n",
       "        background-size: auto;\n",
       "    }\n",
       "    progress:not([value]), progress:not([value])::-webkit-progress-bar {\n",
       "        background: repeating-linear-gradient(45deg, #7e7e7e, #7e7e7e 10px, #5c5c5c 10px, #5c5c5c 20px);\n",
       "    }\n",
       "    .progress-bar-interrupted, .progress-bar-interrupted::-webkit-progress-bar {\n",
       "        background: #F44336;\n",
       "    }\n",
       "</style>\n"
      ],
      "text/plain": [
       "<IPython.core.display.HTML object>"
      ]
     },
     "metadata": {},
     "output_type": "display_data"
    },
    {
     "data": {
      "text/html": [
       "Finished Epoch: 01, Training Loss:    3.92465<p>Finished Epoch: 02, Training Loss:    3.70868<p>Finished Epoch: 03, Training Loss:    3.61727<p>Finished Epoch: 04, Training Loss:    3.34016<p>Finished Epoch: 05, Training Loss:    3.36497<p>Finished Epoch: 06, Training Loss:    3.61757<p>Finished Epoch: 07, Training Loss:    3.15205<p>Finished Epoch: 08, Training Loss:    3.54751<p>Finished Epoch: 09, Training Loss:    3.37568<p>Finished Epoch: 10, Training Loss:    3.58247<p>Finished Epoch: 11, Training Loss:    3.51940<p>Finished Epoch: 12, Training Loss:    3.21163<p>Finished Epoch: 13, Training Loss:    3.33742<p>Finished Epoch: 14, Training Loss:    3.40212<p>Finished Epoch: 15, Training Loss:    3.51927<p>Finished Epoch: 16, Training Loss:    3.26118<p>Finished Epoch: 17, Training Loss:    3.10775<p>Finished Epoch: 18, Training Loss:    3.20643<p>Finished Epoch: 19, Training Loss:    3.18153<p>Finished Epoch: 20, Training Loss:    3.17668<p>Finished Epoch: 21, Training Loss:    3.30429<p>Finished Epoch: 22, Training Loss:    3.39652<p>Finished Epoch: 23, Training Loss:    3.54272<p>Finished Epoch: 24, Training Loss:    3.23966<p>Finished Epoch: 25, Training Loss:    3.31459<p>Finished Epoch: 26, Training Loss:    3.26628<p>Finished Epoch: 27, Training Loss:    3.15753<p>Finished Epoch: 28, Training Loss:    3.17322<p>Finished Epoch: 29, Training Loss:    3.00596<p>Finished Epoch: 30, Training Loss:    3.32407<p>Finished Epoch: 31, Training Loss:    3.11760<p>Finished Epoch: 32, Training Loss:    3.15083<p>Finished Epoch: 33, Training Loss:    3.43363<p>Finished Epoch: 34, Training Loss:    3.23363<p>Finished Epoch: 35, Training Loss:    3.06187<p>Finished Epoch: 36, Training Loss:    3.03915<p>Finished Epoch: 37, Training Loss:    3.13275<p>Finished Epoch: 38, Training Loss:    3.06658<p>Finished Epoch: 39, Training Loss:    3.11205<p>Finished Epoch: 40, Training Loss:    3.44609<p>Finished Epoch: 41, Training Loss:    3.03900<p>Finished Epoch: 42, Training Loss:    3.00024<p>Finished Epoch: 43, Training Loss:    3.00051<p>Finished Epoch: 44, Training Loss:    2.92055<p>Finished Epoch: 45, Training Loss:    2.98839<p>Finished Epoch: 46, Training Loss:    2.68353<p>Finished Epoch: 47, Training Loss:    3.88912<p>Finished Epoch: 48, Training Loss:    3.07561<p>Finished Epoch: 49, Training Loss:    2.90358<p>Finished Epoch: 50, Training Loss:    2.94971<p>Finished Epoch: 51, Training Loss:    3.09718<p>Finished Epoch: 52, Training Loss:    3.09424<p>Finished Epoch: 53, Training Loss:    3.06215<p>Finished Epoch: 54, Training Loss:    3.13473<p>Finished Epoch: 55, Training Loss:    3.05956<p>Finished Epoch: 56, Training Loss:    2.99317<p>Finished Epoch: 57, Training Loss:    3.08775<p>Finished Epoch: 58, Training Loss:    2.97396<p>Finished Epoch: 59, Training Loss:    3.28658<p>Finished Epoch: 60, Training Loss:    3.11747<p>Finished Epoch: 61, Training Loss:    2.79640<p>Finished Epoch: 62, Training Loss:    2.94357<p>Finished Epoch: 63, Training Loss:    2.79437<p>Finished Epoch: 64, Training Loss:    3.29707<p>Finished Epoch: 65, Training Loss:    3.23720<p>Finished Epoch: 66, Training Loss:    2.72426<p>Finished Epoch: 67, Training Loss:    2.89258<p>Finished Epoch: 68, Training Loss:    3.33445<p>Finished Epoch: 69, Training Loss:    2.85576<p>Finished Epoch: 70, Training Loss:    3.19406<p>Finished Epoch: 71, Training Loss:    3.16800<p>Finished Epoch: 72, Training Loss:    3.10186<p>Finished Epoch: 73, Training Loss:    2.83673<p>Finished Epoch: 74, Training Loss:    3.69489<p>Finished Epoch: 75, Training Loss:    3.07013<p>Finished Epoch: 76, Training Loss:    2.93447<p>Finished Epoch: 77, Training Loss:    2.74988<p>Finished Epoch: 78, Training Loss:    2.88023<p>Finished Epoch: 79, Training Loss:    2.82403<p>Finished Epoch: 80, Training Loss:    3.08264<p>Finished Epoch: 81, Training Loss:    3.00662<p>Finished Epoch: 82, Training Loss:    2.77040<p>Finished Epoch: 83, Training Loss:    2.92688<p>Finished Epoch: 84, Training Loss:    2.89401<p>Finished Epoch: 85, Training Loss:    2.99374<p>Finished Epoch: 86, Training Loss:    2.62233<p>Finished Epoch: 87, Training Loss:    2.94842<p>Finished Epoch: 88, Training Loss:    3.24585<p>Finished Epoch: 89, Training Loss:    3.01677<p>Finished Epoch: 90, Training Loss:    2.92914<p>Finished Epoch: 91, Training Loss:    3.21069<p>Finished Epoch: 92, Training Loss:    2.85737<p>Finished Epoch: 93, Training Loss:    2.69025<p>Finished Epoch: 94, Training Loss:    3.39008<p>Finished Epoch: 95, Training Loss:    2.79982<p>Finished Epoch: 96, Training Loss:    3.07299<p>Finished Epoch: 97, Training Loss:    3.29394<p>Finished Epoch: 98, Training Loss:    2.90304<p>Finished Epoch: 99, Training Loss:    3.00390<p>Finished Epoch: 100, Training Loss:    2.96323"
      ],
      "text/plain": [
       "<IPython.core.display.HTML object>"
      ]
     },
     "metadata": {},
     "output_type": "display_data"
    },
    {
     "name": "stderr",
     "output_type": "stream",
     "text": [
      "/tmp/ipykernel_26714/3433469541.py:84: UserWarning: To copy construct from a tensor, it is recommended to use sourceTensor.clone().detach() or sourceTensor.clone().detach().requires_grad_(True), rather than torch.tensor(sourceTensor).\n",
      "  x = torch.tensor(x).to(device)\n",
      "/mnt/c/Users/grpro/workspace/grad_thesis/InceptionTime/env/lib/python3.9/site-packages/torch/overrides.py:1498: UserWarning: Implicit dimension choice for softmax has been deprecated. Change the call to include dim=X as an argument.\n",
      "  result = torch_func_method(public_api, types, args, kwargs)\n"
     ]
    }
   ],
   "source": [
    "model = InceptionTime(1, close_num + 1)\n",
    "model = model.to(device)\n",
    "model.train()\n",
    "optimizer = torch.optim.Adam(model.parameters(), lr=learning_rate)\n",
    "n_total_steps = len(train_loader)\n",
    "for epoch in mb:\n",
    "    for i, (signals, labels) in enumerate(progress_bar(train_loader, parent=mb)):\n",
    "        signals = signals.float()\n",
    "        signals = signals.to(device)\n",
    "        labels = labels.to(device)\n",
    "        outputs = model(signals)\n",
    "        outputs = outputs.to(device)\n",
    "        loss = triple_joint_loss(outputs, labels, alpha)\n",
    "        optimizer.zero_grad()\n",
    "        optimizer_centloss.zero_grad()\n",
    "        loss.backward()\n",
    "        for param in center_loss.parameters():\n",
    "            param.grad.data *= (1./alpha)\n",
    "        optimizer.step()\n",
    "        optimizer_centloss.step()\n",
    "        # if (i + 1) % 10 == 0:\n",
    "            # print(f'Epoch [{epoch+1}/`{num_epochs}], Step [{i+1}/{n_total_steps}], Loss: {loss.item():.4f}')\n",
    "    mb.write(\"Finished Epoch: {0:02d}, Training Loss: {1:10.5f}\".format(epoch+1, loss.item()))"
   ]
  },
  {
   "cell_type": "code",
   "execution_count": 118,
   "metadata": {},
   "outputs": [
    {
     "name": "stdout",
     "output_type": "stream",
     "text": [
      "TensorBase([0.2293, 0.3566, 0.2126, 0.4864, 0.5246, 0.7504, 0.1797, 0.3231,\n",
      "            0.2252, 0.1939, 0.3188, 0.1708, 0.2554, 0.2883, 0.3500, 0.9205,\n",
      "            0.4922, 0.3156, 0.2260, 0.9377, 0.8291, 0.1721, 0.1695, 0.4050,\n",
      "            0.2257, 0.3591, 0.7032, 0.8652, 0.3359, 0.9215, 0.5401, 0.1603,\n",
      "            0.2669, 0.1542, 0.3050, 0.3352, 0.1801, 0.2197, 0.2351, 0.4946,\n",
      "            0.7056, 0.3395, 0.3336, 0.3237, 0.3417, 0.1849, 0.3468, 0.2988,\n",
      "            0.1944, 0.7887, 0.4417, 0.3188, 0.1715, 0.2708, 0.2966, 0.3526,\n",
      "            0.6328, 0.3284, 0.9516, 0.3938, 0.1674, 0.1826, 0.3006, 0.4285],\n",
      "           device='cuda:0') TensorBase([2, 5, 4, 8, 8, 8, 3, 8, 4, 3, 0, 2, 9, 4, 8, 8, 7, 7, 4, 8, 8, 3, 7,\n",
      "            4, 4, 4, 8, 8, 7, 8, 8, 4, 0, 7, 5, 8, 2, 2, 7, 7, 8, 0, 7, 8, 2, 7,\n",
      "            7, 4, 3, 8, 8, 5, 7, 7, 4, 7, 8, 0, 8, 8, 7, 4, 0, 5],\n",
      "           device='cuda:0') tensor([ 6,  6,  6,  5, 11,  9,  4,  9, 11,  2,  9,  2,  9,  9,  7,  5,  0, 10,\n",
      "         1,  5,  8,  2,  3,  9,  1,  4,  9,  9, 10,  5,  6,  1,  0,  2,  0,  1,\n",
      "         2,  7,  7,  0,  9, 10, 10,  3,  6,  6,  7,  9,  1,  5,  5,  3,  7, 11,\n",
      "         9, 10, 11,  4,  3,  7,  4, 11,  7,  5], device='cuda:0')\n",
      "10 / 64 = Acc: 15.625 %\n",
      "TensorBase([0.8949, 0.1692, 0.4384, 0.4810, 0.9625, 0.4275, 0.8521, 0.4791,\n",
      "            0.1743, 0.2124, 0.4291, 0.2393, 0.2422, 0.1587, 0.9126, 0.7002,\n",
      "            0.1742, 0.3711, 0.3017, 0.9375, 0.1823, 0.2984, 0.4768, 0.1764,\n",
      "            0.1794, 0.3941, 0.2128, 0.1895, 0.3044, 0.2906, 0.3234, 0.1577,\n",
      "            0.3204, 0.7642, 0.4890, 0.2560, 0.1683, 0.8609, 0.1911, 0.2096,\n",
      "            0.2249, 0.4846, 0.9165, 0.2287, 0.1847, 0.2121, 0.2041, 0.1501,\n",
      "            0.1671, 0.4952, 0.1573, 0.2171, 0.1964, 0.2619, 0.2526, 0.9115,\n",
      "            0.4255, 0.4228, 0.9487, 0.3309, 0.2133, 0.3115, 0.3560, 0.8797],\n",
      "           device='cuda:0') TensorBase([8, 7, 7, 7, 8, 7, 8, 7, 4, 4, 7, 9, 4, 7, 8, 5, 3, 4, 7, 5, 4, 4, 7,\n",
      "            7, 3, 7, 8, 5, 7, 7, 2, 3, 0, 8, 8, 0, 7, 8, 3, 4, 8, 7, 8, 4, 0, 4,\n",
      "            2, 4, 3, 8, 4, 8, 7, 0, 7, 8, 5, 9, 8, 7, 8, 7, 8, 8],\n",
      "           device='cuda:0') tensor([ 8,  3,  0,  0,  8,  0,  8, 10,  4,  4, 10, 11,  0,  1,  8,  5,  2,  4,\n",
      "         7,  5,  4,  9,  3,  1,  2,  7,  1,  7, 11,  7,  6,  1,  0,  3,  9,  3,\n",
      "         3,  2,  4,  6,  9, 10,  8,  1,  0,  6,  6,  7,  3,  5,  6,  1,  7,  1,\n",
      "         2,  8,  6, 11,  3,  7,  2, 10,  1,  8], device='cuda:0')\n",
      "31 / 128 = Acc: 24.21875 %\n",
      "TensorBase([0.4534, 0.4444, 0.4217, 0.2463, 0.1488, 0.1894, 0.3646, 0.3316,\n",
      "            0.2205, 0.7338, 0.1570, 0.2218, 0.1499, 0.3359, 0.2692, 0.9392,\n",
      "            0.4554, 0.1976, 0.2913, 0.9105, 0.3219, 0.2107, 0.1794, 0.1668,\n",
      "            0.4487, 0.8218, 0.1994, 0.4209, 0.1861, 0.6491, 0.2981, 0.9359,\n",
      "            0.2292, 0.1936, 0.3539, 0.1592, 0.1631, 0.3777, 0.1775, 0.2432,\n",
      "            0.1828, 0.2093, 0.2575, 0.3251, 0.3857, 0.3733, 0.9623, 0.2127,\n",
      "            0.1996, 0.7880, 0.2107, 0.9483, 0.1572, 0.2724, 0.6408, 0.1659,\n",
      "            0.1955, 0.1961, 0.1835, 0.2969, 0.1601, 0.1817, 0.2411, 0.4848],\n",
      "           device='cuda:0') TensorBase([8, 8, 2, 5, 5, 0, 7, 0, 4, 8, 9, 8, 5, 7, 9, 8, 8, 0, 4, 8, 0, 8, 8,\n",
      "            7, 8, 8, 2, 8, 3, 8, 2, 8, 4, 3, 7, 3, 0, 4, 3, 2, 8, 8, 7, 9, 5, 4,\n",
      "            8, 4, 7, 8, 4, 8, 3, 0, 8, 7, 3, 8, 3, 0, 7, 0, 7, 7],\n",
      "           device='cuda:0') tensor([ 7,  6,  6,  3,  4,  0,  7,  9,  6,  5, 11,  6,  1, 10, 10,  5, 11,  0,\n",
      "         9,  8,  0,  1,  4,  7,  6,  5,  7,  6,  4, 11,  2,  5,  1,  1, 10,  2,\n",
      "        10,  4,  3,  2,  4,  2,  7, 11,  5,  4,  8,  4,  7,  5,  1,  3,  2,  0,\n",
      "         6, 10, 10,  2,  2,  1, 10,  0, 11,  0], device='cuda:0')\n",
      "49 / 192 = Acc: 25.520833333333332 %\n",
      "TensorBase([0.9147, 0.2715, 0.6675, 0.3482, 0.3288, 0.3153, 0.1827, 0.8217,\n",
      "            0.1684, 0.2730, 0.3251, 0.2195, 0.3569, 0.6609, 0.9445, 0.9547,\n",
      "            0.2171, 0.4771, 0.8487, 0.1718, 0.3195, 0.1789, 0.1672, 0.1790,\n",
      "            0.2337, 0.5869, 0.1936, 0.1742, 0.6384, 0.4041, 0.3267, 0.1540,\n",
      "            0.1959, 0.3776, 0.1681, 0.4784, 0.3710, 0.7380, 0.1183, 0.2955,\n",
      "            0.1824, 0.2098, 0.8168, 0.2012, 0.5733, 0.4646, 0.9346, 0.9221,\n",
      "            0.2532, 0.1957, 0.2902, 0.1883, 0.2340, 0.3391, 0.2252, 0.7762,\n",
      "            0.3043, 0.3074, 0.2801, 0.3673, 0.3166, 0.7939, 0.4441, 0.2005],\n",
      "           device='cuda:0') TensorBase([8, 0, 8, 2, 8, 2, 0, 8, 5, 9, 8, 4, 7, 8, 8, 8, 4, 5, 8, 4, 0, 3, 7,\n",
      "            0, 7, 8, 3, 3, 8, 7, 0, 3, 2, 9, 3, 7, 9, 8, 7, 0, 3, 3, 8, 4, 8, 8,\n",
      "            8, 8, 4, 7, 4, 0, 7, 7, 8, 8, 0, 0, 7, 9, 0, 8, 7, 4],\n",
      "           device='cuda:0') tensor([ 5,  7,  8,  2,  1,  6,  0,  5,  0, 10,  3,  6,  7,  1,  8,  8,  6,  3,\n",
      "        11,  1,  9,  4,  4,  3,  7,  2,  4,  7,  8,  7,  4,  4,  7, 11,  4, 10,\n",
      "        11,  3, 10, 11,  2, 10,  8,  4,  6,  6,  5,  5,  3,  7,  9,  1,  2,  7,\n",
      "         1,  7,  9, 11, 11, 10,  9,  8, 10,  5], device='cuda:0')\n",
      "63 / 256 = Acc: 24.609375 %\n",
      "TensorBase([0.3373, 0.2156, 0.1528, 0.4720, 0.1711, 0.4248, 0.2232, 0.1741,\n",
      "            0.4783, 0.1702, 0.7231, 0.1532, 0.1875, 0.2928, 0.4085, 0.3631,\n",
      "            0.2131, 0.1807, 0.3970, 0.1620, 0.1760, 0.3059, 0.2869, 0.2467,\n",
      "            0.1739, 0.2130, 0.3296, 0.3496, 0.1848, 0.9132, 0.2219, 0.7789,\n",
      "            0.1761, 0.2041, 0.4067, 0.1887, 0.5215, 0.6186, 0.2051, 0.6467,\n",
      "            0.1761, 0.2475, 0.2785, 0.8443, 0.1641, 0.1650, 0.3281, 0.1699,\n",
      "            0.9443, 0.3724, 0.1625, 0.8381, 0.1957, 0.2189, 0.7455, 0.9111,\n",
      "            0.4869, 0.5880, 0.1754, 0.1648, 0.9065, 0.1801, 0.3856, 0.1499],\n",
      "           device='cuda:0') TensorBase([7, 4, 7, 8, 3, 7, 4, 2, 7, 0, 8, 7, 8, 7, 7, 8, 0, 4, 8, 7, 2, 2, 7,\n",
      "            7, 3, 3, 7, 7, 3, 8, 8, 8, 3, 4, 7, 9, 8, 8, 7, 8, 3, 4, 9, 8, 0, 8,\n",
      "            7, 7, 8, 4, 7, 8, 5, 0, 8, 8, 7, 8, 3, 9, 8, 0, 7, 4],\n",
      "           device='cuda:0') tensor([10, 11, 10,  5,  4,  0,  4,  2, 10,  3,  9,  7,  9,  7,  7,  7,  4,  4,\n",
      "         6, 10,  6, 11,  7, 11,  2,  3,  6, 10,  2,  8,  1,  7,  7,  4, 11,  9,\n",
      "         4,  3, 11,  6,  3,  0,  9,  9, 10,  2, 11,  3,  5,  4,  1,  1, 11,  3,\n",
      "        11,  5,  3,  9,  3,  9,  8,  0, 10, 11], device='cuda:0')\n",
      "81 / 320 = Acc: 25.3125 %\n",
      "TensorBase([0.9229, 0.3341, 0.3296, 0.1662, 0.2706, 0.1668, 0.2243, 0.8812,\n",
      "            0.2247, 0.2386, 0.2995, 0.4730, 0.1741, 0.2017, 0.1820, 0.3513,\n",
      "            0.1714, 0.9115, 0.8918, 0.4491, 0.1798, 0.3370, 0.2539, 0.2635,\n",
      "            0.1524, 0.3022, 0.2080, 0.4793, 0.2023, 0.4631, 0.1663, 0.3284,\n",
      "            0.9602, 0.4502, 0.2286, 0.4230, 0.2967, 0.3572, 0.3097, 0.1768,\n",
      "            0.1600, 0.8633, 0.2110, 0.2116, 0.2098, 0.2376, 0.1908, 0.3721,\n",
      "            0.2031, 0.2745, 0.9153, 0.2311, 0.2654, 0.1705, 0.3995, 0.1573,\n",
      "            0.1689, 0.2289, 0.1550, 0.2296, 0.4806, 0.4730, 0.6725, 0.4634],\n",
      "           device='cuda:0') TensorBase([8, 7, 0, 7, 0, 3, 7, 8, 7, 9, 7, 7, 4, 3, 7, 5, 0, 5, 8, 7, 7, 0, 5,\n",
      "            7, 0, 4, 4, 7, 7, 8, 3, 0, 8, 7, 4, 8, 4, 7, 7, 3, 0, 8, 8, 4, 8, 8,\n",
      "            5, 4, 7, 7, 8, 7, 7, 3, 8, 7, 7, 4, 4, 4, 8, 8, 8, 7],\n",
      "           device='cuda:0') tensor([ 5, 10,  4, 10,  0,  1,  1,  8,  4,  9,  7,  0,  1,  2,  1,  8, 10,  5,\n",
      "         9,  3,  3,  9,  1,  0, 10,  4,  1, 10,  9,  8,  9,  0,  8, 11,  6, 11,\n",
      "         9,  7, 10,  2,  4,  8,  4,  4,  9,  2, 11,  4,  2,  7,  8,  2, 10,  7,\n",
      "         8, 10,  1,  4, 11,  1,  5,  6,  8,  3], device='cuda:0')\n",
      "99 / 384 = Acc: 25.78125 %\n",
      "TensorBase([0.6630, 0.1581, 0.3874, 0.1685, 0.1748, 0.3884, 0.8709, 0.2782,\n",
      "            0.9397, 0.2950, 0.2173, 0.2079, 0.3101, 0.3869, 0.3277, 0.4790,\n",
      "            0.3783, 0.8022, 0.1929, 0.2959, 0.2388, 0.6604, 0.1667, 0.3911,\n",
      "            0.1765, 0.2012, 0.2632, 0.8798, 0.1619, 0.3416, 0.2027, 0.4923,\n",
      "            0.8000, 0.8322, 0.9648, 0.4144, 0.2535, 0.1456, 0.4723, 0.8674,\n",
      "            0.1669, 0.2374, 0.2429, 0.3130, 0.2141, 0.1696, 0.1714, 0.6102,\n",
      "            0.3232, 0.2297, 0.2012, 0.2006, 0.6996, 0.2347, 0.2303, 0.3480,\n",
      "            0.1750, 0.9297, 0.1591, 0.2771, 0.7354, 0.8534, 0.9349, 0.7793],\n",
      "           device='cuda:0') TensorBase([8, 3, 2, 5, 3, 2, 8, 7, 8, 0, 4, 0, 0, 8, 7, 7, 8, 8, 0, 0, 8, 8, 7,\n",
      "            7, 3, 3, 0, 8, 7, 8, 8, 8, 8, 8, 8, 7, 7, 5, 7, 8, 7, 4, 2, 8, 4, 3,\n",
      "            3, 8, 7, 5, 7, 8, 8, 0, 5, 7, 3, 8, 7, 0, 8, 8, 8, 5],\n",
      "           device='cuda:0') tensor([11,  9,  6,  4,  3,  6,  9, 10,  5,  6,  4,  1,  0,  7,  2,  3, 11,  5,\n",
      "         0,  0,  1,  3,  3,  4,  2,  3,  0,  9, 10,  9,  1, 11,  8,  5,  8,  0,\n",
      "         7,  2,  0,  5,  3,  1,  7, 11,  6,  2,  2,  4,  6,  4, 11,  7,  5,  3,\n",
      "         3, 10,  2,  8,  3,  0,  7,  8,  5,  5], device='cuda:0')\n",
      "113 / 448 = Acc: 25.223214285714285 %\n",
      "TensorBase([0.3396, 0.3143, 0.2701, 0.2815, 0.1771, 0.3763, 0.1919, 0.7556,\n",
      "            0.1944, 0.2966, 0.9395, 0.4814, 0.2918, 0.1922, 0.1641, 0.3560,\n",
      "            0.1571, 0.3179, 0.1793, 0.2586, 0.7827, 0.3741, 0.3350, 0.6239,\n",
      "            0.2173, 0.2003, 0.2592, 0.1738, 0.2793, 0.2421, 0.2142, 0.1968,\n",
      "            0.5650, 0.2339, 0.9158, 0.8708, 0.2935, 0.9084, 0.1547, 0.2620,\n",
      "            0.9308, 0.3196, 0.2925, 0.2938, 0.1866, 0.1666, 0.1485, 0.3744,\n",
      "            0.2317, 0.2592, 0.9743, 0.2615, 0.1875, 0.2011, 0.5151, 0.2921,\n",
      "            0.3394, 0.3993, 0.9150, 0.7284, 0.2197, 0.8326, 0.3722, 0.1771],\n",
      "           device='cuda:0') TensorBase([7, 0, 7, 9, 3, 7, 7, 8, 3, 0, 8, 7, 0, 8, 4, 2, 7, 7, 9, 8, 8, 7, 7,\n",
      "            8, 8, 4, 7, 3, 0, 0, 4, 5, 8, 4, 8, 8, 4, 8, 7, 9, 8, 0, 7, 2, 4, 0,\n",
      "            3, 4, 8, 7, 8, 0, 4, 8, 8, 4, 7, 2, 8, 8, 5, 8, 4, 3],\n",
      "           device='cuda:0') tensor([ 4,  9, 10,  9,  2,  4,  7,  4,  3,  9,  8, 10,  6,  1, 11,  6,  4,  4,\n",
      "         9,  8,  3,  7, 10,  8,  4,  9,  7,  2,  0,  9,  4,  3,  3,  1,  9,  5,\n",
      "         9,  5, 10,  9,  5,  0, 11,  6,  4, 10,  3,  3, 11,  7,  8, 10, 10,  1,\n",
      "         3,  9,  7,  6,  5,  8,  6,  8,  3,  9], device='cuda:0')\n",
      "133 / 512 = Acc: 25.9765625 %\n",
      "TensorBase([0.2671, 0.3260, 0.1670, 0.1739, 0.3744, 0.1819, 0.1573, 0.9459,\n",
      "            0.9376, 0.3337, 0.3165, 0.4755, 0.2012, 0.1747, 0.1816, 0.8798,\n",
      "            0.3263, 0.2386, 0.9593, 0.4357, 0.3258, 0.2779, 0.1901, 0.1586,\n",
      "            0.9649, 0.7855, 0.3093, 0.3220, 0.6698, 0.9273, 0.4845, 0.1827,\n",
      "            0.5434, 0.2104, 0.3698, 0.3359, 0.1704, 0.2073, 0.5247, 0.3840,\n",
      "            0.1686, 0.3251, 0.1809, 0.1807, 0.3471, 0.2817, 0.3141, 0.2345,\n",
      "            0.9194, 0.1801, 0.1792, 0.8972, 0.9054, 0.9014, 0.5576, 0.1668,\n",
      "            0.2944, 0.2935, 0.9252, 0.1694, 0.9657, 0.1895, 0.3244, 0.1699],\n",
      "           device='cuda:0') TensorBase([0, 0, 7, 4, 8, 4, 7, 8, 8, 0, 0, 8, 4, 2, 3, 8, 0, 0, 8, 7, 8, 7, 3,\n",
      "            7, 8, 8, 0, 0, 8, 8, 7, 5, 8, 3, 9, 2, 7, 9, 8, 7, 3, 0, 7, 3, 5, 8,\n",
      "            0, 4, 8, 4, 5, 8, 8, 8, 5, 7, 5, 4, 8, 2, 8, 3, 0, 3],\n",
      "           device='cuda:0') tensor([ 7,  0,  3,  1,  9, 10, 10,  5,  5,  9,  0,  5,  5,  6,  4,  9,  4,  5,\n",
      "         8, 11,  6, 10,  4, 10,  8,  8,  9,  0, 11,  5, 10, 11,  6, 11, 11,  6,\n",
      "         7,  9,  5,  0,  2,  0,  2,  2, 11,  3,  0,  1,  8, 10,  4,  1,  5,  5,\n",
      "         5,  1, 10,  9,  5,  2,  8,  4,  0, 11], device='cuda:0')\n",
      "148 / 576 = Acc: 25.694444444444443 %\n",
      "TensorBase([0.9557, 0.1632, 0.3581, 0.4671, 0.3789, 0.2920, 0.2247, 0.5788,\n",
      "            0.2879, 0.1765, 0.8855, 0.1489, 0.2621, 0.3382, 0.8767, 0.6600,\n",
      "            0.1679, 0.7252, 0.2192, 0.4856, 0.3146, 0.7538, 0.3961, 0.4917,\n",
      "            0.2662, 0.4178, 0.1998, 0.3909, 0.2388, 0.2460, 0.1847, 0.1817,\n",
      "            0.2121, 0.8058, 0.1882, 0.3110, 0.1965, 0.3218, 0.2120],\n",
      "           device='cuda:0') TensorBase([8, 7, 9, 7, 7, 0, 3, 5, 0, 3, 8, 8, 7, 7, 8, 8, 3, 8, 0, 9, 7, 8, 7,\n",
      "            7, 5, 7, 4, 5, 3, 3, 1, 7, 3, 8, 4, 5, 7, 0, 3], device='cuda:0') tensor([ 8,  3, 11, 10,  0,  0,  7, 11,  9,  3,  8, 11, 11, 11,  8,  5, 10,  7,\n",
      "         0, 10, 11,  5,  7,  0,  9,  0,  6, 11,  1, 11,  6,  1,  2,  3,  5,  8,\n",
      "         7,  9,  9], device='cuda:0')\n",
      "156 / 615 = Acc: 25.365853658536587 %\n"
     ]
    },
    {
     "data": {
      "text/plain": [
       "Text(77.92222222222227, 0.5, 'Ground Truth')"
      ]
     },
     "execution_count": 118,
     "metadata": {},
     "output_type": "execute_result"
    },
    {
     "data": {
      "image/png": "[encoded data removed]",
      "text/plain": [
       "<Figure size 640x480 with 2 Axes>"
      ]
     },
     "metadata": {},
     "output_type": "display_data"
    }
   ],
   "source": [
    "# For Confusion Matrix\n",
    "predicted_lists = np.zeros(0, dtype=np.int64)\n",
    "one_hot_labels_list = np.zeros(0, dtype=np.int64)\n",
    "threshold = 0.65\n",
    "model.eval()\n",
    "\n",
    "with torch.no_grad():\n",
    "  n_correct = 0\n",
    "  n_samples = 0\n",
    "  softmax = nn.Softmax()\n",
    "  for i, (signals, one_hot_labels) in enumerate(test_loader):\n",
    "    signals = signals.float()\n",
    "    signals = signals.to(device)\n",
    "    one_hot_labels = one_hot_labels.to(device)\n",
    "    outputs = model(signals)\n",
    "    for j, out in enumerate(outputs):\n",
    "      outputs[j] = softmax(out)\n",
    "    _, predicted = torch.max(outputs.data, 1) # predicted per batch size\n",
    "    \"\"\"\n",
    "    # Opensetのためのthreshold-softmax\n",
    "    for idx in range(len(_)):\n",
    "      if _[idx] < threshold:\n",
    "        predicted[idx] = Unknown_label # 15, 20, 25\n",
    "    \"\"\"\n",
    "    print(_, predicted, one_hot_labels)\n",
    "    n_samples += one_hot_labels.size(0) # add batch_size\n",
    "    n_correct += (predicted == one_hot_labels).sum().item()\n",
    "    \n",
    "    predicted_cp = predicted.to('cpu').detach().numpy().copy()\n",
    "    one_hot_labels_cp = one_hot_labels.to('cpu').detach().numpy().copy()\n",
    "    predicted_lists = np.concatenate([predicted_lists, predicted_cp])\n",
    "    one_hot_labels_list = np.concatenate([one_hot_labels_list, one_hot_labels_cp])\n",
    "    \n",
    "    acc = 100.0 * n_correct / n_samples\n",
    "    print(f'{n_correct} / {n_samples} = Acc: {acc} %')\n",
    "\n",
    "from sklearn.metrics import confusion_matrix\n",
    "import seaborn as sns\n",
    "import matplotlib.pyplot as plt\n",
    "\n",
    "cm = confusion_matrix(one_hot_labels_list, predicted_lists)\n",
    "sns.heatmap(cm, square=True, cbar=True, annot=True, cmap='Blues')\n",
    "plt.xlabel(\"Predicted Label\", fontsize=13)\n",
    "plt.ylabel(\"Ground Truth\", fontsize=13)"
   ]
  },
  {
   "attachments": {},
   "cell_type": "markdown",
   "metadata": {},
   "source": [
    "### Cross Validation for Open set"
   ]
  },
  {
   "cell_type": "code",
   "execution_count": null,
   "metadata": {},
   "outputs": [],
   "source": [
    "from sklearn.model_selection import StratifiedKFold\n",
    "from sklearn.metrics import classification_report\n",
    "from sklearn.metrics import confusion_matrix\n",
    "import seaborn as sns\n",
    "import matplotlib.pyplot as plt\n",
    "torch.manual_seed(0)\n",
    "# X = dataset\n",
    "# y = labels\n",
    "skf = StratifiedKFold(n_splits=10, shuffle=True, random_state=0) # shuffle=Falseだとrandom_stateは何か数字を設定しても意味ないらしい\n",
    "\n",
    "mean_acc = 0\n",
    "\n",
    "dataset = MyDataset(data_series, labels_tensor, \"./data/\", transform=transforms.ToTensor())\n",
    "\n",
    "for Fold, (train_index, test_index) in enumerate(skf.split(data_series, labels_tensor)):\n",
    "    print(f\"Fold{Fold+1} Start!\")\n",
    "    # Prepare Open train Dataset\n",
    "    open_train_index = [i for i in train_index if i <= split_idx]\n",
    "    open_train_set = torch.utils.data.Subset(dataset, open_train_index)\n",
    "    open_test_set = torch.utils.data.Subset(dataset, test_index)\n",
    "    # Prepare Close train Dataset\n",
    "    # train_set = torch.utils.data.Subset(dataset, train_index)\n",
    "    # test_set = torch.utils.data.Subset(dataset, test_index) # openの場合も同じ\n",
    "\n",
    "    Unknown_label = close_num + 1\n",
    "\n",
    "    train_loader = DataLoader(dataset=open_train_set, batch_size=batch_size, shuffle=True)\n",
    "    test_loader = DataLoader(dataset=open_test_set, batch_size=batch_size, shuffle=False)\n",
    "\n",
    "    model = InceptionTime(1, close_num + 1) # 0-?+Unknownを出力\n",
    "    model = model.to(device)\n",
    "    # criterion = nn.CrossEntropyLoss()\n",
    "    optimizer = torch.optim.Adam(model.parameters(), lr=learning_rate)\n",
    "\n",
    "    from fastprogress.fastprogress import master_bar, progress_bar\n",
    "    mb = master_bar(range(num_epochs))\n",
    "\n",
    "    model.train()\n",
    "    n_total_steps = len(train_loader)\n",
    "    for epoch in mb:\n",
    "        for i, (signals, labels) in enumerate(progress_bar(train_loader, parent=mb)):\n",
    "            signals = torch.tensor(signals)\n",
    "            signals = signals.float()\n",
    "            signals = signals.to(device)\n",
    "            labels = labels.to(device)\n",
    "\n",
    "            # print(signals.size())\n",
    "            outputs = model(signals)\n",
    "            outputs = outputs.to(device)\n",
    "            # print(outputs)\n",
    "            loss = triple_joint_loss(outputs, labels, alpha) # will check the shapes of outputs and labels\n",
    "            # test_loss = triple_joint_loss(signals, one_hot_labels, alpha) # from test_loader?\n",
    "            optimizer.zero_grad()\n",
    "            optimizer_centloss.zero_grad()\n",
    "            loss.backward()\n",
    "            for param in center_loss.parameters():\n",
    "                param.grad.data *= (1./alpha) # 98.98%を出したときはこれを書いていなかった→追加しても問題なし．\n",
    "            optimizer.step()\n",
    "            optimizer_centloss.step()\n",
    "        mb.write(\"Finished Epoch: {0:02d}, Training Loss: {1:10.5f}\".format(epoch+1, loss.item()))\n",
    "\n",
    "    # For Confusion Matrix\n",
    "    thresholds = [0.1, 0.2, 0.3, 0.4, 0.5, 0.6, 0.7, 0.8, 0.9, 0.95, 0.96, 0.97, 0.98, 0.99, 0.999]\n",
    "    model.eval()\n",
    "    for threshold in thresholds:\n",
    "      predicted_lists = np.zeros(0, dtype=np.int64)\n",
    "      one_hot_labels_list = np.zeros(0, dtype=np.int64)\n",
    "      with torch.no_grad():\n",
    "        n_correct = 0\n",
    "        n_samples = 0\n",
    "        softmax = nn.Softmax()\n",
    "        for i, (signals, one_hot_labels) in enumerate(test_loader):\n",
    "          signals = torch.tensor(signals)\n",
    "          signals = signals.float()\n",
    "          signals = signals.to(device)\n",
    "          one_hot_labels = one_hot_labels.to(device)\n",
    "          # print(len(one_hot_labels))\n",
    "          outputs = model(signals)\n",
    "          # if i == 1:\n",
    "          \n",
    "            # print(outputs)\n",
    "          for j, out in enumerate(outputs):\n",
    "            outputs[j] = softmax(out)\n",
    "\n",
    "          _, predicted = torch.max(outputs.data, 1) # predicted per batch size\n",
    "          \n",
    "          for idx in range(len(_)):\n",
    "            if _[idx] < threshold:\n",
    "              predicted[idx] = Unknown_label # 15, 20, 25\n",
    "          # print(_, predicted, one_hot_labels)\n",
    "\n",
    "          n_samples += one_hot_labels.size(0) # add batch_size\n",
    "          n_correct += (predicted == one_hot_labels).sum().item()\n",
    "          \n",
    "          predicted_cp = predicted.to('cpu').detach().numpy().copy()\n",
    "          one_hot_labels_cp = one_hot_labels.to('cpu').detach().numpy().copy()\n",
    "          predicted_lists = np.concatenate([predicted_lists, predicted_cp])\n",
    "          one_hot_labels_list = np.concatenate([one_hot_labels_list, one_hot_labels_cp])\n",
    "          \n",
    "          acc = 100.0 * n_correct / n_samples\n",
    "          # print(f'{n_correct} / {n_samples} = Acc: {acc} %')\n",
    "        with open(\"cross_val_result_close.txt\", \"a\") as f:\n",
    "          f.write(f\"Fold{Fold+1}, Threshold{threshold}\\n\")\n",
    "          f.write(classification_report(one_hot_labels_list, predicted_lists, digits=4) + \"\\n\")\n",
    "\n",
    "\n",
    "        cm = confusion_matrix(one_hot_labels_list, predicted_lists)\n",
    "        sns.heatmap(cm, square=True, cbar=True, annot=True, cmap='Blues')\n",
    "        plt.xlabel(\"Predicted Label\", fontsize=13)\n",
    "        plt.ylabel(\"Ground Truth\", fontsize=13)\n",
    "        fig_name = \"cross_val_Fold{}_threshold{}.png\".format(Fold, threshold)\n",
    "        plt.savefig(\"./figure/cross_val_open/\" + fig_name)\n",
    "        plt.close()\n",
    "      \n",
    "      if threshold == 0.7:\n",
    "        mean_acc += acc\n",
    "print(mean_acc / 10.0)"
   ]
  },
  {
   "attachments": {},
   "cell_type": "markdown",
   "metadata": {},
   "source": [
    "### Cross Validation for Close-set"
   ]
  },
  {
   "cell_type": "code",
   "execution_count": 15,
   "metadata": {},
   "outputs": [
    {
     "name": "stdout",
     "output_type": "stream",
     "text": [
      "Fold1 Start!\n"
     ]
    },
    {
     "data": {
      "text/html": [
       "\n",
       "<style>\n",
       "    /* Turns off some styling */\n",
       "    progress {\n",
       "        /* gets rid of default border in Firefox and Opera. */\n",
       "        border: none;\n",
       "        /* Needs to be in here for Safari polyfill so background images work as expected. */\n",
       "        background-size: auto;\n",
       "    }\n",
       "    progress:not([value]), progress:not([value])::-webkit-progress-bar {\n",
       "        background: repeating-linear-gradient(45deg, #7e7e7e, #7e7e7e 10px, #5c5c5c 10px, #5c5c5c 20px);\n",
       "    }\n",
       "    .progress-bar-interrupted, .progress-bar-interrupted::-webkit-progress-bar {\n",
       "        background: #F44336;\n",
       "    }\n",
       "</style>\n"
      ],
      "text/plain": [
       "<IPython.core.display.HTML object>"
      ]
     },
     "metadata": {},
     "output_type": "display_data"
    },
    {
     "data": {
      "text/html": [
       "Finished Epoch: 01, Training Loss:    4.08878<p>Finished Epoch: 02, Training Loss:    3.54280<p>Finished Epoch: 03, Training Loss:    3.06923<p>Finished Epoch: 04, Training Loss:    2.61717<p>Finished Epoch: 05, Training Loss:    2.83085<p>Finished Epoch: 06, Training Loss:    2.65355<p>Finished Epoch: 07, Training Loss:    3.17012<p>Finished Epoch: 08, Training Loss:    3.31383<p>Finished Epoch: 09, Training Loss:    2.19917<p>Finished Epoch: 10, Training Loss:    2.41243<p>Finished Epoch: 11, Training Loss:    3.20799<p>Finished Epoch: 12, Training Loss:    2.69954<p>Finished Epoch: 13, Training Loss:    2.46071<p>Finished Epoch: 14, Training Loss:    2.35814<p>Finished Epoch: 15, Training Loss:    3.32858<p>Finished Epoch: 16, Training Loss:    2.62238<p>Finished Epoch: 17, Training Loss:    2.42638<p>Finished Epoch: 18, Training Loss:    3.78107<p>Finished Epoch: 19, Training Loss:    2.90015<p>Finished Epoch: 20, Training Loss:    2.38313<p>Finished Epoch: 21, Training Loss:    1.96274<p>Finished Epoch: 22, Training Loss:    2.30468<p>Finished Epoch: 23, Training Loss:    2.43199<p>Finished Epoch: 24, Training Loss:    2.06429<p>Finished Epoch: 25, Training Loss:    2.37968<p>Finished Epoch: 26, Training Loss:    2.86968<p>Finished Epoch: 27, Training Loss:    4.10585<p>Finished Epoch: 28, Training Loss:    2.85029<p>Finished Epoch: 29, Training Loss:    2.53330<p>Finished Epoch: 30, Training Loss:    2.47498<p>Finished Epoch: 31, Training Loss:    2.72215<p>Finished Epoch: 32, Training Loss:    2.35849<p>Finished Epoch: 33, Training Loss:    2.28938<p>Finished Epoch: 34, Training Loss:    1.90321<p>Finished Epoch: 35, Training Loss:    2.66024<p>Finished Epoch: 36, Training Loss:    2.33788<p>Finished Epoch: 37, Training Loss:    2.75204<p>Finished Epoch: 38, Training Loss:    2.66768<p>Finished Epoch: 39, Training Loss:    2.90004<p>Finished Epoch: 40, Training Loss:    2.08865<p>Finished Epoch: 41, Training Loss:    2.56979<p>Finished Epoch: 42, Training Loss:    2.28056<p>Finished Epoch: 43, Training Loss:    2.20451<p>Finished Epoch: 44, Training Loss:    1.74325<p>Finished Epoch: 45, Training Loss:    2.32918<p>Finished Epoch: 46, Training Loss:    2.11646<p>Finished Epoch: 47, Training Loss:    2.42304<p>Finished Epoch: 48, Training Loss:    3.25637<p>Finished Epoch: 49, Training Loss:    2.10698<p>Finished Epoch: 50, Training Loss:    1.97459<p>Finished Epoch: 51, Training Loss:    5.13607<p>Finished Epoch: 52, Training Loss:    2.24768<p>Finished Epoch: 53, Training Loss:    1.90621<p>Finished Epoch: 54, Training Loss:    1.90315<p>Finished Epoch: 55, Training Loss:    2.29192<p>Finished Epoch: 56, Training Loss:    2.68592<p>Finished Epoch: 57, Training Loss:    2.21051<p>Finished Epoch: 58, Training Loss:    2.47251<p>Finished Epoch: 59, Training Loss:    1.84428<p>Finished Epoch: 60, Training Loss:    1.75423<p>Finished Epoch: 61, Training Loss:    4.22863<p>Finished Epoch: 62, Training Loss:    3.27991<p>Finished Epoch: 63, Training Loss:    2.25853<p>Finished Epoch: 64, Training Loss:    1.99578<p>Finished Epoch: 65, Training Loss:    2.92770<p>Finished Epoch: 66, Training Loss:    3.22520<p>Finished Epoch: 67, Training Loss:    1.78921<p>Finished Epoch: 68, Training Loss:    2.75212<p>Finished Epoch: 69, Training Loss:    2.33043<p>Finished Epoch: 70, Training Loss:    1.77545<p>Finished Epoch: 71, Training Loss:    7.82208<p>Finished Epoch: 72, Training Loss:    2.58595<p>Finished Epoch: 73, Training Loss:    1.94256<p>Finished Epoch: 74, Training Loss:    2.63765<p>Finished Epoch: 75, Training Loss:    2.10829<p>Finished Epoch: 76, Training Loss:    1.78946<p>Finished Epoch: 77, Training Loss:    2.61097<p>Finished Epoch: 78, Training Loss:    4.92118<p>Finished Epoch: 79, Training Loss:    2.43259<p>Finished Epoch: 80, Training Loss:    2.07273<p>Finished Epoch: 81, Training Loss:    4.34130<p>Finished Epoch: 82, Training Loss:    2.26867<p>Finished Epoch: 83, Training Loss:    2.24906<p>Finished Epoch: 84, Training Loss:    2.02818<p>Finished Epoch: 85, Training Loss:    2.72915<p>Finished Epoch: 86, Training Loss:    2.86057<p>Finished Epoch: 87, Training Loss:    1.77318<p>Finished Epoch: 88, Training Loss:    2.81791<p>Finished Epoch: 89, Training Loss:    2.52518<p>Finished Epoch: 90, Training Loss:    1.95595<p>Finished Epoch: 91, Training Loss:    2.83416<p>Finished Epoch: 92, Training Loss:    4.98526<p>Finished Epoch: 93, Training Loss:    1.96234<p>Finished Epoch: 94, Training Loss:    2.19534<p>Finished Epoch: 95, Training Loss:    1.93469<p>Finished Epoch: 96, Training Loss:    2.79002<p>Finished Epoch: 97, Training Loss:    1.92961<p>Finished Epoch: 98, Training Loss:    2.34113<p>Finished Epoch: 99, Training Loss:    3.50304<p>Finished Epoch: 100, Training Loss:    2.02485"
      ],
      "text/plain": [
       "<IPython.core.display.HTML object>"
      ]
     },
     "metadata": {},
     "output_type": "display_data"
    },
    {
     "name": "stderr",
     "output_type": "stream",
     "text": [
      "/tmp/ipykernel_28570/2790633555.py:42: UserWarning: To copy construct from a tensor, it is recommended to use sourceTensor.clone().detach() or sourceTensor.clone().detach().requires_grad_(True), rather than torch.tensor(sourceTensor).\n",
      "  signals = torch.tensor(signals)\n",
      "/tmp/ipykernel_28570/3433469541.py:84: UserWarning: To copy construct from a tensor, it is recommended to use sourceTensor.clone().detach() or sourceTensor.clone().detach().requires_grad_(True), rather than torch.tensor(sourceTensor).\n",
      "  x = torch.tensor(x).to(device)\n",
      "/mnt/c/Users/grpro/workspace/grad_thesis/InceptionTime/env/lib/python3.9/site-packages/torch/overrides.py:1498: UserWarning: Implicit dimension choice for softmax has been deprecated. Change the call to include dim=X as an argument.\n",
      "  result = torch_func_method(public_api, types, args, kwargs)\n",
      "/mnt/c/Users/grpro/workspace/grad_thesis/InceptionTime/center_loss.py:45: UserWarning: This overload of addmm_ is deprecated:\n",
      "\taddmm_(Number beta, Number alpha, Tensor mat1, Tensor mat2)\n",
      "Consider using one of the following signatures instead:\n",
      "\taddmm_(Tensor mat1, Tensor mat2, *, Number beta, Number alpha) (Triggered internally at  ../torch/csrc/utils/python_arg_parser.cpp:1174.)\n",
      "  distmat.addmm_(1, -2, x, self.centers.t())\n",
      "/tmp/ipykernel_28570/2790633555.py:73: UserWarning: To copy construct from a tensor, it is recommended to use sourceTensor.clone().detach() or sourceTensor.clone().detach().requires_grad_(True), rather than torch.tensor(sourceTensor).\n",
      "  signals = torch.tensor(signals)\n"
     ]
    },
    {
     "name": "stdout",
     "output_type": "stream",
     "text": [
      "Fold2 Start!\n"
     ]
    },
    {
     "data": {
      "text/html": [
       "\n",
       "<style>\n",
       "    /* Turns off some styling */\n",
       "    progress {\n",
       "        /* gets rid of default border in Firefox and Opera. */\n",
       "        border: none;\n",
       "        /* Needs to be in here for Safari polyfill so background images work as expected. */\n",
       "        background-size: auto;\n",
       "    }\n",
       "    progress:not([value]), progress:not([value])::-webkit-progress-bar {\n",
       "        background: repeating-linear-gradient(45deg, #7e7e7e, #7e7e7e 10px, #5c5c5c 10px, #5c5c5c 20px);\n",
       "    }\n",
       "    .progress-bar-interrupted, .progress-bar-interrupted::-webkit-progress-bar {\n",
       "        background: #F44336;\n",
       "    }\n",
       "</style>\n"
      ],
      "text/plain": [
       "<IPython.core.display.HTML object>"
      ]
     },
     "metadata": {},
     "output_type": "display_data"
    },
    {
     "data": {
      "text/html": [
       "Finished Epoch: 01, Training Loss:    3.35999<p>Finished Epoch: 02, Training Loss:    3.30790<p>Finished Epoch: 03, Training Loss:    2.32217<p>Finished Epoch: 04, Training Loss:    2.47197<p>Finished Epoch: 05, Training Loss:    2.46101<p>Finished Epoch: 06, Training Loss:    3.07283<p>Finished Epoch: 07, Training Loss:    2.62805<p>Finished Epoch: 08, Training Loss:    2.68871<p>Finished Epoch: 09, Training Loss:    3.01430<p>Finished Epoch: 10, Training Loss:    2.64681<p>Finished Epoch: 11, Training Loss:    3.22599<p>Finished Epoch: 12, Training Loss:    2.92444<p>Finished Epoch: 13, Training Loss:    2.14229<p>Finished Epoch: 14, Training Loss:    3.46264<p>Finished Epoch: 15, Training Loss:    3.52142<p>Finished Epoch: 16, Training Loss:    2.08051<p>Finished Epoch: 17, Training Loss:    2.73952<p>Finished Epoch: 18, Training Loss:    3.90361<p>Finished Epoch: 19, Training Loss:    2.20509<p>Finished Epoch: 20, Training Loss:    2.07977<p>Finished Epoch: 21, Training Loss:    2.32001<p>Finished Epoch: 22, Training Loss:    3.21287<p>Finished Epoch: 23, Training Loss:    3.13409<p>Finished Epoch: 24, Training Loss:    2.50059<p>Finished Epoch: 25, Training Loss:    2.83537<p>Finished Epoch: 26, Training Loss:    3.94211<p>Finished Epoch: 27, Training Loss:    2.15740<p>Finished Epoch: 28, Training Loss:    2.10151<p>Finished Epoch: 29, Training Loss:    2.32447<p>Finished Epoch: 30, Training Loss:    2.30454<p>Finished Epoch: 31, Training Loss:    3.13282<p>Finished Epoch: 32, Training Loss:    2.12270<p>Finished Epoch: 33, Training Loss:    2.18477<p>Finished Epoch: 34, Training Loss:    2.61309<p>Finished Epoch: 35, Training Loss:    2.06463<p>Finished Epoch: 36, Training Loss:    2.18999<p>Finished Epoch: 37, Training Loss:    2.17241<p>Finished Epoch: 38, Training Loss:    2.02407<p>Finished Epoch: 39, Training Loss:    2.61399<p>Finished Epoch: 40, Training Loss:    3.98354<p>Finished Epoch: 41, Training Loss:    2.91739<p>Finished Epoch: 42, Training Loss:    4.28672<p>Finished Epoch: 43, Training Loss:    1.94507<p>Finished Epoch: 44, Training Loss:    2.38377<p>Finished Epoch: 45, Training Loss:    4.89613<p>Finished Epoch: 46, Training Loss:    1.73787<p>Finished Epoch: 47, Training Loss:    2.38885<p>Finished Epoch: 48, Training Loss:    3.12549<p>Finished Epoch: 49, Training Loss:    2.67085<p>Finished Epoch: 50, Training Loss:    2.26109<p>Finished Epoch: 51, Training Loss:    2.36643<p>Finished Epoch: 52, Training Loss:    2.43124<p>Finished Epoch: 53, Training Loss:    1.99208<p>Finished Epoch: 54, Training Loss:    1.78843<p>Finished Epoch: 55, Training Loss:    2.68185<p>Finished Epoch: 56, Training Loss:    1.97641<p>Finished Epoch: 57, Training Loss:    2.12756<p>Finished Epoch: 58, Training Loss:    2.41304<p>Finished Epoch: 59, Training Loss:    1.96494<p>Finished Epoch: 60, Training Loss:    1.73474<p>Finished Epoch: 61, Training Loss:    2.04915<p>Finished Epoch: 62, Training Loss:    2.30534<p>Finished Epoch: 63, Training Loss:    2.05253<p>Finished Epoch: 64, Training Loss:    2.32328<p>Finished Epoch: 65, Training Loss:    3.51399<p>Finished Epoch: 66, Training Loss:    2.01760<p>Finished Epoch: 67, Training Loss:    2.42875<p>Finished Epoch: 68, Training Loss:    2.93845<p>Finished Epoch: 69, Training Loss:    2.93601<p>Finished Epoch: 70, Training Loss:    2.02083<p>Finished Epoch: 71, Training Loss:    2.80653<p>Finished Epoch: 72, Training Loss:    2.00710<p>Finished Epoch: 73, Training Loss:    2.61473<p>Finished Epoch: 74, Training Loss:    2.06175<p>Finished Epoch: 75, Training Loss:    2.42625<p>Finished Epoch: 76, Training Loss:    1.98739<p>Finished Epoch: 77, Training Loss:    2.52740<p>Finished Epoch: 78, Training Loss:    2.16501<p>Finished Epoch: 79, Training Loss:    1.97247<p>Finished Epoch: 80, Training Loss:    2.62475<p>Finished Epoch: 81, Training Loss:    2.67786<p>Finished Epoch: 82, Training Loss:    2.84680<p>Finished Epoch: 83, Training Loss:    3.10994<p>Finished Epoch: 84, Training Loss:    2.02941<p>Finished Epoch: 85, Training Loss:    2.11310<p>Finished Epoch: 86, Training Loss:    2.02001<p>Finished Epoch: 87, Training Loss:    2.51908<p>Finished Epoch: 88, Training Loss:    1.71629<p>Finished Epoch: 89, Training Loss:    3.56272<p>Finished Epoch: 90, Training Loss:    2.97567<p>Finished Epoch: 91, Training Loss:    1.76174<p>Finished Epoch: 92, Training Loss:    2.95605<p>Finished Epoch: 93, Training Loss:    2.92941<p>Finished Epoch: 94, Training Loss:    1.66982<p>Finished Epoch: 95, Training Loss:    3.03786<p>Finished Epoch: 96, Training Loss:    2.56139<p>Finished Epoch: 97, Training Loss:    2.32879<p>Finished Epoch: 98, Training Loss:    2.14818<p>Finished Epoch: 99, Training Loss:    4.88285<p>Finished Epoch: 100, Training Loss:    2.15071"
      ],
      "text/plain": [
       "<IPython.core.display.HTML object>"
      ]
     },
     "metadata": {},
     "output_type": "display_data"
    },
    {
     "name": "stderr",
     "output_type": "stream",
     "text": [
      "/tmp/ipykernel_28570/2790633555.py:42: UserWarning: To copy construct from a tensor, it is recommended to use sourceTensor.clone().detach() or sourceTensor.clone().detach().requires_grad_(True), rather than torch.tensor(sourceTensor).\n",
      "  signals = torch.tensor(signals)\n",
      "/tmp/ipykernel_28570/3433469541.py:84: UserWarning: To copy construct from a tensor, it is recommended to use sourceTensor.clone().detach() or sourceTensor.clone().detach().requires_grad_(True), rather than torch.tensor(sourceTensor).\n",
      "  x = torch.tensor(x).to(device)\n",
      "/mnt/c/Users/grpro/workspace/grad_thesis/InceptionTime/env/lib/python3.9/site-packages/torch/overrides.py:1498: UserWarning: Implicit dimension choice for softmax has been deprecated. Change the call to include dim=X as an argument.\n",
      "  result = torch_func_method(public_api, types, args, kwargs)\n",
      "/tmp/ipykernel_28570/2790633555.py:73: UserWarning: To copy construct from a tensor, it is recommended to use sourceTensor.clone().detach() or sourceTensor.clone().detach().requires_grad_(True), rather than torch.tensor(sourceTensor).\n",
      "  signals = torch.tensor(signals)\n"
     ]
    },
    {
     "name": "stdout",
     "output_type": "stream",
     "text": [
      "Fold3 Start!\n"
     ]
    },
    {
     "data": {
      "text/html": [
       "\n",
       "<style>\n",
       "    /* Turns off some styling */\n",
       "    progress {\n",
       "        /* gets rid of default border in Firefox and Opera. */\n",
       "        border: none;\n",
       "        /* Needs to be in here for Safari polyfill so background images work as expected. */\n",
       "        background-size: auto;\n",
       "    }\n",
       "    progress:not([value]), progress:not([value])::-webkit-progress-bar {\n",
       "        background: repeating-linear-gradient(45deg, #7e7e7e, #7e7e7e 10px, #5c5c5c 10px, #5c5c5c 20px);\n",
       "    }\n",
       "    .progress-bar-interrupted, .progress-bar-interrupted::-webkit-progress-bar {\n",
       "        background: #F44336;\n",
       "    }\n",
       "</style>\n"
      ],
      "text/plain": [
       "<IPython.core.display.HTML object>"
      ]
     },
     "metadata": {},
     "output_type": "display_data"
    },
    {
     "data": {
      "text/html": [
       "Finished Epoch: 01, Training Loss:    3.25869<p>Finished Epoch: 02, Training Loss:    2.84468<p>Finished Epoch: 03, Training Loss:    3.03310<p>Finished Epoch: 04, Training Loss:    3.28779<p>Finished Epoch: 05, Training Loss:    2.86791<p>Finished Epoch: 06, Training Loss:    3.22767<p>Finished Epoch: 07, Training Loss:    2.78621<p>Finished Epoch: 08, Training Loss:    2.57082<p>Finished Epoch: 09, Training Loss:    2.40527<p>Finished Epoch: 10, Training Loss:    3.53529<p>Finished Epoch: 11, Training Loss:    2.56673<p>Finished Epoch: 12, Training Loss:    2.62528<p>Finished Epoch: 13, Training Loss:    2.07846<p>Finished Epoch: 14, Training Loss:    2.49928<p>Finished Epoch: 15, Training Loss:    1.96520<p>Finished Epoch: 16, Training Loss:    3.48981<p>Finished Epoch: 17, Training Loss:    3.73120<p>Finished Epoch: 18, Training Loss:    2.21086<p>Finished Epoch: 19, Training Loss:    2.55928<p>Finished Epoch: 20, Training Loss:    1.91110<p>Finished Epoch: 21, Training Loss:    2.27438<p>Finished Epoch: 22, Training Loss:    2.46328<p>Finished Epoch: 23, Training Loss:    2.34427<p>Finished Epoch: 24, Training Loss:    2.50106<p>Finished Epoch: 25, Training Loss:    2.28369<p>Finished Epoch: 26, Training Loss:    1.94842<p>Finished Epoch: 27, Training Loss:    2.09358<p>Finished Epoch: 28, Training Loss:    2.10880<p>Finished Epoch: 29, Training Loss:    1.95305<p>Finished Epoch: 30, Training Loss:    1.94864<p>Finished Epoch: 31, Training Loss:    2.23099<p>Finished Epoch: 32, Training Loss:    2.91082<p>Finished Epoch: 33, Training Loss:    1.90208<p>Finished Epoch: 34, Training Loss:    3.26683<p>Finished Epoch: 35, Training Loss:    2.05456<p>Finished Epoch: 36, Training Loss:    4.11229<p>Finished Epoch: 37, Training Loss:    2.20681<p>Finished Epoch: 38, Training Loss:    3.09833<p>Finished Epoch: 39, Training Loss:    2.96915<p>Finished Epoch: 40, Training Loss:    2.12150<p>Finished Epoch: 41, Training Loss:    3.15160<p>Finished Epoch: 42, Training Loss:    3.17786<p>Finished Epoch: 43, Training Loss:    2.02282<p>Finished Epoch: 44, Training Loss:    3.08195<p>Finished Epoch: 45, Training Loss:    2.41944<p>Finished Epoch: 46, Training Loss:    1.83081<p>Finished Epoch: 47, Training Loss:    2.11421<p>Finished Epoch: 48, Training Loss:    1.92342<p>Finished Epoch: 49, Training Loss:    1.65204<p>Finished Epoch: 50, Training Loss:    1.97292<p>Finished Epoch: 51, Training Loss:    2.57987<p>Finished Epoch: 52, Training Loss:    1.92257<p>Finished Epoch: 53, Training Loss:    2.69249<p>Finished Epoch: 54, Training Loss:    2.55825<p>Finished Epoch: 55, Training Loss:    1.95988<p>Finished Epoch: 56, Training Loss:    2.10801<p>Finished Epoch: 57, Training Loss:    2.27561<p>Finished Epoch: 58, Training Loss:    2.48242<p>Finished Epoch: 59, Training Loss:    1.92075<p>Finished Epoch: 60, Training Loss:    1.99302<p>Finished Epoch: 61, Training Loss:    2.58539<p>Finished Epoch: 62, Training Loss:    2.29236<p>Finished Epoch: 63, Training Loss:    4.25217<p>Finished Epoch: 64, Training Loss:    2.69270<p>Finished Epoch: 65, Training Loss:    2.72571<p>Finished Epoch: 66, Training Loss:    3.74254<p>Finished Epoch: 67, Training Loss:    1.81648<p>Finished Epoch: 68, Training Loss:    3.04587<p>Finished Epoch: 69, Training Loss:    1.75425<p>Finished Epoch: 70, Training Loss:    3.23333<p>Finished Epoch: 71, Training Loss:    2.19906<p>Finished Epoch: 72, Training Loss:    1.89293<p>Finished Epoch: 73, Training Loss:    2.06900<p>Finished Epoch: 74, Training Loss:    2.32925<p>Finished Epoch: 75, Training Loss:    4.03026<p>Finished Epoch: 76, Training Loss:    1.82625<p>Finished Epoch: 77, Training Loss:    2.27624<p>Finished Epoch: 78, Training Loss:    1.70512<p>Finished Epoch: 79, Training Loss:    2.55450<p>Finished Epoch: 80, Training Loss:    2.42019<p>Finished Epoch: 81, Training Loss:    1.81269<p>Finished Epoch: 82, Training Loss:    2.06973<p>Finished Epoch: 83, Training Loss:    2.50566<p>Finished Epoch: 84, Training Loss:    2.19869<p>Finished Epoch: 85, Training Loss:    3.25237<p>Finished Epoch: 86, Training Loss:    2.23098<p>Finished Epoch: 87, Training Loss:    1.95993<p>Finished Epoch: 88, Training Loss:    2.29057<p>Finished Epoch: 89, Training Loss:    3.16673<p>Finished Epoch: 90, Training Loss:    2.88490<p>Finished Epoch: 91, Training Loss:    2.45436<p>Finished Epoch: 92, Training Loss:    2.12836<p>Finished Epoch: 93, Training Loss:    1.77808<p>Finished Epoch: 94, Training Loss:    3.66401<p>Finished Epoch: 95, Training Loss:    7.75087<p>Finished Epoch: 96, Training Loss:    2.39020<p>Finished Epoch: 97, Training Loss:    1.74106<p>Finished Epoch: 98, Training Loss:    3.04477<p>Finished Epoch: 99, Training Loss:    1.89267<p>Finished Epoch: 100, Training Loss:    2.61499"
      ],
      "text/plain": [
       "<IPython.core.display.HTML object>"
      ]
     },
     "metadata": {},
     "output_type": "display_data"
    },
    {
     "name": "stderr",
     "output_type": "stream",
     "text": [
      "/tmp/ipykernel_28570/2790633555.py:42: UserWarning: To copy construct from a tensor, it is recommended to use sourceTensor.clone().detach() or sourceTensor.clone().detach().requires_grad_(True), rather than torch.tensor(sourceTensor).\n",
      "  signals = torch.tensor(signals)\n",
      "/tmp/ipykernel_28570/3433469541.py:84: UserWarning: To copy construct from a tensor, it is recommended to use sourceTensor.clone().detach() or sourceTensor.clone().detach().requires_grad_(True), rather than torch.tensor(sourceTensor).\n",
      "  x = torch.tensor(x).to(device)\n",
      "/mnt/c/Users/grpro/workspace/grad_thesis/InceptionTime/env/lib/python3.9/site-packages/torch/overrides.py:1498: UserWarning: Implicit dimension choice for softmax has been deprecated. Change the call to include dim=X as an argument.\n",
      "  result = torch_func_method(public_api, types, args, kwargs)\n",
      "/tmp/ipykernel_28570/2790633555.py:73: UserWarning: To copy construct from a tensor, it is recommended to use sourceTensor.clone().detach() or sourceTensor.clone().detach().requires_grad_(True), rather than torch.tensor(sourceTensor).\n",
      "  signals = torch.tensor(signals)\n"
     ]
    },
    {
     "name": "stdout",
     "output_type": "stream",
     "text": [
      "Fold4 Start!\n"
     ]
    },
    {
     "data": {
      "text/html": [
       "\n",
       "<style>\n",
       "    /* Turns off some styling */\n",
       "    progress {\n",
       "        /* gets rid of default border in Firefox and Opera. */\n",
       "        border: none;\n",
       "        /* Needs to be in here for Safari polyfill so background images work as expected. */\n",
       "        background-size: auto;\n",
       "    }\n",
       "    progress:not([value]), progress:not([value])::-webkit-progress-bar {\n",
       "        background: repeating-linear-gradient(45deg, #7e7e7e, #7e7e7e 10px, #5c5c5c 10px, #5c5c5c 20px);\n",
       "    }\n",
       "    .progress-bar-interrupted, .progress-bar-interrupted::-webkit-progress-bar {\n",
       "        background: #F44336;\n",
       "    }\n",
       "</style>\n"
      ],
      "text/plain": [
       "<IPython.core.display.HTML object>"
      ]
     },
     "metadata": {},
     "output_type": "display_data"
    },
    {
     "data": {
      "text/html": [
       "Finished Epoch: 01, Training Loss:    3.26839<p>Finished Epoch: 02, Training Loss:    2.52532<p>Finished Epoch: 03, Training Loss:    4.66085<p>Finished Epoch: 04, Training Loss:    2.74452<p>Finished Epoch: 05, Training Loss:    2.70501<p>Finished Epoch: 06, Training Loss:    3.04418<p>Finished Epoch: 07, Training Loss:    2.27617<p>Finished Epoch: 08, Training Loss:    2.95230<p>Finished Epoch: 09, Training Loss:    2.41523<p>Finished Epoch: 10, Training Loss:    2.03934<p>Finished Epoch: 11, Training Loss:    2.86051<p>Finished Epoch: 12, Training Loss:    3.43744<p>Finished Epoch: 13, Training Loss:    2.23157<p>Finished Epoch: 14, Training Loss:    2.12268<p>Finished Epoch: 15, Training Loss:    2.28053<p>Finished Epoch: 16, Training Loss:    3.70051<p>Finished Epoch: 17, Training Loss:    2.51686<p>Finished Epoch: 18, Training Loss:    3.08126<p>Finished Epoch: 19, Training Loss:    2.49637<p>Finished Epoch: 20, Training Loss:    2.10004<p>Finished Epoch: 21, Training Loss:    2.48910<p>Finished Epoch: 22, Training Loss:    2.51415<p>Finished Epoch: 23, Training Loss:    2.39900<p>Finished Epoch: 24, Training Loss:    2.25714<p>Finished Epoch: 25, Training Loss:    2.98823<p>Finished Epoch: 26, Training Loss:    2.85555<p>Finished Epoch: 27, Training Loss:    2.72405<p>Finished Epoch: 28, Training Loss:    2.82991<p>Finished Epoch: 29, Training Loss:    2.97093<p>Finished Epoch: 30, Training Loss:    1.94449<p>Finished Epoch: 31, Training Loss:    2.67140<p>Finished Epoch: 32, Training Loss:    5.91051<p>Finished Epoch: 33, Training Loss:    1.88285<p>Finished Epoch: 34, Training Loss:    1.78125<p>Finished Epoch: 35, Training Loss:    3.11518<p>Finished Epoch: 36, Training Loss:    3.25080<p>Finished Epoch: 37, Training Loss:    4.17293<p>Finished Epoch: 38, Training Loss:    2.83774<p>Finished Epoch: 39, Training Loss:    2.17035<p>Finished Epoch: 40, Training Loss:    2.73792<p>Finished Epoch: 41, Training Loss:    3.03469<p>Finished Epoch: 42, Training Loss:    2.66980<p>Finished Epoch: 43, Training Loss:    2.64689<p>Finished Epoch: 44, Training Loss:    2.00864<p>Finished Epoch: 45, Training Loss:    2.13438<p>Finished Epoch: 46, Training Loss:    1.98704<p>Finished Epoch: 47, Training Loss:    2.22683<p>Finished Epoch: 48, Training Loss:    1.79692<p>Finished Epoch: 49, Training Loss:    2.67477<p>Finished Epoch: 50, Training Loss:    2.55525<p>Finished Epoch: 51, Training Loss:    2.29616<p>Finished Epoch: 52, Training Loss:    2.95242<p>Finished Epoch: 53, Training Loss:    2.36248<p>Finished Epoch: 54, Training Loss:    2.23720<p>Finished Epoch: 55, Training Loss:    2.55341<p>Finished Epoch: 56, Training Loss:    4.36846<p>Finished Epoch: 57, Training Loss:    2.32241<p>Finished Epoch: 58, Training Loss:    2.50179<p>Finished Epoch: 59, Training Loss:    3.40939<p>Finished Epoch: 60, Training Loss:    2.26526<p>Finished Epoch: 61, Training Loss:    2.46869<p>Finished Epoch: 62, Training Loss:    4.11536<p>Finished Epoch: 63, Training Loss:    3.38388<p>Finished Epoch: 64, Training Loss:    2.17461<p>Finished Epoch: 65, Training Loss:    2.05098<p>Finished Epoch: 66, Training Loss:    2.62458<p>Finished Epoch: 67, Training Loss:    1.84273<p>Finished Epoch: 68, Training Loss:    2.32166<p>Finished Epoch: 69, Training Loss:    2.29952<p>Finished Epoch: 70, Training Loss:    1.99119<p>Finished Epoch: 71, Training Loss:    3.11591<p>Finished Epoch: 72, Training Loss:    2.11493<p>Finished Epoch: 73, Training Loss:    2.32806<p>Finished Epoch: 74, Training Loss:    2.01103<p>Finished Epoch: 75, Training Loss:    1.89792<p>Finished Epoch: 76, Training Loss:    1.84651<p>Finished Epoch: 77, Training Loss:    2.07659<p>Finished Epoch: 78, Training Loss:    2.05379<p>Finished Epoch: 79, Training Loss:    2.14549<p>Finished Epoch: 80, Training Loss:    2.20940<p>Finished Epoch: 81, Training Loss:    1.87178<p>Finished Epoch: 82, Training Loss:    1.67901<p>Finished Epoch: 83, Training Loss:    3.04139<p>Finished Epoch: 84, Training Loss:    2.01698<p>Finished Epoch: 85, Training Loss:    1.94626<p>Finished Epoch: 86, Training Loss:    2.54581<p>Finished Epoch: 87, Training Loss:    2.69053<p>Finished Epoch: 88, Training Loss:    1.84092<p>Finished Epoch: 89, Training Loss:    1.97338<p>Finished Epoch: 90, Training Loss:    2.11065<p>Finished Epoch: 91, Training Loss:    2.35717<p>Finished Epoch: 92, Training Loss:    4.68791<p>Finished Epoch: 93, Training Loss:    1.94481<p>Finished Epoch: 94, Training Loss:    2.26592<p>Finished Epoch: 95, Training Loss:    2.14686<p>Finished Epoch: 96, Training Loss:    2.65270<p>Finished Epoch: 97, Training Loss:    3.10657<p>Finished Epoch: 98, Training Loss:    2.23126<p>Finished Epoch: 99, Training Loss:    3.00843<p>Finished Epoch: 100, Training Loss:    2.12075"
      ],
      "text/plain": [
       "<IPython.core.display.HTML object>"
      ]
     },
     "metadata": {},
     "output_type": "display_data"
    },
    {
     "name": "stderr",
     "output_type": "stream",
     "text": [
      "/tmp/ipykernel_28570/2790633555.py:42: UserWarning: To copy construct from a tensor, it is recommended to use sourceTensor.clone().detach() or sourceTensor.clone().detach().requires_grad_(True), rather than torch.tensor(sourceTensor).\n",
      "  signals = torch.tensor(signals)\n",
      "/tmp/ipykernel_28570/3433469541.py:84: UserWarning: To copy construct from a tensor, it is recommended to use sourceTensor.clone().detach() or sourceTensor.clone().detach().requires_grad_(True), rather than torch.tensor(sourceTensor).\n",
      "  x = torch.tensor(x).to(device)\n",
      "/mnt/c/Users/grpro/workspace/grad_thesis/InceptionTime/env/lib/python3.9/site-packages/torch/overrides.py:1498: UserWarning: Implicit dimension choice for softmax has been deprecated. Change the call to include dim=X as an argument.\n",
      "  result = torch_func_method(public_api, types, args, kwargs)\n",
      "/tmp/ipykernel_28570/2790633555.py:73: UserWarning: To copy construct from a tensor, it is recommended to use sourceTensor.clone().detach() or sourceTensor.clone().detach().requires_grad_(True), rather than torch.tensor(sourceTensor).\n",
      "  signals = torch.tensor(signals)\n"
     ]
    },
    {
     "name": "stdout",
     "output_type": "stream",
     "text": [
      "Fold5 Start!\n"
     ]
    },
    {
     "data": {
      "text/html": [
       "\n",
       "<style>\n",
       "    /* Turns off some styling */\n",
       "    progress {\n",
       "        /* gets rid of default border in Firefox and Opera. */\n",
       "        border: none;\n",
       "        /* Needs to be in here for Safari polyfill so background images work as expected. */\n",
       "        background-size: auto;\n",
       "    }\n",
       "    progress:not([value]), progress:not([value])::-webkit-progress-bar {\n",
       "        background: repeating-linear-gradient(45deg, #7e7e7e, #7e7e7e 10px, #5c5c5c 10px, #5c5c5c 20px);\n",
       "    }\n",
       "    .progress-bar-interrupted, .progress-bar-interrupted::-webkit-progress-bar {\n",
       "        background: #F44336;\n",
       "    }\n",
       "</style>\n"
      ],
      "text/plain": [
       "<IPython.core.display.HTML object>"
      ]
     },
     "metadata": {},
     "output_type": "display_data"
    },
    {
     "data": {
      "text/html": [
       "Finished Epoch: 01, Training Loss:    3.13083<p>Finished Epoch: 02, Training Loss:    2.67814<p>Finished Epoch: 03, Training Loss:    2.39348<p>Finished Epoch: 04, Training Loss:    2.44943<p>Finished Epoch: 05, Training Loss:    2.53352<p>Finished Epoch: 06, Training Loss:    3.12570<p>Finished Epoch: 07, Training Loss:    3.42833<p>Finished Epoch: 08, Training Loss:    2.72332<p>Finished Epoch: 09, Training Loss:    2.58080<p>Finished Epoch: 10, Training Loss:    3.36077<p>Finished Epoch: 11, Training Loss:    2.38684<p>Finished Epoch: 12, Training Loss:    2.72162<p>Finished Epoch: 13, Training Loss:    3.72438<p>Finished Epoch: 14, Training Loss:    2.63329<p>Finished Epoch: 15, Training Loss:    2.63645<p>Finished Epoch: 16, Training Loss:    2.68223<p>Finished Epoch: 17, Training Loss:    2.61259<p>Finished Epoch: 18, Training Loss:    2.54423<p>Finished Epoch: 19, Training Loss:    2.18910<p>Finished Epoch: 20, Training Loss:    2.60970<p>Finished Epoch: 21, Training Loss:    2.26998<p>Finished Epoch: 22, Training Loss:    2.49649<p>Finished Epoch: 23, Training Loss:    2.32434<p>Finished Epoch: 24, Training Loss:    2.26140<p>Finished Epoch: 25, Training Loss:    1.89373<p>Finished Epoch: 26, Training Loss:    4.86155<p>Finished Epoch: 27, Training Loss:    2.93059<p>Finished Epoch: 28, Training Loss:    2.25583<p>Finished Epoch: 29, Training Loss:    2.10819<p>Finished Epoch: 30, Training Loss:    2.31013<p>Finished Epoch: 31, Training Loss:    2.98184<p>Finished Epoch: 32, Training Loss:    2.20559<p>Finished Epoch: 33, Training Loss:    1.85752<p>Finished Epoch: 34, Training Loss:    2.26488<p>Finished Epoch: 35, Training Loss:    2.43390<p>Finished Epoch: 36, Training Loss:    3.79635<p>Finished Epoch: 37, Training Loss:    2.70113<p>Finished Epoch: 38, Training Loss:    1.93172<p>Finished Epoch: 39, Training Loss:    2.89259<p>Finished Epoch: 40, Training Loss:    1.95120<p>Finished Epoch: 41, Training Loss:    2.27454<p>Finished Epoch: 42, Training Loss:    2.15257<p>Finished Epoch: 43, Training Loss:    3.52789<p>Finished Epoch: 44, Training Loss:    2.56233<p>Finished Epoch: 45, Training Loss:    2.21312<p>Finished Epoch: 46, Training Loss:    2.77422<p>Finished Epoch: 47, Training Loss:    1.81956<p>Finished Epoch: 48, Training Loss:    3.06419<p>Finished Epoch: 49, Training Loss:    2.00627<p>Finished Epoch: 50, Training Loss:    1.84907<p>Finished Epoch: 51, Training Loss:    2.15904<p>Finished Epoch: 52, Training Loss:    2.29577<p>Finished Epoch: 53, Training Loss:    2.26872<p>Finished Epoch: 54, Training Loss:    1.88590<p>Finished Epoch: 55, Training Loss:    3.72275<p>Finished Epoch: 56, Training Loss:    2.03248<p>Finished Epoch: 57, Training Loss:    2.49683<p>Finished Epoch: 58, Training Loss:    2.42396<p>Finished Epoch: 59, Training Loss:    1.72867<p>Finished Epoch: 60, Training Loss:    1.92291<p>Finished Epoch: 61, Training Loss:    2.00326<p>Finished Epoch: 62, Training Loss:    2.29319<p>Finished Epoch: 63, Training Loss:    2.32021<p>Finished Epoch: 64, Training Loss:    2.64378<p>Finished Epoch: 65, Training Loss:    2.63133<p>Finished Epoch: 66, Training Loss:    3.30332<p>Finished Epoch: 67, Training Loss:    3.06789<p>Finished Epoch: 68, Training Loss:    1.73330<p>Finished Epoch: 69, Training Loss:    2.32116<p>Finished Epoch: 70, Training Loss:    2.01950<p>Finished Epoch: 71, Training Loss:    2.29425<p>Finished Epoch: 72, Training Loss:    2.49476<p>Finished Epoch: 73, Training Loss:    2.66815<p>Finished Epoch: 74, Training Loss:    3.26900<p>Finished Epoch: 75, Training Loss:    2.34429<p>Finished Epoch: 76, Training Loss:    2.16252<p>Finished Epoch: 77, Training Loss:    3.08526<p>Finished Epoch: 78, Training Loss:    1.96085<p>Finished Epoch: 79, Training Loss:    2.17036<p>Finished Epoch: 80, Training Loss:    1.81793<p>Finished Epoch: 81, Training Loss:    2.41419<p>Finished Epoch: 82, Training Loss:    1.89736<p>Finished Epoch: 83, Training Loss:    2.34043<p>Finished Epoch: 84, Training Loss:    5.05396<p>Finished Epoch: 85, Training Loss:    2.06029<p>Finished Epoch: 86, Training Loss:    2.13362<p>Finished Epoch: 87, Training Loss:    1.91589<p>Finished Epoch: 88, Training Loss:    2.09063<p>Finished Epoch: 89, Training Loss:    2.17761<p>Finished Epoch: 90, Training Loss:    3.51624<p>Finished Epoch: 91, Training Loss:    1.80913<p>Finished Epoch: 92, Training Loss:    3.57883<p>Finished Epoch: 93, Training Loss:    4.20121<p>Finished Epoch: 94, Training Loss:    2.14249<p>Finished Epoch: 95, Training Loss:    2.24183<p>Finished Epoch: 96, Training Loss:    1.73051<p>Finished Epoch: 97, Training Loss:    1.97274<p>Finished Epoch: 98, Training Loss:    2.88578<p>Finished Epoch: 99, Training Loss:    2.26552<p>Finished Epoch: 100, Training Loss:    1.98298"
      ],
      "text/plain": [
       "<IPython.core.display.HTML object>"
      ]
     },
     "metadata": {},
     "output_type": "display_data"
    },
    {
     "name": "stderr",
     "output_type": "stream",
     "text": [
      "/tmp/ipykernel_28570/2790633555.py:42: UserWarning: To copy construct from a tensor, it is recommended to use sourceTensor.clone().detach() or sourceTensor.clone().detach().requires_grad_(True), rather than torch.tensor(sourceTensor).\n",
      "  signals = torch.tensor(signals)\n",
      "/tmp/ipykernel_28570/3433469541.py:84: UserWarning: To copy construct from a tensor, it is recommended to use sourceTensor.clone().detach() or sourceTensor.clone().detach().requires_grad_(True), rather than torch.tensor(sourceTensor).\n",
      "  x = torch.tensor(x).to(device)\n",
      "/mnt/c/Users/grpro/workspace/grad_thesis/InceptionTime/env/lib/python3.9/site-packages/torch/overrides.py:1498: UserWarning: Implicit dimension choice for softmax has been deprecated. Change the call to include dim=X as an argument.\n",
      "  result = torch_func_method(public_api, types, args, kwargs)\n",
      "/tmp/ipykernel_28570/2790633555.py:73: UserWarning: To copy construct from a tensor, it is recommended to use sourceTensor.clone().detach() or sourceTensor.clone().detach().requires_grad_(True), rather than torch.tensor(sourceTensor).\n",
      "  signals = torch.tensor(signals)\n"
     ]
    },
    {
     "name": "stdout",
     "output_type": "stream",
     "text": [
      "Fold6 Start!\n"
     ]
    },
    {
     "data": {
      "text/html": [
       "\n",
       "<style>\n",
       "    /* Turns off some styling */\n",
       "    progress {\n",
       "        /* gets rid of default border in Firefox and Opera. */\n",
       "        border: none;\n",
       "        /* Needs to be in here for Safari polyfill so background images work as expected. */\n",
       "        background-size: auto;\n",
       "    }\n",
       "    progress:not([value]), progress:not([value])::-webkit-progress-bar {\n",
       "        background: repeating-linear-gradient(45deg, #7e7e7e, #7e7e7e 10px, #5c5c5c 10px, #5c5c5c 20px);\n",
       "    }\n",
       "    .progress-bar-interrupted, .progress-bar-interrupted::-webkit-progress-bar {\n",
       "        background: #F44336;\n",
       "    }\n",
       "</style>\n"
      ],
      "text/plain": [
       "<IPython.core.display.HTML object>"
      ]
     },
     "metadata": {},
     "output_type": "display_data"
    },
    {
     "data": {
      "text/html": [
       "Finished Epoch: 01, Training Loss:    3.56169<p>Finished Epoch: 02, Training Loss:    6.30705<p>Finished Epoch: 03, Training Loss:    2.95402<p>Finished Epoch: 04, Training Loss:    2.96778<p>Finished Epoch: 05, Training Loss:    2.81963<p>Finished Epoch: 06, Training Loss:    2.29289<p>Finished Epoch: 07, Training Loss:    2.30910<p>Finished Epoch: 08, Training Loss:    2.53496<p>Finished Epoch: 09, Training Loss:    2.46143<p>Finished Epoch: 10, Training Loss:    2.39386<p>Finished Epoch: 11, Training Loss:    2.68134<p>Finished Epoch: 12, Training Loss:    2.10488<p>Finished Epoch: 13, Training Loss:    2.93936<p>Finished Epoch: 14, Training Loss:    4.00922<p>Finished Epoch: 15, Training Loss:    3.19767<p>Finished Epoch: 16, Training Loss:    2.67500<p>Finished Epoch: 17, Training Loss:    2.45553<p>Finished Epoch: 18, Training Loss:    2.11724<p>Finished Epoch: 19, Training Loss:    2.07973<p>Finished Epoch: 20, Training Loss:    1.96779<p>Finished Epoch: 21, Training Loss:    2.27469<p>Finished Epoch: 22, Training Loss:    2.24186<p>Finished Epoch: 23, Training Loss:    2.16410<p>Finished Epoch: 24, Training Loss:    2.96250<p>Finished Epoch: 25, Training Loss:    2.70635<p>Finished Epoch: 26, Training Loss:    1.93950<p>Finished Epoch: 27, Training Loss:    2.03036<p>Finished Epoch: 28, Training Loss:    2.54455<p>Finished Epoch: 29, Training Loss:    2.08094<p>Finished Epoch: 30, Training Loss:    2.12441<p>Finished Epoch: 31, Training Loss:    5.91429<p>Finished Epoch: 32, Training Loss:    4.23522<p>Finished Epoch: 33, Training Loss:    2.69200<p>Finished Epoch: 34, Training Loss:    5.50852<p>Finished Epoch: 35, Training Loss:    2.04785<p>Finished Epoch: 36, Training Loss:    2.22836<p>Finished Epoch: 37, Training Loss:    2.16785<p>Finished Epoch: 38, Training Loss:    1.90109<p>Finished Epoch: 39, Training Loss:    1.87247<p>Finished Epoch: 40, Training Loss:    3.73409<p>Finished Epoch: 41, Training Loss:    4.48663<p>Finished Epoch: 42, Training Loss:    2.74897<p>Finished Epoch: 43, Training Loss:    2.43037<p>Finished Epoch: 44, Training Loss:    3.24187<p>Finished Epoch: 45, Training Loss:    2.13498<p>Finished Epoch: 46, Training Loss:    2.03360<p>Finished Epoch: 47, Training Loss:    3.04366<p>Finished Epoch: 48, Training Loss:    4.83846<p>Finished Epoch: 49, Training Loss:    2.08070<p>Finished Epoch: 50, Training Loss:    2.31943<p>Finished Epoch: 51, Training Loss:    2.76963<p>Finished Epoch: 52, Training Loss:    2.22618<p>Finished Epoch: 53, Training Loss:    3.37595<p>Finished Epoch: 54, Training Loss:    2.39456<p>Finished Epoch: 55, Training Loss:    1.63987<p>Finished Epoch: 56, Training Loss:    2.70031<p>Finished Epoch: 57, Training Loss:    2.24350<p>Finished Epoch: 58, Training Loss:    2.04779<p>Finished Epoch: 59, Training Loss:    2.49973<p>Finished Epoch: 60, Training Loss:    2.30833<p>Finished Epoch: 61, Training Loss:    1.95488<p>Finished Epoch: 62, Training Loss:    2.31449<p>Finished Epoch: 63, Training Loss:    1.96234<p>Finished Epoch: 64, Training Loss:    2.00881<p>Finished Epoch: 65, Training Loss:    2.02464<p>Finished Epoch: 66, Training Loss:    2.06258<p>Finished Epoch: 67, Training Loss:    2.24637<p>Finished Epoch: 68, Training Loss:    2.33261<p>Finished Epoch: 69, Training Loss:    2.80348<p>Finished Epoch: 70, Training Loss:    2.43582<p>Finished Epoch: 71, Training Loss:    2.51152<p>Finished Epoch: 72, Training Loss:    2.25891<p>Finished Epoch: 73, Training Loss:    2.82600<p>Finished Epoch: 74, Training Loss:    2.53305<p>Finished Epoch: 75, Training Loss:    1.82742<p>Finished Epoch: 76, Training Loss:    2.28732<p>Finished Epoch: 77, Training Loss:    2.08436<p>Finished Epoch: 78, Training Loss:    2.13516<p>Finished Epoch: 79, Training Loss:    2.32338<p>Finished Epoch: 80, Training Loss:    1.90214<p>Finished Epoch: 81, Training Loss:    2.34282<p>Finished Epoch: 82, Training Loss:    3.40288<p>Finished Epoch: 83, Training Loss:    2.01927<p>Finished Epoch: 84, Training Loss:    2.48650<p>Finished Epoch: 85, Training Loss:    1.99454<p>Finished Epoch: 86, Training Loss:    1.60746<p>Finished Epoch: 87, Training Loss:    1.95761<p>Finished Epoch: 88, Training Loss:    2.32467<p>Finished Epoch: 89, Training Loss:    4.69972<p>Finished Epoch: 90, Training Loss:    3.20261<p>Finished Epoch: 91, Training Loss:    2.09889<p>Finished Epoch: 92, Training Loss:    2.72731<p>Finished Epoch: 93, Training Loss:    2.96016<p>Finished Epoch: 94, Training Loss:    1.89413<p>Finished Epoch: 95, Training Loss:    2.56775<p>Finished Epoch: 96, Training Loss:    3.84862<p>Finished Epoch: 97, Training Loss:    1.81154<p>Finished Epoch: 98, Training Loss:    2.07320<p>Finished Epoch: 99, Training Loss:    2.26660<p>Finished Epoch: 100, Training Loss:    1.86976"
      ],
      "text/plain": [
       "<IPython.core.display.HTML object>"
      ]
     },
     "metadata": {},
     "output_type": "display_data"
    },
    {
     "name": "stderr",
     "output_type": "stream",
     "text": [
      "/tmp/ipykernel_28570/2790633555.py:42: UserWarning: To copy construct from a tensor, it is recommended to use sourceTensor.clone().detach() or sourceTensor.clone().detach().requires_grad_(True), rather than torch.tensor(sourceTensor).\n",
      "  signals = torch.tensor(signals)\n",
      "/tmp/ipykernel_28570/3433469541.py:84: UserWarning: To copy construct from a tensor, it is recommended to use sourceTensor.clone().detach() or sourceTensor.clone().detach().requires_grad_(True), rather than torch.tensor(sourceTensor).\n",
      "  x = torch.tensor(x).to(device)\n",
      "/mnt/c/Users/grpro/workspace/grad_thesis/InceptionTime/env/lib/python3.9/site-packages/torch/overrides.py:1498: UserWarning: Implicit dimension choice for softmax has been deprecated. Change the call to include dim=X as an argument.\n",
      "  result = torch_func_method(public_api, types, args, kwargs)\n",
      "/tmp/ipykernel_28570/2790633555.py:73: UserWarning: To copy construct from a tensor, it is recommended to use sourceTensor.clone().detach() or sourceTensor.clone().detach().requires_grad_(True), rather than torch.tensor(sourceTensor).\n",
      "  signals = torch.tensor(signals)\n"
     ]
    },
    {
     "name": "stdout",
     "output_type": "stream",
     "text": [
      "Fold7 Start!\n"
     ]
    },
    {
     "data": {
      "text/html": [
       "\n",
       "<style>\n",
       "    /* Turns off some styling */\n",
       "    progress {\n",
       "        /* gets rid of default border in Firefox and Opera. */\n",
       "        border: none;\n",
       "        /* Needs to be in here for Safari polyfill so background images work as expected. */\n",
       "        background-size: auto;\n",
       "    }\n",
       "    progress:not([value]), progress:not([value])::-webkit-progress-bar {\n",
       "        background: repeating-linear-gradient(45deg, #7e7e7e, #7e7e7e 10px, #5c5c5c 10px, #5c5c5c 20px);\n",
       "    }\n",
       "    .progress-bar-interrupted, .progress-bar-interrupted::-webkit-progress-bar {\n",
       "        background: #F44336;\n",
       "    }\n",
       "</style>\n"
      ],
      "text/plain": [
       "<IPython.core.display.HTML object>"
      ]
     },
     "metadata": {},
     "output_type": "display_data"
    },
    {
     "data": {
      "text/html": [
       "Finished Epoch: 01, Training Loss:    3.89036<p>Finished Epoch: 02, Training Loss:    4.39806<p>Finished Epoch: 03, Training Loss:    2.30939<p>Finished Epoch: 04, Training Loss:    4.24928<p>Finished Epoch: 05, Training Loss:    2.93196<p>Finished Epoch: 06, Training Loss:    2.76906<p>Finished Epoch: 07, Training Loss:    3.51511<p>Finished Epoch: 08, Training Loss:    2.42070<p>Finished Epoch: 09, Training Loss:    3.34930<p>Finished Epoch: 10, Training Loss:    1.99914<p>Finished Epoch: 11, Training Loss:    2.91259<p>Finished Epoch: 12, Training Loss:    2.53449<p>Finished Epoch: 13, Training Loss:    3.43382<p>Finished Epoch: 14, Training Loss:    2.86723<p>Finished Epoch: 15, Training Loss:    2.15220<p>Finished Epoch: 16, Training Loss:    2.06820<p>Finished Epoch: 17, Training Loss:    2.61283<p>Finished Epoch: 18, Training Loss:    3.04335<p>Finished Epoch: 19, Training Loss:    1.97427<p>Finished Epoch: 20, Training Loss:    1.98293<p>Finished Epoch: 21, Training Loss:    1.96410<p>Finished Epoch: 22, Training Loss:    2.38427<p>Finished Epoch: 23, Training Loss:    2.12930<p>Finished Epoch: 24, Training Loss:    2.21641<p>Finished Epoch: 25, Training Loss:    2.11366<p>Finished Epoch: 26, Training Loss:    2.06789<p>Finished Epoch: 27, Training Loss:    2.64728<p>Finished Epoch: 28, Training Loss:    2.30794<p>Finished Epoch: 29, Training Loss:    2.46011<p>Finished Epoch: 30, Training Loss:    2.94118<p>Finished Epoch: 31, Training Loss:    2.83645<p>Finished Epoch: 32, Training Loss:    2.54720<p>Finished Epoch: 33, Training Loss:    2.64727<p>Finished Epoch: 34, Training Loss:    1.81141<p>Finished Epoch: 35, Training Loss:    2.32280<p>Finished Epoch: 36, Training Loss:    2.45648<p>Finished Epoch: 37, Training Loss:    2.47562<p>Finished Epoch: 38, Training Loss:    2.31620<p>Finished Epoch: 39, Training Loss:    3.20819<p>Finished Epoch: 40, Training Loss:    2.06046<p>Finished Epoch: 41, Training Loss:    1.71978<p>Finished Epoch: 42, Training Loss:    2.53705<p>Finished Epoch: 43, Training Loss:    2.11992<p>Finished Epoch: 44, Training Loss:    2.14113<p>Finished Epoch: 45, Training Loss:    2.20312<p>Finished Epoch: 46, Training Loss:    2.40123<p>Finished Epoch: 47, Training Loss:    1.83706<p>Finished Epoch: 48, Training Loss:    2.47897<p>Finished Epoch: 49, Training Loss:    2.22549<p>Finished Epoch: 50, Training Loss:    2.45798<p>Finished Epoch: 51, Training Loss:    2.94585<p>Finished Epoch: 52, Training Loss:    2.18904<p>Finished Epoch: 53, Training Loss:    2.42373<p>Finished Epoch: 54, Training Loss:    2.14762<p>Finished Epoch: 55, Training Loss:    2.55643<p>Finished Epoch: 56, Training Loss:    2.16243<p>Finished Epoch: 57, Training Loss:    1.93500<p>Finished Epoch: 58, Training Loss:    2.15037<p>Finished Epoch: 59, Training Loss:    2.18094<p>Finished Epoch: 60, Training Loss:    2.24086<p>Finished Epoch: 61, Training Loss:    1.89952<p>Finished Epoch: 62, Training Loss:    2.11941<p>Finished Epoch: 63, Training Loss:    2.32733<p>Finished Epoch: 64, Training Loss:    3.00764<p>Finished Epoch: 65, Training Loss:    1.91557<p>Finished Epoch: 66, Training Loss:    2.19191<p>Finished Epoch: 67, Training Loss:    2.40504<p>Finished Epoch: 68, Training Loss:    2.20025<p>Finished Epoch: 69, Training Loss:    1.67457<p>Finished Epoch: 70, Training Loss:    2.61267<p>Finished Epoch: 71, Training Loss:    2.38770<p>Finished Epoch: 72, Training Loss:    1.98684<p>Finished Epoch: 73, Training Loss:    1.88866<p>Finished Epoch: 74, Training Loss:    2.10263<p>Finished Epoch: 75, Training Loss:    1.86689<p>Finished Epoch: 76, Training Loss:    2.21766<p>Finished Epoch: 77, Training Loss:    2.79127<p>Finished Epoch: 78, Training Loss:    2.00013<p>Finished Epoch: 79, Training Loss:    3.47066<p>Finished Epoch: 80, Training Loss:    2.07114<p>Finished Epoch: 81, Training Loss:    1.97039<p>Finished Epoch: 82, Training Loss:    1.98764<p>Finished Epoch: 83, Training Loss:    1.89718<p>Finished Epoch: 84, Training Loss:    1.74374<p>Finished Epoch: 85, Training Loss:    2.47710<p>Finished Epoch: 86, Training Loss:    2.11795<p>Finished Epoch: 87, Training Loss:    1.71562<p>Finished Epoch: 88, Training Loss:    2.11196<p>Finished Epoch: 89, Training Loss:    2.04280<p>Finished Epoch: 90, Training Loss:    3.06921<p>Finished Epoch: 91, Training Loss:    2.40910<p>Finished Epoch: 92, Training Loss:    2.44263<p>Finished Epoch: 93, Training Loss:    1.86215<p>Finished Epoch: 94, Training Loss:    2.68885<p>Finished Epoch: 95, Training Loss:    4.10315<p>Finished Epoch: 96, Training Loss:    2.36772<p>Finished Epoch: 97, Training Loss:    2.41231<p>Finished Epoch: 98, Training Loss:    1.82357<p>Finished Epoch: 99, Training Loss:    1.71096<p>Finished Epoch: 100, Training Loss:    2.05481"
      ],
      "text/plain": [
       "<IPython.core.display.HTML object>"
      ]
     },
     "metadata": {},
     "output_type": "display_data"
    },
    {
     "name": "stderr",
     "output_type": "stream",
     "text": [
      "/tmp/ipykernel_28570/2790633555.py:42: UserWarning: To copy construct from a tensor, it is recommended to use sourceTensor.clone().detach() or sourceTensor.clone().detach().requires_grad_(True), rather than torch.tensor(sourceTensor).\n",
      "  signals = torch.tensor(signals)\n",
      "/tmp/ipykernel_28570/3433469541.py:84: UserWarning: To copy construct from a tensor, it is recommended to use sourceTensor.clone().detach() or sourceTensor.clone().detach().requires_grad_(True), rather than torch.tensor(sourceTensor).\n",
      "  x = torch.tensor(x).to(device)\n",
      "/mnt/c/Users/grpro/workspace/grad_thesis/InceptionTime/env/lib/python3.9/site-packages/torch/overrides.py:1498: UserWarning: Implicit dimension choice for softmax has been deprecated. Change the call to include dim=X as an argument.\n",
      "  result = torch_func_method(public_api, types, args, kwargs)\n",
      "/tmp/ipykernel_28570/2790633555.py:73: UserWarning: To copy construct from a tensor, it is recommended to use sourceTensor.clone().detach() or sourceTensor.clone().detach().requires_grad_(True), rather than torch.tensor(sourceTensor).\n",
      "  signals = torch.tensor(signals)\n"
     ]
    },
    {
     "name": "stdout",
     "output_type": "stream",
     "text": [
      "Fold8 Start!\n"
     ]
    },
    {
     "data": {
      "text/html": [
       "\n",
       "<style>\n",
       "    /* Turns off some styling */\n",
       "    progress {\n",
       "        /* gets rid of default border in Firefox and Opera. */\n",
       "        border: none;\n",
       "        /* Needs to be in here for Safari polyfill so background images work as expected. */\n",
       "        background-size: auto;\n",
       "    }\n",
       "    progress:not([value]), progress:not([value])::-webkit-progress-bar {\n",
       "        background: repeating-linear-gradient(45deg, #7e7e7e, #7e7e7e 10px, #5c5c5c 10px, #5c5c5c 20px);\n",
       "    }\n",
       "    .progress-bar-interrupted, .progress-bar-interrupted::-webkit-progress-bar {\n",
       "        background: #F44336;\n",
       "    }\n",
       "</style>\n"
      ],
      "text/plain": [
       "<IPython.core.display.HTML object>"
      ]
     },
     "metadata": {},
     "output_type": "display_data"
    },
    {
     "data": {
      "text/html": [
       "Finished Epoch: 01, Training Loss:    3.00823<p>Finished Epoch: 02, Training Loss:    3.07604<p>Finished Epoch: 03, Training Loss:    3.19076<p>Finished Epoch: 04, Training Loss:    3.07667<p>Finished Epoch: 05, Training Loss:    2.64543<p>Finished Epoch: 06, Training Loss:    2.88756<p>Finished Epoch: 07, Training Loss:    2.25006<p>Finished Epoch: 08, Training Loss:    3.08047<p>Finished Epoch: 09, Training Loss:    1.97826<p>Finished Epoch: 10, Training Loss:    3.62012<p>Finished Epoch: 11, Training Loss:    2.27536<p>Finished Epoch: 12, Training Loss:    2.39178<p>Finished Epoch: 13, Training Loss:    4.35768<p>Finished Epoch: 14, Training Loss:    2.62031<p>Finished Epoch: 15, Training Loss:    2.00908<p>Finished Epoch: 16, Training Loss:    2.52130<p>Finished Epoch: 17, Training Loss:    2.53462<p>Finished Epoch: 18, Training Loss:    2.41852<p>Finished Epoch: 19, Training Loss:    3.46521<p>Finished Epoch: 20, Training Loss:    2.66770<p>Finished Epoch: 21, Training Loss:    1.87591<p>Finished Epoch: 22, Training Loss:    2.08379<p>Finished Epoch: 23, Training Loss:    2.67286<p>Finished Epoch: 24, Training Loss:    4.79162<p>Finished Epoch: 25, Training Loss:    2.27469<p>Finished Epoch: 26, Training Loss:    2.59365<p>Finished Epoch: 27, Training Loss:    2.16247<p>Finished Epoch: 28, Training Loss:    2.55263<p>Finished Epoch: 29, Training Loss:    2.31297<p>Finished Epoch: 30, Training Loss:    2.41204<p>Finished Epoch: 31, Training Loss:    1.86726<p>Finished Epoch: 32, Training Loss:    1.86567<p>Finished Epoch: 33, Training Loss:    2.10415<p>Finished Epoch: 34, Training Loss:    2.46344<p>Finished Epoch: 35, Training Loss:    2.00910<p>Finished Epoch: 36, Training Loss:    5.46649<p>Finished Epoch: 37, Training Loss:    2.36269<p>Finished Epoch: 38, Training Loss:    1.88378<p>Finished Epoch: 39, Training Loss:    2.17324<p>Finished Epoch: 40, Training Loss:    1.93050<p>Finished Epoch: 41, Training Loss:    2.04000<p>Finished Epoch: 42, Training Loss:    1.99551<p>Finished Epoch: 43, Training Loss:    2.62438<p>Finished Epoch: 44, Training Loss:    2.31661<p>Finished Epoch: 45, Training Loss:    2.42237<p>Finished Epoch: 46, Training Loss:    2.08283<p>Finished Epoch: 47, Training Loss:    2.73285<p>Finished Epoch: 48, Training Loss:    2.30503<p>Finished Epoch: 49, Training Loss:    1.94856<p>Finished Epoch: 50, Training Loss:    1.99169<p>Finished Epoch: 51, Training Loss:    2.02391<p>Finished Epoch: 52, Training Loss:    3.09117<p>Finished Epoch: 53, Training Loss:    2.38735<p>Finished Epoch: 54, Training Loss:    2.34546<p>Finished Epoch: 55, Training Loss:    2.35993<p>Finished Epoch: 56, Training Loss:    2.16528<p>Finished Epoch: 57, Training Loss:    3.47327<p>Finished Epoch: 58, Training Loss:    1.84669<p>Finished Epoch: 59, Training Loss:    4.88329<p>Finished Epoch: 60, Training Loss:    1.75310<p>Finished Epoch: 61, Training Loss:    2.08036<p>Finished Epoch: 62, Training Loss:    2.39887<p>Finished Epoch: 63, Training Loss:    1.84969<p>Finished Epoch: 64, Training Loss:    3.04373<p>Finished Epoch: 65, Training Loss:    2.84109<p>Finished Epoch: 66, Training Loss:    3.52007<p>Finished Epoch: 67, Training Loss:    3.06203<p>Finished Epoch: 68, Training Loss:    2.93693<p>Finished Epoch: 69, Training Loss:    2.04950<p>Finished Epoch: 70, Training Loss:    3.34534<p>Finished Epoch: 71, Training Loss:    2.66601<p>Finished Epoch: 72, Training Loss:    2.46520<p>Finished Epoch: 73, Training Loss:    1.97718<p>Finished Epoch: 74, Training Loss:    1.95076<p>Finished Epoch: 75, Training Loss:    3.16256<p>Finished Epoch: 76, Training Loss:    2.20784<p>Finished Epoch: 77, Training Loss:    2.87499<p>Finished Epoch: 78, Training Loss:    1.94632<p>Finished Epoch: 79, Training Loss:    2.91915<p>Finished Epoch: 80, Training Loss:    3.17142<p>Finished Epoch: 81, Training Loss:    4.21355<p>Finished Epoch: 82, Training Loss:    2.89488<p>Finished Epoch: 83, Training Loss:    2.02659<p>Finished Epoch: 84, Training Loss:    2.07397<p>Finished Epoch: 85, Training Loss:    2.10183<p>Finished Epoch: 86, Training Loss:    3.19542<p>Finished Epoch: 87, Training Loss:    2.30997<p>Finished Epoch: 88, Training Loss:    2.18371<p>Finished Epoch: 89, Training Loss:    2.05732<p>Finished Epoch: 90, Training Loss:    3.41737<p>Finished Epoch: 91, Training Loss:    2.12431<p>Finished Epoch: 92, Training Loss:    1.89190<p>Finished Epoch: 93, Training Loss:    1.77101<p>Finished Epoch: 94, Training Loss:    2.21776<p>Finished Epoch: 95, Training Loss:    5.03328<p>Finished Epoch: 96, Training Loss:    1.76107<p>Finished Epoch: 97, Training Loss:    2.43333<p>Finished Epoch: 98, Training Loss:    2.20084<p>Finished Epoch: 99, Training Loss:    2.95178<p>Finished Epoch: 100, Training Loss:    2.37851"
      ],
      "text/plain": [
       "<IPython.core.display.HTML object>"
      ]
     },
     "metadata": {},
     "output_type": "display_data"
    },
    {
     "name": "stderr",
     "output_type": "stream",
     "text": [
      "/tmp/ipykernel_28570/2790633555.py:42: UserWarning: To copy construct from a tensor, it is recommended to use sourceTensor.clone().detach() or sourceTensor.clone().detach().requires_grad_(True), rather than torch.tensor(sourceTensor).\n",
      "  signals = torch.tensor(signals)\n",
      "/tmp/ipykernel_28570/3433469541.py:84: UserWarning: To copy construct from a tensor, it is recommended to use sourceTensor.clone().detach() or sourceTensor.clone().detach().requires_grad_(True), rather than torch.tensor(sourceTensor).\n",
      "  x = torch.tensor(x).to(device)\n",
      "/mnt/c/Users/grpro/workspace/grad_thesis/InceptionTime/env/lib/python3.9/site-packages/torch/overrides.py:1498: UserWarning: Implicit dimension choice for softmax has been deprecated. Change the call to include dim=X as an argument.\n",
      "  result = torch_func_method(public_api, types, args, kwargs)\n",
      "/tmp/ipykernel_28570/2790633555.py:73: UserWarning: To copy construct from a tensor, it is recommended to use sourceTensor.clone().detach() or sourceTensor.clone().detach().requires_grad_(True), rather than torch.tensor(sourceTensor).\n",
      "  signals = torch.tensor(signals)\n"
     ]
    },
    {
     "name": "stdout",
     "output_type": "stream",
     "text": [
      "Fold9 Start!\n"
     ]
    },
    {
     "data": {
      "text/html": [
       "\n",
       "<style>\n",
       "    /* Turns off some styling */\n",
       "    progress {\n",
       "        /* gets rid of default border in Firefox and Opera. */\n",
       "        border: none;\n",
       "        /* Needs to be in here for Safari polyfill so background images work as expected. */\n",
       "        background-size: auto;\n",
       "    }\n",
       "    progress:not([value]), progress:not([value])::-webkit-progress-bar {\n",
       "        background: repeating-linear-gradient(45deg, #7e7e7e, #7e7e7e 10px, #5c5c5c 10px, #5c5c5c 20px);\n",
       "    }\n",
       "    .progress-bar-interrupted, .progress-bar-interrupted::-webkit-progress-bar {\n",
       "        background: #F44336;\n",
       "    }\n",
       "</style>\n"
      ],
      "text/plain": [
       "<IPython.core.display.HTML object>"
      ]
     },
     "metadata": {},
     "output_type": "display_data"
    },
    {
     "data": {
      "text/html": [
       "Finished Epoch: 01, Training Loss:    4.24030<p>Finished Epoch: 02, Training Loss:    3.03262<p>Finished Epoch: 03, Training Loss:    2.90961<p>Finished Epoch: 04, Training Loss:    2.82350<p>Finished Epoch: 05, Training Loss:    2.11450<p>Finished Epoch: 06, Training Loss:    2.39474<p>Finished Epoch: 07, Training Loss:    2.66720<p>Finished Epoch: 08, Training Loss:    3.95616<p>Finished Epoch: 09, Training Loss:    2.29522<p>Finished Epoch: 10, Training Loss:    2.09488<p>Finished Epoch: 11, Training Loss:    2.58513<p>Finished Epoch: 12, Training Loss:    2.34235<p>Finished Epoch: 13, Training Loss:    2.27820<p>Finished Epoch: 14, Training Loss:    2.48628<p>Finished Epoch: 15, Training Loss:    3.03721<p>Finished Epoch: 16, Training Loss:    2.45939<p>Finished Epoch: 17, Training Loss:    3.27746<p>Finished Epoch: 18, Training Loss:    1.91097<p>Finished Epoch: 19, Training Loss:    1.94460<p>Finished Epoch: 20, Training Loss:    3.78682<p>Finished Epoch: 21, Training Loss:    2.26040<p>Finished Epoch: 22, Training Loss:    2.47227<p>Finished Epoch: 23, Training Loss:    2.29795<p>Finished Epoch: 24, Training Loss:    2.07775<p>Finished Epoch: 25, Training Loss:    3.10348<p>Finished Epoch: 26, Training Loss:    2.35326<p>Finished Epoch: 27, Training Loss:    3.10924<p>Finished Epoch: 28, Training Loss:    2.28895<p>Finished Epoch: 29, Training Loss:    2.45137<p>Finished Epoch: 30, Training Loss:    1.86595<p>Finished Epoch: 31, Training Loss:    1.70733<p>Finished Epoch: 32, Training Loss:    2.01601<p>Finished Epoch: 33, Training Loss:    2.47144<p>Finished Epoch: 34, Training Loss:    3.29083<p>Finished Epoch: 35, Training Loss:    2.51843<p>Finished Epoch: 36, Training Loss:    2.50653<p>Finished Epoch: 37, Training Loss:    2.22658<p>Finished Epoch: 38, Training Loss:    3.10333<p>Finished Epoch: 39, Training Loss:    6.97531<p>Finished Epoch: 40, Training Loss:    2.16535<p>Finished Epoch: 41, Training Loss:    5.05239<p>Finished Epoch: 42, Training Loss:    2.09459<p>Finished Epoch: 43, Training Loss:    3.75377<p>Finished Epoch: 44, Training Loss:    2.08741<p>Finished Epoch: 45, Training Loss:    2.76228<p>Finished Epoch: 46, Training Loss:    3.03156<p>Finished Epoch: 47, Training Loss:    2.04642<p>Finished Epoch: 48, Training Loss:    2.50260<p>Finished Epoch: 49, Training Loss:    2.40967<p>Finished Epoch: 50, Training Loss:    2.96881<p>Finished Epoch: 51, Training Loss:    5.81117<p>Finished Epoch: 52, Training Loss:    2.10923<p>Finished Epoch: 53, Training Loss:    2.03227<p>Finished Epoch: 54, Training Loss:    4.16077<p>Finished Epoch: 55, Training Loss:    3.41017<p>Finished Epoch: 56, Training Loss:    2.00943<p>Finished Epoch: 57, Training Loss:    1.92833<p>Finished Epoch: 58, Training Loss:    2.39975<p>Finished Epoch: 59, Training Loss:    2.09894<p>Finished Epoch: 60, Training Loss:    1.82669<p>Finished Epoch: 61, Training Loss:    2.07564<p>Finished Epoch: 62, Training Loss:    2.21659<p>Finished Epoch: 63, Training Loss:    2.01839<p>Finished Epoch: 64, Training Loss:    2.63226<p>Finished Epoch: 65, Training Loss:    2.43871<p>Finished Epoch: 66, Training Loss:    2.32307<p>Finished Epoch: 67, Training Loss:    1.80407<p>Finished Epoch: 68, Training Loss:    1.71059<p>Finished Epoch: 69, Training Loss:    2.49050<p>Finished Epoch: 70, Training Loss:    2.30219<p>Finished Epoch: 71, Training Loss:    2.04713<p>Finished Epoch: 72, Training Loss:    2.51263<p>Finished Epoch: 73, Training Loss:    2.63388<p>Finished Epoch: 74, Training Loss:    2.32507<p>Finished Epoch: 75, Training Loss:    4.27560<p>Finished Epoch: 76, Training Loss:    1.84022<p>Finished Epoch: 77, Training Loss:    2.88416<p>Finished Epoch: 78, Training Loss:    3.27687<p>Finished Epoch: 79, Training Loss:    2.51366<p>Finished Epoch: 80, Training Loss:    1.98646<p>Finished Epoch: 81, Training Loss:    2.61194<p>Finished Epoch: 82, Training Loss:    2.11970<p>Finished Epoch: 83, Training Loss:    2.52721<p>Finished Epoch: 84, Training Loss:    2.19889<p>Finished Epoch: 85, Training Loss:    4.26824<p>Finished Epoch: 86, Training Loss:    2.20230<p>Finished Epoch: 87, Training Loss:    1.68786<p>Finished Epoch: 88, Training Loss:    2.27278<p>Finished Epoch: 89, Training Loss:    2.22852<p>Finished Epoch: 90, Training Loss:    1.88352<p>Finished Epoch: 91, Training Loss:    2.65009<p>Finished Epoch: 92, Training Loss:    2.18402<p>Finished Epoch: 93, Training Loss:    2.07809<p>Finished Epoch: 94, Training Loss:    1.92901<p>Finished Epoch: 95, Training Loss:    2.10377<p>Finished Epoch: 96, Training Loss:    2.72556<p>Finished Epoch: 97, Training Loss:    2.17371<p>Finished Epoch: 98, Training Loss:    1.95230<p>Finished Epoch: 99, Training Loss:    3.07189<p>Finished Epoch: 100, Training Loss:    1.80103"
      ],
      "text/plain": [
       "<IPython.core.display.HTML object>"
      ]
     },
     "metadata": {},
     "output_type": "display_data"
    },
    {
     "name": "stderr",
     "output_type": "stream",
     "text": [
      "/tmp/ipykernel_28570/2790633555.py:42: UserWarning: To copy construct from a tensor, it is recommended to use sourceTensor.clone().detach() or sourceTensor.clone().detach().requires_grad_(True), rather than torch.tensor(sourceTensor).\n",
      "  signals = torch.tensor(signals)\n",
      "/tmp/ipykernel_28570/3433469541.py:84: UserWarning: To copy construct from a tensor, it is recommended to use sourceTensor.clone().detach() or sourceTensor.clone().detach().requires_grad_(True), rather than torch.tensor(sourceTensor).\n",
      "  x = torch.tensor(x).to(device)\n",
      "/mnt/c/Users/grpro/workspace/grad_thesis/InceptionTime/env/lib/python3.9/site-packages/torch/overrides.py:1498: UserWarning: Implicit dimension choice for softmax has been deprecated. Change the call to include dim=X as an argument.\n",
      "  result = torch_func_method(public_api, types, args, kwargs)\n",
      "/tmp/ipykernel_28570/2790633555.py:73: UserWarning: To copy construct from a tensor, it is recommended to use sourceTensor.clone().detach() or sourceTensor.clone().detach().requires_grad_(True), rather than torch.tensor(sourceTensor).\n",
      "  signals = torch.tensor(signals)\n"
     ]
    },
    {
     "name": "stdout",
     "output_type": "stream",
     "text": [
      "Fold10 Start!\n"
     ]
    },
    {
     "data": {
      "text/html": [
       "\n",
       "<style>\n",
       "    /* Turns off some styling */\n",
       "    progress {\n",
       "        /* gets rid of default border in Firefox and Opera. */\n",
       "        border: none;\n",
       "        /* Needs to be in here for Safari polyfill so background images work as expected. */\n",
       "        background-size: auto;\n",
       "    }\n",
       "    progress:not([value]), progress:not([value])::-webkit-progress-bar {\n",
       "        background: repeating-linear-gradient(45deg, #7e7e7e, #7e7e7e 10px, #5c5c5c 10px, #5c5c5c 20px);\n",
       "    }\n",
       "    .progress-bar-interrupted, .progress-bar-interrupted::-webkit-progress-bar {\n",
       "        background: #F44336;\n",
       "    }\n",
       "</style>\n"
      ],
      "text/plain": [
       "<IPython.core.display.HTML object>"
      ]
     },
     "metadata": {},
     "output_type": "display_data"
    },
    {
     "data": {
      "text/html": [
       "Finished Epoch: 01, Training Loss:    3.76487<p>Finished Epoch: 02, Training Loss:    2.87415<p>Finished Epoch: 03, Training Loss:    2.91087<p>Finished Epoch: 04, Training Loss:    3.19506<p>Finished Epoch: 05, Training Loss:    2.88219<p>Finished Epoch: 06, Training Loss:    2.54357<p>Finished Epoch: 07, Training Loss:    2.65990<p>Finished Epoch: 08, Training Loss:    3.01060<p>Finished Epoch: 09, Training Loss:    3.13872<p>Finished Epoch: 10, Training Loss:    2.40867<p>Finished Epoch: 11, Training Loss:    2.77259<p>Finished Epoch: 12, Training Loss:    3.04868<p>Finished Epoch: 13, Training Loss:    2.89663<p>Finished Epoch: 14, Training Loss:    2.50424<p>Finished Epoch: 15, Training Loss:    1.95699<p>Finished Epoch: 16, Training Loss:    2.24986<p>Finished Epoch: 17, Training Loss:    2.51768<p>Finished Epoch: 18, Training Loss:    2.17632<p>Finished Epoch: 19, Training Loss:    3.15474<p>Finished Epoch: 20, Training Loss:    2.38508<p>Finished Epoch: 21, Training Loss:    2.17777<p>Finished Epoch: 22, Training Loss:    3.78004<p>Finished Epoch: 23, Training Loss:    3.28151<p>Finished Epoch: 24, Training Loss:    2.70358<p>Finished Epoch: 25, Training Loss:    2.17260<p>Finished Epoch: 26, Training Loss:    3.36780<p>Finished Epoch: 27, Training Loss:    2.26318<p>Finished Epoch: 28, Training Loss:    2.20749<p>Finished Epoch: 29, Training Loss:    2.31583<p>Finished Epoch: 30, Training Loss:    2.04824<p>Finished Epoch: 31, Training Loss:    2.20876<p>Finished Epoch: 32, Training Loss:    2.21904<p>Finished Epoch: 33, Training Loss:    2.70619<p>Finished Epoch: 34, Training Loss:    3.38617<p>Finished Epoch: 35, Training Loss:    2.58563<p>Finished Epoch: 36, Training Loss:    3.21013<p>Finished Epoch: 37, Training Loss:    3.12135<p>Finished Epoch: 38, Training Loss:    2.29237<p>Finished Epoch: 39, Training Loss:    2.20865<p>Finished Epoch: 40, Training Loss:    2.31555<p>Finished Epoch: 41, Training Loss:    2.36680<p>Finished Epoch: 42, Training Loss:    2.78277<p>Finished Epoch: 43, Training Loss:    2.05670<p>Finished Epoch: 44, Training Loss:    2.42847<p>Finished Epoch: 45, Training Loss:    3.74534<p>Finished Epoch: 46, Training Loss:    2.70166<p>Finished Epoch: 47, Training Loss:    2.12446<p>Finished Epoch: 48, Training Loss:    2.58774<p>Finished Epoch: 49, Training Loss:    2.47685<p>Finished Epoch: 50, Training Loss:    2.20577<p>Finished Epoch: 51, Training Loss:    2.92302<p>Finished Epoch: 52, Training Loss:    2.02292<p>Finished Epoch: 53, Training Loss:    2.84097<p>Finished Epoch: 54, Training Loss:    2.39466<p>Finished Epoch: 55, Training Loss:    2.02562<p>Finished Epoch: 56, Training Loss:    2.23755<p>Finished Epoch: 57, Training Loss:    2.25950<p>Finished Epoch: 58, Training Loss:    2.70300<p>Finished Epoch: 59, Training Loss:    2.73456<p>Finished Epoch: 60, Training Loss:    2.18622<p>Finished Epoch: 61, Training Loss:    2.49952<p>Finished Epoch: 62, Training Loss:    2.26532<p>Finished Epoch: 63, Training Loss:    2.01544<p>Finished Epoch: 64, Training Loss:    2.23394<p>Finished Epoch: 65, Training Loss:    1.93119<p>Finished Epoch: 66, Training Loss:    2.15471<p>Finished Epoch: 67, Training Loss:    2.06279<p>Finished Epoch: 68, Training Loss:    1.97491<p>Finished Epoch: 69, Training Loss:    2.03334<p>Finished Epoch: 70, Training Loss:    2.18807<p>Finished Epoch: 71, Training Loss:    1.72658<p>Finished Epoch: 72, Training Loss:    1.96504<p>Finished Epoch: 73, Training Loss:    2.44662<p>Finished Epoch: 74, Training Loss:    2.54766<p>Finished Epoch: 75, Training Loss:    2.15953<p>Finished Epoch: 76, Training Loss:    2.23509<p>Finished Epoch: 77, Training Loss:    7.69920<p>Finished Epoch: 78, Training Loss:    2.04008<p>Finished Epoch: 79, Training Loss:    1.93328<p>Finished Epoch: 80, Training Loss:    2.37117<p>Finished Epoch: 81, Training Loss:    3.25485<p>Finished Epoch: 82, Training Loss:    2.17500<p>Finished Epoch: 83, Training Loss:    3.48491<p>Finished Epoch: 84, Training Loss:    1.97069<p>Finished Epoch: 85, Training Loss:    2.24668<p>Finished Epoch: 86, Training Loss:    1.98327<p>Finished Epoch: 87, Training Loss:    2.75736<p>Finished Epoch: 88, Training Loss:    2.51047<p>Finished Epoch: 89, Training Loss:    2.34293<p>Finished Epoch: 90, Training Loss:    2.50114<p>Finished Epoch: 91, Training Loss:    2.19691<p>Finished Epoch: 92, Training Loss:    1.82505<p>Finished Epoch: 93, Training Loss:    2.93825<p>Finished Epoch: 94, Training Loss:    2.24734<p>Finished Epoch: 95, Training Loss:    1.59274<p>Finished Epoch: 96, Training Loss:    1.96773<p>Finished Epoch: 97, Training Loss:    2.57483<p>Finished Epoch: 98, Training Loss:    2.03530<p>Finished Epoch: 99, Training Loss:    1.97140<p>Finished Epoch: 100, Training Loss:    1.87606"
      ],
      "text/plain": [
       "<IPython.core.display.HTML object>"
      ]
     },
     "metadata": {},
     "output_type": "display_data"
    },
    {
     "name": "stderr",
     "output_type": "stream",
     "text": [
      "/tmp/ipykernel_28570/2790633555.py:42: UserWarning: To copy construct from a tensor, it is recommended to use sourceTensor.clone().detach() or sourceTensor.clone().detach().requires_grad_(True), rather than torch.tensor(sourceTensor).\n",
      "  signals = torch.tensor(signals)\n",
      "/tmp/ipykernel_28570/3433469541.py:84: UserWarning: To copy construct from a tensor, it is recommended to use sourceTensor.clone().detach() or sourceTensor.clone().detach().requires_grad_(True), rather than torch.tensor(sourceTensor).\n",
      "  x = torch.tensor(x).to(device)\n",
      "/mnt/c/Users/grpro/workspace/grad_thesis/InceptionTime/env/lib/python3.9/site-packages/torch/overrides.py:1498: UserWarning: Implicit dimension choice for softmax has been deprecated. Change the call to include dim=X as an argument.\n",
      "  result = torch_func_method(public_api, types, args, kwargs)\n",
      "/tmp/ipykernel_28570/2790633555.py:73: UserWarning: To copy construct from a tensor, it is recommended to use sourceTensor.clone().detach() or sourceTensor.clone().detach().requires_grad_(True), rather than torch.tensor(sourceTensor).\n",
      "  signals = torch.tensor(signals)\n"
     ]
    },
    {
     "name": "stdout",
     "output_type": "stream",
     "text": [
      "77.31079994923644\n"
     ]
    }
   ],
   "source": [
    "from sklearn.model_selection import StratifiedKFold\n",
    "from sklearn.metrics import classification_report\n",
    "from sklearn.metrics import confusion_matrix\n",
    "import seaborn as sns\n",
    "import matplotlib.pyplot as plt\n",
    "torch.manual_seed(0)\n",
    "# X = dataset\n",
    "# y = labels\n",
    "skf = StratifiedKFold(n_splits=10, shuffle=True, random_state=0) # shuffle=Falseだとrandom_stateは何か数字を設定しても意味ないらしい\n",
    "\n",
    "mean_acc = 0\n",
    "\n",
    "dataset = HCU_Dataset(data_tensor_list, labels_tensor)\n",
    "\n",
    "for Fold, (train_index, test_index) in enumerate(skf.split(data_tensor_list, labels_tensor)):\n",
    "    print(f\"Fold{Fold+1} Start!\")\n",
    "    # Prepare Open train Dataset\n",
    "    # open_train_index = [i for i in train_index if i <= split_idx]\n",
    "    # open_train_set = torch.utils.data.Subset(dataset, open_train_index)\n",
    "    # open_test_set = torch.utils.data.Subset(dataset, test_index)\n",
    "    # Prepare Close train Dataset\n",
    "    train_set = torch.utils.data.Subset(dataset, train_index)\n",
    "    test_set = torch.utils.data.Subset(dataset, test_index) # openの場合も同じ\n",
    "\n",
    "    # Unknown_label = close_num + 1\n",
    "\n",
    "    train_loader = DataLoader(dataset=train_set, batch_size=batch_size, shuffle=True)\n",
    "    test_loader = DataLoader(dataset=test_set, batch_size=batch_size, shuffle=False)\n",
    "\n",
    "    model = InceptionTime(1, close_num + 1) # 0-?+Unknownを出力\n",
    "    model = model.to(device)\n",
    "    # criterion = nn.CrossEntropyLoss()\n",
    "    optimizer = torch.optim.Adam(model.parameters(), lr=learning_rate)\n",
    "\n",
    "    from fastprogress.fastprogress import master_bar, progress_bar\n",
    "    mb = master_bar(range(num_epochs))\n",
    "\n",
    "    model.train()\n",
    "    n_total_steps = len(train_loader)\n",
    "    for epoch in mb:\n",
    "        for i, (signals, labels) in enumerate(progress_bar(train_loader, parent=mb)):\n",
    "            signals = torch.tensor(signals)\n",
    "            signals = signals.float()\n",
    "            signals = signals.to(device)\n",
    "            labels = labels.to(device)\n",
    "\n",
    "            # print(signals.size())\n",
    "            outputs = model(signals)\n",
    "            outputs = outputs.to(device)\n",
    "            # print(outputs)\n",
    "            loss = triple_joint_loss(outputs, labels, alpha) # will check the shapes of outputs and labels\n",
    "            # test_loss = triple_joint_loss(signals, one_hot_labels, alpha) # from test_loader?\n",
    "            optimizer.zero_grad()\n",
    "            optimizer_centloss.zero_grad()\n",
    "            loss.backward()\n",
    "            for param in center_loss.parameters():\n",
    "                param.grad.data *= (1./alpha) # 98.98%を出したときはこれを書いていなかった→追加しても問題なし．\n",
    "            optimizer.step()\n",
    "            optimizer_centloss.step()\n",
    "        mb.write(\"Finished Epoch: {0:02d}, Training Loss: {1:10.5f}\".format(epoch+1, loss.item()))\n",
    "\n",
    "    # For Confusion Matrix\n",
    "    # thresholds = [0.1, 0.2, 0.3, 0.4, 0.5, 0.6, 0.7, 0.8, 0.9, 0.95, 0.96, 0.97, 0.98, 0.99, 0.999]\n",
    "    model.eval()\n",
    "    # for threshold in thresholds:\n",
    "    predicted_lists = np.zeros(0, dtype=np.int64)\n",
    "    one_hot_labels_list = np.zeros(0, dtype=np.int64)\n",
    "    with torch.no_grad():\n",
    "      n_correct = 0\n",
    "      n_samples = 0\n",
    "      softmax = nn.Softmax()\n",
    "      for i, (signals, one_hot_labels) in enumerate(test_loader):\n",
    "        signals = torch.tensor(signals)\n",
    "        signals = signals.float()\n",
    "        signals = signals.to(device)\n",
    "        one_hot_labels = one_hot_labels.to(device)\n",
    "        # print(len(one_hot_labels))\n",
    "        outputs = model(signals)\n",
    "        # if i == 1:\n",
    "        \n",
    "          # print(outputs)\n",
    "        for j, out in enumerate(outputs):\n",
    "          outputs[j] = softmax(out)\n",
    "\n",
    "        _, predicted = torch.max(outputs.data, 1) # predicted per batch size\n",
    "        \"\"\"\"\"\"\n",
    "        # for idx in range(len(_)):\n",
    "          # if _[idx] < threshold:\n",
    "            # predicted[idx] = Unknown_label # 15, 20, 25\n",
    "        \"\"\"\"\"\"\n",
    "        # print(_, predicted, one_hot_labels)\n",
    "\n",
    "        n_samples += one_hot_labels.size(0) # add batch_size\n",
    "        n_correct += (predicted == one_hot_labels).sum().item()\n",
    "        \n",
    "        predicted_cp = predicted.to('cpu').detach().numpy().copy()\n",
    "        one_hot_labels_cp = one_hot_labels.to('cpu').detach().numpy().copy()\n",
    "        predicted_lists = np.concatenate([predicted_lists, predicted_cp])\n",
    "        one_hot_labels_list = np.concatenate([one_hot_labels_list, one_hot_labels_cp])\n",
    "        \n",
    "        acc = 100.0 * n_correct / n_samples\n",
    "        # print(f'{n_correct} / {n_samples} = Acc: {acc} %')\n",
    "      with open(\"cross_val_result_HCU_close.txt\", \"a\") as f:\n",
    "        f.write(f\"Fold{Fold+1}\\n\")\n",
    "        f.write(classification_report(one_hot_labels_list, predicted_lists, digits=4) + \"\\n\")\n",
    "\n",
    "\n",
    "      cm = confusion_matrix(one_hot_labels_list, predicted_lists)\n",
    "      sns.heatmap(cm, square=True, cbar=True, annot=True, cmap='Blues')\n",
    "      plt.xlabel(\"Predicted Label\", fontsize=13)\n",
    "      plt.ylabel(\"Ground Truth\", fontsize=13)\n",
    "      fig_name = \"cross_val_Fold{}_close.png\".format(Fold)\n",
    "      plt.savefig(\"./figure/HCU_cross_val_close/\" + fig_name)\n",
    "      plt.close()\n",
    "    \n",
    "    # if threshold == 0.7:\n",
    "    mean_acc += acc\n",
    "print(mean_acc / 10.0)"
   ]
  }
 ],
 "metadata": {
  "kernelspec": {
   "display_name": "env",
   "language": "python",
   "name": "python3"
  },
  "language_info": {
   "codemirror_mode": {
    "name": "ipython",
    "version": 3
   },
   "file_extension": ".py",
   "mimetype": "text/x-python",
   "name": "python",
   "nbconvert_exporter": "python",
   "pygments_lexer": "ipython3",
   "version": "3.9.5"
  },
  "orig_nbformat": 4,
  "vscode": {
   "interpreter": {
    "hash": "d3f59b86193daf02ac44c2d7d891a49d755eb44400e9ea36eaea4c9328767f1c"
   }
  }
 },
 "nbformat": 4,
 "nbformat_minor": 2
}
