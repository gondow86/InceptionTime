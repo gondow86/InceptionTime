{
 "cells": [
  {
   "cell_type": "code",
   "execution_count": 858,
   "metadata": {},
   "outputs": [],
   "source": [
    "#|export\n",
    "from tsai.imports import *\n",
    "from tsai.models.layers import *\n",
    "from torchinfo import summary"
   ]
  },
  {
   "cell_type": "code",
   "execution_count": 859,
   "metadata": {},
   "outputs": [],
   "source": [
    "import torch\n",
    "import torch.nn as nn\n",
    "from torch.utils.data import Dataset\n",
    "from torch.utils.data import DataLoader\n",
    "import torchvision\n",
    "import torchvision.transforms as transforms\n",
    "import numpy as np\n",
    "import pandas as pd\n",
    "from sklearn.preprocessing import StandardScaler\n",
    "from sklearn.preprocessing import MinMaxScaler\n",
    "from scipy import signal\n",
    "from tqdm.notebook import tqdm"
   ]
  },
  {
   "cell_type": "code",
   "execution_count": 860,
   "metadata": {},
   "outputs": [
    {
     "name": "stdout",
     "output_type": "stream",
     "text": [
      "cuda\n"
     ]
    }
   ],
   "source": [
    "device = torch.device('cuda' if torch.cuda.is_available() else 'cpu')\n",
    "print(device)"
   ]
  },
  {
   "cell_type": "code",
   "execution_count": 861,
   "metadata": {},
   "outputs": [],
   "source": [
    "# hyper parameter\n",
    "num_classes = 30\n",
    "# close_num = 24 # 14, 19, 24, 29\n",
    "batch_size = 64\n",
    "learning_rate = 0.001\n",
    "num_epochs = 20\n",
    "down_ratio = 8\n",
    "sequence_len = 2000 * 5 // down_ratio # default 2000Hz\n",
    "overlap = int(sequence_len * 0.3)\n",
    "# threshold = 0.8\n",
    "thresholds = [0.3, 0.35, 0.40, 0.45, 0.50, 0.55, 0.60, 0.65, 0.70, 0.75, 0.80]\n",
    "close_nums = [14, 19, 24, 29]"
   ]
  },
  {
   "cell_type": "code",
   "execution_count": 862,
   "metadata": {},
   "outputs": [],
   "source": [
    "radar_frame_list = []\n",
    "scaler = MinMaxScaler((-1, 1)) # or StandardScaler\n",
    "\n",
    "for i in range(1, num_classes + 1):\n",
    "    # wave_2d = [] # input need to be 2d?\n",
    "    file_path = \"./data/radar_%02d.csv\" % i # or ./data/radar_%02d\n",
    "    radar_frame = pd.read_csv(file_path)\n",
    "    wave = radar_frame.to_numpy().flatten()\n",
    "    wave = signal.decimate(wave, down_ratio) # down sampling\n",
    "    \n",
    "    end = len(wave)\n",
    "    n = 0\n",
    "    n_stop = sequence_len\n",
    "    wave_segments = []\n",
    "\n",
    "    while n_stop < end:\n",
    "        n_start = 0 + ((sequence_len - 1) - (overlap - 1)) * n\n",
    "        n_stop = n_start + sequence_len\n",
    "        tmp = []\n",
    "        seg = wave[n_start:n_stop].copy()\n",
    "        wave_segments.append([seg])\n",
    "        n += 1\n",
    "    \n",
    "    radar_frame_list.append(wave_segments)\n",
    "\n",
    "data_df = pd.DataFrame(radar_frame_list)"
   ]
  },
  {
   "cell_type": "code",
   "execution_count": 863,
   "metadata": {},
   "outputs": [
    {
     "ename": "NameError",
     "evalue": "name 'close_num' is not defined",
     "output_type": "error",
     "traceback": [
      "\u001b[0;31m---------------------------------------------------------------------------\u001b[0m",
      "\u001b[0;31mNameError\u001b[0m                                 Traceback (most recent call last)",
      "Cell \u001b[0;32mIn [863], line 4\u001b[0m\n\u001b[1;32m      2\u001b[0m \u001b[39mfor\u001b[39;00m i \u001b[39min\u001b[39;00m \u001b[39mrange\u001b[39m(\u001b[39mlen\u001b[39m(radar_frame_list)):\n\u001b[1;32m      3\u001b[0m     \u001b[39mfor\u001b[39;00m j \u001b[39min\u001b[39;00m \u001b[39mrange\u001b[39m(\u001b[39mlen\u001b[39m(radar_frame_list[i])):\n\u001b[0;32m----> 4\u001b[0m         \u001b[39mif\u001b[39;00m i \u001b[39m<\u001b[39m\u001b[39m=\u001b[39m close_num:\n\u001b[1;32m      5\u001b[0m             labels\u001b[39m.\u001b[39mappend(i)\n\u001b[1;32m      6\u001b[0m         \u001b[39melse\u001b[39;00m:\n",
      "\u001b[0;31mNameError\u001b[0m: name 'close_num' is not defined"
     ]
    }
   ],
   "source": [
    "labels = []\n",
    "for i in range(len(radar_frame_list)):\n",
    "    for j in range(len(radar_frame_list[i])):\n",
    "        if i <= close_num:\n",
    "            labels.append(i)\n",
    "        else:\n",
    "            labels.append(close_num + 1)\n",
    "\n",
    "labels_series = pd.Series(labels)"
   ]
  },
  {
   "cell_type": "code",
   "execution_count": null,
   "metadata": {},
   "outputs": [
    {
     "name": "stdout",
     "output_type": "stream",
     "text": [
      "5441 900\n",
      "5262 838\n",
      "5086 725\n",
      "4911 1219\n",
      "4732 507\n",
      "4497 1107\n",
      "4321 1244\n",
      "4147 838\n",
      "3953 438\n",
      "3764 1232\n",
      "3589 788\n",
      "3406 1150\n",
      "3234 619\n",
      "3052 1188\n",
      "2880 388\n",
      "2705 1113\n",
      "2348 1157\n",
      "2141 1113\n",
      "1956 1232\n",
      "1771 532\n",
      "1588 475\n",
      "1402 644\n",
      "1225 1232\n",
      "1044 482\n",
      "869 1150\n",
      "695 1144\n",
      "523 713\n",
      "351 713\n",
      "173 525\n"
     ]
    },
    {
     "data": {
      "text/plain": [
       "((5413,), tensor([ 0,  0,  0,  ..., 15, 15, 15]), torch.Size([5413]))"
      ]
     },
     "execution_count": 826,
     "metadata": {},
     "output_type": "execute_result"
    }
   ],
   "source": [
    "tmp = data_df.to_numpy().flatten().copy()\n",
    "data_series = pd.Series(tmp).dropna() # remove None (keys are as they are)\n",
    "tmp = data_series.to_numpy().flatten()\n",
    "\n",
    "tmp_labels = labels_series.to_numpy().flatten()\n",
    "# len(tmp) = 5442 (30人分のデータ)\n",
    "# len(tmp[0]) = 1 (in_channelが1のため)\n",
    "# len(tmp[0][0]) = 1250 (sequence_len)\n",
    "\n",
    "for i in reversed(range(len(tmp))):\n",
    "  if len(tmp[i][0]) != sequence_len:\n",
    "    print(i, len(tmp[i][0]))\n",
    "    tmp = np.delete(tmp, i)\n",
    "    tmp_labels = np.delete(tmp_labels, i)\n",
    "\n",
    "data_series = pd.Series(tmp)\n",
    "labels_series = pd.Series(tmp_labels)\n",
    "labels_tensor = torch.tensor(labels_series)\n",
    "data_series.shape, labels_tensor, labels_tensor.shape"
   ]
  },
  {
   "cell_type": "code",
   "execution_count": null,
   "metadata": {},
   "outputs": [],
   "source": [
    "class InceptionModule(Module):\n",
    "    def __init__(self, ni, nf, ks=40, bottleneck=True):\n",
    "        ks = [ks // (2**i) for i in range(3)]\n",
    "        ks = [k if k % 2 != 0 else k - 1 for k in ks]  # ensure odd ks\n",
    "        bottleneck = bottleneck if ni > 1 else False\n",
    "        self.bottleneck = Conv1d(ni, nf, 1, bias=False) if bottleneck else noop\n",
    "        self.convs = nn.ModuleList([Conv1d(nf if bottleneck else ni, nf, k, bias=False) for k in ks])\n",
    "        self.maxconvpool = nn.Sequential(*[nn.MaxPool1d(3, stride=1, padding=1), Conv1d(ni, nf, 1, bias=False)])\n",
    "        self.concat = Concat()\n",
    "        self.bn = BN1d(nf * 4)\n",
    "        self.act = nn.ReLU()\n",
    "\n",
    "    def forward(self, x):\n",
    "        input_tensor = x\n",
    "        x = self.bottleneck(input_tensor)\n",
    "        x = self.concat([l(x) for l in self.convs] + [self.maxconvpool(input_tensor)])\n",
    "        return self.act(self.bn(x))\n",
    "\n",
    "\n",
    "@delegates(InceptionModule.__init__)\n",
    "class InceptionBlock(Module):\n",
    "    def __init__(self, ni, nf=32, residual=True, depth=6, **kwargs):\n",
    "        self.residual, self.depth = residual, depth\n",
    "        self.inception, self.shortcut = nn.ModuleList(), nn.ModuleList()\n",
    "        for d in range(depth):\n",
    "            self.inception.append(InceptionModule(ni if d == 0 else nf * 4, nf, **kwargs))\n",
    "            if self.residual and d % 3 == 2: \n",
    "                n_in, n_out = ni if d == 2 else nf * 4, nf * 4\n",
    "                self.shortcut.append(BN1d(n_in) if n_in == n_out else ConvBlock(n_in, n_out, 1, act=None))\n",
    "        self.add = Add()\n",
    "        self.act = nn.ReLU()\n",
    "        \n",
    "    def forward(self, x):\n",
    "        res = x\n",
    "        for d, l in enumerate(range(self.depth)):\n",
    "            x = self.inception[d](x)\n",
    "            if self.residual and d % 3 == 2: res = x = self.act(self.add(x, self.shortcut[d//3](res)))\n",
    "        return x\n",
    "\n",
    "    \n",
    "@delegates(InceptionModule.__init__)\n",
    "class InceptionTime(Module):\n",
    "    def __init__(self, c_in, c_out, seq_len=None, nf=32, nb_filters=None, **kwargs):\n",
    "        nf = ifnone(nf, nb_filters) # for compatibility\n",
    "        self.inceptionblock = InceptionBlock(c_in, nf, **kwargs) # c_in is input channel num of conv1d\n",
    "        self.gap = GAP1d(1)\n",
    "        self.fc = nn.Linear(nf * 4, c_out) # c_out is 1d output size \n",
    "\n",
    "    def forward(self, x):\n",
    "        x = self.inceptionblock(x)\n",
    "        x = self.gap(x)\n",
    "        x = self.fc(x)\n",
    "        return x"
   ]
  },
  {
   "cell_type": "code",
   "execution_count": null,
   "metadata": {},
   "outputs": [
    {
     "data": {
      "text/plain": [
       "======================================================================\n",
       "Layer (type:depth-idx)                        Param #\n",
       "======================================================================\n",
       "InceptionTime                                 --\n",
       "├─InceptionBlock: 1-1                         --\n",
       "│    └─ModuleList: 2-1                        --\n",
       "│    │    └─InceptionModule: 3-1              2,432\n",
       "│    │    └─InceptionModule: 3-2              77,056\n",
       "│    │    └─InceptionModule: 3-3              77,056\n",
       "│    │    └─InceptionModule: 3-4              77,056\n",
       "│    │    └─InceptionModule: 3-5              77,056\n",
       "│    │    └─InceptionModule: 3-6              77,056\n",
       "│    └─ModuleList: 2-2                        --\n",
       "│    │    └─ConvBlock: 3-7                    384\n",
       "│    │    └─BatchNorm1d: 3-8                  256\n",
       "│    └─Add: 2-3                               --\n",
       "│    └─ReLU: 2-4                              --\n",
       "├─GAP1d: 1-2                                  --\n",
       "│    └─AdaptiveAvgPool1d: 2-5                 --\n",
       "│    └─Flatten: 2-6                           --\n",
       "├─Linear: 1-3                                 2,064\n",
       "======================================================================\n",
       "Total params: 390,416\n",
       "Trainable params: 390,416\n",
       "Non-trainable params: 0\n",
       "======================================================================"
      ]
     },
     "execution_count": 828,
     "metadata": {},
     "output_type": "execute_result"
    }
   ],
   "source": [
    "\n",
    "summary(model)"
   ]
  },
  {
   "cell_type": "code",
   "execution_count": null,
   "metadata": {},
   "outputs": [],
   "source": [
    "from tsai.models.utils import count_parameters"
   ]
  },
  {
   "cell_type": "code",
   "execution_count": null,
   "metadata": {},
   "outputs": [],
   "source": [
    "class MyDataset(Dataset):\n",
    "    def __init__(self, dataset, labels, root_dir, transform=None) -> None:\n",
    "        # super().__init__()\n",
    "        self.radar_heartbeat = dataset\n",
    "        self.labels = labels\n",
    "        self.root_dir = root_dir\n",
    "        self.transform = transform\n",
    "\n",
    "    \n",
    "    def __getitem__(self, idx):\n",
    "        if torch.is_tensor(idx):\n",
    "          idx = idx.tolist()\n",
    "        \n",
    "        onehot_label = torch.eye(num_classes)[self.labels[idx] - 1] # one hot encodingは不要らしい　精度悪い場合試す必要あり\n",
    "        # one_hot = torch.nn.functional.one_hot(self.labels, num_classes=num_classes)\n",
    "        return torch.tensor(self.radar_heartbeat[idx]), self.labels[idx] # labels is already tensor (converted in preparation phase)\n",
    "        # return torch.tensor(self.radar_heartbeat[idx]), onehot_label\n",
    "\n",
    "    def __len__(self):\n",
    "        return len(self.radar_heartbeat)\n",
    "\n",
    "\n",
    "dataset = MyDataset(data_series, labels_tensor, \"./data/\", transform=transforms.ToTensor())"
   ]
  },
  {
   "cell_type": "code",
   "execution_count": null,
   "metadata": {},
   "outputs": [
    {
     "data": {
      "text/plain": [
       "(tensor(0), tensor(15), tensor(15), tensor(15))"
      ]
     },
     "execution_count": 831,
     "metadata": {},
     "output_type": "execute_result"
    }
   ],
   "source": [
    "dataset[0][1], dataset[4473][1], dataset[4474][1], dataset[len(dataset)-1][1]"
   ]
  },
  {
   "cell_type": "code",
   "execution_count": null,
   "metadata": {},
   "outputs": [
    {
     "data": {
      "text/plain": [
       "(tensor(15), tensor(15))"
      ]
     },
     "execution_count": 832,
     "metadata": {},
     "output_type": "execute_result"
    }
   ],
   "source": [
    "dataset[3570][1], dataset[3571][1]"
   ]
  },
  {
   "cell_type": "code",
   "execution_count": null,
   "metadata": {},
   "outputs": [
    {
     "data": {
      "text/plain": [
       "(tensor(14), tensor(15))"
      ]
     },
     "execution_count": 833,
     "metadata": {},
     "output_type": "execute_result"
    }
   ],
   "source": [
    "dataset[2691][1], dataset[2692][1]"
   ]
  },
  {
   "cell_type": "markdown",
   "metadata": {},
   "source": [
    "Additional processing for Open Set\n",
    "\n",
    "e.g.\n",
    "train 0~24\n",
    "\n",
    "test 0~30\n",
    "\n",
    "concat"
   ]
  },
  {
   "cell_type": "code",
   "execution_count": null,
   "metadata": {},
   "outputs": [],
   "source": [
    "# indices1 = np.arange(4473)\n",
    "# dataset1 = torch.utils.data.Subset(dataset, indices1) # 0-24\n",
    "# indices2 = np.arange(4474, len(dataset))\n",
    "# dataset2 = torch.utils.data.Subset(dataset, indices2) # 25-30\n",
    "# Unknown_label = close_num + 1"
   ]
  },
  {
   "cell_type": "code",
   "execution_count": null,
   "metadata": {},
   "outputs": [],
   "source": [
    "# indices1 = np.arange(3570)\n",
    "# dataset1 = torch.utils.data.Subset(dataset, indices1) # 0-19\n",
    "# indices2 = np.arange(3571, len(dataset))\n",
    "# dataset2 = torch.utils.data.Subset(dataset, indices2) # 20-30\n",
    "# Unknown_label = close_num + 1"
   ]
  },
  {
   "cell_type": "code",
   "execution_count": null,
   "metadata": {},
   "outputs": [
    {
     "ename": "NameError",
     "evalue": "name 'close' is not defined",
     "output_type": "error",
     "traceback": [
      "\u001b[0;31m---------------------------------------------------------------------------\u001b[0m",
      "\u001b[0;31mNameError\u001b[0m                                 Traceback (most recent call last)",
      "Cell \u001b[0;32mIn [855], line 6\u001b[0m\n\u001b[1;32m      4\u001b[0m dataset2 \u001b[39m=\u001b[39m torch\u001b[39m.\u001b[39mutils\u001b[39m.\u001b[39mdata\u001b[39m.\u001b[39mSubset(dataset, indices2) \u001b[39m# 15-29\u001b[39;00m\n\u001b[1;32m      5\u001b[0m open_num \u001b[39m=\u001b[39m \u001b[39m15\u001b[39m\n\u001b[0;32m----> 6\u001b[0m Unknown_label \u001b[39m=\u001b[39m close\n",
      "\u001b[0;31mNameError\u001b[0m: name 'close' is not defined"
     ]
    }
   ],
   "source": [
    "indices1 = np.arange(2691)\n",
    "dataset1 = torch.utils.data.Subset(dataset, indices1) # 0-14\n",
    "indices2 = np.arange(2692, len(dataset))\n",
    "dataset2 = torch.utils.data.Subset(dataset, indices2) # 15-29\n",
    "Unknown_label = close_num + 1"
   ]
  },
  {
   "cell_type": "code",
   "execution_count": null,
   "metadata": {},
   "outputs": [],
   "source": [
    "train_size1 = int(0.80 * len(dataset1))\n",
    "test_size1 = len(dataset1) - train_size1\n",
    "\n",
    "train_size2 = int(0.80 * len(dataset2))\n",
    "test_size2 = len(dataset2) - train_size2\n",
    "\n",
    "open_train_set, test_set1 = torch.utils.data.random_split(dataset1, [train_size1, test_size1])\n",
    "train_set2, test_set2 = torch.utils.data.random_split(dataset2, [train_size2, test_size2])\n",
    "\n",
    "indices = np.arange(len(test_set2))\n",
    "test_set2 = torch.utils.data.Subset(test_set2, indices[:])"
   ]
  },
  {
   "cell_type": "markdown",
   "metadata": {},
   "source": [
    "train : test = 8 : 2 → 3 : 1で分ける"
   ]
  },
  {
   "cell_type": "code",
   "execution_count": null,
   "metadata": {},
   "outputs": [
    {
     "data": {
      "text/plain": [
       "(2152, 1084)"
      ]
     },
     "execution_count": 838,
     "metadata": {},
     "output_type": "execute_result"
    }
   ],
   "source": [
    "open_test_set = torch.utils.data.ConcatDataset([test_set1, test_set2])\n",
    "len(open_train_set), len(open_test_set)"
   ]
  },
  {
   "cell_type": "code",
   "execution_count": null,
   "metadata": {},
   "outputs": [
    {
     "name": "stdout",
     "output_type": "stream",
     "text": [
      "full: 5413 -> train: 4330, test: 1083\n"
     ]
    }
   ],
   "source": [
    "train_size = int(0.80 * len(data_series.values))\n",
    "test_size = len(data_series.values) - train_size\n",
    "train_set, test_set = torch.utils.data.random_split(dataset, [train_size, test_size]) # check whether each data and label set is synchronized \n",
    "print(f\"full: {len(dataset)} -> train: {len(train_set)}, test: {len(test_set)}\")\n",
    "\n",
    "train_loader = DataLoader(dataset=open_train_set, batch_size=batch_size, shuffle=True)\n",
    "test_loader = DataLoader(dataset=open_test_set, batch_size=batch_size, shuffle=True) # テストでシャッフルしても同じ"
   ]
  },
  {
   "cell_type": "code",
   "execution_count": null,
   "metadata": {},
   "outputs": [],
   "source": [
    "model = InceptionTime(1, close_num + 1) # 0-?+Unknownを出力\n",
    "model = model.to(device)\n",
    "criterion = nn.CrossEntropyLoss()\n",
    "optimizer = torch.optim.Adam(model.parameters(), lr=learning_rate)"
   ]
  },
  {
   "cell_type": "code",
   "execution_count": null,
   "metadata": {},
   "outputs": [
    {
     "name": "stderr",
     "output_type": "stream",
     "text": [
      "/tmp/ipykernel_2316/238323891.py:4: UserWarning: To copy construct from a tensor, it is recommended to use sourceTensor.clone().detach() or sourceTensor.clone().detach().requires_grad_(True), rather than torch.tensor(sourceTensor).\n",
      "  signals = torch.tensor(signals)\n"
     ]
    },
    {
     "name": "stdout",
     "output_type": "stream",
     "text": [
      "Epoch [1/`20], Step [12/34], Loss: 2.2516\n",
      "Epoch [1/`20], Step [24/34], Loss: 2.0992\n",
      "Epoch [2/`20], Step [12/34], Loss: 1.7079\n",
      "Epoch [2/`20], Step [24/34], Loss: 1.4503\n",
      "Epoch [3/`20], Step [12/34], Loss: 1.0566\n",
      "Epoch [3/`20], Step [24/34], Loss: 1.1632\n",
      "Epoch [4/`20], Step [12/34], Loss: 0.5962\n",
      "Epoch [4/`20], Step [24/34], Loss: 0.6234\n",
      "Epoch [5/`20], Step [12/34], Loss: 0.4133\n",
      "Epoch [5/`20], Step [24/34], Loss: 0.4418\n",
      "Epoch [6/`20], Step [12/34], Loss: 0.3195\n",
      "Epoch [6/`20], Step [24/34], Loss: 0.2694\n",
      "Epoch [7/`20], Step [12/34], Loss: 0.2559\n",
      "Epoch [7/`20], Step [24/34], Loss: 0.1637\n",
      "Epoch [8/`20], Step [12/34], Loss: 0.1779\n",
      "Epoch [8/`20], Step [24/34], Loss: 0.1043\n",
      "Epoch [9/`20], Step [12/34], Loss: 0.1090\n",
      "Epoch [9/`20], Step [24/34], Loss: 0.0860\n",
      "Epoch [10/`20], Step [12/34], Loss: 0.0729\n",
      "Epoch [10/`20], Step [24/34], Loss: 0.0518\n",
      "Epoch [11/`20], Step [12/34], Loss: 0.0622\n",
      "Epoch [11/`20], Step [24/34], Loss: 0.0408\n",
      "Epoch [12/`20], Step [12/34], Loss: 0.0372\n",
      "Epoch [12/`20], Step [24/34], Loss: 0.0456\n",
      "Epoch [13/`20], Step [12/34], Loss: 0.0239\n",
      "Epoch [13/`20], Step [24/34], Loss: 0.0365\n",
      "Epoch [14/`20], Step [12/34], Loss: 0.0349\n",
      "Epoch [14/`20], Step [24/34], Loss: 0.0207\n",
      "Epoch [15/`20], Step [12/34], Loss: 0.0367\n",
      "Epoch [15/`20], Step [24/34], Loss: 0.0226\n",
      "Epoch [16/`20], Step [12/34], Loss: 0.0128\n",
      "Epoch [16/`20], Step [24/34], Loss: 0.0331\n",
      "Epoch [17/`20], Step [12/34], Loss: 0.0372\n",
      "Epoch [17/`20], Step [24/34], Loss: 0.0363\n",
      "Epoch [18/`20], Step [12/34], Loss: 0.0403\n",
      "Epoch [18/`20], Step [24/34], Loss: 0.0425\n",
      "Epoch [19/`20], Step [12/34], Loss: 0.0317\n",
      "Epoch [19/`20], Step [24/34], Loss: 0.0363\n",
      "Epoch [20/`20], Step [12/34], Loss: 0.0337\n",
      "Epoch [20/`20], Step [24/34], Loss: 0.0353\n"
     ]
    }
   ],
   "source": [
    "n_total_steps = len(train_loader)\n",
    "for epoch in range(num_epochs):\n",
    "  for i, (signals, labels) in enumerate(train_loader):\n",
    "    signals = torch.tensor(signals)\n",
    "    signals = signals.float()\n",
    "    signals = signals.to(device)\n",
    "    labels = labels.to(device)\n",
    "\n",
    "    # print(signals.size())\n",
    "    outputs = model(signals)\n",
    "    # print(outputs)\n",
    "    loss = criterion(outputs, labels) # will check the shapes of outputs and labels\n",
    "\n",
    "    optimizer.zero_grad()\n",
    "    loss.backward()\n",
    "    optimizer.step()\n",
    "    if (i + 1) % 12 == 0:\n",
    "      print(f'Epoch [{epoch+1}/`{num_epochs}], Step [{i+1}/{n_total_steps}], Loss: {loss.item():.4f}')"
   ]
  },
  {
   "cell_type": "markdown",
   "metadata": {},
   "source": [
    "labelは0-24までだから，学習はいじらなくて大丈夫\n",
    "\n",
    "testはOpen setの場合，0~24とUnknown label(25)になるから，labelは作り直し\n",
    "\n",
    "25も出力するようなネットワークにしなきゃだめ"
   ]
  },
  {
   "cell_type": "code",
   "execution_count": null,
   "metadata": {},
   "outputs": [
    {
     "name": "stderr",
     "output_type": "stream",
     "text": [
      "/tmp/ipykernel_2316/1821349815.py:10: UserWarning: To copy construct from a tensor, it is recommended to use sourceTensor.clone().detach() or sourceTensor.clone().detach().requires_grad_(True), rather than torch.tensor(sourceTensor).\n",
      "  signals = torch.tensor(signals)\n",
      "/mnt/c/Users/grpro/workspace/grad_thesis/InceptionTime/env/lib/python3.9/site-packages/torch/overrides.py:1498: UserWarning: Implicit dimension choice for softmax has been deprecated. Change the call to include dim=X as an argument.\n",
      "  result = torch_func_method(public_api, types, args, kwargs)\n"
     ]
    },
    {
     "name": "stdout",
     "output_type": "stream",
     "text": [
      "TensorBase([0.9706, 0.7207, 0.2602, 0.3923, 0.9998, 0.9972, 0.9931, 0.8302,\n",
      "            0.4656, 0.9994, 0.9319, 0.4122, 0.8542, 0.9958, 0.9987, 0.9944,\n",
      "            0.9783, 0.9995, 0.5325, 0.5270, 0.9395, 0.9992, 0.9964, 0.6471,\n",
      "            0.9039, 0.2772, 0.5925, 0.6326, 0.9940, 0.9998, 0.9991, 0.3964,\n",
      "            0.3835, 0.7283, 0.9924, 0.6921, 0.5074, 0.2540, 0.6622, 0.9844,\n",
      "            0.8316, 0.3681, 0.9942, 0.9906, 0.9995, 0.9991, 0.8779, 0.6838,\n",
      "            0.8849, 0.9994, 0.9211, 0.6789, 0.9985, 0.9967, 0.9980, 0.4673,\n",
      "            0.9993, 0.6568, 0.3438, 0.9995, 0.7031, 0.2812, 0.9407, 0.9908],\n",
      "           device='cuda:0') TensorBase([ 1, 15, 15, 15, 13,  3,  9,  8, 15,  3,  0, 15, 12,  2,  0, 11,  5,\n",
      "             0, 15, 15,  8, 12,  2, 15,  8, 15, 15, 15,  9,  4,  5, 15, 15, 15,\n",
      "             3, 15, 15, 15, 15,  5,  7, 15,  5, 14, 13,  1, 14, 15, 11,  2,  8,\n",
      "            15,  7,  9,  7, 15,  0, 15, 15,  6, 15, 15, 10,  9],\n",
      "           device='cuda:0') tensor([ 1, 15, 15, 15, 13,  3,  9, 15, 15,  3, 15, 15, 15,  2,  0, 11,  5,  0,\n",
      "        15, 15, 15, 12,  2, 15, 15, 15, 15, 15,  9,  4,  5, 15, 15, 15,  3, 15,\n",
      "        15, 15, 15,  5, 15, 15,  5, 14, 13,  1, 14, 15, 11,  2, 15, 15,  7,  9,\n",
      "         7, 15,  0, 15, 15,  6, 15, 15, 15,  9], device='cuda:0')\n",
      "56 / 64 = Acc: 87.5 %\n",
      "TensorBase([0.9992, 0.8963, 0.4336, 0.9908, 0.6174, 0.4604, 0.4518, 0.4131,\n",
      "            0.9968, 0.9973, 0.2971, 0.8532, 0.9957, 0.5915, 0.9461, 0.5886,\n",
      "            0.5524, 0.8937, 0.9975, 0.9947, 0.9945, 0.2881, 0.9965, 0.6749,\n",
      "            0.4751, 0.9997, 0.9956, 0.4584, 0.9518, 0.7794, 0.4261, 0.2908,\n",
      "            0.7661, 0.6047, 0.9362, 0.9976, 0.2182, 0.8597, 0.5830, 0.2998,\n",
      "            0.5053, 0.9262, 0.9840, 0.9998, 0.9868, 0.9839, 0.9917, 0.9970,\n",
      "            0.9980, 0.9991, 0.9999, 0.5386, 0.9987, 0.9991, 0.9985, 0.4496,\n",
      "            0.9978, 0.2769, 0.9983, 0.7418, 0.9931, 0.4769, 0.9939, 0.7890],\n",
      "           device='cuda:0') TensorBase([13,  6, 15,  0, 15, 15, 15, 15, 12,  1, 15,  5,  9, 15,  2, 15, 15,\n",
      "             5, 12,  9,  4, 15, 12, 15, 15,  6,  4, 15,  4, 15, 15, 15, 15, 15,\n",
      "             0,  9, 15,  0, 15, 15, 15,  6,  9,  6, 12, 12,  1,  2, 11,  7,  0,\n",
      "            15,  4,  7,  0, 15,  8, 15, 12, 15, 10, 15,  5, 15],\n",
      "           device='cuda:0') tensor([13, 15, 15,  0, 15, 15, 15, 15, 12,  1, 15, 15,  9, 15,  2, 15, 15, 15,\n",
      "        12,  9,  4, 15, 12, 15, 15,  6,  4, 15,  4, 15, 15, 15, 15, 15, 15,  9,\n",
      "        15, 15, 15, 15, 15,  6,  9,  6, 12, 12,  1,  2, 11,  7,  0, 15,  4,  7,\n",
      "         0, 15,  8, 15, 12, 15, 10, 15,  5, 15], device='cuda:0')\n",
      "115 / 128 = Acc: 89.84375 %\n",
      "TensorBase([0.3934, 0.9986, 0.9962, 0.9087, 0.9649, 0.9997, 0.6971, 0.9993,\n",
      "            0.8920, 0.9864, 0.9972, 0.9978, 0.6592, 0.4037, 0.2484, 0.9964,\n",
      "            0.4639, 0.8199, 0.9846, 0.9259, 0.6618, 0.9993, 0.9932, 0.4390,\n",
      "            0.3369, 0.8136, 0.9306, 0.1888, 0.9457, 0.8918, 0.8803, 0.9977,\n",
      "            0.9959, 0.9874, 0.8971, 0.5791, 0.5789, 0.9988, 0.9981, 0.9934,\n",
      "            0.9935, 0.9961, 0.9993, 0.9965, 0.9167, 0.4219, 0.5691, 0.6357,\n",
      "            0.8464, 0.9792, 0.9998, 0.2948, 0.5142, 0.8523, 0.7044, 0.9198,\n",
      "            0.5952, 0.9706, 0.4477, 0.8167, 0.9917, 0.2021, 0.9943, 0.5000],\n",
      "           device='cuda:0') TensorBase([15, 12, 12, 10,  2,  1, 15,  5,  1, 13,  3,  4, 15, 15, 15,  8, 15,\n",
      "             8,  2, 10, 15,  7,  9, 15, 15,  1,  2, 15, 10,  3,  7, 10,  5,  9,\n",
      "             6, 15, 15,  8, 13,  8,  5, 14, 13, 10,  8, 15, 15, 15,  7,  8,  0,\n",
      "            15, 15,  7, 15,  2, 15,  5, 15,  6,  3, 15,  8, 15],\n",
      "           device='cuda:0') tensor([15, 12, 12, 15,  2,  1, 15,  5, 15, 13,  3,  4, 15, 15, 15,  8, 10, 15,\n",
      "         2, 15, 15,  7,  9, 15, 15, 15,  2, 15, 10,  3, 15, 10,  5,  9, 15, 15,\n",
      "        15,  8, 13,  8,  5, 14, 13, 10, 15, 15, 15, 15, 15,  8,  0, 15, 15, 15,\n",
      "        15,  2, 15,  5, 15, 15,  3, 15,  8, 15], device='cuda:0')\n",
      "167 / 192 = Acc: 86.97916666666667 %\n",
      "TensorBase([0.9977, 0.9324, 0.9949, 0.9946, 0.9976, 0.9910, 0.2997, 0.6520,\n",
      "            0.2410, 0.9967, 0.9655, 0.5461, 0.9783, 0.7997, 0.9962, 0.6622,\n",
      "            0.9960, 0.6932, 0.9927, 0.9947, 0.2768, 0.9969, 0.4335, 0.9994,\n",
      "            0.8564, 0.5731, 0.9993, 0.8686, 0.6190, 0.9993, 0.9946, 0.6900,\n",
      "            1.0000, 0.8127, 0.8002, 0.4860, 0.9271, 0.8323, 0.9770, 0.9970,\n",
      "            0.9957, 0.9776, 0.2471, 0.6299, 0.4501, 0.9992, 0.9177, 0.9996,\n",
      "            0.9994, 0.2781, 0.2597, 0.9995, 0.4081, 0.4595, 0.9998, 0.9997,\n",
      "            0.2957, 0.9963, 0.9622, 0.5500, 0.5156, 0.6853, 0.9989, 0.6035],\n",
      "           device='cuda:0') TensorBase([ 8,  2,  1,  1, 10,  4, 15, 15, 15,  4,  9, 15,  5, 15, 10, 15, 12,\n",
      "            15,  6,  5, 15,  9, 15, 11,  1, 15,  1,  8, 15, 10,  9, 15,  0,  6,\n",
      "             7, 15,  0,  5,  5, 14, 12, 10, 15, 15, 15,  6,  5,  3, 11, 15, 15,\n",
      "            13, 15, 15,  0,  7, 15, 11,  6, 15, 15, 15,  2, 15],\n",
      "           device='cuda:0') tensor([ 8,  2,  1,  1, 10,  4, 15, 15, 15,  4,  9, 15,  5, 15, 10, 15, 12, 15,\n",
      "         6, 15, 15,  9, 15, 11, 15, 15,  1, 15, 15, 10,  9, 15,  0, 15, 15, 15,\n",
      "        15, 15, 15, 14, 12, 10, 15, 15, 15,  6, 15,  3, 11, 15, 15, 13, 15, 15,\n",
      "         0,  7, 15, 11,  6, 15, 15, 15,  2, 15], device='cuda:0')\n",
      "222 / 256 = Acc: 86.71875 %\n",
      "TensorBase([0.7507, 0.9997, 0.8257, 0.9912, 0.9996, 0.9963, 0.9758, 0.4021,\n",
      "            0.7003, 0.5718, 0.5142, 0.9989, 0.3507, 0.2629, 0.7920, 0.9635,\n",
      "            0.9968, 0.3392, 0.9764, 0.9997, 0.5073, 0.2038, 0.9917, 0.9991,\n",
      "            0.4868, 0.7988, 0.4007, 0.9893, 0.8811, 0.9934, 0.4189, 0.4998,\n",
      "            0.8842, 0.6884, 0.2116, 0.6697, 0.9998, 0.6416, 0.8508, 0.8395,\n",
      "            0.9131, 0.9991, 0.9799, 0.5440, 0.8855, 0.9948, 0.5038, 0.8094,\n",
      "            0.5791, 0.9967, 0.9957, 0.9967, 0.5497, 0.5123, 0.9978, 0.4547,\n",
      "            0.8104, 0.5017, 0.4887, 0.9990, 0.6639, 0.9995, 0.9964, 0.9997],\n",
      "           device='cuda:0') TensorBase([15,  4, 13,  3, 12, 14, 11, 15, 15, 15, 15,  3, 15, 15, 15,  1,  7,\n",
      "            15, 10,  8, 15, 15, 14,  5, 15, 15, 15,  8,  5,  1, 15, 15,  1, 15,\n",
      "            15, 15, 10, 15,  8, 14,  2,  7,  6, 15,  7, 11, 15,  1, 15,  1,  7,\n",
      "             0, 15, 15,  9, 15,  0, 15, 15,  0, 15, 11,  4,  0],\n",
      "           device='cuda:0') tensor([15,  4, 15,  3, 12, 14, 11, 15, 15, 15, 15,  3, 15, 15, 15,  1,  7, 15,\n",
      "        15,  8, 15, 15, 14,  5, 15, 15,  4,  8, 15,  1, 15,  0,  1, 15, 15, 15,\n",
      "        10, 15, 15, 14, 15,  7,  6, 15, 15, 11, 15, 15, 15,  1,  7,  0, 15, 15,\n",
      "         9, 15, 15, 15, 15,  0, 15, 11,  4,  0], device='cuda:0')\n",
      "276 / 320 = Acc: 86.25 %\n",
      "TensorBase([0.4692, 0.4719, 0.9966, 0.9686, 0.9933, 0.9989, 0.4436, 0.9782,\n",
      "            0.9997, 0.9996, 0.3090, 0.9988, 0.9998, 0.6221, 0.5957, 0.5856,\n",
      "            0.2051, 0.5099, 0.8073, 0.9530, 0.4060, 0.9970, 0.5527, 0.9989,\n",
      "            0.3514, 0.9961, 0.9987, 0.9956, 0.9814, 0.9890, 0.9960, 0.5062,\n",
      "            0.9920, 0.2731, 0.7794, 0.9958, 0.9929, 0.9772, 0.3778, 0.4917,\n",
      "            0.9386, 0.6225, 0.9981, 0.5559, 0.9915, 0.5202, 0.7314, 0.3010,\n",
      "            0.9977, 0.2983, 0.6992, 0.6788, 0.4227, 0.5963, 0.6265, 0.4664,\n",
      "            0.5099, 0.3168, 0.9841, 0.4875, 0.5145, 0.9814, 0.9423, 0.4788],\n",
      "           device='cuda:0') TensorBase([15, 15,  5,  3, 14,  3, 15,  4,  8, 12, 15,  7,  1, 15, 15, 15, 15,\n",
      "            15,  8, 11, 15,  3, 15,  6, 15,  4,  7, 11, 14, 11,  9, 15,  6, 15,\n",
      "            15,  4,  8, 11, 15, 15, 11, 15, 14, 15,  6, 15, 15, 15, 12, 15, 15,\n",
      "            15, 15, 15, 15, 15, 15, 15, 11, 15, 15, 11,  5, 15],\n",
      "           device='cuda:0') tensor([15, 15,  5,  3, 14,  3, 15,  4,  8, 12, 15,  7,  1, 15, 15, 15, 15, 15,\n",
      "        15, 11, 15,  3, 15,  6, 15,  4,  7, 11, 14, 11,  9, 15,  6, 15, 15,  4,\n",
      "         8, 11, 15, 15, 11, 15, 14, 15,  6, 15, 15, 15, 12, 15, 15, 15, 15, 15,\n",
      "        15, 15, 15, 15, 11, 15, 15, 11, 15, 15], device='cuda:0')\n",
      "338 / 384 = Acc: 88.02083333333333 %\n",
      "TensorBase([0.8340, 0.9996, 0.6361, 0.9922, 0.9923, 0.6340, 0.5652, 0.7934,\n",
      "            0.9993, 0.9985, 0.9850, 0.7652, 0.2179, 0.9653, 0.9998, 0.9648,\n",
      "            0.2898, 0.9974, 0.9983, 0.8732, 0.3022, 0.9723, 0.9996, 0.9997,\n",
      "            0.9796, 0.7046, 0.9998, 0.9996, 0.3300, 0.9992, 0.9902, 0.5215,\n",
      "            0.7797, 0.9927, 0.4353, 0.9999, 0.7527, 0.4217, 0.9966, 0.9961,\n",
      "            0.7662, 0.9946, 0.7002, 0.9803, 0.6994, 0.9965, 0.9951, 0.9981,\n",
      "            0.9987, 0.7320, 0.9956, 0.9996, 0.4507, 0.9808, 0.3506, 0.5646,\n",
      "            0.3205, 0.9113, 0.9999, 0.6887, 0.8351, 0.4856, 0.4441, 0.9995],\n",
      "           device='cuda:0') TensorBase([ 0, 10, 15,  9,  5, 15, 15, 15,  8,  7,  0, 15, 15,  9, 13, 10, 15,\n",
      "            10, 13, 10, 15,  5, 12,  8,  2, 15,  1,  4, 15,  2, 10, 15, 15, 10,\n",
      "            15,  3, 15, 15,  9, 14, 15,  6, 15, 12, 15, 12, 14,  6,  9, 15,  1,\n",
      "             5, 15, 12, 15, 15, 15,  7,  0, 15,  2, 15, 15, 13],\n",
      "           device='cuda:0') tensor([15, 10, 15,  9,  5, 15, 15, 15,  8,  7,  0, 15, 15,  9, 13, 15, 15, 10,\n",
      "        13, 15, 15,  5, 12,  8,  2, 15,  1,  4, 15,  2, 10, 15, 15, 10, 15,  3,\n",
      "        15, 15,  9, 14, 15,  6, 15, 12, 15, 12, 14,  6,  9, 15,  1,  5, 15, 12,\n",
      "        15, 15, 15, 15,  0, 15,  2, 15, 15, 13], device='cuda:0')\n",
      "398 / 448 = Acc: 88.83928571428571 %\n",
      "TensorBase([0.3663, 0.2038, 0.4895, 0.4518, 0.9936, 0.9997, 0.9995, 0.9712,\n",
      "            0.4022, 0.9999, 0.9992, 0.9356, 0.9868, 0.9997, 0.9954, 0.9995,\n",
      "            0.9825, 0.3771, 0.4668, 0.9994, 0.9988, 0.8300, 0.8192, 0.8857,\n",
      "            0.5636, 0.9978, 0.9994, 0.9702, 0.2171, 0.9997, 0.4040, 0.8495,\n",
      "            0.4671, 0.6173, 0.9864, 0.4398, 0.9244, 0.9985, 0.2427, 0.4982,\n",
      "            0.6339, 0.5256, 0.7712, 0.9960, 0.4816, 0.9880, 0.9897, 0.9949,\n",
      "            0.9994, 0.9902, 0.9988, 0.9475, 0.9982, 0.4590, 0.9969, 0.9878,\n",
      "            0.5696, 0.8839, 0.9987, 0.3643, 0.4582, 0.9934, 0.8624, 0.4753],\n",
      "           device='cuda:0') TensorBase([15, 15, 15, 15,  7,  6,  8,  5, 15,  0,  1, 13,  0,  6, 13,  7, 11,\n",
      "            15, 15, 10,  0,  4,  0,  7, 15, 12,  3, 14, 15, 13, 15, 13, 15, 15,\n",
      "            12, 15,  0, 11, 15, 15, 15, 15, 15, 11, 15,  1,  7,  1,  6,  5, 12,\n",
      "            10,  5, 15, 10, 11, 15,  5,  5, 15, 15,  8,  2, 15],\n",
      "           device='cuda:0') tensor([15, 15, 15, 15,  7,  6,  8,  5, 15,  0,  1, 15,  0,  6, 13,  7, 11, 15,\n",
      "        15, 10,  0, 15, 15, 15, 15, 12,  3, 14, 15, 13, 15, 15, 15, 15, 12, 15,\n",
      "        15, 11, 15, 15, 15, 15, 15, 11, 15,  1,  7,  1,  6,  5, 12, 15,  5, 15,\n",
      "        10, 11, 15, 15,  5, 15, 15,  8, 15,  1], device='cuda:0')\n",
      "452 / 512 = Acc: 88.28125 %\n",
      "TensorBase([0.4550, 0.9933, 0.9979, 0.6375, 0.3839, 0.3271, 0.3515, 0.2402,\n",
      "            0.9979, 0.9953, 0.9959, 0.9966, 0.3423, 0.5510, 0.9859, 0.9491,\n",
      "            0.8433, 0.7804, 0.4765, 0.6579, 0.9973, 0.9852, 0.9977, 0.3931,\n",
      "            0.8523, 0.6430, 0.9915, 0.3342, 0.4864, 0.8138, 0.9533, 0.9759,\n",
      "            0.3446, 0.8936, 0.5537, 0.9358, 0.9900, 0.9984, 0.9687, 0.9997,\n",
      "            0.9998, 0.9889, 0.9988, 0.4659, 0.9981, 0.9883, 0.3465, 0.9998,\n",
      "            0.9987, 0.4051, 0.7164, 0.9970, 0.4153, 0.9925, 0.6499, 0.9650,\n",
      "            0.4417, 0.9968, 0.8532, 0.9970, 0.6532, 0.9943, 0.5062, 0.8098],\n",
      "           device='cuda:0') TensorBase([15,  9, 11, 15, 15, 15, 15, 15, 12,  9,  6,  8, 15, 15, 12, 12,  6,\n",
      "            15, 15, 15,  4, 11,  7, 15, 10, 15, 12, 15, 15,  1, 10, 12, 15,  1,\n",
      "            15,  6, 12, 14, 10, 13,  4,  0,  7, 15,  6,  6, 15, 10, 14, 15, 15,\n",
      "             4, 15,  8, 15,  5, 15,  9,  2,  7, 15,  4, 15,  2],\n",
      "           device='cuda:0') tensor([15,  9, 11, 15, 15, 15, 15, 15, 12,  9,  6,  8, 15, 15, 12, 12,  6, 15,\n",
      "        15, 15,  4, 11,  7, 15, 15, 15, 12, 15, 15, 15, 15, 12, 15, 15, 15, 15,\n",
      "        12, 14, 15, 13,  4, 15,  7, 15,  6,  6, 15, 10, 14, 15, 15,  4, 15,  8,\n",
      "        15, 15, 15,  9, 15,  7,  8,  4, 15, 15], device='cuda:0')\n",
      "505 / 576 = Acc: 87.67361111111111 %\n",
      "TensorBase([0.3130, 0.9995, 0.8842, 0.9987, 0.9627, 0.5780, 0.4563, 0.9762,\n",
      "            0.4025, 0.6944, 0.9986, 0.5975, 0.8284, 0.9971, 0.4880, 0.9959,\n",
      "            0.9945, 0.9959, 0.8374, 0.9999, 0.6613, 0.9936, 0.6765, 0.4692,\n",
      "            0.9971, 0.8687, 0.9997, 0.9316, 0.9998, 0.8004, 0.9916, 0.5548,\n",
      "            0.2862, 0.5176, 0.9988, 0.7634, 0.9993, 0.9765, 0.8570, 0.9294,\n",
      "            0.9870, 0.4862, 0.9967, 0.4914, 0.5257, 0.2769, 0.9979, 0.9998,\n",
      "            0.9985, 0.9995, 0.8500, 0.9898, 0.9994, 0.5437, 0.3522, 0.9851,\n",
      "            0.9992, 0.9998, 0.9994, 0.9990, 0.6686, 0.9899, 0.6592, 0.5485],\n",
      "           device='cuda:0') TensorBase([15, 13,  8, 10,  3, 15, 15, 10, 15, 15,  7, 15, 13,  3, 15,  0,  9,\n",
      "             7,  2,  2, 15, 12, 15, 15,  9,  5, 14,  0,  6, 10, 12, 15, 15, 15,\n",
      "            12, 15,  3,  3,  2,  5,  3, 15, 12, 15, 15, 15, 12,  1, 14,  0,  0,\n",
      "             5,  7, 15, 15,  3,  1, 11, 11,  8, 15, 10, 15, 15],\n",
      "           device='cuda:0') tensor([15, 13, 15, 10,  3, 15, 15, 10, 15, 15,  7, 15, 15,  3, 15,  0,  9,  7,\n",
      "        15,  2, 15, 12, 15, 15,  9, 15, 14, 15,  6, 15, 12, 15, 15, 15, 12, 15,\n",
      "         3,  3, 15,  5,  3, 15, 12, 15, 15, 15, 12,  1, 14,  0, 15,  5,  7, 15,\n",
      "        15,  3,  1, 11, 11,  8, 15, 10, 15, 15], device='cuda:0')\n",
      "561 / 640 = Acc: 87.65625 %\n",
      "TensorBase([0.9326, 0.9484, 0.9998, 0.9983, 0.9994, 0.8490, 0.9551, 0.9994,\n",
      "            0.9493, 0.8872, 0.7093, 0.9989, 0.9690, 0.5343, 0.9700, 0.6652,\n",
      "            0.9988, 0.3892, 0.4488, 0.9969, 0.5245, 0.5959, 0.9992, 0.9987,\n",
      "            0.9988, 0.5541, 0.9255, 0.4112, 0.9972, 0.9925, 0.9996, 0.9956,\n",
      "            0.9856, 0.9977, 0.3028, 0.9548, 0.9902, 0.9929, 0.7767, 0.9997,\n",
      "            0.5363, 0.9994, 0.3439, 0.6503, 0.9996, 0.9878, 0.5967, 0.9975,\n",
      "            0.4752, 0.3514, 0.5582, 0.9969, 0.9763, 0.9939, 0.9140, 0.8156,\n",
      "            0.4159, 0.9976, 0.9994, 0.8496, 0.7340, 0.6628, 0.9820, 0.7363],\n",
      "           device='cuda:0') TensorBase([ 8,  5,  3,  9,  4,  8,  3,  2,  5,  2, 15,  1, 10, 15,  3, 15,  7,\n",
      "            15, 15,  2, 15, 15, 13, 10, 14, 15, 10, 15,  3, 12,  0, 12, 14, 11,\n",
      "            15,  2,  4, 10, 15, 12, 15,  1, 15, 15, 13, 12, 15,  7, 15, 15, 15,\n",
      "             8,  0, 12,  2,  8, 15, 14, 10,  0, 15, 15,  0, 15],\n",
      "           device='cuda:0') tensor([15, 15,  3,  9,  4, 15,  3,  2,  5, 15, 15,  1, 15, 15,  3, 15,  7, 15,\n",
      "        15,  2, 15, 15, 13, 10, 14, 15, 15, 15,  3, 12,  0, 12, 14, 11, 15,  2,\n",
      "         4, 10,  6, 12, 15,  1, 15,  7, 13, 12, 15,  7, 15, 15, 15,  8, 15, 12,\n",
      "        15, 15, 15, 14, 10, 15, 15, 15, 15, 15], device='cuda:0')\n",
      "612 / 704 = Acc: 86.93181818181819 %\n",
      "TensorBase([0.4503, 0.4616, 0.9976, 0.9840, 0.9937, 0.6400, 0.9997, 0.6050,\n",
      "            0.9997, 0.1946, 0.6916, 0.4061, 0.9539, 0.3780, 0.2388, 0.9984,\n",
      "            0.6471, 0.9991, 0.6563, 0.3218, 0.2753, 0.9986, 0.8264, 0.9990,\n",
      "            0.9974, 0.9337, 0.8107, 0.9921, 0.3447, 0.7479, 0.5231, 0.7848,\n",
      "            0.3592, 0.8455, 0.9974, 0.7295, 0.9989, 0.9990, 0.5767, 0.9966,\n",
      "            0.9342, 0.9985, 0.9387, 0.9994, 0.9827, 0.9991, 0.9099, 0.4842,\n",
      "            0.9984, 0.9945, 0.4209, 0.7011, 0.8873, 0.9987, 0.4831, 0.9964,\n",
      "            0.7995, 0.9014, 0.9978, 0.9906, 0.8366, 0.5695, 0.9852, 0.9982],\n",
      "           device='cuda:0') TensorBase([15, 15, 11, 12, 10, 15, 13, 15,  4, 15, 15, 15, 11, 15, 15,  8, 15,\n",
      "            13, 15, 15, 15,  9,  6, 12,  8,  7,  1,  2, 15, 15, 15, 15, 15, 10,\n",
      "            13, 15,  4,  1, 15,  8,  8,  1,  6,  1,  5,  0,  5, 15, 13,  6, 15,\n",
      "            15,  5, 10, 15,  7, 15,  5,  3,  9,  2, 15,  5, 14],\n",
      "           device='cuda:0') tensor([15, 15, 11, 12, 10, 15, 13, 15,  4, 15, 15, 15, 11, 15, 15,  8, 15, 13,\n",
      "        15, 15, 15,  9, 15, 12,  8, 15, 15,  2, 15, 15, 15, 15, 15, 15, 13, 15,\n",
      "         4,  1, 15,  8, 15,  1,  6,  1,  5,  0, 15, 15, 13,  6, 15, 15, 15, 10,\n",
      "        15,  7, 15,  5,  3,  9, 15, 15,  5, 14], device='cuda:0')\n",
      "668 / 768 = Acc: 86.97916666666667 %\n",
      "TensorBase([0.5294, 0.9972, 0.8717, 0.9970, 0.5931, 0.9279, 0.9946, 0.9971,\n",
      "            0.9479, 0.9990, 0.9992, 0.9995, 0.7196, 0.9997, 0.9480, 0.9985,\n",
      "            0.9906, 0.9994, 0.7048, 0.9988, 0.9974, 0.9855, 0.6750, 0.2698,\n",
      "            0.9962, 0.9492, 0.9826, 0.8951, 0.9691, 0.9996, 0.9929, 0.9996,\n",
      "            0.9943, 0.4877, 0.4485, 0.6544, 0.7966, 0.7823, 0.9995, 0.9970,\n",
      "            0.6839, 0.9902, 0.5517, 0.9999, 0.9887, 0.6763, 0.6082, 0.9995,\n",
      "            0.5903, 0.4755, 0.9915, 0.9999, 0.9961, 0.9987, 0.9346, 0.9985,\n",
      "            0.5481, 0.5520, 0.9956, 0.9956, 0.9971, 0.9974, 0.5318, 0.9206],\n",
      "           device='cuda:0') TensorBase([15,  6,  2,  6, 15,  8,  0,  3,  0, 13, 11, 14, 15,  1, 10, 12, 11,\n",
      "             3, 15,  9, 13,  9, 15, 15,  3,  8,  8,  1, 10, 10,  9,  0,  5, 15,\n",
      "            15, 15, 15, 15,  6, 11, 15,  8, 15, 12,  8, 15, 15, 11, 15, 15,  5,\n",
      "             4,  5, 10,  8,  8, 15, 15,  0, 10,  2,  2, 15,  8],\n",
      "           device='cuda:0') tensor([15,  6, 15,  6, 15,  8,  0,  3, 15, 13, 11, 14, 15,  1, 15, 12, 11,  3,\n",
      "         1,  9, 13,  9, 15, 15,  3,  8,  8, 15, 15, 10,  9,  0,  5, 15, 15, 15,\n",
      "        15, 15,  6, 11, 15,  8, 15, 12,  8, 15, 15, 11, 15, 15,  5,  4,  5, 10,\n",
      "         8,  8, 15, 13,  0, 10,  2,  2, 15,  8], device='cuda:0')\n",
      "725 / 832 = Acc: 87.13942307692308 %\n",
      "TensorBase([0.4345, 0.8390, 0.3219, 0.9892, 0.3356, 0.9805, 0.9935, 0.5400,\n",
      "            0.9983, 0.9994, 0.5397, 0.9833, 0.9992, 0.3884, 0.4152, 0.9936,\n",
      "            0.7911, 0.9300, 0.5096, 0.9084, 0.9970, 0.4736, 0.5755, 0.4134,\n",
      "            0.9927, 0.9975, 0.9964, 0.4589, 0.3007, 0.3174, 0.5248, 0.9996,\n",
      "            0.8736, 0.4699, 0.5455, 0.9155, 0.9932, 0.8835, 0.9883, 0.9837,\n",
      "            0.7885, 0.9884, 0.9983, 0.9895, 0.6170, 0.4507, 0.9973, 0.9996,\n",
      "            0.2918, 0.9999, 0.9944, 0.9295, 0.5682, 0.9544, 0.9975, 0.5629,\n",
      "            0.9937, 0.7024, 0.9861, 0.9912, 0.9974, 0.7513, 0.5003, 0.9942],\n",
      "           device='cuda:0') TensorBase([15,  5, 15,  6, 15,  5,  3, 15,  7,  3, 15,  5,  7, 15, 15, 11, 15,\n",
      "             0, 15,  5,  1, 15, 15, 15,  7, 12,  9, 15, 15, 15, 15,  5,  8, 15,\n",
      "            15, 10, 11,  9, 14,  5, 15,  7,  1,  3, 15, 15,  4, 13, 15, 10, 14,\n",
      "             6, 15,  4,  3, 15,  9, 15,  4,  9,  9, 15, 15, 11],\n",
      "           device='cuda:0') tensor([15, 15, 15,  6, 15,  5,  3, 15,  7,  3, 15,  5,  7, 15, 15, 11, 15, 15,\n",
      "        15, 15,  1, 15, 15, 15,  7, 12,  9, 15, 15, 15, 15,  5, 15, 15, 15, 15,\n",
      "        11,  9, 14,  5, 15,  7,  1,  3,  6, 15,  4, 13, 15, 10, 14,  6, 15,  4,\n",
      "         3, 15,  9, 15,  4,  9,  9, 15, 15, 11], device='cuda:0')\n",
      "783 / 896 = Acc: 87.38839285714286 %\n",
      "TensorBase([0.9985, 0.4162, 0.8037, 0.9907, 0.3190, 0.7602, 0.9806, 0.8743,\n",
      "            0.3746, 0.9335, 0.9641, 0.4511, 0.3733, 0.2766, 0.5503, 0.3790,\n",
      "            0.5421, 0.8353, 0.2137, 0.4286, 0.5547, 0.9999, 0.9999, 0.7851,\n",
      "            0.9624, 0.8697, 0.6075, 0.7251, 0.9953, 0.9949, 0.4919, 0.8206,\n",
      "            0.9989, 0.3861, 0.9957, 0.9872, 0.9973, 0.9971, 0.3368, 0.3537,\n",
      "            0.9974, 0.9995, 0.2660, 0.9974, 0.4184, 0.9924, 0.8153, 0.9999,\n",
      "            0.4124, 0.9836, 0.5155, 0.6025, 0.9735, 0.7563, 0.9992, 0.9966,\n",
      "            0.9120, 0.9825, 0.9998, 0.5426, 0.9932, 0.9901, 0.9982, 0.7939],\n",
      "           device='cuda:0') TensorBase([ 5, 15,  0, 12, 15, 15,  2,  7, 15,  2,  0, 15, 15, 15, 15, 15, 15,\n",
      "             0, 15, 15, 15,  6, 10, 15, 14,  0, 15, 15, 11, 14, 15, 10,  2, 15,\n",
      "            12,  6, 12,  4, 15, 15,  8, 14, 15,  1, 15, 12,  7, 13, 15,  5, 15,\n",
      "            15,  6, 15, 10, 12,  5, 14,  0, 15,  1, 14, 13, 15],\n",
      "           device='cuda:0') tensor([ 5, 15, 15, 12, 15, 15,  2, 15, 15,  2, 15, 15, 15, 15, 15, 15, 15, 15,\n",
      "        15, 15, 15,  6, 10, 15, 14, 15, 15, 15, 11, 14, 15, 10,  2, 15, 12,  6,\n",
      "        12,  4, 15, 15,  8, 14, 15,  1,  5, 12, 15, 13, 15,  5, 15, 15,  6, 15,\n",
      "        10, 12,  5, 14,  0, 15,  1, 14, 13, 15], device='cuda:0')\n",
      "840 / 960 = Acc: 87.5 %\n",
      "TensorBase([0.9986, 0.9970, 0.9988, 0.9647, 0.4049, 0.3447, 0.9993, 0.9995,\n",
      "            0.6977, 0.3717, 0.9808, 0.7799, 0.4120, 0.7161, 0.9974, 0.4355,\n",
      "            0.9609, 0.6148, 0.4457, 0.4002, 0.9954, 0.7632, 0.5600, 0.9343,\n",
      "            0.9986, 0.9884, 0.9864, 0.9954, 0.5417, 0.9270, 0.9977, 0.9940,\n",
      "            0.3856, 0.9996, 0.9922, 0.8901, 0.5450, 0.9673, 0.9999, 0.7091,\n",
      "            0.9018, 0.4831, 0.9789, 0.9262, 0.5353, 0.9990, 0.9990, 0.9966,\n",
      "            0.2848, 0.5732, 0.5641, 0.9994, 0.6458, 0.5481, 0.2949, 0.3351,\n",
      "            0.3215, 0.9998, 0.5534, 0.9859, 0.5198, 0.2707, 0.4989, 0.9971],\n",
      "           device='cuda:0') TensorBase([10,  9,  9, 11, 15, 15,  7,  4, 15, 15,  0, 15, 15, 15, 10, 15,  8,\n",
      "            15, 15, 15, 12, 15, 15,  4,  7,  0,  8, 14, 15, 10, 10,  2, 15,  0,\n",
      "             4,  1, 15,  8,  6, 15,  1, 15,  9,  0, 15,  7, 11, 14, 15, 15, 15,\n",
      "            12, 15, 15, 15, 15, 15,  0, 15,  4, 15, 15, 15, 12],\n",
      "           device='cuda:0') tensor([10,  9,  9, 11, 15, 15,  7,  4, 15, 15, 15, 15, 15, 15, 10, 15, 15, 15,\n",
      "        15, 15, 12,  0, 15,  4,  7,  0,  8, 14, 15, 15, 10,  2, 15,  0,  4, 15,\n",
      "        15,  8,  6, 15, 15, 15,  9, 15, 15,  7, 11, 14, 15, 15, 15, 12, 15, 15,\n",
      "        15, 15, 15,  0, 15,  4,  3, 15, 15, 12], device='cuda:0')\n",
      "896 / 1024 = Acc: 87.5 %\n",
      "TensorBase([0.9939, 0.9999, 0.9809, 0.9990, 0.2536, 0.7013, 0.3887, 0.5751,\n",
      "            0.9885, 0.2669, 0.9564, 0.4270, 0.5136, 0.9426, 0.9970, 0.8143,\n",
      "            0.9981, 0.9942, 0.4163, 0.9968, 0.4487, 0.9928, 0.9974, 0.9747,\n",
      "            0.9978, 0.9983, 0.3884, 0.9995, 0.9991, 0.9782, 0.3639, 0.9991,\n",
      "            0.9561, 0.9927, 0.9965, 0.5481, 0.9990, 0.8185, 0.4127, 0.9985,\n",
      "            0.9988, 0.2774, 0.6786, 0.9958, 0.6292, 0.8922, 0.9988, 0.9612,\n",
      "            0.9922, 0.9984, 0.9997, 0.9605, 0.9895, 0.9980, 0.1773, 0.8608,\n",
      "            0.2620, 0.3729, 0.7033, 0.9308], device='cuda:0') TensorBase([14,  0, 12,  8, 15, 15, 15, 15,  2, 15,  2, 15, 15,  1,  3,  7, 11,\n",
      "            14, 15,  3, 15, 11, 10, 12,  3,  4, 15, 13,  5,  9, 15, 12,  8,  9,\n",
      "             7, 15,  7,  7, 15,  8,  8, 15, 15,  2, 15,  1,  3,  0,  2,  5,  0,\n",
      "            10, 14,  9, 15, 12, 15, 15, 15, 13], device='cuda:0') tensor([14,  0, 12,  8, 15, 15, 15, 15,  2, 15,  2, 15, 15, 15,  3, 15, 11, 14,\n",
      "        15,  3, 15, 11, 10, 12,  3,  4, 15, 13,  5,  9, 15, 12,  8,  9,  7, 15,\n",
      "         7, 15, 15,  8,  8, 15, 15,  2, 15,  1,  3, 15,  2,  5,  0, 15, 14,  9,\n",
      "        15, 15, 15, 15, 15, 13], device='cuda:0')\n",
      "950 / 1084 = Acc: 87.63837638376384 %\n"
     ]
    }
   ],
   "source": [
    "# For Confusion Matrix\n",
    "predicted_lists = np.zeros(0, dtype=np.int64)\n",
    "one_hot_labels_list = np.zeros(0, dtype=np.int64)\n",
    "\n",
    "with torch.no_grad():\n",
    "  n_correct = 0\n",
    "  n_samples = 0\n",
    "  softmax = nn.Softmax()\n",
    "  for i, (signals, one_hot_labels) in enumerate(test_loader):\n",
    "    signals = torch.tensor(signals)\n",
    "    signals = signals.float()\n",
    "    signals = signals.to(device)\n",
    "    one_hot_labels = one_hot_labels.to(device)\n",
    "    # print(len(one_hot_labels))\n",
    "    outputs = model(signals)\n",
    "    for j, out in enumerate(outputs):\n",
    "      outputs[j] = softmax(out)\n",
    "\n",
    "    _, predicted = torch.max(outputs.data, 1) # predicted per batch size\n",
    "    \n",
    "    \n",
    "    for idx in range(len(_)):\n",
    "      if _[idx] < threshold:\n",
    "        predicted[idx] = Unknown_label # 15, 20, 25\n",
    "    print(_, predicted, one_hot_labels)\n",
    "\n",
    "    n_samples += one_hot_labels.size(0) # add batch_size\n",
    "    n_correct += (predicted == one_hot_labels).sum().item()\n",
    "    \n",
    "    predicted_cp = predicted.to('cpu').detach().numpy().copy()\n",
    "    one_hot_labels_cp = one_hot_labels.to('cpu').detach().numpy().copy()\n",
    "    predicted_lists = np.concatenate([predicted_lists, predicted_cp])\n",
    "    one_hot_labels_list = np.concatenate([one_hot_labels_list, one_hot_labels_cp])\n",
    "    \n",
    "    acc = 100.0 * n_correct / n_samples\n",
    "    print(f'{n_correct} / {n_samples} = Acc: {acc} %')"
   ]
  },
  {
   "cell_type": "code",
   "execution_count": null,
   "metadata": {},
   "outputs": [
    {
     "data": {
      "text/plain": [
       "(array([ 0, 15,  0, 15, 15, 13,  2,  3,  7,  2,  8, 15, 15,  3, 15,  7,  8,\n",
       "        10, 15, 10, 11,  6,  7, 15,  6, 15, 15,  6, 15, 14,  3,  7,  5, 15,\n",
       "        15,  4, 14,  5, 15,  5, 12,  7,  7, 15, 15, 15,  0, 10,  0, 15,  3,\n",
       "        15, 15, 15, 15, 10,  2, 15,  1,  6, 11,  9,  9,  2,  0,  1, 15, 13,\n",
       "         0, 14, 13, 15,  0, 10,  7, 15, 15, 15, 15, 15,  0,  9,  5, 15, 15,\n",
       "         9, 15,  1, 15, 15,  2,  0, 15, 14,  0,  6,  7,  6, 10, 15,  5, 13,\n",
       "        10, 15,  5, 14,  3,  7, 15, 15,  5, 10,  8, 15, 15,  9, 15,  7,  5,\n",
       "        15, 15, 15, 10, 15, 11, 15, 15,  7,  9, 10, 15,  5,  7,  8, 15, 10,\n",
       "        10, 12, 13,  2,  3,  4, 15,  9, 12,  3, 10, 15, 10, 15, 15, 15, 12,\n",
       "         7, 15,  9, 12,  0,  5, 15, 10,  0, 15, 15, 14, 15,  0, 15,  3, 11,\n",
       "         0, 12,  0,  7,  9,  6, 15, 15, 15, 15, 11,  8, 15,  7, 14,  4, 10,\n",
       "         0, 15, 15,  0,  2, 15,  4, 15,  2, 15,  8,  8, 14, 15, 15,  7,  0,\n",
       "         2, 15,  5,  0, 15, 15, 11,  4,  8,  2, 12, 15,  6, 15, 15, 15,  2,\n",
       "         2, 15, 15, 15, 15,  1, 12, 15,  2, 15,  5, 15, 15, 15,  7,  6, 15,\n",
       "         4, 15,  4, 14, 15,  9, 10,  0, 10, 15, 15, 14, 15, 10, 15,  0,  1,\n",
       "         8,  0, 15, 12,  2, 11, 15, 15, 15, 15, 15,  3,  8, 15,  0, 15, 10,\n",
       "        15,  4, 12,  0,  3, 15, 15, 15,  3, 10, 15,  6, 15,  9,  3, 13,  8,\n",
       "        10, 10,  7,  6, 12, 15, 13, 15,  6, 15,  0, 10,  0, 13, 15,  7, 15,\n",
       "        15, 10, 15, 15, 15, 15, 15,  4, 15, 15,  4,  2,  0, 14, 15,  2, 10,\n",
       "         0, 15, 15, 12, 12, 15, 15, 15, 14, 15, 15, 15,  0,  5,  9, 14,  8,\n",
       "         7, 14, 14,  0, 11,  9, 12,  2, 15,  0, 15, 15, 10, 15, 12,  1, 15,\n",
       "        10,  0, 10, 15,  3, 15, 15, 10,  4, 15, 15,  6, 10,  4,  8,  1, 14,\n",
       "         1,  2,  4,  0,  5,  7, 15,  5, 13, 12]),\n",
       " array([ 0, 15,  0, 15, 15, 13,  2,  3,  7,  2,  8, 15, 15,  3, 15,  7,  8,\n",
       "        10, 15, 15, 11,  6,  7, 15,  6, 15, 15,  6, 15, 14,  3, 15,  5, 15,\n",
       "        15,  4, 14,  5, 15,  5, 12,  7, 15, 15, 15, 15, 15, 15, 15, 15,  3,\n",
       "        15, 15, 15, 15, 10,  2, 15,  1,  6, 11,  9,  9,  2, 15,  1, 15, 13,\n",
       "         0, 14, 13, 15, 15, 10, 15, 15, 15, 15, 15, 15,  0,  9,  5, 15, 15,\n",
       "         9, 15,  1, 15, 15,  2, 15, 15, 14, 15,  6,  7,  6, 10, 15,  5, 13,\n",
       "        10, 15, 15, 14,  3,  7, 15, 15,  5, 10,  8, 15, 15,  9, 15, 15,  5,\n",
       "        15, 15, 15, 15, 15, 11, 15, 15, 15,  9, 15, 15,  5,  7,  8, 15, 15,\n",
       "        10, 12, 13,  2,  3,  4, 15,  9, 12,  3, 10, 15, 15, 15, 15, 15, 12,\n",
       "         7, 15,  9, 12,  0,  5, 15, 10,  0, 15, 15, 15, 15,  0, 15,  3, 11,\n",
       "        15, 12,  0, 15,  9,  6, 15, 15, 15, 15, 11,  8, 15,  7, 14,  4, 15,\n",
       "        15, 15, 15, 15,  2, 15,  4, 15,  2, 15,  8,  8, 15, 15, 15,  7, 15,\n",
       "         2, 15,  5, 15, 15, 15, 11,  4,  8,  2, 12,  8,  6, 15, 15, 15,  2,\n",
       "         2, 15, 15, 15,  6,  1, 12, 15,  2, 15,  5, 15, 15, 15, 15,  6, 15,\n",
       "         4, 15,  4, 14, 15,  9, 10, 15, 10, 15, 15, 14, 15, 10, 15, 15,  1,\n",
       "         8, 15, 15, 12,  2, 11, 15, 15, 15, 15, 15,  3,  8, 15,  0, 15, 15,\n",
       "        15,  4, 12, 15,  3, 15, 15, 15,  3, 15, 15,  6, 15,  9,  3, 13,  8,\n",
       "        15, 10,  7, 15, 12, 15, 13, 15,  6, 15,  0, 15,  0, 13, 15,  7, 15,\n",
       "        15, 10, 15, 15, 15, 15, 15,  4, 15, 15,  4,  2,  0, 14, 15,  2, 15,\n",
       "        15, 15, 15, 12, 12, 15, 15, 15, 14, 15, 15, 15, 15,  5,  9, 14,  8,\n",
       "         7, 14, 14, 15, 11,  9, 12,  2, 14, 15, 15, 15, 10,  1, 12,  1, 15,\n",
       "        10,  4, 15, 15,  3, 15, 15, 15,  4, 15, 15,  6, 15,  4,  8,  1, 14,\n",
       "         1,  2,  4,  0,  5,  7, 15,  5, 13, 15]))"
      ]
     },
     "execution_count": 810,
     "metadata": {},
     "output_type": "execute_result"
    }
   ],
   "source": [
    "predicted_lists[700:], one_hot_labels_list[700:]"
   ]
  },
  {
   "cell_type": "code",
   "execution_count": null,
   "metadata": {},
   "outputs": [
    {
     "data": {
      "text/plain": [
       "TensorBase([0.4735, 0.5521, 0.9939, 0.9995, 0.4465, 0.5849, 0.3063, 0.9936,\n",
       "            0.4086, 0.4685, 0.2634, 0.9229, 0.9756, 0.9759, 0.9889, 0.9440,\n",
       "            0.9997, 0.9971, 0.9241, 0.8479, 0.9997, 0.9968, 0.9969, 0.9994,\n",
       "            0.7546, 0.9973, 0.6989, 0.4326, 0.9997, 0.4539, 0.9963, 0.9918,\n",
       "            0.3567, 0.9675, 0.9721, 0.8877, 0.5068, 0.9994, 0.5776, 0.4749,\n",
       "            0.9891, 0.9995, 0.2415, 0.6620, 0.9816, 0.9778, 0.9998, 0.9782,\n",
       "            0.9936, 0.9829, 0.9974, 0.9991, 0.9991, 0.8231, 0.9773, 0.9994,\n",
       "            0.2232, 0.9427, 0.9936, 0.8217], device='cuda:0')"
      ]
     },
     "execution_count": 811,
     "metadata": {},
     "output_type": "execute_result"
    }
   ],
   "source": [
    "_"
   ]
  },
  {
   "cell_type": "code",
   "execution_count": null,
   "metadata": {},
   "outputs": [
    {
     "data": {
      "text/plain": [
       "tensor([ 5, 13,  1,  1, 12,  0,  1,  4,  9, 11, 10, 12,  4,  9, 13,  8,  9,  5,\n",
       "        11, 10, 12,  1, 14,  0, 14,  4, 14, 14,  4,  4, 14,  2, 11,  4, 11,  7,\n",
       "         4, 12, 10, 11], device='cuda:0')"
      ]
     },
     "execution_count": 812,
     "metadata": {},
     "output_type": "execute_result"
    }
   ],
   "source": [
    "labels"
   ]
  },
  {
   "cell_type": "code",
   "execution_count": null,
   "metadata": {},
   "outputs": [
    {
     "data": {
      "text/plain": [
       "array([[ 31,   0,   0,   0,   0,   0,   0,   0,   0,   0,   0,   0,   0,\n",
       "          0,   0,   0],\n",
       "       [  0,  26,   0,   0,   0,   0,   0,   0,   0,   0,   0,   0,   0,\n",
       "          0,   0,   4],\n",
       "       [  0,   0,  42,   0,   0,   0,   0,   0,   0,   0,   0,   0,   0,\n",
       "          0,   0,   0],\n",
       "       [  0,   0,   0,  33,   0,   0,   0,   0,   0,   0,   0,   0,   0,\n",
       "          0,   0,   1],\n",
       "       [  1,   0,   0,   0,  31,   0,   0,   0,   0,   0,   0,   0,   0,\n",
       "          0,   0,   0],\n",
       "       [  0,   0,   0,   0,   0,  40,   0,   0,   0,   0,   0,   0,   0,\n",
       "          0,   0,   0],\n",
       "       [  0,   0,   0,   0,   0,   0,  31,   0,   0,   0,   0,   0,   0,\n",
       "          0,   0,   1],\n",
       "       [  0,   0,   0,   0,   0,   0,   0,  37,   0,   0,   0,   0,   0,\n",
       "          0,   0,   0],\n",
       "       [  0,   0,   0,   0,   0,   0,   0,   0,  39,   0,   0,   0,   0,\n",
       "          0,   0,   2],\n",
       "       [  0,   0,   0,   0,   0,   0,   0,   0,   0,  32,   0,   0,   0,\n",
       "          0,   0,   0],\n",
       "       [  0,   0,   0,   0,   0,   0,   0,   0,   0,   0,  45,   0,   0,\n",
       "          0,   0,   1],\n",
       "       [  0,   0,   0,   0,   0,   0,   0,   0,   0,   0,   0,  29,   0,\n",
       "          0,   0,   0],\n",
       "       [  0,   0,   0,   0,   0,   0,   0,   0,   0,   0,   0,   0,  46,\n",
       "          0,   0,   0],\n",
       "       [  0,   0,   0,   0,   0,   0,   0,   0,   0,   0,   0,   0,   0,\n",
       "         30,   0,   0],\n",
       "       [  0,   0,   0,   0,   0,   0,   0,   0,   0,   0,   0,   0,   0,\n",
       "          0,  36,   1],\n",
       "       [ 56,   0,   0,   0,   1,   7,   3,  29,   1,   0,  33,   0,   3,\n",
       "          1,   4, 407]])"
      ]
     },
     "execution_count": 813,
     "metadata": {},
     "output_type": "execute_result"
    },
    {
     "data": {
      "image/png": "[encoded data removed]",
      "text/plain": [
       "<Figure size 640x480 with 2 Axes>"
      ]
     },
     "metadata": {},
     "output_type": "display_data"
    }
   ],
   "source": [
    "from sklearn.metrics import confusion_matrix\n",
    "import seaborn as sns\n",
    "import matplotlib.pyplot as plt\n",
    "\n",
    "cm = confusion_matrix(one_hot_labels_list, predicted_lists)\n",
    "sns.heatmap(cm, square=True, cbar=True, annot=True, cmap='Blues')\n",
    "plt.xlabel(\"Predicted Label\", fontsize=13)\n",
    "plt.ylabel(\"Ground Truth\", fontsize=13)\n",
    "fig_name = \"sklearn_confusion_matrix_{}_{}.png\".format(Unknown_label, threshold)\n",
    "plt.savefig(\"./figure/\" + fig_name)\n",
    "cm"
   ]
  },
  {
   "cell_type": "code",
   "execution_count": null,
   "metadata": {},
   "outputs": [],
   "source": [
    "x = np.linspace(0.30, 0.80, 11)\n",
    "y1 = [86.33, 88.00, 89.94, 91.32, 92.70, 93.26, 93.81, 94.45, 94.92, 94.55, 93.63]\n",
    "y2 = [71.01, 73.68, 76.55, 78.85, 82.83, 84.03, 85.78, 87.07, 87.72, 88.64, 88.27]\n",
    "y3 = [55.44, 59.79, 64.76, 70.85, 75.37, 78.41, 80.72, 82.84, 86.25, 87.73, 89.30]\n",
    "y0 = [99.08, 99.08, 99.08, 99.08, 99.08, 99.08, 99.08, 99.08, 99.08, 99.08, 99.08]\n",
    "plt.ylim(55, 100)\n",
    "plt.xlabel(\"Threshold\")\n",
    "plt.ylabel(\"Accuracy [%]\")\n",
    "plt.plot(x, y0, label=\"Openness=0, (threshold=0)\")\n",
    "plt.plot(x, y1, marker=\"o\", label=\"Openness=0.087\")\n",
    "plt.plot(x, y2, marker=\"*\", label=\"Openness=0.184\")\n",
    "plt.plot(x, y3, marker=\"x\", label=\"Openness=0.293\")\n",
    "plt.legend()"
   ]
  },
  {
   "cell_type": "code",
   "execution_count": null,
   "metadata": {},
   "outputs": [
    {
     "data": {
      "text/plain": [
       "<matplotlib.legend.Legend at 0x7f9170747af0>"
      ]
     },
     "execution_count": 814,
     "metadata": {},
     "output_type": "execute_result"
    },
    {
     "data": {
      "image/png": "[encoded data removed]",
      "text/plain": [
       "<Figure size 640x480 with 1 Axes>"
      ]
     },
     "metadata": {},
     "output_type": "display_data"
    }
   ],
   "source": [
    "x = np.linspace(0.30, 0.80, 11)\n",
    "y1 = []\n",
    "y2 = [71.01, 73.68, 76.55, 78.85, 82.83, 84.03, 85.78, 87.07, 87.72, 88.64, 88.27]\n",
    "y3 = [55.44, 59.79, 64.76, 70.85, 75.37, 78.41, 80.72, 82.84, 86.25, 87.73, 89.30]\n",
    "y0 = [99.08, 99.08, 99.08, 99.08, 99.08, 99.08, 99.08, 99.08, 99.08, 99.08, 99.08]\n",
    "plt.ylim(55, 100)\n",
    "plt.xlabel(\"Threshold\")\n",
    "plt.ylabel(\"Accuracy [%]\")\n",
    "plt.plot(x, y0, label=\"Openness=0, (threshold=0)\")\n",
    "plt.plot(x, y1, marker=\"o\", label=\"Openness=0.087\")\n",
    "plt.plot(x, y2, marker=\"*\", label=\"Openness=0.184\")\n",
    "plt.plot(x, y3, marker=\"x\", label=\"Openness=0.293\")\n",
    "plt.legend()"
   ]
  },
  {
   "cell_type": "markdown",
   "metadata": {},
   "source": [
    "最後のfc層の重みとバイアスを使用する\n",
    "損失関数"
   ]
  },
  {
   "cell_type": "code",
   "execution_count": null,
   "metadata": {},
   "outputs": [
    {
     "data": {
      "text/plain": [
       "(Parameter containing:\n",
       " tensor([[-0.1783,  0.1674, -0.2028,  ..., -0.0787, -0.1903,  0.0245],\n",
       "         [-0.0963,  0.1180, -0.0801,  ..., -0.0368, -0.0392, -0.1324],\n",
       "         [ 0.1636, -0.1728, -0.0747,  ...,  0.0316,  0.1743,  0.1035],\n",
       "         ...,\n",
       "         [ 0.1539, -0.1124, -0.0024,  ..., -0.1057, -0.1211, -0.0475],\n",
       "         [-0.0208, -0.1165,  0.1677,  ..., -0.1203,  0.0778, -0.0227],\n",
       "         [-0.1342, -0.0169,  0.0269,  ..., -0.0835, -0.0002, -0.0207]],\n",
       "        device='cuda:0', requires_grad=True),\n",
       " Parameter containing:\n",
       " tensor([-0.0556, -0.0589, -0.0619,  0.0398,  0.0062, -0.0378, -0.0926, -0.0255,\n",
       "         -0.0056,  0.0405, -0.0612,  0.0501, -0.0584, -0.0163,  0.0496, -0.0720],\n",
       "        device='cuda:0', requires_grad=True))"
      ]
     },
     "execution_count": 815,
     "metadata": {},
     "output_type": "execute_result"
    }
   ],
   "source": [
    "model.fc.weight, model.fc.bias"
   ]
  },
  {
   "cell_type": "code",
   "execution_count": null,
   "metadata": {},
   "outputs": [],
   "source": [
    "def softmax_loss():\n",
    "    return"
   ]
  },
  {
   "cell_type": "code",
   "execution_count": null,
   "metadata": {},
   "outputs": [],
   "source": [
    "def center_loss():\n",
    "    return"
   ]
  },
  {
   "cell_type": "code",
   "execution_count": null,
   "metadata": {},
   "outputs": [],
   "source": [
    "def cosine_loss():\n",
    "    return"
   ]
  },
  {
   "cell_type": "code",
   "execution_count": null,
   "metadata": {},
   "outputs": [],
   "source": [
    "def triple_joint_loss():\n",
    "    return softmax_loss() + center_loss() + cosine_loss()"
   ]
  }
 ],
 "metadata": {
  "kernelspec": {
   "display_name": "Python 3.9.5 ('env': venv)",
   "language": "python",
   "name": "python3"
  },
  "language_info": {
   "codemirror_mode": {
    "name": "ipython",
    "version": 3
   },
   "file_extension": ".py",
   "mimetype": "text/x-python",
   "name": "python",
   "nbconvert_exporter": "python",
   "pygments_lexer": "ipython3",
   "version": "3.9.5"
  },
  "orig_nbformat": 4,
  "vscode": {
   "interpreter": {
    "hash": "d3f59b86193daf02ac44c2d7d891a49d755eb44400e9ea36eaea4c9328767f1c"
   }
  }
 },
 "nbformat": 4,
 "nbformat_minor": 2
}
