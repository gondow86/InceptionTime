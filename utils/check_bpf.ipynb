{
 "cells": [
  {
   "cell_type": "code",
   "execution_count": 19,
   "metadata": {},
   "outputs": [],
   "source": [
    "import pandas as pd\n",
    "\n",
    "radar_nofil = pd.read_csv(\"./nonfilterd.csv\")\n",
    "radar_fil = pd.read_csv(\"./filtered.csv\")"
   ]
  },
  {
   "cell_type": "code",
   "execution_count": 27,
   "metadata": {},
   "outputs": [
    {
     "data": {
      "text/html": [
       "<div>\n",
       "<style scoped>\n",
       "    .dataframe tbody tr th:only-of-type {\n",
       "        vertical-align: middle;\n",
       "    }\n",
       "\n",
       "    .dataframe tbody tr th {\n",
       "        vertical-align: top;\n",
       "    }\n",
       "\n",
       "    .dataframe thead th {\n",
       "        text-align: right;\n",
       "    }\n",
       "</style>\n",
       "<table border=\"1\" class=\"dataframe\">\n",
       "  <thead>\n",
       "    <tr style=\"text-align: right;\">\n",
       "      <th></th>\n",
       "      <th>-1-0.9921875i</th>\n",
       "    </tr>\n",
       "  </thead>\n",
       "  <tbody>\n",
       "    <tr>\n",
       "      <th>0</th>\n",
       "      <td>-1-0.9921875i</td>\n",
       "    </tr>\n",
       "    <tr>\n",
       "      <th>1</th>\n",
       "      <td>-1-0.9921875i</td>\n",
       "    </tr>\n",
       "    <tr>\n",
       "      <th>2</th>\n",
       "      <td>-1-0.9921875i</td>\n",
       "    </tr>\n",
       "    <tr>\n",
       "      <th>3</th>\n",
       "      <td>-1-0.9921875i</td>\n",
       "    </tr>\n",
       "    <tr>\n",
       "      <th>4</th>\n",
       "      <td>-1-0.9921875i</td>\n",
       "    </tr>\n",
       "    <tr>\n",
       "      <th>...</th>\n",
       "      <td>...</td>\n",
       "    </tr>\n",
       "    <tr>\n",
       "      <th>1976994</th>\n",
       "      <td>0.00390625-0.01953125i</td>\n",
       "    </tr>\n",
       "    <tr>\n",
       "      <th>1976995</th>\n",
       "      <td>0.001953125-0.01953125i</td>\n",
       "    </tr>\n",
       "    <tr>\n",
       "      <th>1976996</th>\n",
       "      <td>0.00341796875-0.02099609375i</td>\n",
       "    </tr>\n",
       "    <tr>\n",
       "      <th>1976997</th>\n",
       "      <td>0.00341796875-0.01953125i</td>\n",
       "    </tr>\n",
       "    <tr>\n",
       "      <th>1976998</th>\n",
       "      <td>0.00341796875-0.01953125i</td>\n",
       "    </tr>\n",
       "  </tbody>\n",
       "</table>\n",
       "<p>1976999 rows × 1 columns</p>\n",
       "</div>"
      ],
      "text/plain": [
       "                        -1-0.9921875i\n",
       "0                       -1-0.9921875i\n",
       "1                       -1-0.9921875i\n",
       "2                       -1-0.9921875i\n",
       "3                       -1-0.9921875i\n",
       "4                       -1-0.9921875i\n",
       "...                               ...\n",
       "1976994        0.00390625-0.01953125i\n",
       "1976995       0.001953125-0.01953125i\n",
       "1976996  0.00341796875-0.02099609375i\n",
       "1976997     0.00341796875-0.01953125i\n",
       "1976998     0.00341796875-0.01953125i\n",
       "\n",
       "[1976999 rows x 1 columns]"
      ]
     },
     "execution_count": 27,
     "metadata": {},
     "output_type": "execute_result"
    }
   ],
   "source": [
    "radar_nofil"
   ]
  },
  {
   "cell_type": "code",
   "execution_count": 33,
   "metadata": {},
   "outputs": [
    {
     "ename": "TypeError",
     "evalue": "'complex' object is not callable",
     "output_type": "error",
     "traceback": [
      "\u001b[0;31m---------------------------------------------------------------------------\u001b[0m",
      "\u001b[0;31mTypeError\u001b[0m                                 Traceback (most recent call last)",
      "Cell \u001b[0;32mIn [33], line 12\u001b[0m\n\u001b[1;32m     10\u001b[0m \u001b[39mfor\u001b[39;00m e \u001b[39min\u001b[39;00m csv_data:\n\u001b[1;32m     11\u001b[0m     content \u001b[39m=\u001b[39m e[\u001b[39m0\u001b[39m][:\u001b[39m-\u001b[39m\u001b[39m1\u001b[39m] \u001b[39m+\u001b[39m \u001b[39m\"\u001b[39m\u001b[39mj\u001b[39m\u001b[39m\"\u001b[39m\n\u001b[0;32m---> 12\u001b[0m     \u001b[39mcomplex\u001b[39m \u001b[39m=\u001b[39m \u001b[39mcomplex\u001b[39;49m(content)\n\u001b[1;32m     13\u001b[0m     filtered\u001b[39m.\u001b[39mappend(\u001b[39mcomplex\u001b[39m)\n",
      "\u001b[0;31mTypeError\u001b[0m: 'complex' object is not callable"
     ]
    }
   ],
   "source": [
    "import csv\n",
    "\n",
    "csv_path = \"./filtered.csv\"\n",
    "csv_path2 = \"./nonfilterd.csv\"\n",
    "\n",
    "# 読み込み\n",
    "f = open(csv_path, \"r\")\n",
    "csv_data = csv.reader(f)\n",
    "filtered = []\n",
    "for e in csv_data:\n",
    "    content = e[0][:-1] + \"j\"\n",
    "    complex = complex(content)\n",
    "    filtered.append(complex)"
   ]
  },
  {
   "cell_type": "markdown",
   "metadata": {},
   "source": [
    "## 複素数は j じゃないと認識しない"
   ]
  },
  {
   "cell_type": "code",
   "execution_count": 17,
   "metadata": {},
   "outputs": [
    {
     "ename": "TypeError",
     "evalue": "bad operand type for abs(): 'str'",
     "output_type": "error",
     "traceback": [
      "\u001b[0;31m---------------------------------------------------------------------------\u001b[0m",
      "\u001b[0;31mTypeError\u001b[0m                                 Traceback (most recent call last)",
      "Cell \u001b[0;32mIn [17], line 7\u001b[0m\n\u001b[1;32m      5\u001b[0m t \u001b[39m=\u001b[39m np\u001b[39m.\u001b[39mlinspace(\u001b[39m0\u001b[39m, \u001b[39m2000\u001b[39m, radar_fil\u001b[39m.\u001b[39msize)\n\u001b[1;32m      6\u001b[0m y \u001b[39m=\u001b[39m radar_fil\u001b[39m.\u001b[39mto_numpy()\u001b[39m.\u001b[39mflatten()\n\u001b[0;32m----> 7\u001b[0m y_abs \u001b[39m=\u001b[39m np\u001b[39m.\u001b[39;49mabs(y)\n\u001b[1;32m      8\u001b[0m plt\u001b[39m.\u001b[39mplot(t[:\u001b[39m10\u001b[39m], y[:\u001b[39m10\u001b[39m])\n",
      "\u001b[0;31mTypeError\u001b[0m: bad operand type for abs(): 'str'"
     ]
    }
   ],
   "source": [
    "import matplotlib.pyplot as plt\n",
    "import numpy as np\n",
    "\n",
    "\n",
    "t = np.linspace(0, 2000, radar_fil.size)\n",
    "y = radar_fil\n",
    "y_abs = np.abs(y)\n",
    "plt.plot(t[:10], y[:10])"
   ]
  },
  {
   "cell_type": "code",
   "execution_count": 5,
   "metadata": {},
   "outputs": [
    {
     "data": {
      "text/plain": [
       "1976999"
      ]
     },
     "execution_count": 5,
     "metadata": {},
     "output_type": "execute_result"
    }
   ],
   "source": [
    "radar_fil.size"
   ]
  }
 ],
 "metadata": {
  "kernelspec": {
   "display_name": "Python 3.9.5 ('env': venv)",
   "language": "python",
   "name": "python3"
  },
  "language_info": {
   "codemirror_mode": {
    "name": "ipython",
    "version": 3
   },
   "file_extension": ".py",
   "mimetype": "text/x-python",
   "name": "python",
   "nbconvert_exporter": "python",
   "pygments_lexer": "ipython3",
   "version": "3.9.5"
  },
  "orig_nbformat": 4,
  "vscode": {
   "interpreter": {
    "hash": "d3f59b86193daf02ac44c2d7d891a49d755eb44400e9ea36eaea4c9328767f1c"
   }
  }
 },
 "nbformat": 4,
 "nbformat_minor": 2
}
